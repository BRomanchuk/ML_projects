{
 "cells": [
  {
   "cell_type": "markdown",
   "id": "000abc82",
   "metadata": {},
   "source": [
    "# EDA [House Prices]"
   ]
  },
  {
   "cell_type": "code",
   "execution_count": null,
   "id": "75690ce9",
   "metadata": {},
   "outputs": [],
   "source": [
    "import numpy as np\n",
    "import pandas as pd\n",
    "import matplotlib.pyplot as plt\n",
    "import seaborn as sns\n",
    "%matplotlib inline"
   ]
  },
  {
   "cell_type": "code",
   "execution_count": null,
   "id": "20677383",
   "metadata": {},
   "outputs": [],
   "source": [
    "train = pd.read_csv('./data/train.csv', index_col='Id')\n",
    "test = pd.read_csv('./data/test.csv', index_col='Id')\n",
    "\n",
    "data = pd.concat([train, test])"
   ]
  },
  {
   "cell_type": "markdown",
   "id": "ccded4ae",
   "metadata": {},
   "source": [
    "## Numeric features"
   ]
  },
  {
   "cell_type": "markdown",
   "id": "4a2fc4fa",
   "metadata": {},
   "source": [
    "#### LotFrontage"
   ]
  },
  {
   "cell_type": "code",
   "execution_count": null,
   "id": "000beac3",
   "metadata": {},
   "outputs": [],
   "source": [
    "train['LotFrontage'].sort_values(ascending=False).head(5), test['LotFrontage'].sort_values(ascending=False).head(5)"
   ]
  },
  {
   "cell_type": "code",
   "execution_count": null,
   "id": "0b457b89",
   "metadata": {},
   "outputs": [],
   "source": [
    "front_outliers = (data['LotFrontage'] > 300)\n",
    "data.drop(data.loc[front_outliers].index, inplace=True)"
   ]
  },
  {
   "cell_type": "markdown",
   "id": "58262644",
   "metadata": {},
   "source": [
    "#### LotArea"
   ]
  },
  {
   "cell_type": "code",
   "execution_count": null,
   "id": "2933b19c",
   "metadata": {},
   "outputs": [],
   "source": [
    "train['LotArea'].sort_values(ascending=False).head(5), test['LotArea'].sort_values(ascending=False).head(5)"
   ]
  },
  {
   "cell_type": "code",
   "execution_count": null,
   "id": "a574a906",
   "metadata": {},
   "outputs": [],
   "source": [
    "area_outliers = (data['LotArea'] > 100000)\n",
    "data.drop(data.loc[area_outliers].index, inplace=True)"
   ]
  },
  {
   "cell_type": "markdown",
   "id": "183b7a27",
   "metadata": {},
   "source": [
    "#### BsmtFinSF1"
   ]
  },
  {
   "cell_type": "code",
   "execution_count": null,
   "id": "0d46e122",
   "metadata": {},
   "outputs": [],
   "source": [
    "# BsmtFinSF1\n",
    "train['BsmtFinSF1'].sort_values(ascending=False).head(5), test['BsmtFinSF1'].sort_values(ascending=False).head(5)"
   ]
  },
  {
   "cell_type": "code",
   "execution_count": null,
   "id": "86be47ea",
   "metadata": {},
   "outputs": [],
   "source": [
    "bsmt1_outliers = (data['BsmtFinSF1'] > 3000)\n",
    "data['BsmtFinSF1_Outliers'] = np.zeros(data.shape[0])\n",
    "data.loc[bsmt1_outliers, 'BsmtFinSF1_Outliers'] = 100"
   ]
  },
  {
   "cell_type": "markdown",
   "id": "f8c451e1",
   "metadata": {},
   "source": [
    "#### TotalBsmtSF"
   ]
  },
  {
   "cell_type": "code",
   "execution_count": null,
   "id": "adff713c",
   "metadata": {},
   "outputs": [],
   "source": [
    "# TotalBsmtSF\n",
    "train['TotalBsmtSF'].sort_values(ascending=False).head(5), test['TotalBsmtSF'].sort_values(ascending=False).head(5)"
   ]
  },
  {
   "cell_type": "code",
   "execution_count": null,
   "id": "4863e62d",
   "metadata": {},
   "outputs": [],
   "source": [
    "bsmt_tot_outliers = (data['TotalBsmtSF'] > 4000)\n",
    "data['TotalBsmtSF_Outliers'] = np.zeros(data.shape[0])\n",
    "data.loc[bsmt_tot_outliers, 'TotalBsmtSF_Outliers'] = 100"
   ]
  },
  {
   "cell_type": "markdown",
   "id": "feccbfa7",
   "metadata": {},
   "source": [
    "#### 1stFlrSF"
   ]
  },
  {
   "cell_type": "code",
   "execution_count": null,
   "id": "4eed2142",
   "metadata": {},
   "outputs": [],
   "source": [
    "# 1stFlrSF\n",
    "train['1stFlrSF'].sort_values(ascending=False).head(5), test['1stFlrSF'].sort_values(ascending=False).head(5)"
   ]
  },
  {
   "cell_type": "code",
   "execution_count": null,
   "id": "a94b6840",
   "metadata": {},
   "outputs": [],
   "source": [
    "f_flr_outliers = (data['1stFlrSF'] > 4000)\n",
    "data['1stFlrSF_Outliers'] = np.zeros(data.shape[0])\n",
    "data.loc[f_flr_outliers, '1stFlrSF_Outliers'] = 100"
   ]
  },
  {
   "cell_type": "markdown",
   "id": "386c0d2c",
   "metadata": {},
   "source": [
    "#### GrLivArea"
   ]
  },
  {
   "cell_type": "code",
   "execution_count": null,
   "id": "7dbcbcad",
   "metadata": {
    "scrolled": true
   },
   "outputs": [],
   "source": [
    "# GrLivArea\n",
    "train['GrLivArea'].sort_values(ascending=False).head(5), test['GrLivArea'].sort_values(ascending=False).head(5)"
   ]
  },
  {
   "cell_type": "code",
   "execution_count": null,
   "id": "2b1ca850",
   "metadata": {},
   "outputs": [],
   "source": [
    "main_outliers = (data['GrLivArea'] > 4500)\n",
    "data['GrLivArea_Outliers'] = np.zeros(data.shape[0])\n",
    "data.loc[main_outliers, 'GrLivArea_Outliers'] = 100"
   ]
  },
  {
   "cell_type": "markdown",
   "id": "c3c54970",
   "metadata": {},
   "source": [
    "#### GarageYrBlt"
   ]
  },
  {
   "cell_type": "code",
   "execution_count": null,
   "id": "fa1dac2f",
   "metadata": {},
   "outputs": [],
   "source": [
    "# GarageYrBlt\n",
    "train['GarageYrBlt'].sort_values(ascending=False).head(5), test['GarageYrBlt'].sort_values(ascending=False).head(5)"
   ]
  },
  {
   "cell_type": "code",
   "execution_count": null,
   "id": "8e9fb9c3",
   "metadata": {},
   "outputs": [],
   "source": [
    "garage_year_outlier = data['GarageYrBlt'] > 2010\n",
    "data.loc[garage_year_outlier, 'GarageYrBlt'] = 2007"
   ]
  },
  {
   "cell_type": "markdown",
   "id": "755a137a",
   "metadata": {},
   "source": [
    "#### WoodDeckSF"
   ]
  },
  {
   "cell_type": "code",
   "execution_count": null,
   "id": "6b425d7e",
   "metadata": {},
   "outputs": [],
   "source": [
    "# WoodDeckSF\n",
    "train['WoodDeckSF'].sort_values(ascending=False).head(5), test['WoodDeckSF'].sort_values(ascending=False).head(5)"
   ]
  },
  {
   "cell_type": "code",
   "execution_count": null,
   "id": "726fccf7",
   "metadata": {},
   "outputs": [],
   "source": [
    "wood_deck_outliers = (data['WoodDeckSF'] > 1000)\n",
    "data['WoodDeckSF_Outliers'] = np.zeros(data.shape[0])\n",
    "data.loc[wood_deck_outliers, 'WoodDeckSF_Outliers'] = 100"
   ]
  },
  {
   "cell_type": "markdown",
   "id": "098f48f6",
   "metadata": {},
   "source": [
    "#### EnclosedPorch"
   ]
  },
  {
   "cell_type": "code",
   "execution_count": null,
   "id": "1053e7d5",
   "metadata": {},
   "outputs": [],
   "source": [
    "# EnclosedPorch\n",
    "train['EnclosedPorch'].sort_values(ascending=False).head(5), test['EnclosedPorch'].sort_values(ascending=False).head(5)"
   ]
  },
  {
   "cell_type": "code",
   "execution_count": null,
   "id": "267e7d67",
   "metadata": {},
   "outputs": [],
   "source": [
    "enc_porch_outliers = (data['EnclosedPorch'] > 1000)\n",
    "data['EnclosedPorch_Outliers'] = np.zeros(data.shape[0])\n",
    "data.loc[enc_porch_outliers, 'EnclosedPorch_Outliers'] = 100"
   ]
  },
  {
   "cell_type": "markdown",
   "id": "2112ddb2",
   "metadata": {},
   "source": [
    "## Ordinal features\n"
   ]
  },
  {
   "cell_type": "markdown",
   "id": "f68a18be",
   "metadata": {},
   "source": [
    "#### MSZoning"
   ]
  },
  {
   "cell_type": "code",
   "execution_count": null,
   "id": "94eee33c",
   "metadata": {},
   "outputs": [],
   "source": [
    "data['MSZoning'].value_counts()"
   ]
  },
  {
   "cell_type": "code",
   "execution_count": null,
   "id": "a4d340ce",
   "metadata": {},
   "outputs": [],
   "source": [
    "plt.scatter(train['MSZoning'], train['SalePrice'])"
   ]
  },
  {
   "cell_type": "code",
   "execution_count": null,
   "id": "43dcf50e",
   "metadata": {},
   "outputs": [],
   "source": [
    "data['MSZoning'] = data['MSZoning'].map({\n",
    "    'C (all)': 0,\n",
    "    'RH': 1,\n",
    "    'RM': 2,\n",
    "    'FV': 3,\n",
    "    'RL': 4\n",
    "})"
   ]
  },
  {
   "cell_type": "markdown",
   "id": "15730925",
   "metadata": {},
   "source": [
    "#### Street"
   ]
  },
  {
   "cell_type": "code",
   "execution_count": null,
   "id": "012c3ca4",
   "metadata": {},
   "outputs": [],
   "source": [
    "plt.scatter(train['Street'], train['SalePrice'])"
   ]
  },
  {
   "cell_type": "code",
   "execution_count": null,
   "id": "95fdcf4c",
   "metadata": {},
   "outputs": [],
   "source": [
    "data['Street'] = data['Street'].map({\n",
    "    'Grvl': 0,\n",
    "    'Pave': 1\n",
    "})"
   ]
  },
  {
   "cell_type": "markdown",
   "id": "ad2bc01f",
   "metadata": {},
   "source": [
    "#### LotShape"
   ]
  },
  {
   "cell_type": "code",
   "execution_count": null,
   "id": "49984406",
   "metadata": {},
   "outputs": [],
   "source": [
    "plt.scatter(train['LotShape'], train['SalePrice'])"
   ]
  },
  {
   "cell_type": "code",
   "execution_count": null,
   "id": "41038e7d",
   "metadata": {},
   "outputs": [],
   "source": [
    "data['LotShape'] = data['LotShape'].map({\n",
    "    'IR3': 0,\n",
    "    'IR2': 1,\n",
    "    'Reg': 2,\n",
    "    'IR1': 3\n",
    "})"
   ]
  },
  {
   "cell_type": "markdown",
   "id": "48a88756",
   "metadata": {},
   "source": [
    "#### LandContour"
   ]
  },
  {
   "cell_type": "code",
   "execution_count": null,
   "id": "247dda0e",
   "metadata": {},
   "outputs": [],
   "source": [
    "plt.scatter(train['LandContour'], train['SalePrice'])"
   ]
  },
  {
   "cell_type": "code",
   "execution_count": null,
   "id": "6dca3de2",
   "metadata": {},
   "outputs": [],
   "source": [
    "data['LandContour'] = data['LandContour'].map({\n",
    "    'Bnk': 0,\n",
    "    'Low': 1,\n",
    "    'HLS': 2,\n",
    "    'Lvl': 3\n",
    "})"
   ]
  },
  {
   "cell_type": "markdown",
   "id": "9695b8b2",
   "metadata": {},
   "source": [
    "#### Utilities"
   ]
  },
  {
   "cell_type": "code",
   "execution_count": null,
   "id": "d3f326f6",
   "metadata": {},
   "outputs": [],
   "source": [
    "data['Utilities'].value_counts()"
   ]
  },
  {
   "cell_type": "code",
   "execution_count": null,
   "id": "99f17b22",
   "metadata": {},
   "outputs": [],
   "source": [
    "data['Utilities'] = data['Utilities'].map({\n",
    "    'AllPub': 1,\n",
    "    'NoSeWa': 0\n",
    "})"
   ]
  },
  {
   "cell_type": "markdown",
   "id": "0f8f34ef",
   "metadata": {},
   "source": [
    "#### LotConfig"
   ]
  },
  {
   "cell_type": "code",
   "execution_count": null,
   "id": "f5d4b8ee",
   "metadata": {},
   "outputs": [],
   "source": [
    "plt.scatter(train['LotConfig'], train['SalePrice'])"
   ]
  },
  {
   "cell_type": "code",
   "execution_count": null,
   "id": "6c7fa23a",
   "metadata": {},
   "outputs": [],
   "source": [
    "data['LotConfig'] = data['LotConfig'].map({\n",
    "    'FR3': 0,\n",
    "    'FR2': 1,\n",
    "    'Corner': 2,\n",
    "    'Inside': 3,\n",
    "    'CulDSac': 4\n",
    "})"
   ]
  },
  {
   "cell_type": "markdown",
   "id": "29f7e966",
   "metadata": {},
   "source": [
    "#### LandSlope"
   ]
  },
  {
   "cell_type": "code",
   "execution_count": null,
   "id": "aa48cba2",
   "metadata": {},
   "outputs": [],
   "source": [
    "plt.scatter(train['LandSlope'], train['SalePrice'])"
   ]
  },
  {
   "cell_type": "code",
   "execution_count": null,
   "id": "a9dacbe4",
   "metadata": {},
   "outputs": [],
   "source": [
    "data['LandSlope'] = data['LandSlope'].map({\n",
    "    'Sev': 0,\n",
    "    'Mod': 1,\n",
    "    'Gtl': 2\n",
    "})"
   ]
  },
  {
   "cell_type": "markdown",
   "id": "e9ee22c4",
   "metadata": {},
   "source": [
    "#### Neighborhood"
   ]
  },
  {
   "cell_type": "code",
   "execution_count": null,
   "id": "f88131a6",
   "metadata": {},
   "outputs": [],
   "source": [
    "plt.scatter(train['Neighborhood'], train['SalePrice'])"
   ]
  },
  {
   "cell_type": "code",
   "execution_count": null,
   "id": "714a2e13",
   "metadata": {},
   "outputs": [],
   "source": [
    "train['Neighborhood'].unique()"
   ]
  },
  {
   "cell_type": "code",
   "execution_count": null,
   "id": "22041fcc",
   "metadata": {},
   "outputs": [],
   "source": [
    "temp = train['Neighborhood'].map({\n",
    "    'CollgCr': 15,\n",
    "    'Veenker': 20,\n",
    "    'Crawfor': 14,\n",
    "    'NoRidge': 24,\n",
    "    'Mitchel': 10,\n",
    "    'Somerst': 18,\n",
    "    'NWAmes': 17,\n",
    "    'OldTown': 2,\n",
    "    'BrkSide': 1,\n",
    "    'Sawyer': 5,\n",
    "    'NridgHt': 23,\n",
    "    'NAmes': 11,\n",
    "    'SawyerW': 13,\n",
    "    'IDOTRR': 0,\n",
    "    'MeadowV': 4,\n",
    "    'Edwards': 9,\n",
    "    'Timber': 21,\n",
    "    'Gilbert': 19,\n",
    "    'StoneBr': 22,\n",
    "    'ClearCr': 16,\n",
    "    'NPkVill': 8,\n",
    "    'Blmngtn': 12,\n",
    "    'BrDale': 3,\n",
    "    'SWISU': 6,\n",
    "    'Blueste': 7 \n",
    "})"
   ]
  },
  {
   "cell_type": "code",
   "execution_count": null,
   "id": "3784b80a",
   "metadata": {},
   "outputs": [],
   "source": [
    "plt.scatter(temp, train['SalePrice'])"
   ]
  },
  {
   "cell_type": "code",
   "execution_count": null,
   "id": "b4f10a47",
   "metadata": {},
   "outputs": [],
   "source": [
    "data['Neighborhood'] = data['Neighborhood'].map({\n",
    "    'CollgCr': 15,\n",
    "    'Veenker': 20,\n",
    "    'Crawfor': 14,\n",
    "    'NoRidge': 24,\n",
    "    'Mitchel': 10,\n",
    "    'Somerst': 18,\n",
    "    'NWAmes': 17,\n",
    "    'OldTown': 2,\n",
    "    'BrkSide': 1,\n",
    "    'Sawyer': 5,\n",
    "    'NridgHt': 23,\n",
    "    'NAmes': 11,\n",
    "    'SawyerW': 13,\n",
    "    'IDOTRR': 0,\n",
    "    'MeadowV': 4,\n",
    "    'Edwards': 9,\n",
    "    'Timber': 21,\n",
    "    'Gilbert': 19,\n",
    "    'StoneBr': 22,\n",
    "    'ClearCr': 16,\n",
    "    'NPkVill': 8,\n",
    "    'Blmngtn': 12,\n",
    "    'BrDale': 3,\n",
    "    'SWISU': 6,\n",
    "    'Blueste': 7 \n",
    "})"
   ]
  },
  {
   "cell_type": "markdown",
   "id": "832a0ffc",
   "metadata": {},
   "source": [
    "#### OverallQual"
   ]
  },
  {
   "cell_type": "code",
   "execution_count": null,
   "id": "906831d5",
   "metadata": {},
   "outputs": [],
   "source": [
    "plt.scatter(train['OverallQual'], train['SalePrice'])"
   ]
  },
  {
   "cell_type": "markdown",
   "id": "2471314f",
   "metadata": {},
   "source": [
    "#### OverallCond"
   ]
  },
  {
   "cell_type": "code",
   "execution_count": null,
   "id": "b1e252ca",
   "metadata": {},
   "outputs": [],
   "source": [
    "plt.scatter(train['OverallCond'], train['SalePrice'])"
   ]
  },
  {
   "cell_type": "markdown",
   "id": "5d43f3d5",
   "metadata": {},
   "source": [
    "#### ExterQual"
   ]
  },
  {
   "cell_type": "code",
   "execution_count": null,
   "id": "1def6ea1",
   "metadata": {},
   "outputs": [],
   "source": [
    "plt.scatter(train['ExterQual'], train['SalePrice'])"
   ]
  },
  {
   "cell_type": "code",
   "execution_count": null,
   "id": "769928d9",
   "metadata": {},
   "outputs": [],
   "source": [
    "# 'Po' --> 0 ('Poor quality')\n",
    "data['ExterQual'] = data['ExterQual'].map({\n",
    "    'Fa': 1,\n",
    "    'TA': 2,\n",
    "    'Gd': 3,\n",
    "    'Ex': 4\n",
    "})"
   ]
  },
  {
   "cell_type": "markdown",
   "id": "1b8755c9",
   "metadata": {},
   "source": [
    "#### ExterCond"
   ]
  },
  {
   "cell_type": "code",
   "execution_count": null,
   "id": "dd3d3ed6",
   "metadata": {},
   "outputs": [],
   "source": [
    "plt.scatter(train['ExterCond'], train['SalePrice'])"
   ]
  },
  {
   "cell_type": "code",
   "execution_count": null,
   "id": "7e461798",
   "metadata": {},
   "outputs": [],
   "source": [
    "data['ExterCond'] = data['ExterCond'].map({\n",
    "    'Po': 0,\n",
    "    'Fa': 1,\n",
    "    'TA': 2,\n",
    "    'Gd': 3,\n",
    "    'Ex': 4\n",
    "})"
   ]
  },
  {
   "cell_type": "markdown",
   "id": "11852d90",
   "metadata": {},
   "source": [
    "#### BsmtQual"
   ]
  },
  {
   "cell_type": "code",
   "execution_count": null,
   "id": "f23decb2",
   "metadata": {
    "scrolled": true
   },
   "outputs": [],
   "source": [
    "plt.scatter(train['BsmtQual'].fillna('NoBsmt'), train['SalePrice'])"
   ]
  },
  {
   "cell_type": "code",
   "execution_count": null,
   "id": "f8cd2e6c",
   "metadata": {},
   "outputs": [],
   "source": [
    "data['BsmtQual'].fillna('NoBsmt', inplace=True)"
   ]
  },
  {
   "cell_type": "code",
   "execution_count": null,
   "id": "b7d473ad",
   "metadata": {},
   "outputs": [],
   "source": [
    "data['BsmtQual'] = data['BsmtQual'].map({\n",
    "    'NoBsmt': 0,\n",
    "    'Fa': 1,\n",
    "    'TA': 2,\n",
    "    'Gd': 3,\n",
    "    'Ex': 4\n",
    "})"
   ]
  },
  {
   "cell_type": "markdown",
   "id": "51531738",
   "metadata": {},
   "source": [
    "#### BsmtCond"
   ]
  },
  {
   "cell_type": "code",
   "execution_count": null,
   "id": "206c7225",
   "metadata": {},
   "outputs": [],
   "source": [
    "plt.scatter(train['BsmtCond'].fillna('NoBsmt'), train['SalePrice'])"
   ]
  },
  {
   "cell_type": "code",
   "execution_count": null,
   "id": "b0535be4",
   "metadata": {},
   "outputs": [],
   "source": [
    "data['BsmtCond'].fillna('NoBsmt', inplace=True)"
   ]
  },
  {
   "cell_type": "code",
   "execution_count": null,
   "id": "e89d046a",
   "metadata": {},
   "outputs": [],
   "source": [
    "data['BsmtCond'] = data['BsmtCond'].map({\n",
    "    'Po': 0,\n",
    "    'NoBsmt': 1,\n",
    "    'Fa': 2,\n",
    "    'TA': 3,\n",
    "    'Gd': 4,\n",
    "    'Ex': 5\n",
    "})"
   ]
  },
  {
   "cell_type": "markdown",
   "id": "2d22f524",
   "metadata": {},
   "source": [
    "#### BsmtExposure"
   ]
  },
  {
   "cell_type": "code",
   "execution_count": null,
   "id": "8061ab75",
   "metadata": {},
   "outputs": [],
   "source": [
    "plt.scatter(train['BsmtExposure'].fillna('NoBsmt'), train['SalePrice'])"
   ]
  },
  {
   "cell_type": "code",
   "execution_count": null,
   "id": "bea20a1d",
   "metadata": {},
   "outputs": [],
   "source": [
    "data['BsmtExposure'].fillna('NoBsmt', inplace=True)"
   ]
  },
  {
   "cell_type": "code",
   "execution_count": null,
   "id": "b0adb1dd",
   "metadata": {},
   "outputs": [],
   "source": [
    "data['BsmtExposure'] = data['BsmtExposure'].map({\n",
    "    'NoBsmt': 0,\n",
    "    'No': 1, \n",
    "    'Mn': 2,\n",
    "    'Av': 3,\n",
    "    'Gd': 4\n",
    "})"
   ]
  },
  {
   "cell_type": "markdown",
   "id": "8f67ecbe",
   "metadata": {},
   "source": [
    "#### BsmtFinType1"
   ]
  },
  {
   "cell_type": "code",
   "execution_count": null,
   "id": "c601b3ed",
   "metadata": {},
   "outputs": [],
   "source": [
    "plt.scatter(train['BsmtFinType1'].fillna('NoBsmt'), train['SalePrice'])"
   ]
  },
  {
   "cell_type": "code",
   "execution_count": null,
   "id": "6ce5b52d",
   "metadata": {},
   "outputs": [],
   "source": [
    "data['BsmtFinType1'].fillna('NoBsmt', inplace=True)"
   ]
  },
  {
   "cell_type": "code",
   "execution_count": null,
   "id": "349e7271",
   "metadata": {},
   "outputs": [],
   "source": [
    "data['BsmtFinType1'] = data['BsmtFinType1'].map({\n",
    "    'NoBsmt': 0,\n",
    "    'Unf': 1,\n",
    "    'LwQ': 2,\n",
    "    'Rec': 3,\n",
    "    'BLQ': 4,\n",
    "    'ALQ': 5,\n",
    "    'GLQ': 6\n",
    "})"
   ]
  },
  {
   "cell_type": "markdown",
   "id": "1fef5f8f",
   "metadata": {},
   "source": [
    "#### BsmtFinType2"
   ]
  },
  {
   "cell_type": "code",
   "execution_count": null,
   "id": "b0adc525",
   "metadata": {},
   "outputs": [],
   "source": [
    "plt.scatter(train['BsmtFinType2'].fillna('NoBsmt'), train['SalePrice'])"
   ]
  },
  {
   "cell_type": "code",
   "execution_count": null,
   "id": "55793986",
   "metadata": {},
   "outputs": [],
   "source": [
    "data['BsmtFinType2'].fillna('NoBsmt', inplace=True)"
   ]
  },
  {
   "cell_type": "code",
   "execution_count": null,
   "id": "a33789ce",
   "metadata": {},
   "outputs": [],
   "source": [
    "data['BsmtFinType2'] = data['BsmtFinType2'].map({\n",
    "    'NoBsmt': 0,\n",
    "    'Unf': 1,\n",
    "    'LwQ': 2,\n",
    "    'Rec': 3,\n",
    "    'BLQ': 4,\n",
    "    'ALQ': 5,\n",
    "    'GLQ': 6\n",
    "})"
   ]
  },
  {
   "cell_type": "markdown",
   "id": "5e3f2dd1",
   "metadata": {},
   "source": [
    "#### Heating"
   ]
  },
  {
   "cell_type": "code",
   "execution_count": null,
   "id": "80d1228b",
   "metadata": {},
   "outputs": [],
   "source": [
    "plt.scatter(train['Heating'], train['SalePrice'])"
   ]
  },
  {
   "cell_type": "code",
   "execution_count": null,
   "id": "cccb2ea4",
   "metadata": {},
   "outputs": [],
   "source": [
    "data['Heating'].value_counts()"
   ]
  },
  {
   "cell_type": "code",
   "execution_count": null,
   "id": "3aa95055",
   "metadata": {},
   "outputs": [],
   "source": [
    "data['Heating'] = data['Heating'].map({\n",
    "    'Floor': 0,\n",
    "    'Wall': 1,\n",
    "    'OthW': 2,\n",
    "    'Grav': 3,\n",
    "    'GasW': 10,\n",
    "    'GasA': 20\n",
    "})"
   ]
  },
  {
   "cell_type": "markdown",
   "id": "ca951a67",
   "metadata": {},
   "source": [
    "#### HeatingQC"
   ]
  },
  {
   "cell_type": "code",
   "execution_count": null,
   "id": "ae849213",
   "metadata": {},
   "outputs": [],
   "source": [
    "plt.scatter(train['HeatingQC'], train['SalePrice'])"
   ]
  },
  {
   "cell_type": "code",
   "execution_count": null,
   "id": "7eac4c22",
   "metadata": {},
   "outputs": [],
   "source": [
    "data['HeatingQC'] = data['HeatingQC'].map({\n",
    "    'Po': 0,\n",
    "    'Fa': 1,\n",
    "    'TA': 2,\n",
    "    'Gd': 3,\n",
    "    'Ex': 4\n",
    "})"
   ]
  },
  {
   "cell_type": "markdown",
   "id": "0afe9058",
   "metadata": {},
   "source": [
    "#### CentralAir"
   ]
  },
  {
   "cell_type": "code",
   "execution_count": null,
   "id": "465bdf55",
   "metadata": {},
   "outputs": [],
   "source": [
    "plt.scatter(train['CentralAir'], train['SalePrice'])"
   ]
  },
  {
   "cell_type": "code",
   "execution_count": null,
   "id": "d4a123bd",
   "metadata": {},
   "outputs": [],
   "source": [
    "data['CentralAir'] = data['CentralAir'].map({\n",
    "    'N': 0,\n",
    "    'Y': 1\n",
    "})"
   ]
  },
  {
   "cell_type": "markdown",
   "id": "f8d1b043",
   "metadata": {},
   "source": [
    "#### Electrical"
   ]
  },
  {
   "cell_type": "code",
   "execution_count": null,
   "id": "1a06e338",
   "metadata": {},
   "outputs": [],
   "source": [
    "plt.scatter(train['Electrical'].fillna('No'), train['SalePrice'])"
   ]
  },
  {
   "cell_type": "code",
   "execution_count": null,
   "id": "bf8c110c",
   "metadata": {},
   "outputs": [],
   "source": [
    "data['Electrical'].fillna('No', inplace=True)"
   ]
  },
  {
   "cell_type": "code",
   "execution_count": null,
   "id": "f951bdb1",
   "metadata": {},
   "outputs": [],
   "source": [
    "data['Electrical'] = data['Electrical'].map({\n",
    "    'Mix': 0,\n",
    "    'FuseP': 1,\n",
    "    'FuseF': 2,\n",
    "    'FuseA': 3,\n",
    "    'No': 4,\n",
    "    'SBrkr': 5\n",
    "})"
   ]
  },
  {
   "cell_type": "markdown",
   "id": "44f3c631",
   "metadata": {},
   "source": [
    "#### FullBath"
   ]
  },
  {
   "cell_type": "code",
   "execution_count": null,
   "id": "fe509ca8",
   "metadata": {},
   "outputs": [],
   "source": [
    "data['FullBath'].value_counts()"
   ]
  },
  {
   "cell_type": "code",
   "execution_count": null,
   "id": "2c0fffdb",
   "metadata": {},
   "outputs": [],
   "source": [
    "data['FullBath'] = data['FullBath'].map({\n",
    "    0: 0,\n",
    "    1: 1,\n",
    "    2: 2,\n",
    "    3: 3,\n",
    "    4: 3\n",
    "})"
   ]
  },
  {
   "cell_type": "markdown",
   "id": "c7b5c849",
   "metadata": {},
   "source": [
    "#### BedroomAbvGr"
   ]
  },
  {
   "cell_type": "code",
   "execution_count": null,
   "id": "4b6429c0",
   "metadata": {},
   "outputs": [],
   "source": [
    "plt.scatter(train['BedroomAbvGr'], train['SalePrice'])"
   ]
  },
  {
   "cell_type": "code",
   "execution_count": null,
   "id": "abeaa956",
   "metadata": {},
   "outputs": [],
   "source": [
    "data['BedroomAbvGr'].replace({\n",
    "    5: 4,\n",
    "    6: 4,\n",
    "    8: 4\n",
    "}, inplace=True)"
   ]
  },
  {
   "cell_type": "markdown",
   "id": "30c94bc6",
   "metadata": {},
   "source": [
    "#### KitchenAbvGr"
   ]
  },
  {
   "cell_type": "code",
   "execution_count": null,
   "id": "4bbe2616",
   "metadata": {},
   "outputs": [],
   "source": [
    "plt.scatter(train['KitchenAbvGr'], train['SalePrice'])"
   ]
  },
  {
   "cell_type": "code",
   "execution_count": null,
   "id": "7a7094e5",
   "metadata": {},
   "outputs": [],
   "source": [
    "train['KitchenAbvGr'].value_counts(), test['KitchenAbvGr'].value_counts()"
   ]
  },
  {
   "cell_type": "code",
   "execution_count": null,
   "id": "fa23ea4d",
   "metadata": {},
   "outputs": [],
   "source": [
    "data['KitchenAbvGr'].replace({\n",
    "    1: 2,\n",
    "    2: 1,\n",
    "    3: 1\n",
    "}, inplace=True)"
   ]
  },
  {
   "cell_type": "markdown",
   "id": "bb09a8c2",
   "metadata": {},
   "source": [
    "#### KitchenQual"
   ]
  },
  {
   "cell_type": "code",
   "execution_count": null,
   "id": "339dd908",
   "metadata": {},
   "outputs": [],
   "source": [
    "data['KitchenQual'].value_counts()"
   ]
  },
  {
   "cell_type": "code",
   "execution_count": null,
   "id": "74b78051",
   "metadata": {},
   "outputs": [],
   "source": [
    "data['KitchenQual'] = data['KitchenQual'].map({\n",
    "    'Fa': 1,\n",
    "    'TA': 2,\n",
    "    'Gd': 3,\n",
    "    'Ex': 4\n",
    "})"
   ]
  }
 ],
 "metadata": {
  "kernelspec": {
   "display_name": "Python 3",
   "language": "python",
   "name": "python3"
  },
  "language_info": {
   "codemirror_mode": {
    "name": "ipython",
    "version": 3
   },
   "file_extension": ".py",
   "mimetype": "text/x-python",
   "name": "python",
   "nbconvert_exporter": "python",
   "pygments_lexer": "ipython3",
   "version": "3.7.9"
  }
 },
 "nbformat": 4,
 "nbformat_minor": 5
}
