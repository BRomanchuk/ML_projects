{
 "cells": [
  {
   "cell_type": "markdown",
   "id": "0d5068d0",
   "metadata": {},
   "source": [
    "# House Prices Competition"
   ]
  },
  {
   "cell_type": "markdown",
   "id": "53a6eb14",
   "metadata": {},
   "source": [
    "### Import Libraries"
   ]
  },
  {
   "cell_type": "code",
   "execution_count": null,
   "id": "4a4bbd80",
   "metadata": {},
   "outputs": [],
   "source": [
    "import numpy as np\n",
    "import pandas as pd\n",
    "import matplotlib.pyplot as plt\n",
    "import seaborn as sns\n",
    "%matplotlib inline\n",
    "sns.set(rc={'figure.figsize':(22,8.27)})"
   ]
  },
  {
   "cell_type": "markdown",
   "id": "396b83b5",
   "metadata": {},
   "source": [
    "### Load Data"
   ]
  },
  {
   "cell_type": "code",
   "execution_count": null,
   "id": "856813e2",
   "metadata": {},
   "outputs": [],
   "source": [
    "train = pd.read_csv('./data/train.csv', index_col='Id')\n",
    "test = pd.read_csv('./data/test.csv', index_col='Id')\n",
    "\n",
    "data = pd.concat([train, test])"
   ]
  },
  {
   "cell_type": "code",
   "execution_count": null,
   "id": "b7b4ec23",
   "metadata": {},
   "outputs": [],
   "source": [
    "data.head()"
   ]
  },
  {
   "cell_type": "code",
   "execution_count": null,
   "id": "37b32267",
   "metadata": {},
   "outputs": [],
   "source": [
    "data.isnull().sum(axis=0).head(10)"
   ]
  },
  {
   "cell_type": "code",
   "execution_count": null,
   "id": "50aece0d",
   "metadata": {},
   "outputs": [],
   "source": [
    "sns.heatmap(data.isnull())"
   ]
  },
  {
   "cell_type": "markdown",
   "id": "266237c8",
   "metadata": {},
   "source": [
    "### Drop columns with too many missing values"
   ]
  },
  {
   "cell_type": "code",
   "execution_count": null,
   "id": "2ce42ebb",
   "metadata": {},
   "outputs": [],
   "source": [
    "for col in data.columns:\n",
    "    if data[col].isna().sum() > 0.7 * data.shape[0]:\n",
    "        data.drop(col, axis=1, inplace=True)"
   ]
  },
  {
   "cell_type": "code",
   "execution_count": null,
   "id": "9933aea0",
   "metadata": {},
   "outputs": [],
   "source": [
    "sns.heatmap(data.isnull())"
   ]
  },
  {
   "cell_type": "code",
   "execution_count": null,
   "id": "a03107f4",
   "metadata": {},
   "outputs": [],
   "source": [
    "data.info()"
   ]
  },
  {
   "cell_type": "markdown",
   "id": "ef50b165",
   "metadata": {},
   "source": [
    "### Fill NaNs \n",
    "<b>in categorical features</b><br>\n",
    "<i> - with mode</i><br>\n",
    "<i> - with \"Missing\" if the number of missing values is too high</i><br>\n",
    "<b>in numeric features</b><br>\n",
    "<i> - with median</i><br>\n",
    "<i> - with -999 if the number of missing values is too high</i>"
   ]
  },
  {
   "cell_type": "code",
   "execution_count": null,
   "id": "0e19611c",
   "metadata": {},
   "outputs": [],
   "source": [
    "# define columns with missing values\n",
    "na_columns = data.drop('SalePrice', axis=1).columns[(data.drop('SalePrice', axis=1).isna().sum() > 0)]"
   ]
  },
  {
   "cell_type": "code",
   "execution_count": null,
   "id": "4fab248d",
   "metadata": {},
   "outputs": [],
   "source": [
    "# fill NaNs\n",
    "for col in na_columns:\n",
    "    if data[col].isnull().sum() < 0.4 * data.shape[0]:\n",
    "        if str(data[col].dtype) == 'float64':\n",
    "            data[col].fillna(data[col].median(), inplace=True)\n",
    "        else:\n",
    "            data[col].fillna(data[col].mode(), inplace=True)\n",
    "            data[col].replace({None: data[col].mode()[0]}, inplace=True)\n",
    "    else:\n",
    "        if str(data[col].dtype) == 'object':\n",
    "            data[col].fillna('Missing', inplace=True)\n",
    "            data[col].replace({None: 'Missing'}, inplace=True)\n",
    "        else:\n",
    "            data[col].fillna(-999, inplace=True)\n",
    "            "
   ]
  },
  {
   "cell_type": "code",
   "execution_count": null,
   "id": "40686105",
   "metadata": {},
   "outputs": [],
   "source": [
    "sns.heatmap(data.isnull())"
   ]
  },
  {
   "cell_type": "code",
   "execution_count": null,
   "id": "0e8eff12",
   "metadata": {},
   "outputs": [],
   "source": [
    "values_arr = []\n",
    "for col in data.columns:\n",
    "    if data[col].dtype not in ['float64', 'int64']:\n",
    "        values_arr.append(len(data[col].unique()))\n",
    "np.array(values_arr)"
   ]
  },
  {
   "cell_type": "markdown",
   "id": "fc44e94c",
   "metadata": {},
   "source": [
    "### Encode Categorical Features"
   ]
  },
  {
   "cell_type": "code",
   "execution_count": null,
   "id": "1c694d14",
   "metadata": {},
   "outputs": [],
   "source": [
    "from sklearn.preprocessing import LabelBinarizer"
   ]
  },
  {
   "cell_type": "code",
   "execution_count": null,
   "id": "7b56151d",
   "metadata": {},
   "outputs": [],
   "source": [
    "lb = LabelBinarizer()\n",
    "for col in data.drop('SalePrice', axis=1).columns:\n",
    "    if data[col].dtype not in ['float64', 'int64']:\n",
    "        matrix = lb.fit_transform(data[col]).T\n",
    "        unique = data[col].unique()\n",
    "        # if columns is binary, LabelBinarizer returns 1d-array instead of 2d-matrix\n",
    "        if matrix.shape[0] == 1:\n",
    "            data[col] = matrix[0]\n",
    "        else:\n",
    "            for i in range(len(unique)):\n",
    "                data[unique[i]] = matrix[i]"
   ]
  },
  {
   "cell_type": "code",
   "execution_count": null,
   "id": "bea69f04",
   "metadata": {},
   "outputs": [],
   "source": [
    "data.columns"
   ]
  }
 ],
 "metadata": {
  "kernelspec": {
   "display_name": "Python 3",
   "language": "python",
   "name": "python3"
  },
  "language_info": {
   "codemirror_mode": {
    "name": "ipython",
    "version": 3
   },
   "file_extension": ".py",
   "mimetype": "text/x-python",
   "name": "python",
   "nbconvert_exporter": "python",
   "pygments_lexer": "ipython3",
   "version": "3.7.9"
  }
 },
 "nbformat": 4,
 "nbformat_minor": 5
}
