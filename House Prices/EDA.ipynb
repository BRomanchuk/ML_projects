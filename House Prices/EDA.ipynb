{
 "cells": [
  {
   "cell_type": "markdown",
   "id": "aa38520c",
   "metadata": {},
   "source": [
    "# EDA [House Prices]"
   ]
  },
  {
   "cell_type": "code",
   "execution_count": null,
   "id": "18c3d995",
   "metadata": {},
   "outputs": [],
   "source": [
    "import numpy as np\n",
    "import pandas as pd\n",
    "import matplotlib.pyplot as plt\n",
    "import seaborn as sns\n",
    "%matplotlib inline"
   ]
  },
  {
   "cell_type": "code",
   "execution_count": null,
   "id": "a2b71abc",
   "metadata": {},
   "outputs": [],
   "source": [
    "train = pd.read_csv('./data/train.csv', index_col='Id')\n",
    "test = pd.read_csv('./data/test.csv', index_col='Id')\n",
    "\n",
    "data = pd.concat([train, test])"
   ]
  },
  {
   "cell_type": "markdown",
   "id": "71e747ec",
   "metadata": {},
   "source": [
    "## Numeric features"
   ]
  },
  {
   "cell_type": "markdown",
   "id": "5dce9baf",
   "metadata": {},
   "source": [
    "#### LotFrontage"
   ]
  },
  {
   "cell_type": "code",
   "execution_count": null,
   "id": "c2132906",
   "metadata": {},
   "outputs": [],
   "source": [
    "train['LotFrontage'].sort_values(ascending=False).head(5), test['LotFrontage'].sort_values(ascending=False).head(5)"
   ]
  },
  {
   "cell_type": "code",
   "execution_count": null,
   "id": "fb4dd7ea",
   "metadata": {},
   "outputs": [],
   "source": [
    "front_outliers = (data['LotFrontage'] > 300)\n",
    "data.drop(data.loc[front_outliers].index, inplace=True)"
   ]
  },
  {
   "cell_type": "markdown",
   "id": "c9fc4ab6",
   "metadata": {},
   "source": [
    "#### LotArea"
   ]
  },
  {
   "cell_type": "code",
   "execution_count": null,
   "id": "5161f21e",
   "metadata": {},
   "outputs": [],
   "source": [
    "train['LotArea'].sort_values(ascending=False).head(5), test['LotArea'].sort_values(ascending=False).head(5)"
   ]
  },
  {
   "cell_type": "code",
   "execution_count": null,
   "id": "12b467fe",
   "metadata": {},
   "outputs": [],
   "source": [
    "area_outliers = (data['LotArea'] > 100000)\n",
    "data.drop(data.loc[area_outliers].index, inplace=True)"
   ]
  },
  {
   "cell_type": "markdown",
   "id": "2eb476b7",
   "metadata": {},
   "source": [
    "#### BsmtFinSF1"
   ]
  },
  {
   "cell_type": "code",
   "execution_count": null,
   "id": "95f04da4",
   "metadata": {},
   "outputs": [],
   "source": [
    "# BsmtFinSF1\n",
    "train['BsmtFinSF1'].sort_values(ascending=False).head(5), test['BsmtFinSF1'].sort_values(ascending=False).head(5)"
   ]
  },
  {
   "cell_type": "code",
   "execution_count": null,
   "id": "12651a16",
   "metadata": {},
   "outputs": [],
   "source": [
    "bsmt1_outliers = (data['BsmtFinSF1'] > 3000)\n",
    "data['BsmtFinSF1_Outliers'] = np.zeros(data.shape[0])\n",
    "data.loc[bsmt1_outliers, 'BsmtFinSF1_Outliers'] = 100"
   ]
  },
  {
   "cell_type": "markdown",
   "id": "177ac5bd",
   "metadata": {},
   "source": [
    "#### TotalBsmtSF"
   ]
  },
  {
   "cell_type": "code",
   "execution_count": null,
   "id": "dd4ace6d",
   "metadata": {},
   "outputs": [],
   "source": [
    "# TotalBsmtSF\n",
    "train['TotalBsmtSF'].sort_values(ascending=False).head(5), test['TotalBsmtSF'].sort_values(ascending=False).head(5)"
   ]
  },
  {
   "cell_type": "code",
   "execution_count": null,
   "id": "f658e6a6",
   "metadata": {},
   "outputs": [],
   "source": [
    "bsmt_tot_outliers = (data['TotalBsmtSF'] > 4000)\n",
    "data['TotalBsmtSF_Outliers'] = np.zeros(data.shape[0])\n",
    "data.loc[bsmt_tot_outliers, 'TotalBsmtSF_Outliers'] = 100"
   ]
  },
  {
   "cell_type": "markdown",
   "id": "46218310",
   "metadata": {},
   "source": [
    "#### 1stFlrSF"
   ]
  },
  {
   "cell_type": "code",
   "execution_count": null,
   "id": "a6e5f810",
   "metadata": {},
   "outputs": [],
   "source": [
    "# 1stFlrSF\n",
    "train['1stFlrSF'].sort_values(ascending=False).head(5), test['1stFlrSF'].sort_values(ascending=False).head(5)"
   ]
  },
  {
   "cell_type": "code",
   "execution_count": null,
   "id": "7c52852e",
   "metadata": {},
   "outputs": [],
   "source": [
    "f_flr_outliers = (data['1stFlrSF'] > 4000)\n",
    "data['1stFlrSF_Outliers'] = np.zeros(data.shape[0])\n",
    "data.loc[f_flr_outliers, '1stFlrSF_Outliers'] = 100"
   ]
  },
  {
   "cell_type": "markdown",
   "id": "6f41fbb3",
   "metadata": {},
   "source": [
    "#### GrLivArea"
   ]
  },
  {
   "cell_type": "code",
   "execution_count": null,
   "id": "10bbdb97",
   "metadata": {
    "scrolled": true
   },
   "outputs": [],
   "source": [
    "# GrLivArea\n",
    "train['GrLivArea'].sort_values(ascending=False).head(5), test['GrLivArea'].sort_values(ascending=False).head(5)"
   ]
  },
  {
   "cell_type": "code",
   "execution_count": null,
   "id": "202d8add",
   "metadata": {},
   "outputs": [],
   "source": [
    "main_outliers = (data['GrLivArea'] > 4500)\n",
    "data['GrLivArea_Outliers'] = np.zeros(data.shape[0])\n",
    "data.loc[main_outliers, 'GrLivArea_Outliers'] = 100"
   ]
  },
  {
   "cell_type": "markdown",
   "id": "0a19901e",
   "metadata": {},
   "source": [
    "#### GarageYrBlt"
   ]
  },
  {
   "cell_type": "code",
   "execution_count": null,
   "id": "e34f3234",
   "metadata": {},
   "outputs": [],
   "source": [
    "# GarageYrBlt\n",
    "train['GarageYrBlt'].sort_values(ascending=False).head(5), test['GarageYrBlt'].sort_values(ascending=False).head(5)"
   ]
  },
  {
   "cell_type": "code",
   "execution_count": null,
   "id": "ec52458d",
   "metadata": {},
   "outputs": [],
   "source": [
    "garage_year_outlier = data['GarageYrBlt'] > 2010\n",
    "data.loc[garage_year_outlier, 'GarageYrBlt'] = 2007"
   ]
  },
  {
   "cell_type": "markdown",
   "id": "c9dec284",
   "metadata": {},
   "source": [
    "#### WoodDeckSF"
   ]
  },
  {
   "cell_type": "code",
   "execution_count": null,
   "id": "8c5ec461",
   "metadata": {},
   "outputs": [],
   "source": [
    "# WoodDeckSF\n",
    "train['WoodDeckSF'].sort_values(ascending=False).head(5), test['WoodDeckSF'].sort_values(ascending=False).head(5)"
   ]
  },
  {
   "cell_type": "code",
   "execution_count": null,
   "id": "b3d6f390",
   "metadata": {},
   "outputs": [],
   "source": [
    "wood_deck_outliers = (data['WoodDeckSF'] > 1000)\n",
    "data['WoodDeckSF_Outliers'] = np.zeros(data.shape[0])\n",
    "data.loc[wood_deck_outliers, 'WoodDeckSF_Outliers'] = 100"
   ]
  },
  {
   "cell_type": "markdown",
   "id": "f2d40e16",
   "metadata": {},
   "source": [
    "#### EnclosedPorch"
   ]
  },
  {
   "cell_type": "code",
   "execution_count": null,
   "id": "59946086",
   "metadata": {},
   "outputs": [],
   "source": [
    "# EnclosedPorch\n",
    "train['EnclosedPorch'].sort_values(ascending=False).head(5), test['EnclosedPorch'].sort_values(ascending=False).head(5)"
   ]
  },
  {
   "cell_type": "code",
   "execution_count": null,
   "id": "59acebaf",
   "metadata": {},
   "outputs": [],
   "source": [
    "enc_porch_outliers = (data['EnclosedPorch'] > 1000)\n",
    "data['EnclosedPorch_Outliers'] = np.zeros(data.shape[0])\n",
    "data.loc[enc_porch_outliers, 'EnclosedPorch_Outliers'] = 100"
   ]
  },
  {
   "cell_type": "markdown",
   "id": "58ac1661",
   "metadata": {},
   "source": [
    "## Ordinal features\n"
   ]
  },
  {
   "cell_type": "markdown",
   "id": "e60bbd02",
   "metadata": {},
   "source": [
    "#### MSZoning"
   ]
  },
  {
   "cell_type": "code",
   "execution_count": null,
   "id": "1f90eee6",
   "metadata": {},
   "outputs": [],
   "source": [
    "data['MSZoning'].value_counts()"
   ]
  },
  {
   "cell_type": "code",
   "execution_count": null,
   "id": "c21bfb16",
   "metadata": {},
   "outputs": [],
   "source": [
    "plt.scatter(train['MSZoning'], train['SalePrice'])"
   ]
  },
  {
   "cell_type": "code",
   "execution_count": null,
   "id": "bbafc91c",
   "metadata": {},
   "outputs": [],
   "source": [
    "data['MSZoning'] = data['MSZoning'].map({\n",
    "    'C (all)': 0,\n",
    "    'RH': 1,\n",
    "    'RM': 2,\n",
    "    'FV': 3,\n",
    "    'RL': 4\n",
    "})"
   ]
  },
  {
   "cell_type": "markdown",
   "id": "e55b113f",
   "metadata": {},
   "source": [
    "#### Street"
   ]
  },
  {
   "cell_type": "code",
   "execution_count": null,
   "id": "f9c6ed01",
   "metadata": {},
   "outputs": [],
   "source": [
    "plt.scatter(train['Street'], train['SalePrice'])"
   ]
  },
  {
   "cell_type": "code",
   "execution_count": null,
   "id": "377460cf",
   "metadata": {},
   "outputs": [],
   "source": [
    "data['Street'] = data['Street'].map({\n",
    "    'Grvl': 0,\n",
    "    'Pave': 1\n",
    "})"
   ]
  },
  {
   "cell_type": "markdown",
   "id": "75c2f174",
   "metadata": {},
   "source": [
    "#### LotShape"
   ]
  },
  {
   "cell_type": "code",
   "execution_count": null,
   "id": "32440fb2",
   "metadata": {},
   "outputs": [],
   "source": [
    "plt.scatter(train['LotShape'], train['SalePrice'])"
   ]
  },
  {
   "cell_type": "code",
   "execution_count": null,
   "id": "45555eaf",
   "metadata": {},
   "outputs": [],
   "source": [
    "data['LotShape'] = data['LotShape'].map({\n",
    "    'IR3': 0,\n",
    "    'IR2': 1,\n",
    "    'Reg': 2,\n",
    "    'IR1': 3\n",
    "})"
   ]
  },
  {
   "cell_type": "markdown",
   "id": "7963628e",
   "metadata": {},
   "source": [
    "#### LandContour"
   ]
  },
  {
   "cell_type": "code",
   "execution_count": null,
   "id": "1df88a24",
   "metadata": {},
   "outputs": [],
   "source": [
    "plt.scatter(train['LandContour'], train['SalePrice'])"
   ]
  },
  {
   "cell_type": "code",
   "execution_count": null,
   "id": "7412d905",
   "metadata": {},
   "outputs": [],
   "source": [
    "data['LandContour'] = data['LandContour'].map({\n",
    "    'Bnk': 0,\n",
    "    'Low': 1,\n",
    "    'HLS': 2,\n",
    "    'Lvl': 3\n",
    "})"
   ]
  },
  {
   "cell_type": "markdown",
   "id": "b0428df8",
   "metadata": {},
   "source": [
    "#### Utilities"
   ]
  },
  {
   "cell_type": "code",
   "execution_count": null,
   "id": "4775454e",
   "metadata": {},
   "outputs": [],
   "source": [
    "data['Utilities'].value_counts()"
   ]
  },
  {
   "cell_type": "code",
   "execution_count": null,
   "id": "d4e36400",
   "metadata": {},
   "outputs": [],
   "source": [
    "data['Utilities'] = data['Utilities'].map({\n",
    "    'AllPub': 1,\n",
    "    'NoSeWa': 0\n",
    "})"
   ]
  },
  {
   "cell_type": "code",
   "execution_count": null,
   "id": "ac1bb2a7",
   "metadata": {},
   "outputs": [],
   "source": []
  }
 ],
 "metadata": {
  "kernelspec": {
   "display_name": "Python 3",
   "language": "python",
   "name": "python3"
  },
  "language_info": {
   "codemirror_mode": {
    "name": "ipython",
    "version": 3
   },
   "file_extension": ".py",
   "mimetype": "text/x-python",
   "name": "python",
   "nbconvert_exporter": "python",
   "pygments_lexer": "ipython3",
   "version": "3.7.9"
  }
 },
 "nbformat": 4,
 "nbformat_minor": 5
}
