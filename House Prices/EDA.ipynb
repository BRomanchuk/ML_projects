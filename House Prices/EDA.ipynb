{
 "cells": [
  {
   "cell_type": "markdown",
   "id": "245a3461",
   "metadata": {},
   "source": [
    "# EDA [House Prices]"
   ]
  },
  {
   "cell_type": "code",
   "execution_count": null,
   "id": "e2b57ad9",
   "metadata": {},
   "outputs": [],
   "source": [
    "import numpy as np\n",
    "import pandas as pd\n",
    "import matplotlib.pyplot as plt\n",
    "import seaborn as sns\n",
    "%matplotlib inline"
   ]
  },
  {
   "cell_type": "code",
   "execution_count": null,
   "id": "db4c0da1",
   "metadata": {},
   "outputs": [],
   "source": [
    "train = pd.read_csv('./data/train.csv', index_col='Id')\n",
    "test = pd.read_csv('./data/test.csv', index_col='Id')\n",
    "\n",
    "data = pd.concat([train, test])"
   ]
  },
  {
   "cell_type": "markdown",
   "id": "5db216e4",
   "metadata": {},
   "source": [
    "## Numeric features"
   ]
  },
  {
   "cell_type": "markdown",
   "id": "fc527ba3",
   "metadata": {},
   "source": [
    "#### LotFrontage"
   ]
  },
  {
   "cell_type": "code",
   "execution_count": null,
   "id": "64247a27",
   "metadata": {},
   "outputs": [],
   "source": [
    "train['LotFrontage'].sort_values(ascending=False).head(5), test['LotFrontage'].sort_values(ascending=False).head(5)"
   ]
  },
  {
   "cell_type": "code",
   "execution_count": null,
   "id": "00aaf32b",
   "metadata": {},
   "outputs": [],
   "source": [
    "front_outliers = (data['LotFrontage'] > 300)\n",
    "data.drop(data.loc[front_outliers].index, inplace=True)"
   ]
  },
  {
   "cell_type": "markdown",
   "id": "00da57fb",
   "metadata": {},
   "source": [
    "#### LotArea"
   ]
  },
  {
   "cell_type": "code",
   "execution_count": null,
   "id": "6892f6ca",
   "metadata": {},
   "outputs": [],
   "source": [
    "train['LotArea'].sort_values(ascending=False).head(5), test['LotArea'].sort_values(ascending=False).head(5)"
   ]
  },
  {
   "cell_type": "code",
   "execution_count": null,
   "id": "31e530be",
   "metadata": {},
   "outputs": [],
   "source": [
    "area_outliers = (data['LotArea'] > 100000)\n",
    "data.drop(data.loc[area_outliers].index, inplace=True)"
   ]
  },
  {
   "cell_type": "markdown",
   "id": "68703404",
   "metadata": {},
   "source": [
    "#### BsmtFinSF1"
   ]
  },
  {
   "cell_type": "code",
   "execution_count": null,
   "id": "b0ca4377",
   "metadata": {},
   "outputs": [],
   "source": [
    "# BsmtFinSF1\n",
    "train['BsmtFinSF1'].sort_values(ascending=False).head(5), test['BsmtFinSF1'].sort_values(ascending=False).head(5)"
   ]
  },
  {
   "cell_type": "code",
   "execution_count": null,
   "id": "03982254",
   "metadata": {},
   "outputs": [],
   "source": [
    "bsmt1_outliers = (data['BsmtFinSF1'] > 3000)\n",
    "data['BsmtFinSF1_Outliers'] = np.zeros(data.shape[0])\n",
    "data.loc[bsmt1_outliers, 'BsmtFinSF1_Outliers'] = 100"
   ]
  },
  {
   "cell_type": "markdown",
   "id": "6ecba699",
   "metadata": {},
   "source": [
    "#### TotalBsmtSF"
   ]
  },
  {
   "cell_type": "code",
   "execution_count": null,
   "id": "21578e5b",
   "metadata": {},
   "outputs": [],
   "source": [
    "# TotalBsmtSF\n",
    "train['TotalBsmtSF'].sort_values(ascending=False).head(5), test['TotalBsmtSF'].sort_values(ascending=False).head(5)"
   ]
  },
  {
   "cell_type": "code",
   "execution_count": null,
   "id": "e119adf6",
   "metadata": {},
   "outputs": [],
   "source": [
    "bsmt_tot_outliers = (data['TotalBsmtSF'] > 4000)\n",
    "data['TotalBsmtSF_Outliers'] = np.zeros(data.shape[0])\n",
    "data.loc[bsmt_tot_outliers, 'TotalBsmtSF_Outliers'] = 100"
   ]
  },
  {
   "cell_type": "markdown",
   "id": "d179a26a",
   "metadata": {},
   "source": [
    "#### 1stFlrSF"
   ]
  },
  {
   "cell_type": "code",
   "execution_count": null,
   "id": "8e0f0d35",
   "metadata": {},
   "outputs": [],
   "source": [
    "# 1stFlrSF\n",
    "train['1stFlrSF'].sort_values(ascending=False).head(5), test['1stFlrSF'].sort_values(ascending=False).head(5)"
   ]
  },
  {
   "cell_type": "code",
   "execution_count": null,
   "id": "0da36225",
   "metadata": {},
   "outputs": [],
   "source": [
    "f_flr_outliers = (data['1stFlrSF'] > 4000)\n",
    "data['1stFlrSF_Outliers'] = np.zeros(data.shape[0])\n",
    "data.loc[f_flr_outliers, '1stFlrSF_Outliers'] = 100"
   ]
  },
  {
   "cell_type": "markdown",
   "id": "40398440",
   "metadata": {},
   "source": [
    "#### GrLivArea"
   ]
  },
  {
   "cell_type": "code",
   "execution_count": null,
   "id": "dbe16ed2",
   "metadata": {
    "scrolled": true
   },
   "outputs": [],
   "source": [
    "# GrLivArea\n",
    "train['GrLivArea'].sort_values(ascending=False).head(5), test['GrLivArea'].sort_values(ascending=False).head(5)"
   ]
  },
  {
   "cell_type": "code",
   "execution_count": null,
   "id": "4f274ab5",
   "metadata": {},
   "outputs": [],
   "source": [
    "main_outliers = (data['GrLivArea'] > 4500)\n",
    "data['GrLivArea_Outliers'] = np.zeros(data.shape[0])\n",
    "data.loc[main_outliers, 'GrLivArea_Outliers'] = 100"
   ]
  },
  {
   "cell_type": "markdown",
   "id": "775f1c11",
   "metadata": {},
   "source": [
    "#### GarageYrBlt"
   ]
  },
  {
   "cell_type": "code",
   "execution_count": null,
   "id": "7ccdb579",
   "metadata": {},
   "outputs": [],
   "source": [
    "# GarageYrBlt\n",
    "train['GarageYrBlt'].sort_values(ascending=False).head(5), test['GarageYrBlt'].sort_values(ascending=False).head(5)"
   ]
  },
  {
   "cell_type": "code",
   "execution_count": null,
   "id": "aeb27fc2",
   "metadata": {},
   "outputs": [],
   "source": [
    "garage_year_outlier = data['GarageYrBlt'] > 2010\n",
    "data.loc[garage_year_outlier, 'GarageYrBlt'] = 2007"
   ]
  },
  {
   "cell_type": "markdown",
   "id": "a4711c40",
   "metadata": {},
   "source": [
    "#### WoodDeckSF"
   ]
  },
  {
   "cell_type": "code",
   "execution_count": null,
   "id": "3398dadb",
   "metadata": {},
   "outputs": [],
   "source": [
    "# WoodDeckSF\n",
    "train['WoodDeckSF'].sort_values(ascending=False).head(5), test['WoodDeckSF'].sort_values(ascending=False).head(5)"
   ]
  },
  {
   "cell_type": "code",
   "execution_count": null,
   "id": "aaee27e3",
   "metadata": {},
   "outputs": [],
   "source": [
    "wood_deck_outliers = (data['WoodDeckSF'] > 1000)\n",
    "data['WoodDeckSF_Outliers'] = np.zeros(data.shape[0])\n",
    "data.loc[wood_deck_outliers, 'WoodDeckSF_Outliers'] = 100"
   ]
  },
  {
   "cell_type": "markdown",
   "id": "88a2437d",
   "metadata": {},
   "source": [
    "#### EnclosedPorch"
   ]
  },
  {
   "cell_type": "code",
   "execution_count": null,
   "id": "6712d8db",
   "metadata": {},
   "outputs": [],
   "source": [
    "# EnclosedPorch\n",
    "train['EnclosedPorch'].sort_values(ascending=False).head(5), test['EnclosedPorch'].sort_values(ascending=False).head(5)"
   ]
  },
  {
   "cell_type": "code",
   "execution_count": null,
   "id": "a3df0bf0",
   "metadata": {},
   "outputs": [],
   "source": [
    "enc_porch_outliers = (data['EnclosedPorch'] > 1000)\n",
    "data['EnclosedPorch_Outliers'] = np.zeros(data.shape[0])\n",
    "data.loc[enc_porch_outliers, 'EnclosedPorch_Outliers'] = 100"
   ]
  },
  {
   "cell_type": "markdown",
   "id": "eceeaeba",
   "metadata": {},
   "source": [
    "## Ordinal features\n"
   ]
  },
  {
   "cell_type": "markdown",
   "id": "8ffab0cc",
   "metadata": {},
   "source": [
    "#### MSZoning"
   ]
  },
  {
   "cell_type": "code",
   "execution_count": null,
   "id": "3b82e355",
   "metadata": {},
   "outputs": [],
   "source": [
    "data['MSZoning'].value_counts()"
   ]
  },
  {
   "cell_type": "code",
   "execution_count": null,
   "id": "a808f5cd",
   "metadata": {},
   "outputs": [],
   "source": [
    "plt.scatter(train['MSZoning'], train['SalePrice'])"
   ]
  },
  {
   "cell_type": "code",
   "execution_count": null,
   "id": "88c5a690",
   "metadata": {},
   "outputs": [],
   "source": [
    "data['MSZoning'] = data['MSZoning'].map({\n",
    "    'C (all)': 0,\n",
    "    'RH': 1,\n",
    "    'RM': 2,\n",
    "    'FV': 3,\n",
    "    'RL': 4\n",
    "})"
   ]
  },
  {
   "cell_type": "markdown",
   "id": "1718a7bd",
   "metadata": {},
   "source": [
    "#### Street"
   ]
  },
  {
   "cell_type": "code",
   "execution_count": null,
   "id": "e2bb1094",
   "metadata": {},
   "outputs": [],
   "source": [
    "plt.scatter(train['Street'], train['SalePrice'])"
   ]
  },
  {
   "cell_type": "code",
   "execution_count": null,
   "id": "57e744b6",
   "metadata": {},
   "outputs": [],
   "source": [
    "data['Street'] = data['Street'].map({\n",
    "    'Grvl': 0,\n",
    "    'Pave': 1\n",
    "})"
   ]
  },
  {
   "cell_type": "markdown",
   "id": "474c869d",
   "metadata": {},
   "source": [
    "#### LotShape"
   ]
  },
  {
   "cell_type": "code",
   "execution_count": null,
   "id": "9cc6ac15",
   "metadata": {},
   "outputs": [],
   "source": [
    "plt.scatter(train['LotShape'], train['SalePrice'])"
   ]
  },
  {
   "cell_type": "code",
   "execution_count": null,
   "id": "f870d65f",
   "metadata": {},
   "outputs": [],
   "source": [
    "data['LotShape'] = data['LotShape'].map({\n",
    "    'IR3': 0,\n",
    "    'IR2': 1,\n",
    "    'Reg': 2,\n",
    "    'IR1': 3\n",
    "})"
   ]
  },
  {
   "cell_type": "markdown",
   "id": "b8d24bcf",
   "metadata": {},
   "source": [
    "#### LandContour"
   ]
  },
  {
   "cell_type": "code",
   "execution_count": null,
   "id": "897286d1",
   "metadata": {},
   "outputs": [],
   "source": [
    "plt.scatter(train['LandContour'], train['SalePrice'])"
   ]
  },
  {
   "cell_type": "code",
   "execution_count": null,
   "id": "90295a52",
   "metadata": {},
   "outputs": [],
   "source": [
    "data['LandContour'] = data['LandContour'].map({\n",
    "    'Bnk': 0,\n",
    "    'Low': 1,\n",
    "    'HLS': 2,\n",
    "    'Lvl': 3\n",
    "})"
   ]
  },
  {
   "cell_type": "markdown",
   "id": "17f89304",
   "metadata": {},
   "source": [
    "#### Utilities"
   ]
  },
  {
   "cell_type": "code",
   "execution_count": null,
   "id": "12bbf721",
   "metadata": {},
   "outputs": [],
   "source": [
    "data['Utilities'].value_counts()"
   ]
  },
  {
   "cell_type": "code",
   "execution_count": null,
   "id": "4d068099",
   "metadata": {},
   "outputs": [],
   "source": [
    "data['Utilities'] = data['Utilities'].map({\n",
    "    'AllPub': 1,\n",
    "    'NoSeWa': 0\n",
    "})"
   ]
  },
  {
   "cell_type": "markdown",
   "id": "eca586ef",
   "metadata": {},
   "source": [
    "#### LotConfig"
   ]
  },
  {
   "cell_type": "code",
   "execution_count": null,
   "id": "55b5b1ee",
   "metadata": {},
   "outputs": [],
   "source": [
    "plt.scatter(train['LotConfig'], train['SalePrice'])"
   ]
  },
  {
   "cell_type": "code",
   "execution_count": null,
   "id": "f18cd899",
   "metadata": {},
   "outputs": [],
   "source": [
    "data['LotConfig'] = data['LotConfig'].map({\n",
    "    'FR3': 0,\n",
    "    'FR2': 1,\n",
    "    'Corner': 2,\n",
    "    'Inside': 3,\n",
    "    'CulDSac': 4\n",
    "})"
   ]
  },
  {
   "cell_type": "markdown",
   "id": "4dbd6620",
   "metadata": {},
   "source": [
    "#### LandSlope"
   ]
  },
  {
   "cell_type": "code",
   "execution_count": null,
   "id": "a57aa3d0",
   "metadata": {},
   "outputs": [],
   "source": [
    "plt.scatter(train['LandSlope'], train['SalePrice'])"
   ]
  },
  {
   "cell_type": "code",
   "execution_count": null,
   "id": "8e79c7b1",
   "metadata": {},
   "outputs": [],
   "source": [
    "data['LandSlope'] = data['LandSlope'].map({\n",
    "    'Sev': 0,\n",
    "    'Mod': 1,\n",
    "    'Gtl': 2\n",
    "})"
   ]
  },
  {
   "cell_type": "markdown",
   "id": "95579028",
   "metadata": {},
   "source": [
    "#### Neighborhood"
   ]
  },
  {
   "cell_type": "code",
   "execution_count": null,
   "id": "9e54252e",
   "metadata": {},
   "outputs": [],
   "source": [
    "plt.scatter(train['Neighborhood'], train['SalePrice'])"
   ]
  },
  {
   "cell_type": "code",
   "execution_count": null,
   "id": "b26faf2d",
   "metadata": {},
   "outputs": [],
   "source": [
    "train['Neighborhood'].unique()"
   ]
  },
  {
   "cell_type": "code",
   "execution_count": null,
   "id": "ce48cb3e",
   "metadata": {},
   "outputs": [],
   "source": [
    "temp = train['Neighborhood'].map({\n",
    "    'CollgCr': 15,\n",
    "    'Veenker': 20,\n",
    "    'Crawfor': 14,\n",
    "    'NoRidge': 24,\n",
    "    'Mitchel': 10,\n",
    "    'Somerst': 18,\n",
    "    'NWAmes': 17,\n",
    "    'OldTown': 2,\n",
    "    'BrkSide': 1,\n",
    "    'Sawyer': 5,\n",
    "    'NridgHt': 23,\n",
    "    'NAmes': 11,\n",
    "    'SawyerW': 13,\n",
    "    'IDOTRR': 0,\n",
    "    'MeadowV': 4,\n",
    "    'Edwards': 9,\n",
    "    'Timber': 21,\n",
    "    'Gilbert': 19,\n",
    "    'StoneBr': 22,\n",
    "    'ClearCr': 16,\n",
    "    'NPkVill': 8,\n",
    "    'Blmngtn': 12,\n",
    "    'BrDale': 3,\n",
    "    'SWISU': 6,\n",
    "    'Blueste': 7 \n",
    "})"
   ]
  },
  {
   "cell_type": "code",
   "execution_count": null,
   "id": "1b3d0677",
   "metadata": {},
   "outputs": [],
   "source": [
    "plt.scatter(temp, train['SalePrice'])"
   ]
  },
  {
   "cell_type": "code",
   "execution_count": null,
   "id": "ee223253",
   "metadata": {},
   "outputs": [],
   "source": [
    "data['Neighborhood'] = data['Neighborhood'].map({\n",
    "    'CollgCr': 15,\n",
    "    'Veenker': 20,\n",
    "    'Crawfor': 14,\n",
    "    'NoRidge': 24,\n",
    "    'Mitchel': 10,\n",
    "    'Somerst': 18,\n",
    "    'NWAmes': 17,\n",
    "    'OldTown': 2,\n",
    "    'BrkSide': 1,\n",
    "    'Sawyer': 5,\n",
    "    'NridgHt': 23,\n",
    "    'NAmes': 11,\n",
    "    'SawyerW': 13,\n",
    "    'IDOTRR': 0,\n",
    "    'MeadowV': 4,\n",
    "    'Edwards': 9,\n",
    "    'Timber': 21,\n",
    "    'Gilbert': 19,\n",
    "    'StoneBr': 22,\n",
    "    'ClearCr': 16,\n",
    "    'NPkVill': 8,\n",
    "    'Blmngtn': 12,\n",
    "    'BrDale': 3,\n",
    "    'SWISU': 6,\n",
    "    'Blueste': 7 \n",
    "})"
   ]
  },
  {
   "cell_type": "markdown",
   "id": "9ae6a1be",
   "metadata": {},
   "source": [
    "#### OverallQual"
   ]
  },
  {
   "cell_type": "code",
   "execution_count": null,
   "id": "906178de",
   "metadata": {},
   "outputs": [],
   "source": [
    "plt.scatter(train['OverallQual'], train['SalePrice'])"
   ]
  },
  {
   "cell_type": "markdown",
   "id": "9b54850e",
   "metadata": {},
   "source": [
    "#### OverallCond"
   ]
  },
  {
   "cell_type": "code",
   "execution_count": null,
   "id": "32a33d6b",
   "metadata": {},
   "outputs": [],
   "source": [
    "plt.scatter(train['OverallCond'], train['SalePrice'])"
   ]
  },
  {
   "cell_type": "markdown",
   "id": "b0d802e0",
   "metadata": {},
   "source": [
    "#### ExterQual"
   ]
  },
  {
   "cell_type": "code",
   "execution_count": null,
   "id": "57ce71b5",
   "metadata": {},
   "outputs": [],
   "source": [
    "plt.scatter(train['ExterQual'], train['SalePrice'])"
   ]
  },
  {
   "cell_type": "code",
   "execution_count": null,
   "id": "793cdb40",
   "metadata": {},
   "outputs": [],
   "source": [
    "# 'Po' --> 0 ('Poor quality')\n",
    "data['ExterQual'] = data['ExterQual'].map({\n",
    "    'Fa': 1,\n",
    "    'TA': 2,\n",
    "    'Gd': 3,\n",
    "    'Ex': 4\n",
    "})"
   ]
  },
  {
   "cell_type": "markdown",
   "id": "528da300",
   "metadata": {},
   "source": [
    "#### ExterCond"
   ]
  },
  {
   "cell_type": "code",
   "execution_count": null,
   "id": "eae61f67",
   "metadata": {},
   "outputs": [],
   "source": [
    "plt.scatter(train['ExterCond'], train['SalePrice'])"
   ]
  },
  {
   "cell_type": "code",
   "execution_count": null,
   "id": "f2336f2c",
   "metadata": {},
   "outputs": [],
   "source": [
    "data['ExterCond'] = data['ExterCond'].map({\n",
    "    'Po': 0,\n",
    "    'Fa': 1,\n",
    "    'TA': 2,\n",
    "    'Gd': 3,\n",
    "    'Ex': 4\n",
    "})"
   ]
  },
  {
   "cell_type": "markdown",
   "id": "c700b3ad",
   "metadata": {},
   "source": [
    "#### BsmtQual"
   ]
  },
  {
   "cell_type": "code",
   "execution_count": null,
   "id": "3b02942a",
   "metadata": {
    "scrolled": true
   },
   "outputs": [],
   "source": [
    "plt.scatter(train['BsmtQual'].fillna('NoBsmt'), train['SalePrice'])"
   ]
  },
  {
   "cell_type": "code",
   "execution_count": null,
   "id": "969054b1",
   "metadata": {},
   "outputs": [],
   "source": [
    "data['BsmtQual'].fillna('NoBsmt', inplace=True)"
   ]
  },
  {
   "cell_type": "code",
   "execution_count": null,
   "id": "9d8ce6c3",
   "metadata": {},
   "outputs": [],
   "source": [
    "data['BsmtQual'] = data['BsmtQual'].map({\n",
    "    'NoBsmt': 0,\n",
    "    'Fa': 1,\n",
    "    'TA': 2,\n",
    "    'Gd': 3,\n",
    "    'Ex': 4\n",
    "})"
   ]
  },
  {
   "cell_type": "markdown",
   "id": "ab1077b8",
   "metadata": {},
   "source": [
    "#### BsmtCond"
   ]
  },
  {
   "cell_type": "code",
   "execution_count": null,
   "id": "1ad2e9f9",
   "metadata": {},
   "outputs": [],
   "source": [
    "plt.scatter(train['BsmtCond'].fillna('NoBsmt'), train['SalePrice'])"
   ]
  },
  {
   "cell_type": "code",
   "execution_count": null,
   "id": "4c2a128b",
   "metadata": {},
   "outputs": [],
   "source": [
    "data['BsmtCond'].fillna('NoBsmt', inplace=True)"
   ]
  },
  {
   "cell_type": "code",
   "execution_count": null,
   "id": "49d2aab7",
   "metadata": {},
   "outputs": [],
   "source": [
    "data['BsmtCond'] = data['BsmtCond'].map({\n",
    "    'Po': 0,\n",
    "    'NoBsmt': 1,\n",
    "    'Fa': 2,\n",
    "    'TA': 3,\n",
    "    'Gd': 4,\n",
    "    'Ex': 5\n",
    "})"
   ]
  },
  {
   "cell_type": "markdown",
   "id": "6456d850",
   "metadata": {},
   "source": [
    "#### BsmtExposure"
   ]
  },
  {
   "cell_type": "code",
   "execution_count": null,
   "id": "bb613f8d",
   "metadata": {},
   "outputs": [],
   "source": [
    "plt.scatter(train['BsmtExposure'].fillna('NoBsmt'), train['SalePrice'])"
   ]
  },
  {
   "cell_type": "code",
   "execution_count": null,
   "id": "1af10908",
   "metadata": {},
   "outputs": [],
   "source": [
    "data['BsmtExposure'].fillna('NoBsmt', inplace=True)"
   ]
  },
  {
   "cell_type": "code",
   "execution_count": null,
   "id": "ac35c6ef",
   "metadata": {},
   "outputs": [],
   "source": [
    "data['BsmtExposure'] = data['BsmtExposure'].map({\n",
    "    'NoBsmt': 0,\n",
    "    'No': 1, \n",
    "    'Mn': 2,\n",
    "    'Av': 3,\n",
    "    'Gd': 4\n",
    "})"
   ]
  },
  {
   "cell_type": "markdown",
   "id": "33ec2f6e",
   "metadata": {},
   "source": [
    "#### BsmtFinType1"
   ]
  },
  {
   "cell_type": "code",
   "execution_count": null,
   "id": "5ac0b165",
   "metadata": {},
   "outputs": [],
   "source": [
    "plt.scatter(train['BsmtFinType1'].fillna('NoBsmt'), train['SalePrice'])"
   ]
  },
  {
   "cell_type": "code",
   "execution_count": null,
   "id": "71f89379",
   "metadata": {},
   "outputs": [],
   "source": [
    "data['BsmtFinType1'].fillna('NoBsmt', inplace=True)"
   ]
  },
  {
   "cell_type": "code",
   "execution_count": null,
   "id": "88542afe",
   "metadata": {},
   "outputs": [],
   "source": [
    "data['BsmtFinType1'] = data['BsmtFinType1'].map({\n",
    "    'NoBsmt': 0,\n",
    "    'Unf': 1,\n",
    "    'LwQ': 2,\n",
    "    'Rec': 3,\n",
    "    'BLQ': 4,\n",
    "    'ALQ': 5,\n",
    "    'GLQ': 6\n",
    "})"
   ]
  },
  {
   "cell_type": "markdown",
   "id": "f974bbf4",
   "metadata": {},
   "source": [
    "#### BsmtFinType2"
   ]
  },
  {
   "cell_type": "code",
   "execution_count": null,
   "id": "8d9704e4",
   "metadata": {},
   "outputs": [],
   "source": [
    "plt.scatter(train['BsmtFinType2'].fillna('NoBsmt'), train['SalePrice'])"
   ]
  },
  {
   "cell_type": "code",
   "execution_count": null,
   "id": "060ea8df",
   "metadata": {},
   "outputs": [],
   "source": [
    "data['BsmtFinType2'].fillna('NoBsmt', inplace=True)"
   ]
  },
  {
   "cell_type": "code",
   "execution_count": null,
   "id": "5e4ba8f0",
   "metadata": {},
   "outputs": [],
   "source": [
    "data['BsmtFinType2'] = data['BsmtFinType2'].map({\n",
    "    'NoBsmt': 0,\n",
    "    'Unf': 1,\n",
    "    'LwQ': 2,\n",
    "    'Rec': 3,\n",
    "    'BLQ': 4,\n",
    "    'ALQ': 5,\n",
    "    'GLQ': 6\n",
    "})"
   ]
  },
  {
   "cell_type": "markdown",
   "id": "0030533b",
   "metadata": {},
   "source": [
    "#### Heating"
   ]
  },
  {
   "cell_type": "code",
   "execution_count": null,
   "id": "6e94d925",
   "metadata": {},
   "outputs": [],
   "source": [
    "plt.scatter(train['Heating'], train['SalePrice'])"
   ]
  },
  {
   "cell_type": "code",
   "execution_count": null,
   "id": "78a95ff3",
   "metadata": {},
   "outputs": [],
   "source": [
    "data['Heating'].value_counts()"
   ]
  },
  {
   "cell_type": "code",
   "execution_count": null,
   "id": "d75a22f9",
   "metadata": {},
   "outputs": [],
   "source": [
    "data['Heating'] = data['Heating'].map({\n",
    "    'Floor': 0,\n",
    "    'Wall': 1,\n",
    "    'OthW': 2,\n",
    "    'Grav': 3,\n",
    "    'GasW': 10,\n",
    "    'GasA': 20\n",
    "})"
   ]
  },
  {
   "cell_type": "markdown",
   "id": "375c97c0",
   "metadata": {},
   "source": [
    "#### HeatingQC"
   ]
  },
  {
   "cell_type": "code",
   "execution_count": null,
   "id": "17f56b5f",
   "metadata": {},
   "outputs": [],
   "source": [
    "plt.scatter(train['HeatingQC'], train['SalePrice'])"
   ]
  },
  {
   "cell_type": "code",
   "execution_count": null,
   "id": "7ce4cf96",
   "metadata": {},
   "outputs": [],
   "source": [
    "data['HeatingQC'] = data['HeatingQC'].map({\n",
    "    'Po': 0,\n",
    "    'Fa': 1,\n",
    "    'TA': 2,\n",
    "    'Gd': 3,\n",
    "    'Ex': 4\n",
    "})"
   ]
  },
  {
   "cell_type": "markdown",
   "id": "7d68408f",
   "metadata": {},
   "source": [
    "#### CentralAir"
   ]
  },
  {
   "cell_type": "code",
   "execution_count": null,
   "id": "bfe31aae",
   "metadata": {},
   "outputs": [],
   "source": [
    "plt.scatter(train['CentralAir'], train['SalePrice'])"
   ]
  },
  {
   "cell_type": "code",
   "execution_count": null,
   "id": "424249d6",
   "metadata": {},
   "outputs": [],
   "source": [
    "data['CentralAir'] = data['CentralAir'].map({\n",
    "    'N': 0,\n",
    "    'Y': 1\n",
    "})"
   ]
  },
  {
   "cell_type": "markdown",
   "id": "c974833a",
   "metadata": {},
   "source": [
    "#### Electrical"
   ]
  },
  {
   "cell_type": "code",
   "execution_count": null,
   "id": "39b062f2",
   "metadata": {},
   "outputs": [],
   "source": [
    "plt.scatter(train['Electrical'].fillna('No'), train['SalePrice'])"
   ]
  },
  {
   "cell_type": "code",
   "execution_count": null,
   "id": "e23e68b9",
   "metadata": {},
   "outputs": [],
   "source": [
    "data['Electrical'].fillna('No', inplace=True)"
   ]
  },
  {
   "cell_type": "code",
   "execution_count": null,
   "id": "babaf11d",
   "metadata": {},
   "outputs": [],
   "source": [
    "data['Electrical'] = data['Electrical'].map({\n",
    "    'Mix': 0,\n",
    "    'FuseP': 1,\n",
    "    'FuseF': 2,\n",
    "    'FuseA': 3,\n",
    "    'No': 4,\n",
    "    'SBrkr': 5\n",
    "})"
   ]
  },
  {
   "cell_type": "markdown",
   "id": "234595c1",
   "metadata": {},
   "source": [
    "#### FullBath"
   ]
  },
  {
   "cell_type": "code",
   "execution_count": null,
   "id": "8064611c",
   "metadata": {},
   "outputs": [],
   "source": [
    "data['FullBath'].value_counts()"
   ]
  },
  {
   "cell_type": "code",
   "execution_count": null,
   "id": "3140e750",
   "metadata": {},
   "outputs": [],
   "source": [
    "data['FullBath'] = data['FullBath'].map({\n",
    "    0: 0,\n",
    "    1: 1,\n",
    "    2: 2,\n",
    "    3: 3,\n",
    "    4: 3\n",
    "})"
   ]
  },
  {
   "cell_type": "markdown",
   "id": "e039d527",
   "metadata": {},
   "source": [
    "#### BedroomAbvGr"
   ]
  },
  {
   "cell_type": "code",
   "execution_count": null,
   "id": "99bd99d9",
   "metadata": {},
   "outputs": [],
   "source": [
    "plt.scatter(train['BedroomAbvGr'], train['SalePrice'])"
   ]
  },
  {
   "cell_type": "code",
   "execution_count": null,
   "id": "6703a50e",
   "metadata": {},
   "outputs": [],
   "source": [
    "data['BedroomAbvGr'].replace({\n",
    "    5: 4,\n",
    "    6: 4,\n",
    "    8: 4\n",
    "}, inplace=True)"
   ]
  },
  {
   "cell_type": "markdown",
   "id": "4c53ec52",
   "metadata": {},
   "source": [
    "#### KitchenAbvGr"
   ]
  },
  {
   "cell_type": "code",
   "execution_count": null,
   "id": "d18888bf",
   "metadata": {},
   "outputs": [],
   "source": [
    "plt.scatter(train['KitchenAbvGr'], train['SalePrice'])"
   ]
  },
  {
   "cell_type": "code",
   "execution_count": null,
   "id": "fd3890b7",
   "metadata": {},
   "outputs": [],
   "source": [
    "train['KitchenAbvGr'].value_counts(), test['KitchenAbvGr'].value_counts()"
   ]
  },
  {
   "cell_type": "code",
   "execution_count": null,
   "id": "39b5ab40",
   "metadata": {},
   "outputs": [],
   "source": [
    "data['KitchenAbvGr'].replace({\n",
    "    1: 2,\n",
    "    2: 1,\n",
    "    3: 1\n",
    "}, inplace=True)"
   ]
  },
  {
   "cell_type": "markdown",
   "id": "e56fdfa5",
   "metadata": {},
   "source": [
    "#### KitchenQual"
   ]
  },
  {
   "cell_type": "code",
   "execution_count": null,
   "id": "9b28925e",
   "metadata": {},
   "outputs": [],
   "source": [
    "data['KitchenQual'].value_counts()"
   ]
  },
  {
   "cell_type": "code",
   "execution_count": null,
   "id": "1d0c8412",
   "metadata": {},
   "outputs": [],
   "source": [
    "data['KitchenQual'] = data['KitchenQual'].map({\n",
    "    'Fa': 1,\n",
    "    'TA': 2,\n",
    "    'Gd': 3,\n",
    "    'Ex': 4\n",
    "})"
   ]
  },
  {
   "cell_type": "markdown",
   "id": "d37ffb75",
   "metadata": {},
   "source": [
    "#### FireplaceQu"
   ]
  },
  {
   "cell_type": "code",
   "execution_count": null,
   "id": "f1f05e86",
   "metadata": {},
   "outputs": [],
   "source": [
    "plt.scatter(train['FireplaceQu'].fillna('NoFrp'), train['SalePrice'])"
   ]
  },
  {
   "cell_type": "code",
   "execution_count": null,
   "id": "e9e23677",
   "metadata": {},
   "outputs": [],
   "source": [
    "data['FireplaceQu'].fillna('NoFrp', inplace=True)"
   ]
  },
  {
   "cell_type": "code",
   "execution_count": null,
   "id": "7cf41b66",
   "metadata": {},
   "outputs": [],
   "source": [
    "data['FireplaceQu'] = data['FireplaceQu'].map({\n",
    "    'NoFrp': 0,\n",
    "    'Po': 1,\n",
    "    'Fa': 2,\n",
    "    'TA': 3,\n",
    "    'Gd': 4,\n",
    "    'Ex': 5\n",
    "})"
   ]
  },
  {
   "cell_type": "markdown",
   "id": "d8f317b8",
   "metadata": {},
   "source": [
    "#### GarageFinish"
   ]
  },
  {
   "cell_type": "code",
   "execution_count": null,
   "id": "4b80f92c",
   "metadata": {},
   "outputs": [],
   "source": [
    "plt.scatter(train['GarageFinish'].fillna('No'), train['SalePrice'])"
   ]
  },
  {
   "cell_type": "code",
   "execution_count": null,
   "id": "dde0420d",
   "metadata": {},
   "outputs": [],
   "source": [
    "data['GarageFinish'].fillna('No', inplace=True)"
   ]
  },
  {
   "cell_type": "code",
   "execution_count": null,
   "id": "2acd411c",
   "metadata": {},
   "outputs": [],
   "source": [
    "data['GarageFinish'] = data['GarageFinish'].map({\n",
    "    'No': 0,\n",
    "    'Unf': 1,\n",
    "    'RFn': 2,\n",
    "    'Fin': 3\n",
    "})"
   ]
  },
  {
   "cell_type": "markdown",
   "id": "33f0c0bd",
   "metadata": {},
   "source": [
    "#### GarageCars"
   ]
  },
  {
   "cell_type": "code",
   "execution_count": null,
   "id": "d31c0fe0",
   "metadata": {},
   "outputs": [],
   "source": [
    "data['GarageCars'].value_counts()"
   ]
  },
  {
   "cell_type": "code",
   "execution_count": null,
   "id": "72ed3502",
   "metadata": {},
   "outputs": [],
   "source": [
    "# outlier mask\n",
    "cars_outlier = data['GarageCars'] == 5"
   ]
  },
  {
   "cell_type": "code",
   "execution_count": null,
   "id": "922ec61a",
   "metadata": {},
   "outputs": [],
   "source": [
    "# handle outlier\n",
    "data['GarageCarsOutlier'] = np.zeros(data.shape[0])\n",
    "data.loc[cars_outlier, 'GarageCarsOutlier'] = 1"
   ]
  },
  {
   "cell_type": "code",
   "execution_count": null,
   "id": "617c5ea5",
   "metadata": {},
   "outputs": [],
   "source": [
    "data['GarageCars'] = data['GarageCars'].map({\n",
    "    0: 0,\n",
    "    1: 1,\n",
    "    2: 2,\n",
    "    3: 3,\n",
    "    4: 3,\n",
    "    5: 3\n",
    "})"
   ]
  },
  {
   "cell_type": "markdown",
   "id": "d99c1385",
   "metadata": {},
   "source": [
    "#### GarageQual"
   ]
  },
  {
   "cell_type": "code",
   "execution_count": null,
   "id": "f7918b8b",
   "metadata": {},
   "outputs": [],
   "source": [
    "plt.scatter(train['GarageQual'].fillna('No'), train['SalePrice'])"
   ]
  },
  {
   "cell_type": "code",
   "execution_count": null,
   "id": "f8d58a81",
   "metadata": {},
   "outputs": [],
   "source": [
    "data['GarageQual'].fillna('No', inplace=True)"
   ]
  },
  {
   "cell_type": "code",
   "execution_count": null,
   "id": "11eb4d59",
   "metadata": {},
   "outputs": [],
   "source": [
    "data['GarageQual'] = data['GarageQual'].map({\n",
    "    'Po': 0,\n",
    "    'No': 1,\n",
    "    'Fa': 2,\n",
    "    'TA': 3,\n",
    "    'Gd': 4,\n",
    "    'Ex': 5\n",
    "})"
   ]
  },
  {
   "cell_type": "markdown",
   "id": "0b73698f",
   "metadata": {},
   "source": [
    "#### GarageCond"
   ]
  },
  {
   "cell_type": "code",
   "execution_count": null,
   "id": "7660eb10",
   "metadata": {},
   "outputs": [],
   "source": [
    "plt.scatter(train['GarageCond'].fillna('No'), train['SalePrice'])"
   ]
  },
  {
   "cell_type": "code",
   "execution_count": null,
   "id": "6715cfa5",
   "metadata": {},
   "outputs": [],
   "source": [
    "data['GarageCond'].fillna('No', inplace=True)"
   ]
  },
  {
   "cell_type": "code",
   "execution_count": null,
   "id": "96ee7999",
   "metadata": {},
   "outputs": [],
   "source": [
    "data['GarageCond'] = data['GarageQual'].map({\n",
    "    'Po': 0,\n",
    "    'No': 1,\n",
    "    'Fa': 2,\n",
    "    'TA': 3,\n",
    "    'Gd': 4,\n",
    "    'Ex': 5\n",
    "})"
   ]
  },
  {
   "cell_type": "markdown",
   "id": "a751f746",
   "metadata": {},
   "source": [
    "#### PavedDrive"
   ]
  },
  {
   "cell_type": "code",
   "execution_count": null,
   "id": "b67f1345",
   "metadata": {},
   "outputs": [],
   "source": [
    "plt.scatter(train['PavedDrive'], train['SalePrice'])"
   ]
  },
  {
   "cell_type": "code",
   "execution_count": null,
   "id": "0dbe729d",
   "metadata": {},
   "outputs": [],
   "source": [
    "data['PavedDrive'] = data['PavedDrive'].map({\n",
    "    'N': 0,\n",
    "    'P': 1,\n",
    "    'Y': 2\n",
    "})"
   ]
  },
  {
   "cell_type": "markdown",
   "id": "76a5f327",
   "metadata": {},
   "source": [
    "#### MiscFeature"
   ]
  },
  {
   "cell_type": "code",
   "execution_count": null,
   "id": "73a047f9",
   "metadata": {},
   "outputs": [],
   "source": [
    "plt.scatter(train['MiscFeature'].fillna('No'), train['SalePrice'])"
   ]
  },
  {
   "cell_type": "code",
   "execution_count": null,
   "id": "166966cb",
   "metadata": {},
   "outputs": [],
   "source": [
    "data['MiscFeature'].fillna('No', inplace=True)"
   ]
  },
  {
   "cell_type": "code",
   "execution_count": null,
   "id": "dae8512b",
   "metadata": {},
   "outputs": [],
   "source": [
    "data['MiscFeature'].unique()"
   ]
  },
  {
   "cell_type": "code",
   "execution_count": null,
   "id": "ac5a62ed",
   "metadata": {},
   "outputs": [],
   "source": [
    "data['MiscFeature'] = data['MiscFeature'].map({\n",
    "    'Shed': 0,\n",
    "    'Gar2': 0,\n",
    "    'Othr': 0,\n",
    "    'TenC': 0,\n",
    "    'No': 1,\n",
    "})"
   ]
  },
  {
   "cell_type": "code",
   "execution_count": null,
   "id": "50458480",
   "metadata": {},
   "outputs": [],
   "source": []
  }
 ],
 "metadata": {
  "kernelspec": {
   "display_name": "Python 3",
   "language": "python",
   "name": "python3"
  },
  "language_info": {
   "codemirror_mode": {
    "name": "ipython",
    "version": 3
   },
   "file_extension": ".py",
   "mimetype": "text/x-python",
   "name": "python",
   "nbconvert_exporter": "python",
   "pygments_lexer": "ipython3",
   "version": "3.7.9"
  }
 },
 "nbformat": 4,
 "nbformat_minor": 5
}
