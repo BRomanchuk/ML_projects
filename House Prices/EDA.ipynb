{
 "cells": [
  {
   "cell_type": "markdown",
   "id": "f7d9b2c8",
   "metadata": {},
   "source": [
    "# EDA [House Prices]"
   ]
  },
  {
   "cell_type": "code",
   "execution_count": 1,
   "id": "7c44a4ff",
   "metadata": {},
   "outputs": [],
   "source": [
    "import numpy as np\n",
    "import pandas as pd\n",
    "import matplotlib.pyplot as plt\n",
    "import seaborn as sns\n",
    "%matplotlib inline"
   ]
  },
  {
   "cell_type": "code",
   "execution_count": 2,
   "id": "ad517c8a",
   "metadata": {},
   "outputs": [],
   "source": [
    "train = pd.read_csv('./data/train.csv', index_col='Id')\n",
    "test = pd.read_csv('./data/test.csv', index_col='Id')\n",
    "\n",
    "data = pd.concat([train, test])"
   ]
  },
  {
   "cell_type": "markdown",
   "id": "1383be10",
   "metadata": {},
   "source": [
    "## Numeric features"
   ]
  },
  {
   "cell_type": "markdown",
   "id": "3ac8e289",
   "metadata": {},
   "source": [
    "#### LotFrontage"
   ]
  },
  {
   "cell_type": "code",
   "execution_count": 3,
   "id": "c02e5577",
   "metadata": {},
   "outputs": [
    {
     "data": {
      "text/plain": [
       "486"
      ]
     },
     "execution_count": 3,
     "metadata": {},
     "output_type": "execute_result"
    }
   ],
   "source": [
    "data['LotFrontage'].isnull().sum()"
   ]
  },
  {
   "cell_type": "code",
   "execution_count": 4,
   "id": "e0b66824",
   "metadata": {},
   "outputs": [
    {
     "data": {
      "text/plain": [
       "(Id\n",
       " 1299    313.0\n",
       " 935     313.0\n",
       " 1128    182.0\n",
       " 232     174.0\n",
       " 198     174.0\n",
       " Name: LotFrontage, dtype: float64,\n",
       " Id\n",
       " 2600    200.0\n",
       " 2265    195.0\n",
       " 2917    160.0\n",
       " 2260    160.0\n",
       " 2514    155.0\n",
       " Name: LotFrontage, dtype: float64)"
      ]
     },
     "execution_count": 4,
     "metadata": {},
     "output_type": "execute_result"
    }
   ],
   "source": [
    "train['LotFrontage'].sort_values(ascending=False).head(5), test['LotFrontage'].sort_values(ascending=False).head(5)"
   ]
  },
  {
   "cell_type": "code",
   "execution_count": 5,
   "id": "2ce0ee68",
   "metadata": {},
   "outputs": [],
   "source": [
    "front_outliers = (data['LotFrontage'] > 300)\n",
    "data.drop(data.loc[front_outliers].index, inplace=True)"
   ]
  },
  {
   "cell_type": "code",
   "execution_count": 6,
   "id": "9d388d9c",
   "metadata": {},
   "outputs": [],
   "source": [
    "# fill NaNs\n",
    "data['LotFrontage'].fillna(data['LotFrontage'].mean(), inplace=True)"
   ]
  },
  {
   "cell_type": "markdown",
   "id": "a1ae05b0",
   "metadata": {},
   "source": [
    "#### LotArea"
   ]
  },
  {
   "cell_type": "code",
   "execution_count": 7,
   "id": "dfcc044a",
   "metadata": {},
   "outputs": [
    {
     "data": {
      "text/plain": [
       "0"
      ]
     },
     "execution_count": 7,
     "metadata": {},
     "output_type": "execute_result"
    }
   ],
   "source": [
    "data['LotArea'].isnull().sum()"
   ]
  },
  {
   "cell_type": "code",
   "execution_count": 8,
   "id": "6239d4b0",
   "metadata": {},
   "outputs": [
    {
     "data": {
      "text/plain": [
       "(Id\n",
       " 314    215245\n",
       " 336    164660\n",
       " 250    159000\n",
       " 707    115149\n",
       " 452     70761\n",
       " Name: LotArea, dtype: int64,\n",
       " Id\n",
       " 2251    56600\n",
       " 2264    51974\n",
       " 2901    50102\n",
       " 1948    47280\n",
       " 2189    47007\n",
       " Name: LotArea, dtype: int64)"
      ]
     },
     "execution_count": 8,
     "metadata": {},
     "output_type": "execute_result"
    }
   ],
   "source": [
    "train['LotArea'].sort_values(ascending=False).head(5), test['LotArea'].sort_values(ascending=False).head(5)"
   ]
  },
  {
   "cell_type": "code",
   "execution_count": 9,
   "id": "6deba847",
   "metadata": {},
   "outputs": [],
   "source": [
    "area_outliers = (data['LotArea'] > 100000)\n",
    "data.drop(data.loc[area_outliers].index, inplace=True)"
   ]
  },
  {
   "cell_type": "markdown",
   "id": "023f39ae",
   "metadata": {},
   "source": [
    "#### BsmtFinSF1"
   ]
  },
  {
   "cell_type": "code",
   "execution_count": 10,
   "id": "6ab01bad",
   "metadata": {},
   "outputs": [
    {
     "data": {
      "text/plain": [
       "1"
      ]
     },
     "execution_count": 10,
     "metadata": {},
     "output_type": "execute_result"
    }
   ],
   "source": [
    "data['BsmtFinSF1'].isnull().sum()"
   ]
  },
  {
   "cell_type": "code",
   "execution_count": 11,
   "id": "19c4f2b8",
   "metadata": {},
   "outputs": [
    {
     "data": {
      "text/plain": [
       "(Id\n",
       " 1299    5644\n",
       " 524     2260\n",
       " 899     2188\n",
       " 1183    2096\n",
       " 179     1904\n",
       " Name: BsmtFinSF1, dtype: int64,\n",
       " Id\n",
       " 2550    4010.0\n",
       " 1664    2288.0\n",
       " 1975    2257.0\n",
       " 1706    2158.0\n",
       " 1678    2146.0\n",
       " Name: BsmtFinSF1, dtype: float64)"
      ]
     },
     "execution_count": 11,
     "metadata": {},
     "output_type": "execute_result"
    }
   ],
   "source": [
    "# BsmtFinSF1\n",
    "train['BsmtFinSF1'].sort_values(ascending=False).head(5), test['BsmtFinSF1'].sort_values(ascending=False).head(5)"
   ]
  },
  {
   "cell_type": "code",
   "execution_count": 12,
   "id": "57ee10c4",
   "metadata": {},
   "outputs": [],
   "source": [
    "bsmt1_outliers = (data['BsmtFinSF1'] > 3000)\n",
    "data['BsmtFinSF1_Outliers'] = np.zeros(data.shape[0])\n",
    "data.loc[bsmt1_outliers, 'BsmtFinSF1_Outliers'] = 100"
   ]
  },
  {
   "cell_type": "code",
   "execution_count": 13,
   "id": "05d8218e",
   "metadata": {},
   "outputs": [],
   "source": [
    "# fill NaNs\n",
    "data['BsmtFinSF1'].fillna(data['BsmtFinSF1'].mean(), inplace=True)\n",
    "data['BsmtFinSF2'].fillna(data['BsmtFinSF2'].mean(), inplace=True)"
   ]
  },
  {
   "cell_type": "markdown",
   "id": "2d3f96e4",
   "metadata": {},
   "source": [
    "#### TotalBsmtSF"
   ]
  },
  {
   "cell_type": "code",
   "execution_count": 14,
   "id": "cf4237b8",
   "metadata": {},
   "outputs": [
    {
     "data": {
      "text/plain": [
       "1"
      ]
     },
     "execution_count": 14,
     "metadata": {},
     "output_type": "execute_result"
    }
   ],
   "source": [
    "data['TotalBsmtSF'].isnull().sum()"
   ]
  },
  {
   "cell_type": "code",
   "execution_count": 15,
   "id": "09ee199c",
   "metadata": {},
   "outputs": [
    {
     "data": {
      "text/plain": [
       "(Id\n",
       " 1299    6110\n",
       " 333     3206\n",
       " 497     3200\n",
       " 524     3138\n",
       " 441     3094\n",
       " Name: TotalBsmtSF, dtype: int64,\n",
       " Id\n",
       " 2550    5095.0\n",
       " 1480    2846.0\n",
       " 2264    2660.0\n",
       " 1664    2630.0\n",
       " 2293    2552.0\n",
       " Name: TotalBsmtSF, dtype: float64)"
      ]
     },
     "execution_count": 15,
     "metadata": {},
     "output_type": "execute_result"
    }
   ],
   "source": [
    "# TotalBsmtSF\n",
    "train['TotalBsmtSF'].sort_values(ascending=False).head(5), test['TotalBsmtSF'].sort_values(ascending=False).head(5)"
   ]
  },
  {
   "cell_type": "code",
   "execution_count": 16,
   "id": "2e3fd8a5",
   "metadata": {},
   "outputs": [],
   "source": [
    "bsmt_tot_outliers = (data['TotalBsmtSF'] > 4000)\n",
    "data['TotalBsmtSF_Outliers'] = np.zeros(data.shape[0])\n",
    "data.loc[bsmt_tot_outliers, 'TotalBsmtSF_Outliers'] = 100"
   ]
  },
  {
   "cell_type": "code",
   "execution_count": 17,
   "id": "23abef24",
   "metadata": {},
   "outputs": [],
   "source": [
    "# fill NaNs \n",
    "data['TotalBsmtSF'].fillna(data['TotalBsmtSF'].mean(), inplace=True)"
   ]
  },
  {
   "cell_type": "markdown",
   "id": "b2ae7890",
   "metadata": {},
   "source": [
    "#### 1stFlrSF"
   ]
  },
  {
   "cell_type": "code",
   "execution_count": 18,
   "id": "c080bc28",
   "metadata": {},
   "outputs": [
    {
     "data": {
      "text/plain": [
       "0"
      ]
     },
     "execution_count": 18,
     "metadata": {},
     "output_type": "execute_result"
    }
   ],
   "source": [
    "data['1stFlrSF'].isnull().sum()"
   ]
  },
  {
   "cell_type": "code",
   "execution_count": 19,
   "id": "92f98a7c",
   "metadata": {},
   "outputs": [
    {
     "data": {
      "text/plain": [
       "(Id\n",
       " 1299    4692\n",
       " 497     3228\n",
       " 524     3138\n",
       " 1025    2898\n",
       " 1374    2633\n",
       " Name: 1stFlrSF, dtype: int64,\n",
       " Id\n",
       " 2550    5095\n",
       " 2189    3820\n",
       " 2574    2726\n",
       " 1480    2696\n",
       " 1664    2674\n",
       " Name: 1stFlrSF, dtype: int64)"
      ]
     },
     "execution_count": 19,
     "metadata": {},
     "output_type": "execute_result"
    }
   ],
   "source": [
    "# 1stFlrSF\n",
    "train['1stFlrSF'].sort_values(ascending=False).head(5), test['1stFlrSF'].sort_values(ascending=False).head(5)"
   ]
  },
  {
   "cell_type": "code",
   "execution_count": 20,
   "id": "f109ceda",
   "metadata": {},
   "outputs": [],
   "source": [
    "f_flr_outliers = (data['1stFlrSF'] > 4000)\n",
    "data['1stFlrSF_Outliers'] = np.zeros(data.shape[0])\n",
    "data.loc[f_flr_outliers, '1stFlrSF_Outliers'] = 100"
   ]
  },
  {
   "cell_type": "markdown",
   "id": "24bc4233",
   "metadata": {},
   "source": [
    "#### GrLivArea"
   ]
  },
  {
   "cell_type": "code",
   "execution_count": 21,
   "id": "dd7bc5e6",
   "metadata": {},
   "outputs": [
    {
     "data": {
      "text/plain": [
       "0"
      ]
     },
     "execution_count": 21,
     "metadata": {},
     "output_type": "execute_result"
    }
   ],
   "source": [
    "data['GrLivArea'].isnull().sum()"
   ]
  },
  {
   "cell_type": "code",
   "execution_count": 22,
   "id": "cf435149",
   "metadata": {
    "scrolled": true
   },
   "outputs": [
    {
     "data": {
      "text/plain": [
       "(Id\n",
       " 1299    5642\n",
       " 524     4676\n",
       " 1183    4476\n",
       " 692     4316\n",
       " 1170    3627\n",
       " Name: GrLivArea, dtype: int64,\n",
       " Id\n",
       " 2550    5095\n",
       " 2189    3820\n",
       " 2823    3672\n",
       " 2683    3500\n",
       " 2629    3390\n",
       " Name: GrLivArea, dtype: int64)"
      ]
     },
     "execution_count": 22,
     "metadata": {},
     "output_type": "execute_result"
    }
   ],
   "source": [
    "# GrLivArea\n",
    "train['GrLivArea'].sort_values(ascending=False).head(5), test['GrLivArea'].sort_values(ascending=False).head(5)"
   ]
  },
  {
   "cell_type": "code",
   "execution_count": 23,
   "id": "3c77be4f",
   "metadata": {},
   "outputs": [],
   "source": [
    "main_outliers = (data['GrLivArea'] > 4500)\n",
    "data['GrLivArea_Outliers'] = np.zeros(data.shape[0])\n",
    "data.loc[main_outliers, 'GrLivArea_Outliers'] = 100"
   ]
  },
  {
   "cell_type": "markdown",
   "id": "46564d85",
   "metadata": {},
   "source": [
    "#### GarageYrBlt"
   ]
  },
  {
   "cell_type": "code",
   "execution_count": 24,
   "id": "4e8c7b71",
   "metadata": {},
   "outputs": [
    {
     "data": {
      "text/plain": [
       "159"
      ]
     },
     "execution_count": 24,
     "metadata": {},
     "output_type": "execute_result"
    }
   ],
   "source": [
    "data['GarageYrBlt'].isnull().sum()"
   ]
  },
  {
   "cell_type": "code",
   "execution_count": 25,
   "id": "37967a8d",
   "metadata": {},
   "outputs": [
    {
     "data": {
      "text/plain": [
       "(Id\n",
       " 379    2010.0\n",
       " 988    2010.0\n",
       " 820    2010.0\n",
       " 582    2009.0\n",
       " 158    2009.0\n",
       " Name: GarageYrBlt, dtype: float64,\n",
       " Id\n",
       " 2593    2207.0\n",
       " 1609    2010.0\n",
       " 1503    2010.0\n",
       " 1712    2009.0\n",
       " 1662    2009.0\n",
       " Name: GarageYrBlt, dtype: float64)"
      ]
     },
     "execution_count": 25,
     "metadata": {},
     "output_type": "execute_result"
    }
   ],
   "source": [
    "# GarageYrBlt\n",
    "train['GarageYrBlt'].sort_values(ascending=False).head(5), test['GarageYrBlt'].sort_values(ascending=False).head(5)"
   ]
  },
  {
   "cell_type": "code",
   "execution_count": 26,
   "id": "6550fff7",
   "metadata": {},
   "outputs": [],
   "source": [
    "garage_year_outlier = data['GarageYrBlt'] > 2010\n",
    "data.loc[garage_year_outlier, 'GarageYrBlt'] = 2007"
   ]
  },
  {
   "cell_type": "code",
   "execution_count": 27,
   "id": "4a5afa7a",
   "metadata": {},
   "outputs": [],
   "source": [
    "grg_yr_nans = data['GarageYrBlt'].isnull()\n",
    "\n",
    "# add NaN indicators\n",
    "data['GarageYrBltNaNs'] = np.zeros(data.shape[0])\n",
    "data.loc[grg_yr_nans, 'GarageYrBltNaNs'] = 1\n",
    "\n",
    "# fill NaNs\n",
    "data['GarageYrBlt'].fillna(data['GarageYrBlt'].mean(), inplace=True)"
   ]
  },
  {
   "cell_type": "markdown",
   "id": "2e9a73a0",
   "metadata": {},
   "source": [
    "#### WoodDeckSF"
   ]
  },
  {
   "cell_type": "code",
   "execution_count": 28,
   "id": "21b42dda",
   "metadata": {},
   "outputs": [
    {
     "data": {
      "text/plain": [
       "0"
      ]
     },
     "execution_count": 28,
     "metadata": {},
     "output_type": "execute_result"
    }
   ],
   "source": [
    "data['WoodDeckSF'].isnull().sum()"
   ]
  },
  {
   "cell_type": "code",
   "execution_count": 29,
   "id": "140de2e9",
   "metadata": {},
   "outputs": [
    {
     "data": {
      "text/plain": [
       "(Id\n",
       " 54      857\n",
       " 1460    736\n",
       " 1069    728\n",
       " 336     670\n",
       " 1314    668\n",
       " Name: WoodDeckSF, dtype: int64,\n",
       " Id\n",
       " 2607    1424\n",
       " 2683     870\n",
       " 2608     690\n",
       " 2823     684\n",
       " 1530     657\n",
       " Name: WoodDeckSF, dtype: int64)"
      ]
     },
     "execution_count": 29,
     "metadata": {},
     "output_type": "execute_result"
    }
   ],
   "source": [
    "# WoodDeckSF\n",
    "train['WoodDeckSF'].sort_values(ascending=False).head(5), test['WoodDeckSF'].sort_values(ascending=False).head(5)"
   ]
  },
  {
   "cell_type": "code",
   "execution_count": 30,
   "id": "5a9c7667",
   "metadata": {},
   "outputs": [],
   "source": [
    "wood_deck_outliers = (data['WoodDeckSF'] > 1000)\n",
    "data['WoodDeckSF_Outliers'] = np.zeros(data.shape[0])\n",
    "data.loc[wood_deck_outliers, 'WoodDeckSF_Outliers'] = 100"
   ]
  },
  {
   "cell_type": "markdown",
   "id": "2fc49ae0",
   "metadata": {},
   "source": [
    "#### EnclosedPorch"
   ]
  },
  {
   "cell_type": "code",
   "execution_count": 31,
   "id": "913788ea",
   "metadata": {},
   "outputs": [
    {
     "data": {
      "text/plain": [
       "0"
      ]
     },
     "execution_count": 31,
     "metadata": {},
     "output_type": "execute_result"
    }
   ],
   "source": [
    "data['EnclosedPorch'].isnull().sum()"
   ]
  },
  {
   "cell_type": "code",
   "execution_count": 32,
   "id": "aeee97b2",
   "metadata": {},
   "outputs": [
    {
     "data": {
      "text/plain": [
       "(Id\n",
       " 198     552\n",
       " 748     386\n",
       " 1198    330\n",
       " 940     318\n",
       " 1361    301\n",
       " Name: EnclosedPorch, dtype: int64,\n",
       " Id\n",
       " 2504    1012\n",
       " 2568     584\n",
       " 1786     432\n",
       " 2881     429\n",
       " 1933     368\n",
       " Name: EnclosedPorch, dtype: int64)"
      ]
     },
     "execution_count": 32,
     "metadata": {},
     "output_type": "execute_result"
    }
   ],
   "source": [
    "# EnclosedPorch\n",
    "train['EnclosedPorch'].sort_values(ascending=False).head(5), test['EnclosedPorch'].sort_values(ascending=False).head(5)"
   ]
  },
  {
   "cell_type": "code",
   "execution_count": 33,
   "id": "afb96f92",
   "metadata": {},
   "outputs": [],
   "source": [
    "enc_porch_outliers = (data['EnclosedPorch'] > 1000)\n",
    "data['EnclosedPorch_Outliers'] = np.zeros(data.shape[0])\n",
    "data.loc[enc_porch_outliers, 'EnclosedPorch_Outliers'] = 100"
   ]
  },
  {
   "cell_type": "markdown",
   "id": "8defc2c3",
   "metadata": {},
   "source": [
    "## Ordinal features\n"
   ]
  },
  {
   "cell_type": "markdown",
   "id": "284d697b",
   "metadata": {},
   "source": [
    "#### MSZoning"
   ]
  },
  {
   "cell_type": "code",
   "execution_count": 34,
   "id": "f692e1d4",
   "metadata": {},
   "outputs": [
    {
     "data": {
      "text/plain": [
       "(4,\n",
       " RL         2259\n",
       " RM          460\n",
       " FV          139\n",
       " RH           26\n",
       " C (all)      25\n",
       " Name: MSZoning, dtype: int64)"
      ]
     },
     "execution_count": 34,
     "metadata": {},
     "output_type": "execute_result"
    }
   ],
   "source": [
    "data['MSZoning'].isnull().sum(), data['MSZoning'].value_counts()"
   ]
  },
  {
   "cell_type": "code",
   "execution_count": 35,
   "id": "075a2332",
   "metadata": {},
   "outputs": [
    {
     "data": {
      "text/plain": [
       "<matplotlib.collections.PathCollection at 0x12e1f25e608>"
      ]
     },
     "execution_count": 35,
     "metadata": {},
     "output_type": "execute_result"
    },
    {
     "data": {
      "image/png": "[encoded data removed]",
      "text/plain": [
       "<Figure size 432x288 with 1 Axes>"
      ]
     },
     "metadata": {
      "needs_background": "light"
     },
     "output_type": "display_data"
    }
   ],
   "source": [
    "plt.scatter(train['MSZoning'].fillna(train['MSZoning'].mode()), train['SalePrice'])"
   ]
  },
  {
   "cell_type": "code",
   "execution_count": 36,
   "id": "85788cd1",
   "metadata": {},
   "outputs": [],
   "source": [
    "# fill NaNs\n",
    "data['MSZoning'].fillna(data['MSZoning'].mode()[0], inplace=True)"
   ]
  },
  {
   "cell_type": "code",
   "execution_count": 37,
   "id": "7e539a60",
   "metadata": {},
   "outputs": [],
   "source": [
    "data['MSZoning'] = data['MSZoning'].map({\n",
    "    'C (all)': 0,\n",
    "    'RH': 1,\n",
    "    'RM': 2,\n",
    "    'FV': 3,\n",
    "    'RL': 4,\n",
    "})"
   ]
  },
  {
   "cell_type": "code",
   "execution_count": 38,
   "id": "15f74b16",
   "metadata": {},
   "outputs": [
    {
     "data": {
      "text/plain": [
       "0"
      ]
     },
     "execution_count": 38,
     "metadata": {},
     "output_type": "execute_result"
    }
   ],
   "source": [
    "data['MSZoning'].isnull().sum()"
   ]
  },
  {
   "cell_type": "markdown",
   "id": "97eed9c5",
   "metadata": {},
   "source": [
    "#### Street"
   ]
  },
  {
   "cell_type": "code",
   "execution_count": 39,
   "id": "b6fc13c3",
   "metadata": {},
   "outputs": [
    {
     "data": {
      "text/plain": [
       "0"
      ]
     },
     "execution_count": 39,
     "metadata": {},
     "output_type": "execute_result"
    }
   ],
   "source": [
    "data['Street'].isnull().sum()"
   ]
  },
  {
   "cell_type": "code",
   "execution_count": 40,
   "id": "dc2d677c",
   "metadata": {},
   "outputs": [
    {
     "data": {
      "text/plain": [
       "<matplotlib.collections.PathCollection at 0x12e2138e948>"
      ]
     },
     "execution_count": 40,
     "metadata": {},
     "output_type": "execute_result"
    },
    {
     "data": {
      "image/png": "[encoded data removed]",
      "text/plain": [
       "<Figure size 432x288 with 1 Axes>"
      ]
     },
     "metadata": {
      "needs_background": "light"
     },
     "output_type": "display_data"
    }
   ],
   "source": [
    "plt.scatter(train['Street'], train['SalePrice'])"
   ]
  },
  {
   "cell_type": "code",
   "execution_count": 41,
   "id": "4e437001",
   "metadata": {},
   "outputs": [],
   "source": [
    "data['Street'] = data['Street'].map({\n",
    "    'Grvl': 0,\n",
    "    'Pave': 1\n",
    "})"
   ]
  },
  {
   "cell_type": "markdown",
   "id": "ab76d0d6",
   "metadata": {},
   "source": [
    "#### Alley"
   ]
  },
  {
   "cell_type": "code",
   "execution_count": 42,
   "id": "44fb4e0a",
   "metadata": {},
   "outputs": [
    {
     "data": {
      "text/plain": [
       "<matplotlib.collections.PathCollection at 0x12e2138a148>"
      ]
     },
     "execution_count": 42,
     "metadata": {},
     "output_type": "execute_result"
    },
    {
     "data": {
      "image/png": "[encoded data removed]",
      "text/plain": [
       "<Figure size 432x288 with 1 Axes>"
      ]
     },
     "metadata": {
      "needs_background": "light"
     },
     "output_type": "display_data"
    }
   ],
   "source": [
    "# Alley\n",
    "plt.scatter(train['Alley'].fillna('No'), train['SalePrice'])"
   ]
  },
  {
   "cell_type": "code",
   "execution_count": 43,
   "id": "c1f6b3f6",
   "metadata": {},
   "outputs": [],
   "source": [
    "data['Alley'].fillna('No', inplace=True)"
   ]
  },
  {
   "cell_type": "code",
   "execution_count": 44,
   "id": "80e98e68",
   "metadata": {},
   "outputs": [],
   "source": [
    "data['Alley'] = data['Alley'].map({\n",
    "    'Grvl': 0,\n",
    "    'Pave': 1,\n",
    "    'No': 2\n",
    "})"
   ]
  },
  {
   "cell_type": "markdown",
   "id": "18a3052d",
   "metadata": {},
   "source": [
    "#### LotShape"
   ]
  },
  {
   "cell_type": "code",
   "execution_count": 45,
   "id": "ca3c7ebc",
   "metadata": {},
   "outputs": [
    {
     "data": {
      "text/plain": [
       "0"
      ]
     },
     "execution_count": 45,
     "metadata": {},
     "output_type": "execute_result"
    }
   ],
   "source": [
    "data['LotShape'].isnull().sum()"
   ]
  },
  {
   "cell_type": "code",
   "execution_count": 46,
   "id": "cc0ad490",
   "metadata": {},
   "outputs": [
    {
     "data": {
      "text/plain": [
       "<matplotlib.collections.PathCollection at 0x12e21486e48>"
      ]
     },
     "execution_count": 46,
     "metadata": {},
     "output_type": "execute_result"
    },
    {
     "data": {
      "image/png": "[encoded data removed]",
      "text/plain": [
       "<Figure size 432x288 with 1 Axes>"
      ]
     },
     "metadata": {
      "needs_background": "light"
     },
     "output_type": "display_data"
    }
   ],
   "source": [
    "plt.scatter(train['LotShape'], train['SalePrice'])"
   ]
  },
  {
   "cell_type": "code",
   "execution_count": 47,
   "id": "895742fd",
   "metadata": {},
   "outputs": [],
   "source": [
    "data['LotShape'] = data['LotShape'].map({\n",
    "    'IR3': 0,\n",
    "    'IR2': 1,\n",
    "    'Reg': 2,\n",
    "    'IR1': 3\n",
    "})"
   ]
  },
  {
   "cell_type": "markdown",
   "id": "1c24b644",
   "metadata": {},
   "source": [
    "#### LandContour"
   ]
  },
  {
   "cell_type": "code",
   "execution_count": 48,
   "id": "790db09e",
   "metadata": {},
   "outputs": [
    {
     "data": {
      "text/plain": [
       "0"
      ]
     },
     "execution_count": 48,
     "metadata": {},
     "output_type": "execute_result"
    }
   ],
   "source": [
    "data['LandContour'].isnull().sum()"
   ]
  },
  {
   "cell_type": "code",
   "execution_count": 49,
   "id": "93d782e7",
   "metadata": {},
   "outputs": [
    {
     "data": {
      "text/plain": [
       "<matplotlib.collections.PathCollection at 0x12e21545448>"
      ]
     },
     "execution_count": 49,
     "metadata": {},
     "output_type": "execute_result"
    },
    {
     "data": {
      "image/png": "[encoded data removed]",
      "text/plain": [
       "<Figure size 432x288 with 1 Axes>"
      ]
     },
     "metadata": {
      "needs_background": "light"
     },
     "output_type": "display_data"
    }
   ],
   "source": [
    "plt.scatter(train['LandContour'], train['SalePrice'])"
   ]
  },
  {
   "cell_type": "code",
   "execution_count": 50,
   "id": "761b704c",
   "metadata": {},
   "outputs": [],
   "source": [
    "data['LandContour'] = data['LandContour'].map({\n",
    "    'Bnk': 0,\n",
    "    'Low': 1,\n",
    "    'HLS': 2,\n",
    "    'Lvl': 3\n",
    "})"
   ]
  },
  {
   "cell_type": "markdown",
   "id": "93b99d0d",
   "metadata": {},
   "source": [
    "#### Utilities"
   ]
  },
  {
   "cell_type": "code",
   "execution_count": 51,
   "id": "6371bb61",
   "metadata": {},
   "outputs": [
    {
     "data": {
      "text/plain": [
       "2"
      ]
     },
     "execution_count": 51,
     "metadata": {},
     "output_type": "execute_result"
    }
   ],
   "source": [
    "data['Utilities'].isnull().sum()"
   ]
  },
  {
   "cell_type": "code",
   "execution_count": 52,
   "id": "56b5643c",
   "metadata": {},
   "outputs": [],
   "source": [
    "data['Utilities'].fillna(data['Utilities'].mode()[0], inplace=True)"
   ]
  },
  {
   "cell_type": "code",
   "execution_count": 53,
   "id": "ab093554",
   "metadata": {},
   "outputs": [
    {
     "data": {
      "text/plain": [
       "<matplotlib.collections.PathCollection at 0x12e1f1e8908>"
      ]
     },
     "execution_count": 53,
     "metadata": {},
     "output_type": "execute_result"
    },
    {
     "data": {
      "image/png": "[encoded data removed]",
      "text/plain": [
       "<Figure size 432x288 with 1 Axes>"
      ]
     },
     "metadata": {
      "needs_background": "light"
     },
     "output_type": "display_data"
    }
   ],
   "source": [
    "plt.scatter(train['Utilities'], train['SalePrice'])"
   ]
  },
  {
   "cell_type": "code",
   "execution_count": 54,
   "id": "0617145e",
   "metadata": {},
   "outputs": [
    {
     "data": {
      "text/plain": [
       "array(['AllPub', 'NoSeWa'], dtype=object)"
      ]
     },
     "execution_count": 54,
     "metadata": {},
     "output_type": "execute_result"
    }
   ],
   "source": [
    "data['Utilities'].unique()"
   ]
  },
  {
   "cell_type": "code",
   "execution_count": 55,
   "id": "457a74fa",
   "metadata": {},
   "outputs": [],
   "source": [
    "data['Utilities'] = data['Utilities'].fillna('NoSeWa').map({\n",
    "    'AllPub': 1,\n",
    "    'NoSeWa': 0\n",
    "})"
   ]
  },
  {
   "cell_type": "markdown",
   "id": "6b903dbf",
   "metadata": {},
   "source": [
    "#### LotConfig"
   ]
  },
  {
   "cell_type": "code",
   "execution_count": 56,
   "id": "8c491b41",
   "metadata": {},
   "outputs": [
    {
     "data": {
      "text/plain": [
       "0"
      ]
     },
     "execution_count": 56,
     "metadata": {},
     "output_type": "execute_result"
    }
   ],
   "source": [
    "data['LotConfig'].isnull().sum()"
   ]
  },
  {
   "cell_type": "code",
   "execution_count": 57,
   "id": "440cfb32",
   "metadata": {},
   "outputs": [
    {
     "data": {
      "text/plain": [
       "<matplotlib.collections.PathCollection at 0x12e215ea908>"
      ]
     },
     "execution_count": 57,
     "metadata": {},
     "output_type": "execute_result"
    },
    {
     "data": {
      "image/png": "[encoded data removed]",
      "text/plain": [
       "<Figure size 432x288 with 1 Axes>"
      ]
     },
     "metadata": {
      "needs_background": "light"
     },
     "output_type": "display_data"
    }
   ],
   "source": [
    "plt.scatter(train['LotConfig'], train['SalePrice'])"
   ]
  },
  {
   "cell_type": "code",
   "execution_count": 58,
   "id": "3ef8bc1c",
   "metadata": {},
   "outputs": [],
   "source": [
    "data['LotConfig'] = data['LotConfig'].map({\n",
    "    'FR3': 0,\n",
    "    'FR2': 1,\n",
    "    'Corner': 2,\n",
    "    'Inside': 3,\n",
    "    'CulDSac': 4\n",
    "})"
   ]
  },
  {
   "cell_type": "markdown",
   "id": "3ef56ac5",
   "metadata": {},
   "source": [
    "#### LandSlope"
   ]
  },
  {
   "cell_type": "code",
   "execution_count": 59,
   "id": "58cb4f9b",
   "metadata": {},
   "outputs": [
    {
     "data": {
      "text/plain": [
       "0"
      ]
     },
     "execution_count": 59,
     "metadata": {},
     "output_type": "execute_result"
    }
   ],
   "source": [
    "data['LandSlope'].isnull().sum()"
   ]
  },
  {
   "cell_type": "code",
   "execution_count": 60,
   "id": "6c89b4ae",
   "metadata": {},
   "outputs": [
    {
     "data": {
      "text/plain": [
       "<matplotlib.collections.PathCollection at 0x12e21661cc8>"
      ]
     },
     "execution_count": 60,
     "metadata": {},
     "output_type": "execute_result"
    },
    {
     "data": {
      "image/png": "[encoded data removed]",
      "text/plain": [
       "<Figure size 432x288 with 1 Axes>"
      ]
     },
     "metadata": {
      "needs_background": "light"
     },
     "output_type": "display_data"
    }
   ],
   "source": [
    "plt.scatter(train['LandSlope'], train['SalePrice'])"
   ]
  },
  {
   "cell_type": "code",
   "execution_count": 61,
   "id": "7c11a8ee",
   "metadata": {},
   "outputs": [],
   "source": [
    "data['LandSlope'] = data['LandSlope'].map({\n",
    "    'Sev': 0,\n",
    "    'Mod': 1,\n",
    "    'Gtl': 2\n",
    "})"
   ]
  },
  {
   "cell_type": "markdown",
   "id": "e3591210",
   "metadata": {},
   "source": [
    "#### Neighborhood"
   ]
  },
  {
   "cell_type": "code",
   "execution_count": 62,
   "id": "fe23b34d",
   "metadata": {},
   "outputs": [
    {
     "data": {
      "text/plain": [
       "0"
      ]
     },
     "execution_count": 62,
     "metadata": {},
     "output_type": "execute_result"
    }
   ],
   "source": [
    "data['Neighborhood'].isnull().sum()"
   ]
  },
  {
   "cell_type": "code",
   "execution_count": 63,
   "id": "64923295",
   "metadata": {},
   "outputs": [
    {
     "data": {
      "text/plain": [
       "<matplotlib.collections.PathCollection at 0x12e21725a88>"
      ]
     },
     "execution_count": 63,
     "metadata": {},
     "output_type": "execute_result"
    },
    {
     "data": {
      "image/png": "[encoded data removed]",
      "text/plain": [
       "<Figure size 432x288 with 1 Axes>"
      ]
     },
     "metadata": {
      "needs_background": "light"
     },
     "output_type": "display_data"
    }
   ],
   "source": [
    "plt.scatter(train['Neighborhood'], train['SalePrice'])"
   ]
  },
  {
   "cell_type": "code",
   "execution_count": 64,
   "id": "aa92ec68",
   "metadata": {},
   "outputs": [
    {
     "data": {
      "text/plain": [
       "array(['CollgCr', 'Veenker', 'Crawfor', 'NoRidge', 'Mitchel', 'Somerst',\n",
       "       'NWAmes', 'OldTown', 'BrkSide', 'Sawyer', 'NridgHt', 'NAmes',\n",
       "       'SawyerW', 'IDOTRR', 'MeadowV', 'Edwards', 'Timber', 'Gilbert',\n",
       "       'StoneBr', 'ClearCr', 'NPkVill', 'Blmngtn', 'BrDale', 'SWISU',\n",
       "       'Blueste'], dtype=object)"
      ]
     },
     "execution_count": 64,
     "metadata": {},
     "output_type": "execute_result"
    }
   ],
   "source": [
    "train['Neighborhood'].unique()"
   ]
  },
  {
   "cell_type": "code",
   "execution_count": 65,
   "id": "8994b27b",
   "metadata": {},
   "outputs": [],
   "source": [
    "temp = train['Neighborhood'].map({\n",
    "    'CollgCr': 15,\n",
    "    'Veenker': 20,\n",
    "    'Crawfor': 14,\n",
    "    'NoRidge': 24,\n",
    "    'Mitchel': 10,\n",
    "    'Somerst': 18,\n",
    "    'NWAmes': 17,\n",
    "    'OldTown': 2,\n",
    "    'BrkSide': 1,\n",
    "    'Sawyer': 5,\n",
    "    'NridgHt': 23,\n",
    "    'NAmes': 11,\n",
    "    'SawyerW': 13,\n",
    "    'IDOTRR': 0,\n",
    "    'MeadowV': 4,\n",
    "    'Edwards': 9,\n",
    "    'Timber': 21,\n",
    "    'Gilbert': 19,\n",
    "    'StoneBr': 22,\n",
    "    'ClearCr': 16,\n",
    "    'NPkVill': 8,\n",
    "    'Blmngtn': 12,\n",
    "    'BrDale': 3,\n",
    "    'SWISU': 6,\n",
    "    'Blueste': 7 \n",
    "})"
   ]
  },
  {
   "cell_type": "code",
   "execution_count": 66,
   "id": "0df040ee",
   "metadata": {},
   "outputs": [
    {
     "data": {
      "text/plain": [
       "<matplotlib.collections.PathCollection at 0x12e21704c08>"
      ]
     },
     "execution_count": 66,
     "metadata": {},
     "output_type": "execute_result"
    },
    {
     "data": {
      "image/png": "[encoded data removed]",
      "text/plain": [
       "<Figure size 432x288 with 1 Axes>"
      ]
     },
     "metadata": {
      "needs_background": "light"
     },
     "output_type": "display_data"
    }
   ],
   "source": [
    "plt.scatter(temp, train['SalePrice'])"
   ]
  },
  {
   "cell_type": "code",
   "execution_count": 67,
   "id": "0437850b",
   "metadata": {},
   "outputs": [],
   "source": [
    "data['Neighborhood'] = data['Neighborhood'].map({\n",
    "    'CollgCr': 15,\n",
    "    'Veenker': 20,\n",
    "    'Crawfor': 14,\n",
    "    'NoRidge': 24,\n",
    "    'Mitchel': 10,\n",
    "    'Somerst': 18,\n",
    "    'NWAmes': 17,\n",
    "    'OldTown': 2,\n",
    "    'BrkSide': 1,\n",
    "    'Sawyer': 5,\n",
    "    'NridgHt': 23,\n",
    "    'NAmes': 11,\n",
    "    'SawyerW': 13,\n",
    "    'IDOTRR': 0,\n",
    "    'MeadowV': 4,\n",
    "    'Edwards': 9,\n",
    "    'Timber': 21,\n",
    "    'Gilbert': 19,\n",
    "    'StoneBr': 22,\n",
    "    'ClearCr': 16,\n",
    "    'NPkVill': 8,\n",
    "    'Blmngtn': 12,\n",
    "    'BrDale': 3,\n",
    "    'SWISU': 6,\n",
    "    'Blueste': 7 \n",
    "})"
   ]
  },
  {
   "cell_type": "markdown",
   "id": "9649a615",
   "metadata": {},
   "source": [
    "#### OverallQual"
   ]
  },
  {
   "cell_type": "code",
   "execution_count": 68,
   "id": "72f03859",
   "metadata": {},
   "outputs": [
    {
     "data": {
      "text/plain": [
       "0"
      ]
     },
     "execution_count": 68,
     "metadata": {},
     "output_type": "execute_result"
    }
   ],
   "source": [
    "data['OverallQual'].isnull().sum()"
   ]
  },
  {
   "cell_type": "code",
   "execution_count": 69,
   "id": "150222e2",
   "metadata": {},
   "outputs": [
    {
     "data": {
      "text/plain": [
       "<matplotlib.collections.PathCollection at 0x12e228436c8>"
      ]
     },
     "execution_count": 69,
     "metadata": {},
     "output_type": "execute_result"
    },
    {
     "data": {
      "image/png": "[encoded data removed]",
      "text/plain": [
       "<Figure size 432x288 with 1 Axes>"
      ]
     },
     "metadata": {
      "needs_background": "light"
     },
     "output_type": "display_data"
    }
   ],
   "source": [
    "plt.scatter(train['OverallQual'], train['SalePrice'])"
   ]
  },
  {
   "cell_type": "markdown",
   "id": "0c45d2c3",
   "metadata": {},
   "source": [
    "#### OverallCond"
   ]
  },
  {
   "cell_type": "code",
   "execution_count": 70,
   "id": "02c8b1d9",
   "metadata": {},
   "outputs": [
    {
     "data": {
      "text/plain": [
       "0"
      ]
     },
     "execution_count": 70,
     "metadata": {},
     "output_type": "execute_result"
    }
   ],
   "source": [
    "data['OverallCond'].isnull().sum()"
   ]
  },
  {
   "cell_type": "code",
   "execution_count": 71,
   "id": "6b1d425c",
   "metadata": {},
   "outputs": [
    {
     "data": {
      "text/plain": [
       "<matplotlib.collections.PathCollection at 0x12e228bd288>"
      ]
     },
     "execution_count": 71,
     "metadata": {},
     "output_type": "execute_result"
    },
    {
     "data": {
      "image/png": "[encoded data removed]",
      "text/plain": [
       "<Figure size 432x288 with 1 Axes>"
      ]
     },
     "metadata": {
      "needs_background": "light"
     },
     "output_type": "display_data"
    }
   ],
   "source": [
    "plt.scatter(train['OverallCond'], train['SalePrice'])"
   ]
  },
  {
   "cell_type": "markdown",
   "id": "af909718",
   "metadata": {},
   "source": [
    "#### ExterQual"
   ]
  },
  {
   "cell_type": "code",
   "execution_count": 72,
   "id": "df96e99d",
   "metadata": {},
   "outputs": [
    {
     "data": {
      "text/plain": [
       "0"
      ]
     },
     "execution_count": 72,
     "metadata": {},
     "output_type": "execute_result"
    }
   ],
   "source": [
    "data['ExterQual'].isnull().sum()"
   ]
  },
  {
   "cell_type": "code",
   "execution_count": 73,
   "id": "690944dc",
   "metadata": {},
   "outputs": [
    {
     "data": {
      "text/plain": [
       "<matplotlib.collections.PathCollection at 0x12e2294c3c8>"
      ]
     },
     "execution_count": 73,
     "metadata": {},
     "output_type": "execute_result"
    },
    {
     "data": {
      "image/png": "[encoded data removed]",
      "text/plain": [
       "<Figure size 432x288 with 1 Axes>"
      ]
     },
     "metadata": {
      "needs_background": "light"
     },
     "output_type": "display_data"
    }
   ],
   "source": [
    "plt.scatter(train['ExterQual'], train['SalePrice'])"
   ]
  },
  {
   "cell_type": "code",
   "execution_count": 74,
   "id": "73781695",
   "metadata": {},
   "outputs": [],
   "source": [
    "# 'Po' --> 0 ('Poor quality')\n",
    "data['ExterQual'] = data['ExterQual'].map({\n",
    "    'Fa': 1,\n",
    "    'TA': 2,\n",
    "    'Gd': 3,\n",
    "    'Ex': 4\n",
    "})"
   ]
  },
  {
   "cell_type": "markdown",
   "id": "c818b727",
   "metadata": {},
   "source": [
    "#### ExterCond"
   ]
  },
  {
   "cell_type": "code",
   "execution_count": 75,
   "id": "acc5b650",
   "metadata": {},
   "outputs": [
    {
     "data": {
      "text/plain": [
       "0"
      ]
     },
     "execution_count": 75,
     "metadata": {},
     "output_type": "execute_result"
    }
   ],
   "source": [
    "data['ExterCond'].isnull().sum()"
   ]
  },
  {
   "cell_type": "code",
   "execution_count": 76,
   "id": "d5eaa1c6",
   "metadata": {},
   "outputs": [
    {
     "data": {
      "text/plain": [
       "<matplotlib.collections.PathCollection at 0x12e2290c488>"
      ]
     },
     "execution_count": 76,
     "metadata": {},
     "output_type": "execute_result"
    },
    {
     "data": {
      "image/png": "[encoded data removed]",
      "text/plain": [
       "<Figure size 432x288 with 1 Axes>"
      ]
     },
     "metadata": {
      "needs_background": "light"
     },
     "output_type": "display_data"
    }
   ],
   "source": [
    "plt.scatter(train['ExterCond'], train['SalePrice'])"
   ]
  },
  {
   "cell_type": "code",
   "execution_count": 77,
   "id": "25110816",
   "metadata": {},
   "outputs": [],
   "source": [
    "data['ExterCond'] = data['ExterCond'].map({\n",
    "    'Po': 0,\n",
    "    'Fa': 1,\n",
    "    'TA': 2,\n",
    "    'Gd': 3,\n",
    "    'Ex': 4\n",
    "})"
   ]
  },
  {
   "cell_type": "markdown",
   "id": "7c018cef",
   "metadata": {},
   "source": [
    "#### BsmtQual"
   ]
  },
  {
   "cell_type": "code",
   "execution_count": 78,
   "id": "ec9e98bd",
   "metadata": {},
   "outputs": [
    {
     "data": {
      "text/plain": [
       "81"
      ]
     },
     "execution_count": 78,
     "metadata": {},
     "output_type": "execute_result"
    }
   ],
   "source": [
    "data['BsmtQual'].isnull().sum()"
   ]
  },
  {
   "cell_type": "code",
   "execution_count": 79,
   "id": "e8980f15",
   "metadata": {
    "scrolled": true
   },
   "outputs": [
    {
     "data": {
      "text/plain": [
       "<matplotlib.collections.PathCollection at 0x12e22a3bb48>"
      ]
     },
     "execution_count": 79,
     "metadata": {},
     "output_type": "execute_result"
    },
    {
     "data": {
      "image/png": "[encoded data removed]",
      "text/plain": [
       "<Figure size 432x288 with 1 Axes>"
      ]
     },
     "metadata": {
      "needs_background": "light"
     },
     "output_type": "display_data"
    }
   ],
   "source": [
    "plt.scatter(train['BsmtQual'].fillna('NoBsmt'), train['SalePrice'])"
   ]
  },
  {
   "cell_type": "code",
   "execution_count": 80,
   "id": "70fb2156",
   "metadata": {},
   "outputs": [],
   "source": [
    "data['BsmtQual'].fillna('NoBsmt', inplace=True)"
   ]
  },
  {
   "cell_type": "code",
   "execution_count": 81,
   "id": "2c2eaabe",
   "metadata": {},
   "outputs": [],
   "source": [
    "data['BsmtQual'] = data['BsmtQual'].map({\n",
    "    'NoBsmt': 0,\n",
    "    'Fa': 1,\n",
    "    'TA': 2,\n",
    "    'Gd': 3,\n",
    "    'Ex': 4\n",
    "})"
   ]
  },
  {
   "cell_type": "markdown",
   "id": "ba0af976",
   "metadata": {},
   "source": [
    "#### BsmtCond"
   ]
  },
  {
   "cell_type": "code",
   "execution_count": 82,
   "id": "ab3f6865",
   "metadata": {},
   "outputs": [
    {
     "data": {
      "text/plain": [
       "82"
      ]
     },
     "execution_count": 82,
     "metadata": {},
     "output_type": "execute_result"
    }
   ],
   "source": [
    "data['BsmtCond'].isnull().sum()"
   ]
  },
  {
   "cell_type": "code",
   "execution_count": 83,
   "id": "6b027e72",
   "metadata": {},
   "outputs": [
    {
     "data": {
      "text/plain": [
       "<matplotlib.collections.PathCollection at 0x12e22aba688>"
      ]
     },
     "execution_count": 83,
     "metadata": {},
     "output_type": "execute_result"
    },
    {
     "data": {
      "image/png": "[encoded data removed]",
      "text/plain": [
       "<Figure size 432x288 with 1 Axes>"
      ]
     },
     "metadata": {
      "needs_background": "light"
     },
     "output_type": "display_data"
    }
   ],
   "source": [
    "plt.scatter(train['BsmtCond'].fillna('NoBsmt'), train['SalePrice'])"
   ]
  },
  {
   "cell_type": "code",
   "execution_count": 84,
   "id": "690d0a9a",
   "metadata": {},
   "outputs": [],
   "source": [
    "data['BsmtCond'].fillna('NoBsmt', inplace=True)"
   ]
  },
  {
   "cell_type": "code",
   "execution_count": 85,
   "id": "02899a34",
   "metadata": {},
   "outputs": [],
   "source": [
    "data['BsmtCond'] = data['BsmtCond'].map({\n",
    "    'Po': 0,\n",
    "    'NoBsmt': 1,\n",
    "    'Fa': 2,\n",
    "    'TA': 3,\n",
    "    'Gd': 4,\n",
    "    'Ex': 5\n",
    "})"
   ]
  },
  {
   "cell_type": "markdown",
   "id": "47a6043f",
   "metadata": {},
   "source": [
    "#### BsmtExposure"
   ]
  },
  {
   "cell_type": "code",
   "execution_count": 86,
   "id": "2404b547",
   "metadata": {},
   "outputs": [
    {
     "data": {
      "text/plain": [
       "82"
      ]
     },
     "execution_count": 86,
     "metadata": {},
     "output_type": "execute_result"
    }
   ],
   "source": [
    "data['BsmtExposure'].isnull().sum()"
   ]
  },
  {
   "cell_type": "code",
   "execution_count": 87,
   "id": "a00594bc",
   "metadata": {},
   "outputs": [
    {
     "data": {
      "text/plain": [
       "<matplotlib.collections.PathCollection at 0x12e22af18c8>"
      ]
     },
     "execution_count": 87,
     "metadata": {},
     "output_type": "execute_result"
    },
    {
     "data": {
      "image/png": "[encoded data removed]",
      "text/plain": [
       "<Figure size 432x288 with 1 Axes>"
      ]
     },
     "metadata": {
      "needs_background": "light"
     },
     "output_type": "display_data"
    }
   ],
   "source": [
    "plt.scatter(train['BsmtExposure'].fillna('NoBsmt'), train['SalePrice'])"
   ]
  },
  {
   "cell_type": "code",
   "execution_count": 88,
   "id": "99560ed4",
   "metadata": {},
   "outputs": [],
   "source": [
    "data['BsmtExposure'].fillna('NoBsmt', inplace=True)"
   ]
  },
  {
   "cell_type": "code",
   "execution_count": 89,
   "id": "771651aa",
   "metadata": {},
   "outputs": [],
   "source": [
    "data['BsmtExposure'] = data['BsmtExposure'].map({\n",
    "    'NoBsmt': 0,\n",
    "    'No': 1, \n",
    "    'Mn': 2,\n",
    "    'Av': 3,\n",
    "    'Gd': 4\n",
    "})"
   ]
  },
  {
   "cell_type": "markdown",
   "id": "ae30d098",
   "metadata": {},
   "source": [
    "#### BsmtFinType1"
   ]
  },
  {
   "cell_type": "code",
   "execution_count": 90,
   "id": "dd94dc3a",
   "metadata": {},
   "outputs": [
    {
     "data": {
      "text/plain": [
       "79"
      ]
     },
     "execution_count": 90,
     "metadata": {},
     "output_type": "execute_result"
    }
   ],
   "source": [
    "data['BsmtFinType1'].isnull().sum()"
   ]
  },
  {
   "cell_type": "code",
   "execution_count": 91,
   "id": "d819dc9e",
   "metadata": {},
   "outputs": [
    {
     "data": {
      "text/plain": [
       "<matplotlib.collections.PathCollection at 0x12e22b83d08>"
      ]
     },
     "execution_count": 91,
     "metadata": {},
     "output_type": "execute_result"
    },
    {
     "data": {
      "image/png": "[encoded data removed]",
      "text/plain": [
       "<Figure size 432x288 with 1 Axes>"
      ]
     },
     "metadata": {
      "needs_background": "light"
     },
     "output_type": "display_data"
    }
   ],
   "source": [
    "plt.scatter(train['BsmtFinType1'].fillna('NoBsmt'), train['SalePrice'])"
   ]
  },
  {
   "cell_type": "code",
   "execution_count": 92,
   "id": "87eb9e86",
   "metadata": {},
   "outputs": [],
   "source": [
    "data['BsmtFinType1'].fillna('NoBsmt', inplace=True)"
   ]
  },
  {
   "cell_type": "code",
   "execution_count": 93,
   "id": "1005b1e6",
   "metadata": {},
   "outputs": [],
   "source": [
    "data['BsmtFinType1'] = data['BsmtFinType1'].map({\n",
    "    'NoBsmt': 0,\n",
    "    'Unf': 1,\n",
    "    'LwQ': 2,\n",
    "    'Rec': 3,\n",
    "    'BLQ': 4,\n",
    "    'ALQ': 5,\n",
    "    'GLQ': 6\n",
    "})"
   ]
  },
  {
   "cell_type": "markdown",
   "id": "e9b26cc6",
   "metadata": {},
   "source": [
    "#### BsmtFinType2"
   ]
  },
  {
   "cell_type": "code",
   "execution_count": 94,
   "id": "ca214e7d",
   "metadata": {},
   "outputs": [
    {
     "data": {
      "text/plain": [
       "80"
      ]
     },
     "execution_count": 94,
     "metadata": {},
     "output_type": "execute_result"
    }
   ],
   "source": [
    "data['BsmtFinType2'].isnull().sum()"
   ]
  },
  {
   "cell_type": "code",
   "execution_count": 95,
   "id": "830badf2",
   "metadata": {},
   "outputs": [
    {
     "data": {
      "text/plain": [
       "<matplotlib.collections.PathCollection at 0x12e22c1e108>"
      ]
     },
     "execution_count": 95,
     "metadata": {},
     "output_type": "execute_result"
    },
    {
     "data": {
      "image/png": "[encoded data removed]",
      "text/plain": [
       "<Figure size 432x288 with 1 Axes>"
      ]
     },
     "metadata": {
      "needs_background": "light"
     },
     "output_type": "display_data"
    }
   ],
   "source": [
    "plt.scatter(train['BsmtFinType2'].fillna('NoBsmt'), train['SalePrice'])"
   ]
  },
  {
   "cell_type": "code",
   "execution_count": 96,
   "id": "cdd8898e",
   "metadata": {},
   "outputs": [],
   "source": [
    "data['BsmtFinType2'].fillna('NoBsmt', inplace=True)"
   ]
  },
  {
   "cell_type": "code",
   "execution_count": 97,
   "id": "9734a76d",
   "metadata": {},
   "outputs": [],
   "source": [
    "data['BsmtFinType2'] = data['BsmtFinType2'].map({\n",
    "    'NoBsmt': 0,\n",
    "    'Unf': 1,\n",
    "    'LwQ': 2,\n",
    "    'Rec': 3,\n",
    "    'BLQ': 4,\n",
    "    'ALQ': 5,\n",
    "    'GLQ': 6\n",
    "})"
   ]
  },
  {
   "cell_type": "markdown",
   "id": "4452357e",
   "metadata": {},
   "source": [
    "#### Heating"
   ]
  },
  {
   "cell_type": "code",
   "execution_count": 98,
   "id": "9ecad2e2",
   "metadata": {},
   "outputs": [
    {
     "data": {
      "text/plain": [
       "0"
      ]
     },
     "execution_count": 98,
     "metadata": {},
     "output_type": "execute_result"
    }
   ],
   "source": [
    "data['Heating'].isnull().sum()"
   ]
  },
  {
   "cell_type": "code",
   "execution_count": 99,
   "id": "0774851f",
   "metadata": {},
   "outputs": [
    {
     "data": {
      "text/plain": [
       "<matplotlib.collections.PathCollection at 0x12e22ca2388>"
      ]
     },
     "execution_count": 99,
     "metadata": {},
     "output_type": "execute_result"
    },
    {
     "data": {
      "image/png": "[encoded data removed]",
      "text/plain": [
       "<Figure size 432x288 with 1 Axes>"
      ]
     },
     "metadata": {
      "needs_background": "light"
     },
     "output_type": "display_data"
    }
   ],
   "source": [
    "plt.scatter(train['Heating'], train['SalePrice'])"
   ]
  },
  {
   "cell_type": "code",
   "execution_count": 100,
   "id": "82b9eca2",
   "metadata": {},
   "outputs": [
    {
     "data": {
      "text/plain": [
       "GasA     2869\n",
       "GasW       26\n",
       "Grav        9\n",
       "Wall        6\n",
       "OthW        2\n",
       "Floor       1\n",
       "Name: Heating, dtype: int64"
      ]
     },
     "execution_count": 100,
     "metadata": {},
     "output_type": "execute_result"
    }
   ],
   "source": [
    "data['Heating'].value_counts()"
   ]
  },
  {
   "cell_type": "code",
   "execution_count": 101,
   "id": "d778900b",
   "metadata": {},
   "outputs": [],
   "source": [
    "data['Heating'] = data['Heating'].map({\n",
    "    'Floor': 0,\n",
    "    'Wall': 1,\n",
    "    'OthW': 2,\n",
    "    'Grav': 3,\n",
    "    'GasW': 10,\n",
    "    'GasA': 20\n",
    "})"
   ]
  },
  {
   "cell_type": "markdown",
   "id": "89129ea2",
   "metadata": {},
   "source": [
    "#### HeatingQC"
   ]
  },
  {
   "cell_type": "code",
   "execution_count": 102,
   "id": "50643804",
   "metadata": {},
   "outputs": [
    {
     "data": {
      "text/plain": [
       "0"
      ]
     },
     "execution_count": 102,
     "metadata": {},
     "output_type": "execute_result"
    }
   ],
   "source": [
    "data['HeatingQC'].isnull().sum()"
   ]
  },
  {
   "cell_type": "code",
   "execution_count": 103,
   "id": "ad398b37",
   "metadata": {},
   "outputs": [
    {
     "data": {
      "text/plain": [
       "<matplotlib.collections.PathCollection at 0x12e22cdfa48>"
      ]
     },
     "execution_count": 103,
     "metadata": {},
     "output_type": "execute_result"
    },
    {
     "data": {
      "image/png": "[encoded data removed]",
      "text/plain": [
       "<Figure size 432x288 with 1 Axes>"
      ]
     },
     "metadata": {
      "needs_background": "light"
     },
     "output_type": "display_data"
    }
   ],
   "source": [
    "plt.scatter(train['HeatingQC'], train['SalePrice'])"
   ]
  },
  {
   "cell_type": "code",
   "execution_count": 104,
   "id": "96bd7a34",
   "metadata": {},
   "outputs": [],
   "source": [
    "data['HeatingQC'] = data['HeatingQC'].map({\n",
    "    'Po': 0,\n",
    "    'Fa': 1,\n",
    "    'TA': 2,\n",
    "    'Gd': 3,\n",
    "    'Ex': 4\n",
    "})"
   ]
  },
  {
   "cell_type": "markdown",
   "id": "9516a6f1",
   "metadata": {},
   "source": [
    "#### CentralAir"
   ]
  },
  {
   "cell_type": "code",
   "execution_count": 105,
   "id": "d24f063a",
   "metadata": {},
   "outputs": [
    {
     "data": {
      "text/plain": [
       "0"
      ]
     },
     "execution_count": 105,
     "metadata": {},
     "output_type": "execute_result"
    }
   ],
   "source": [
    "data['CentralAir'].isnull().sum()"
   ]
  },
  {
   "cell_type": "code",
   "execution_count": 106,
   "id": "919fe417",
   "metadata": {},
   "outputs": [
    {
     "data": {
      "text/plain": [
       "<matplotlib.collections.PathCollection at 0x12e22d93948>"
      ]
     },
     "execution_count": 106,
     "metadata": {},
     "output_type": "execute_result"
    },
    {
     "data": {
      "image/png": "[encoded data removed]",
      "text/plain": [
       "<Figure size 432x288 with 1 Axes>"
      ]
     },
     "metadata": {
      "needs_background": "light"
     },
     "output_type": "display_data"
    }
   ],
   "source": [
    "plt.scatter(train['CentralAir'], train['SalePrice'])"
   ]
  },
  {
   "cell_type": "code",
   "execution_count": 107,
   "id": "c1b1723b",
   "metadata": {},
   "outputs": [],
   "source": [
    "data['CentralAir'] = data['CentralAir'].map({\n",
    "    'N': 0,\n",
    "    'Y': 1\n",
    "})"
   ]
  },
  {
   "cell_type": "markdown",
   "id": "c4718560",
   "metadata": {},
   "source": [
    "#### Electrical"
   ]
  },
  {
   "cell_type": "code",
   "execution_count": 108,
   "id": "fe40666a",
   "metadata": {},
   "outputs": [
    {
     "data": {
      "text/plain": [
       "<matplotlib.collections.PathCollection at 0x12e22e0cc88>"
      ]
     },
     "execution_count": 108,
     "metadata": {},
     "output_type": "execute_result"
    },
    {
     "data": {
      "image/png": "[encoded data removed]",
      "text/plain": [
       "<Figure size 432x288 with 1 Axes>"
      ]
     },
     "metadata": {
      "needs_background": "light"
     },
     "output_type": "display_data"
    }
   ],
   "source": [
    "plt.scatter(train['Electrical'].fillna('No'), train['SalePrice'])"
   ]
  },
  {
   "cell_type": "code",
   "execution_count": 109,
   "id": "d0bd030f",
   "metadata": {},
   "outputs": [],
   "source": [
    "data['Electrical'].fillna('No', inplace=True)"
   ]
  },
  {
   "cell_type": "code",
   "execution_count": 110,
   "id": "0b34a599",
   "metadata": {},
   "outputs": [],
   "source": [
    "data['Electrical'] = data['Electrical'].map({\n",
    "    'Mix': 0,\n",
    "    'FuseP': 1,\n",
    "    'FuseF': 2,\n",
    "    'FuseA': 3,\n",
    "    'No': 4,\n",
    "    'SBrkr': 5\n",
    "})"
   ]
  },
  {
   "cell_type": "markdown",
   "id": "57fccb75",
   "metadata": {},
   "source": [
    "#### FullBath"
   ]
  },
  {
   "cell_type": "code",
   "execution_count": 111,
   "id": "8ad52347",
   "metadata": {},
   "outputs": [
    {
     "data": {
      "text/plain": [
       "0"
      ]
     },
     "execution_count": 111,
     "metadata": {},
     "output_type": "execute_result"
    }
   ],
   "source": [
    "data['FullBath'].isnull().sum()"
   ]
  },
  {
   "cell_type": "code",
   "execution_count": 112,
   "id": "6c64d082",
   "metadata": {},
   "outputs": [
    {
     "data": {
      "text/plain": [
       "2    1524\n",
       "1    1309\n",
       "3      64\n",
       "0      12\n",
       "4       4\n",
       "Name: FullBath, dtype: int64"
      ]
     },
     "execution_count": 112,
     "metadata": {},
     "output_type": "execute_result"
    }
   ],
   "source": [
    "data['FullBath'].value_counts()"
   ]
  },
  {
   "cell_type": "code",
   "execution_count": 113,
   "id": "6f4d3f37",
   "metadata": {},
   "outputs": [],
   "source": [
    "data['FullBath'] = data['FullBath'].map({\n",
    "    0: 0,\n",
    "    1: 1,\n",
    "    2: 2,\n",
    "    3: 3,\n",
    "    4: 3\n",
    "})"
   ]
  },
  {
   "cell_type": "markdown",
   "id": "88fd1650",
   "metadata": {},
   "source": [
    "#### BedroomAbvGr"
   ]
  },
  {
   "cell_type": "code",
   "execution_count": 114,
   "id": "7932f193",
   "metadata": {},
   "outputs": [
    {
     "data": {
      "text/plain": [
       "0"
      ]
     },
     "execution_count": 114,
     "metadata": {},
     "output_type": "execute_result"
    }
   ],
   "source": [
    "data['BedroomAbvGr'].isnull().sum()"
   ]
  },
  {
   "cell_type": "code",
   "execution_count": 115,
   "id": "1eab7d86",
   "metadata": {},
   "outputs": [
    {
     "data": {
      "text/plain": [
       "<matplotlib.collections.PathCollection at 0x12e22e94b08>"
      ]
     },
     "execution_count": 115,
     "metadata": {},
     "output_type": "execute_result"
    },
    {
     "data": {
      "image/png": "[encoded data removed]",
      "text/plain": [
       "<Figure size 432x288 with 1 Axes>"
      ]
     },
     "metadata": {
      "needs_background": "light"
     },
     "output_type": "display_data"
    }
   ],
   "source": [
    "plt.scatter(train['BedroomAbvGr'], train['SalePrice'])"
   ]
  },
  {
   "cell_type": "code",
   "execution_count": 116,
   "id": "d51fb546",
   "metadata": {},
   "outputs": [],
   "source": [
    "data['BedroomAbvGr'].replace({\n",
    "    5: 4,\n",
    "    6: 4,\n",
    "    8: 4\n",
    "}, inplace=True)"
   ]
  },
  {
   "cell_type": "markdown",
   "id": "de2dea4b",
   "metadata": {},
   "source": [
    "#### KitchenAbvGr"
   ]
  },
  {
   "cell_type": "code",
   "execution_count": 117,
   "id": "e80d51a7",
   "metadata": {},
   "outputs": [
    {
     "data": {
      "text/plain": [
       "0"
      ]
     },
     "execution_count": 117,
     "metadata": {},
     "output_type": "execute_result"
    }
   ],
   "source": [
    "data['KitchenAbvGr'].isnull().sum()"
   ]
  },
  {
   "cell_type": "code",
   "execution_count": 118,
   "id": "b825be7b",
   "metadata": {},
   "outputs": [
    {
     "data": {
      "text/plain": [
       "<matplotlib.collections.PathCollection at 0x12e22f27748>"
      ]
     },
     "execution_count": 118,
     "metadata": {},
     "output_type": "execute_result"
    },
    {
     "data": {
      "image/png": "[encoded data removed]",
      "text/plain": [
       "<Figure size 432x288 with 1 Axes>"
      ]
     },
     "metadata": {
      "needs_background": "light"
     },
     "output_type": "display_data"
    }
   ],
   "source": [
    "plt.scatter(train['KitchenAbvGr'], train['SalePrice'])"
   ]
  },
  {
   "cell_type": "code",
   "execution_count": 119,
   "id": "8f844349",
   "metadata": {},
   "outputs": [
    {
     "data": {
      "text/plain": [
       "(1    1392\n",
       " 2      65\n",
       " 3       2\n",
       " 0       1\n",
       " Name: KitchenAbvGr, dtype: int64,\n",
       " 1    1393\n",
       " 2      64\n",
       " 0       2\n",
       " Name: KitchenAbvGr, dtype: int64)"
      ]
     },
     "execution_count": 119,
     "metadata": {},
     "output_type": "execute_result"
    }
   ],
   "source": [
    "train['KitchenAbvGr'].value_counts(), test['KitchenAbvGr'].value_counts()"
   ]
  },
  {
   "cell_type": "code",
   "execution_count": 120,
   "id": "0cd7b5f8",
   "metadata": {},
   "outputs": [],
   "source": [
    "data['KitchenAbvGr'].replace({\n",
    "    1: 2,\n",
    "    2: 1,\n",
    "    3: 1\n",
    "}, inplace=True)"
   ]
  },
  {
   "cell_type": "markdown",
   "id": "671e3ed8",
   "metadata": {},
   "source": [
    "#### KitchenQual"
   ]
  },
  {
   "cell_type": "code",
   "execution_count": 121,
   "id": "8b5747b0",
   "metadata": {},
   "outputs": [
    {
     "data": {
      "text/plain": [
       "1"
      ]
     },
     "execution_count": 121,
     "metadata": {},
     "output_type": "execute_result"
    }
   ],
   "source": [
    "data['KitchenQual'].isnull().sum()"
   ]
  },
  {
   "cell_type": "code",
   "execution_count": 122,
   "id": "b1c53572",
   "metadata": {},
   "outputs": [],
   "source": [
    "data['KitchenQual'].fillna(data['KitchenQual'].mode()[0], inplace=True)"
   ]
  },
  {
   "cell_type": "code",
   "execution_count": 123,
   "id": "853f1ede",
   "metadata": {},
   "outputs": [
    {
     "data": {
      "text/plain": [
       "TA    1491\n",
       "Gd    1148\n",
       "Ex     204\n",
       "Fa      70\n",
       "Name: KitchenQual, dtype: int64"
      ]
     },
     "execution_count": 123,
     "metadata": {},
     "output_type": "execute_result"
    }
   ],
   "source": [
    "data['KitchenQual'].value_counts()"
   ]
  },
  {
   "cell_type": "code",
   "execution_count": 124,
   "id": "63fa5dca",
   "metadata": {},
   "outputs": [],
   "source": [
    "data['KitchenQual'] = data['KitchenQual'].map({\n",
    "    'Fa': 1,\n",
    "    'TA': 2,\n",
    "    'Gd': 3,\n",
    "    'Ex': 4\n",
    "})"
   ]
  },
  {
   "cell_type": "markdown",
   "id": "2c2f44df",
   "metadata": {},
   "source": [
    "#### FireplaceQu"
   ]
  },
  {
   "cell_type": "code",
   "execution_count": 125,
   "id": "6480b7ef",
   "metadata": {},
   "outputs": [
    {
     "data": {
      "text/plain": [
       "1420"
      ]
     },
     "execution_count": 125,
     "metadata": {},
     "output_type": "execute_result"
    }
   ],
   "source": [
    "data['FireplaceQu'].isnull().sum()"
   ]
  },
  {
   "cell_type": "code",
   "execution_count": 126,
   "id": "112a7b9b",
   "metadata": {},
   "outputs": [
    {
     "data": {
      "text/plain": [
       "<matplotlib.collections.PathCollection at 0x12e22ee7088>"
      ]
     },
     "execution_count": 126,
     "metadata": {},
     "output_type": "execute_result"
    },
    {
     "data": {
      "image/png": "[encoded data removed]",
      "text/plain": [
       "<Figure size 432x288 with 1 Axes>"
      ]
     },
     "metadata": {
      "needs_background": "light"
     },
     "output_type": "display_data"
    }
   ],
   "source": [
    "plt.scatter(train['FireplaceQu'].fillna('NoFrp'), train['SalePrice'])"
   ]
  },
  {
   "cell_type": "code",
   "execution_count": 127,
   "id": "58ee67ad",
   "metadata": {},
   "outputs": [],
   "source": [
    "data['FireplaceQu'].fillna('NoFrp', inplace=True)"
   ]
  },
  {
   "cell_type": "code",
   "execution_count": 128,
   "id": "f8c4a0a0",
   "metadata": {},
   "outputs": [],
   "source": [
    "data['FireplaceQu'] = data['FireplaceQu'].map({\n",
    "    'NoFrp': 0,\n",
    "    'Po': 1,\n",
    "    'Fa': 2,\n",
    "    'TA': 3,\n",
    "    'Gd': 4,\n",
    "    'Ex': 5\n",
    "})"
   ]
  },
  {
   "cell_type": "markdown",
   "id": "46ee378e",
   "metadata": {},
   "source": [
    "#### GarageFinish"
   ]
  },
  {
   "cell_type": "code",
   "execution_count": 129,
   "id": "ec5b8960",
   "metadata": {},
   "outputs": [
    {
     "data": {
      "text/plain": [
       "159"
      ]
     },
     "execution_count": 129,
     "metadata": {},
     "output_type": "execute_result"
    }
   ],
   "source": [
    "data['GarageFinish'].isnull().sum()"
   ]
  },
  {
   "cell_type": "code",
   "execution_count": 130,
   "id": "672618ac",
   "metadata": {},
   "outputs": [
    {
     "data": {
      "text/plain": [
       "<matplotlib.collections.PathCollection at 0x12e2303be48>"
      ]
     },
     "execution_count": 130,
     "metadata": {},
     "output_type": "execute_result"
    },
    {
     "data": {
      "image/png": "[encoded data removed]",
      "text/plain": [
       "<Figure size 432x288 with 1 Axes>"
      ]
     },
     "metadata": {
      "needs_background": "light"
     },
     "output_type": "display_data"
    }
   ],
   "source": [
    "plt.scatter(train['GarageFinish'].fillna('No'), train['SalePrice'])"
   ]
  },
  {
   "cell_type": "code",
   "execution_count": 131,
   "id": "4a8cf2ab",
   "metadata": {},
   "outputs": [],
   "source": [
    "data['GarageFinish'].fillna('No', inplace=True)"
   ]
  },
  {
   "cell_type": "code",
   "execution_count": 132,
   "id": "8f254cff",
   "metadata": {},
   "outputs": [],
   "source": [
    "data['GarageFinish'] = data['GarageFinish'].map({\n",
    "    'No': 0,\n",
    "    'Unf': 1,\n",
    "    'RFn': 2,\n",
    "    'Fin': 3\n",
    "})"
   ]
  },
  {
   "cell_type": "markdown",
   "id": "dafa2873",
   "metadata": {},
   "source": [
    "#### GarageCars"
   ]
  },
  {
   "cell_type": "code",
   "execution_count": 133,
   "id": "5a8b03d7",
   "metadata": {},
   "outputs": [
    {
     "data": {
      "text/plain": [
       "1"
      ]
     },
     "execution_count": 133,
     "metadata": {},
     "output_type": "execute_result"
    }
   ],
   "source": [
    "data['GarageCars'].isnull().sum()"
   ]
  },
  {
   "cell_type": "code",
   "execution_count": 134,
   "id": "432ed2a1",
   "metadata": {},
   "outputs": [],
   "source": [
    "data['GarageCars'].fillna(data['GarageCars'].mode()[0], inplace=True)"
   ]
  },
  {
   "cell_type": "code",
   "execution_count": 135,
   "id": "a6ecee97",
   "metadata": {},
   "outputs": [
    {
     "data": {
      "text/plain": [
       "2.0    1589\n",
       "1.0     776\n",
       "3.0     374\n",
       "0.0     157\n",
       "4.0      16\n",
       "5.0       1\n",
       "Name: GarageCars, dtype: int64"
      ]
     },
     "execution_count": 135,
     "metadata": {},
     "output_type": "execute_result"
    }
   ],
   "source": [
    "data['GarageCars'].value_counts()"
   ]
  },
  {
   "cell_type": "code",
   "execution_count": 136,
   "id": "57384b7c",
   "metadata": {},
   "outputs": [],
   "source": [
    "# outlier mask\n",
    "cars_outlier = data['GarageCars'] == 5"
   ]
  },
  {
   "cell_type": "code",
   "execution_count": 137,
   "id": "cf4e0225",
   "metadata": {},
   "outputs": [],
   "source": [
    "# handle outlier\n",
    "data['GarageCarsOutlier'] = np.zeros(data.shape[0])\n",
    "data.loc[cars_outlier, 'GarageCarsOutlier'] = 1"
   ]
  },
  {
   "cell_type": "code",
   "execution_count": 138,
   "id": "70b0ccc0",
   "metadata": {},
   "outputs": [],
   "source": [
    "data['GarageCars'] = data['GarageCars'].map({\n",
    "    0: 0,\n",
    "    1: 1,\n",
    "    2: 2,\n",
    "    3: 3,\n",
    "    4: 3,\n",
    "    5: 3\n",
    "})"
   ]
  },
  {
   "cell_type": "markdown",
   "id": "3e6e9321",
   "metadata": {},
   "source": [
    "#### GarageQual"
   ]
  },
  {
   "cell_type": "code",
   "execution_count": 139,
   "id": "2909abc4",
   "metadata": {},
   "outputs": [
    {
     "data": {
      "text/plain": [
       "<matplotlib.collections.PathCollection at 0x12e230c6208>"
      ]
     },
     "execution_count": 139,
     "metadata": {},
     "output_type": "execute_result"
    },
    {
     "data": {
      "image/png": "[encoded data removed]",
      "text/plain": [
       "<Figure size 432x288 with 1 Axes>"
      ]
     },
     "metadata": {
      "needs_background": "light"
     },
     "output_type": "display_data"
    }
   ],
   "source": [
    "plt.scatter(train['GarageQual'].fillna('No'), train['SalePrice'])"
   ]
  },
  {
   "cell_type": "code",
   "execution_count": 140,
   "id": "42aef2bc",
   "metadata": {},
   "outputs": [],
   "source": [
    "data['GarageQual'].fillna('No', inplace=True)"
   ]
  },
  {
   "cell_type": "code",
   "execution_count": 141,
   "id": "f2bdc1d7",
   "metadata": {},
   "outputs": [],
   "source": [
    "data['GarageQual'] = data['GarageQual'].map({\n",
    "    'Po': 0,\n",
    "    'No': 1,\n",
    "    'Fa': 2,\n",
    "    'TA': 3,\n",
    "    'Gd': 4,\n",
    "    'Ex': 5\n",
    "})"
   ]
  },
  {
   "cell_type": "markdown",
   "id": "ab30390c",
   "metadata": {},
   "source": [
    "#### GarageCond"
   ]
  },
  {
   "cell_type": "code",
   "execution_count": 142,
   "id": "96e8795f",
   "metadata": {},
   "outputs": [
    {
     "data": {
      "text/plain": [
       "159"
      ]
     },
     "execution_count": 142,
     "metadata": {},
     "output_type": "execute_result"
    }
   ],
   "source": [
    "data['GarageCond'].isnull().sum()"
   ]
  },
  {
   "cell_type": "code",
   "execution_count": 143,
   "id": "14c7b822",
   "metadata": {},
   "outputs": [
    {
     "data": {
      "text/plain": [
       "<matplotlib.collections.PathCollection at 0x12e23104588>"
      ]
     },
     "execution_count": 143,
     "metadata": {},
     "output_type": "execute_result"
    },
    {
     "data": {
      "image/png": "[encoded data removed]",
      "text/plain": [
       "<Figure size 432x288 with 1 Axes>"
      ]
     },
     "metadata": {
      "needs_background": "light"
     },
     "output_type": "display_data"
    }
   ],
   "source": [
    "plt.scatter(train['GarageCond'].fillna('No'), train['SalePrice'])"
   ]
  },
  {
   "cell_type": "code",
   "execution_count": 144,
   "id": "c5ade06a",
   "metadata": {},
   "outputs": [],
   "source": [
    "data['GarageCond'].fillna('No', inplace=True)"
   ]
  },
  {
   "cell_type": "code",
   "execution_count": 145,
   "id": "a257b46e",
   "metadata": {},
   "outputs": [],
   "source": [
    "data['GarageCond'] = data['GarageCond'].map({\n",
    "    'Po': 0,\n",
    "    'No': 1,\n",
    "    'Fa': 2,\n",
    "    'TA': 3,\n",
    "    'Gd': 4,\n",
    "    'Ex': 5\n",
    "})"
   ]
  },
  {
   "cell_type": "markdown",
   "id": "613227d3",
   "metadata": {},
   "source": [
    "#### PavedDrive"
   ]
  },
  {
   "cell_type": "code",
   "execution_count": 146,
   "id": "5be39ff9",
   "metadata": {},
   "outputs": [
    {
     "data": {
      "text/plain": [
       "0"
      ]
     },
     "execution_count": 146,
     "metadata": {},
     "output_type": "execute_result"
    }
   ],
   "source": [
    "data['PavedDrive'].isnull().sum()"
   ]
  },
  {
   "cell_type": "code",
   "execution_count": 147,
   "id": "f3558a4a",
   "metadata": {},
   "outputs": [
    {
     "data": {
      "text/plain": [
       "<matplotlib.collections.PathCollection at 0x12e231c3a88>"
      ]
     },
     "execution_count": 147,
     "metadata": {},
     "output_type": "execute_result"
    },
    {
     "data": {
      "image/png": "[encoded data removed]",
      "text/plain": [
       "<Figure size 432x288 with 1 Axes>"
      ]
     },
     "metadata": {
      "needs_background": "light"
     },
     "output_type": "display_data"
    }
   ],
   "source": [
    "plt.scatter(train['PavedDrive'], train['SalePrice'])"
   ]
  },
  {
   "cell_type": "code",
   "execution_count": 148,
   "id": "b7c17fa3",
   "metadata": {},
   "outputs": [],
   "source": [
    "data['PavedDrive'] = data['PavedDrive'].map({\n",
    "    'N': 0,\n",
    "    'P': 1,\n",
    "    'Y': 2\n",
    "})"
   ]
  },
  {
   "cell_type": "markdown",
   "id": "f6422faf",
   "metadata": {},
   "source": [
    "#### MiscFeature"
   ]
  },
  {
   "cell_type": "code",
   "execution_count": 149,
   "id": "57e8cb11",
   "metadata": {},
   "outputs": [
    {
     "data": {
      "text/plain": [
       "<matplotlib.collections.PathCollection at 0x12e23237088>"
      ]
     },
     "execution_count": 149,
     "metadata": {},
     "output_type": "execute_result"
    },
    {
     "data": {
      "image/png": "[encoded data removed]",
      "text/plain": [
       "<Figure size 432x288 with 1 Axes>"
      ]
     },
     "metadata": {
      "needs_background": "light"
     },
     "output_type": "display_data"
    }
   ],
   "source": [
    "plt.scatter(train['MiscFeature'].fillna('No'), train['SalePrice'])"
   ]
  },
  {
   "cell_type": "code",
   "execution_count": 150,
   "id": "951de56f",
   "metadata": {},
   "outputs": [],
   "source": [
    "data['MiscFeature'].fillna('No', inplace=True)"
   ]
  },
  {
   "cell_type": "code",
   "execution_count": 151,
   "id": "672cb665",
   "metadata": {},
   "outputs": [
    {
     "data": {
      "text/plain": [
       "array(['No', 'Shed', 'Gar2', 'Othr', 'TenC'], dtype=object)"
      ]
     },
     "execution_count": 151,
     "metadata": {},
     "output_type": "execute_result"
    }
   ],
   "source": [
    "data['MiscFeature'].unique()"
   ]
  },
  {
   "cell_type": "code",
   "execution_count": 152,
   "id": "b7cefd64",
   "metadata": {},
   "outputs": [],
   "source": [
    "data['MiscFeature'] = data['MiscFeature'].map({\n",
    "    'Shed': 0,\n",
    "    'Gar2': 0,\n",
    "    'Othr': 0,\n",
    "    'TenC': 0,\n",
    "    'No': 1,\n",
    "})"
   ]
  },
  {
   "cell_type": "code",
   "execution_count": 153,
   "id": "b1d52f4a",
   "metadata": {},
   "outputs": [
    {
     "data": {
      "text/plain": [
       "dtype('int64')"
      ]
     },
     "execution_count": 153,
     "metadata": {},
     "output_type": "execute_result"
    }
   ],
   "source": [
    "data['YrSold'].dtype"
   ]
  },
  {
   "cell_type": "markdown",
   "id": "b851f4c0",
   "metadata": {},
   "source": [
    "## Fill NaNs"
   ]
  },
  {
   "cell_type": "code",
   "execution_count": 154,
   "id": "5050c3ee",
   "metadata": {},
   "outputs": [
    {
     "name": "stdout",
     "output_type": "stream",
     "text": [
      "<class 'pandas.core.frame.DataFrame'>\n",
      "Int64Index: 2913 entries, 1 to 2919\n",
      "Data columns (total 88 columns):\n",
      " #   Column                  Non-Null Count  Dtype  \n",
      "---  ------                  --------------  -----  \n",
      " 0   MSSubClass              2913 non-null   int64  \n",
      " 1   MSZoning                2913 non-null   int64  \n",
      " 2   LotFrontage             2913 non-null   float64\n",
      " 3   LotArea                 2913 non-null   int64  \n",
      " 4   Street                  2913 non-null   int64  \n",
      " 5   Alley                   2913 non-null   int64  \n",
      " 6   LotShape                2913 non-null   int64  \n",
      " 7   LandContour             2913 non-null   int64  \n",
      " 8   Utilities               2913 non-null   int64  \n",
      " 9   LotConfig               2913 non-null   int64  \n",
      " 10  LandSlope               2913 non-null   int64  \n",
      " 11  Neighborhood            2913 non-null   int64  \n",
      " 12  Condition1              2913 non-null   object \n",
      " 13  Condition2              2913 non-null   object \n",
      " 14  BldgType                2913 non-null   object \n",
      " 15  HouseStyle              2913 non-null   object \n",
      " 16  OverallQual             2913 non-null   int64  \n",
      " 17  OverallCond             2913 non-null   int64  \n",
      " 18  YearBuilt               2913 non-null   int64  \n",
      " 19  YearRemodAdd            2913 non-null   int64  \n",
      " 20  RoofStyle               2913 non-null   object \n",
      " 21  RoofMatl                2913 non-null   object \n",
      " 22  Exterior1st             2912 non-null   object \n",
      " 23  Exterior2nd             2912 non-null   object \n",
      " 24  MasVnrType              2889 non-null   object \n",
      " 25  MasVnrArea              2890 non-null   float64\n",
      " 26  ExterQual               2913 non-null   int64  \n",
      " 27  ExterCond               2913 non-null   int64  \n",
      " 28  Foundation              2913 non-null   object \n",
      " 29  BsmtQual                2913 non-null   int64  \n",
      " 30  BsmtCond                2913 non-null   int64  \n",
      " 31  BsmtExposure            2913 non-null   int64  \n",
      " 32  BsmtFinType1            2913 non-null   int64  \n",
      " 33  BsmtFinSF1              2913 non-null   float64\n",
      " 34  BsmtFinType2            2913 non-null   int64  \n",
      " 35  BsmtFinSF2              2913 non-null   float64\n",
      " 36  BsmtUnfSF               2912 non-null   float64\n",
      " 37  TotalBsmtSF             2913 non-null   float64\n",
      " 38  Heating                 2913 non-null   int64  \n",
      " 39  HeatingQC               2913 non-null   int64  \n",
      " 40  CentralAir              2913 non-null   int64  \n",
      " 41  Electrical              2913 non-null   int64  \n",
      " 42  1stFlrSF                2913 non-null   int64  \n",
      " 43  2ndFlrSF                2913 non-null   int64  \n",
      " 44  LowQualFinSF            2913 non-null   int64  \n",
      " 45  GrLivArea               2913 non-null   int64  \n",
      " 46  BsmtFullBath            2911 non-null   float64\n",
      " 47  BsmtHalfBath            2911 non-null   float64\n",
      " 48  FullBath                2913 non-null   int64  \n",
      " 49  HalfBath                2913 non-null   int64  \n",
      " 50  BedroomAbvGr            2913 non-null   int64  \n",
      " 51  KitchenAbvGr            2913 non-null   int64  \n",
      " 52  KitchenQual             2913 non-null   int64  \n",
      " 53  TotRmsAbvGrd            2913 non-null   int64  \n",
      " 54  Functional              2911 non-null   object \n",
      " 55  Fireplaces              2913 non-null   int64  \n",
      " 56  FireplaceQu             2913 non-null   int64  \n",
      " 57  GarageType              2756 non-null   object \n",
      " 58  GarageYrBlt             2913 non-null   float64\n",
      " 59  GarageFinish            2913 non-null   int64  \n",
      " 60  GarageCars              2913 non-null   int64  \n",
      " 61  GarageArea              2912 non-null   float64\n",
      " 62  GarageQual              2913 non-null   int64  \n",
      " 63  GarageCond              2913 non-null   int64  \n",
      " 64  PavedDrive              2913 non-null   int64  \n",
      " 65  WoodDeckSF              2913 non-null   int64  \n",
      " 66  OpenPorchSF             2913 non-null   int64  \n",
      " 67  EnclosedPorch           2913 non-null   int64  \n",
      " 68  3SsnPorch               2913 non-null   int64  \n",
      " 69  ScreenPorch             2913 non-null   int64  \n",
      " 70  PoolArea                2913 non-null   int64  \n",
      " 71  PoolQC                  9 non-null      object \n",
      " 72  Fence                   571 non-null    object \n",
      " 73  MiscFeature             2913 non-null   int64  \n",
      " 74  MiscVal                 2913 non-null   int64  \n",
      " 75  MoSold                  2913 non-null   int64  \n",
      " 76  YrSold                  2913 non-null   int64  \n",
      " 77  SaleType                2912 non-null   object \n",
      " 78  SaleCondition           2913 non-null   object \n",
      " 79  SalePrice               1454 non-null   float64\n",
      " 80  BsmtFinSF1_Outliers     2913 non-null   float64\n",
      " 81  TotalBsmtSF_Outliers    2913 non-null   float64\n",
      " 82  1stFlrSF_Outliers       2913 non-null   float64\n",
      " 83  GrLivArea_Outliers      2913 non-null   float64\n",
      " 84  GarageYrBltNaNs         2913 non-null   float64\n",
      " 85  WoodDeckSF_Outliers     2913 non-null   float64\n",
      " 86  EnclosedPorch_Outliers  2913 non-null   float64\n",
      " 87  GarageCarsOutlier       2913 non-null   float64\n",
      "dtypes: float64(19), int64(53), object(16)\n",
      "memory usage: 2.0+ MB\n"
     ]
    }
   ],
   "source": [
    "data.info()"
   ]
  },
  {
   "cell_type": "code",
   "execution_count": 155,
   "id": "62ac6baf",
   "metadata": {},
   "outputs": [],
   "source": [
    "data.drop(['PoolQC', 'Fence'], axis=1, inplace=True)"
   ]
  },
  {
   "cell_type": "markdown",
   "id": "5b945855",
   "metadata": {},
   "source": [
    "#### Exterior"
   ]
  },
  {
   "cell_type": "code",
   "execution_count": 156,
   "id": "2e82fd75",
   "metadata": {},
   "outputs": [
    {
     "data": {
      "text/plain": [
       "Index(['Exterior1st', 'Exterior2nd', 'MasVnrType', 'MasVnrArea', 'BsmtUnfSF',\n",
       "       'BsmtFullBath', 'BsmtHalfBath', 'Functional', 'GarageType',\n",
       "       'GarageArea', 'SaleType', 'SalePrice'],\n",
       "      dtype='object')"
      ]
     },
     "execution_count": 156,
     "metadata": {},
     "output_type": "execute_result"
    }
   ],
   "source": [
    "nullable_cols = data.columns[(data.isnull().sum() > 0)]\n",
    "nullable_cols"
   ]
  },
  {
   "cell_type": "code",
   "execution_count": 157,
   "id": "eb866ab4",
   "metadata": {},
   "outputs": [
    {
     "data": {
      "text/plain": [
       "(Int64Index([2152], dtype='int64', name='Id'),\n",
       " Int64Index([2152], dtype='int64', name='Id'))"
      ]
     },
     "execution_count": 157,
     "metadata": {},
     "output_type": "execute_result"
    }
   ],
   "source": [
    "ext1_nan = data['Exterior1st'].isnull()\n",
    "ext2_nan = data['Exterior2nd'].isnull()\n",
    "\n",
    "data.loc[ext1_nan].index, data.loc[ext2_nan].index"
   ]
  },
  {
   "cell_type": "code",
   "execution_count": 158,
   "id": "9ac2108a",
   "metadata": {},
   "outputs": [
    {
     "data": {
      "text/plain": [
       "array(['VinylSd', 'MetalSd', 'Wd Sdng', 'HdBoard', 'BrkFace', 'WdShing',\n",
       "       'CemntBd', 'Plywood', 'AsbShng', 'Stucco', 'BrkComm', 'AsphShn',\n",
       "       'Stone', 'ImStucc', 'CBlock', 'No'], dtype=object)"
      ]
     },
     "execution_count": 158,
     "metadata": {},
     "output_type": "execute_result"
    }
   ],
   "source": [
    "data.loc[ext1_nan, 'Exterior1st'] = 'No'\n",
    "data.loc[ext1_nan, 'Exterior2nd'] = 'No'\n",
    "data['Exterior1st'].unique()"
   ]
  },
  {
   "cell_type": "markdown",
   "id": "d642a642",
   "metadata": {},
   "source": [
    "#### MasVnrType"
   ]
  },
  {
   "cell_type": "code",
   "execution_count": 159,
   "id": "2a99c4a8",
   "metadata": {},
   "outputs": [
    {
     "data": {
      "text/html": [
       "<div>\n",
       "<style scoped>\n",
       "    .dataframe tbody tr th:only-of-type {\n",
       "        vertical-align: middle;\n",
       "    }\n",
       "\n",
       "    .dataframe tbody tr th {\n",
       "        vertical-align: top;\n",
       "    }\n",
       "\n",
       "    .dataframe thead th {\n",
       "        text-align: right;\n",
       "    }\n",
       "</style>\n",
       "<table border=\"1\" class=\"dataframe\">\n",
       "  <thead>\n",
       "    <tr style=\"text-align: right;\">\n",
       "      <th></th>\n",
       "      <th>MasVnrType</th>\n",
       "      <th>MasVnrArea</th>\n",
       "    </tr>\n",
       "    <tr>\n",
       "      <th>Id</th>\n",
       "      <th></th>\n",
       "      <th></th>\n",
       "    </tr>\n",
       "  </thead>\n",
       "  <tbody>\n",
       "    <tr>\n",
       "      <th>235</th>\n",
       "      <td>NaN</td>\n",
       "      <td>NaN</td>\n",
       "    </tr>\n",
       "    <tr>\n",
       "      <th>530</th>\n",
       "      <td>NaN</td>\n",
       "      <td>NaN</td>\n",
       "    </tr>\n",
       "    <tr>\n",
       "      <th>651</th>\n",
       "      <td>NaN</td>\n",
       "      <td>NaN</td>\n",
       "    </tr>\n",
       "    <tr>\n",
       "      <th>937</th>\n",
       "      <td>NaN</td>\n",
       "      <td>NaN</td>\n",
       "    </tr>\n",
       "    <tr>\n",
       "      <th>974</th>\n",
       "      <td>NaN</td>\n",
       "      <td>NaN</td>\n",
       "    </tr>\n",
       "    <tr>\n",
       "      <th>978</th>\n",
       "      <td>NaN</td>\n",
       "      <td>NaN</td>\n",
       "    </tr>\n",
       "    <tr>\n",
       "      <th>1244</th>\n",
       "      <td>NaN</td>\n",
       "      <td>NaN</td>\n",
       "    </tr>\n",
       "    <tr>\n",
       "      <th>1279</th>\n",
       "      <td>NaN</td>\n",
       "      <td>NaN</td>\n",
       "    </tr>\n",
       "    <tr>\n",
       "      <th>1692</th>\n",
       "      <td>NaN</td>\n",
       "      <td>NaN</td>\n",
       "    </tr>\n",
       "    <tr>\n",
       "      <th>1707</th>\n",
       "      <td>NaN</td>\n",
       "      <td>NaN</td>\n",
       "    </tr>\n",
       "    <tr>\n",
       "      <th>1883</th>\n",
       "      <td>NaN</td>\n",
       "      <td>NaN</td>\n",
       "    </tr>\n",
       "    <tr>\n",
       "      <th>1993</th>\n",
       "      <td>NaN</td>\n",
       "      <td>NaN</td>\n",
       "    </tr>\n",
       "    <tr>\n",
       "      <th>2005</th>\n",
       "      <td>NaN</td>\n",
       "      <td>NaN</td>\n",
       "    </tr>\n",
       "    <tr>\n",
       "      <th>2042</th>\n",
       "      <td>NaN</td>\n",
       "      <td>NaN</td>\n",
       "    </tr>\n",
       "    <tr>\n",
       "      <th>2312</th>\n",
       "      <td>NaN</td>\n",
       "      <td>NaN</td>\n",
       "    </tr>\n",
       "    <tr>\n",
       "      <th>2326</th>\n",
       "      <td>NaN</td>\n",
       "      <td>NaN</td>\n",
       "    </tr>\n",
       "    <tr>\n",
       "      <th>2341</th>\n",
       "      <td>NaN</td>\n",
       "      <td>NaN</td>\n",
       "    </tr>\n",
       "    <tr>\n",
       "      <th>2350</th>\n",
       "      <td>NaN</td>\n",
       "      <td>NaN</td>\n",
       "    </tr>\n",
       "    <tr>\n",
       "      <th>2369</th>\n",
       "      <td>NaN</td>\n",
       "      <td>NaN</td>\n",
       "    </tr>\n",
       "    <tr>\n",
       "      <th>2593</th>\n",
       "      <td>NaN</td>\n",
       "      <td>NaN</td>\n",
       "    </tr>\n",
       "    <tr>\n",
       "      <th>2611</th>\n",
       "      <td>NaN</td>\n",
       "      <td>198.0</td>\n",
       "    </tr>\n",
       "    <tr>\n",
       "      <th>2658</th>\n",
       "      <td>NaN</td>\n",
       "      <td>NaN</td>\n",
       "    </tr>\n",
       "    <tr>\n",
       "      <th>2687</th>\n",
       "      <td>NaN</td>\n",
       "      <td>NaN</td>\n",
       "    </tr>\n",
       "    <tr>\n",
       "      <th>2863</th>\n",
       "      <td>NaN</td>\n",
       "      <td>NaN</td>\n",
       "    </tr>\n",
       "  </tbody>\n",
       "</table>\n",
       "</div>"
      ],
      "text/plain": [
       "     MasVnrType  MasVnrArea\n",
       "Id                         \n",
       "235         NaN         NaN\n",
       "530         NaN         NaN\n",
       "651         NaN         NaN\n",
       "937         NaN         NaN\n",
       "974         NaN         NaN\n",
       "978         NaN         NaN\n",
       "1244        NaN         NaN\n",
       "1279        NaN         NaN\n",
       "1692        NaN         NaN\n",
       "1707        NaN         NaN\n",
       "1883        NaN         NaN\n",
       "1993        NaN         NaN\n",
       "2005        NaN         NaN\n",
       "2042        NaN         NaN\n",
       "2312        NaN         NaN\n",
       "2326        NaN         NaN\n",
       "2341        NaN         NaN\n",
       "2350        NaN         NaN\n",
       "2369        NaN         NaN\n",
       "2593        NaN         NaN\n",
       "2611        NaN       198.0\n",
       "2658        NaN         NaN\n",
       "2687        NaN         NaN\n",
       "2863        NaN         NaN"
      ]
     },
     "execution_count": 159,
     "metadata": {},
     "output_type": "execute_result"
    }
   ],
   "source": [
    "mas_vnr_nan = data['MasVnrType'].isnull()\n",
    "data.loc[mas_vnr_nan, ['MasVnrType', 'MasVnrArea']]"
   ]
  },
  {
   "cell_type": "code",
   "execution_count": 160,
   "id": "7a653e78",
   "metadata": {},
   "outputs": [],
   "source": [
    "data.loc[mas_vnr_nan, 'MasVnrType'] = 'No'\n",
    "data.loc[mas_vnr_nan, 'MasVnrArea'] = 0"
   ]
  },
  {
   "cell_type": "markdown",
   "id": "7073bfc5",
   "metadata": {},
   "source": [
    "#### Bsmt"
   ]
  },
  {
   "cell_type": "code",
   "execution_count": 161,
   "id": "8836d7f4",
   "metadata": {},
   "outputs": [
    {
     "data": {
      "text/plain": [
       "['BsmtFinSF2', 'BsmtUnfSF', 'BsmtFullBath', 'BsmtHalfBath']"
      ]
     },
     "execution_count": 161,
     "metadata": {},
     "output_type": "execute_result"
    }
   ],
   "source": [
    "['BsmtFinSF2', 'BsmtUnfSF', 'BsmtFullBath', 'BsmtHalfBath']"
   ]
  },
  {
   "cell_type": "code",
   "execution_count": 162,
   "id": "23a3b2a7",
   "metadata": {},
   "outputs": [],
   "source": [
    "bsmt2_nans = data['BsmtUnfSF'].isnull()\n",
    "bsmt3_nans = data['BsmtFullBath'].isnull()\n",
    "bsmt4_nans = data['BsmtHalfBath'].isnull()"
   ]
  },
  {
   "cell_type": "code",
   "execution_count": 163,
   "id": "1f52df18",
   "metadata": {
    "scrolled": true
   },
   "outputs": [
    {
     "data": {
      "text/plain": [
       "(Int64Index([2121], dtype='int64', name='Id'),\n",
       " Int64Index([2121, 2189], dtype='int64', name='Id'),\n",
       " Int64Index([2121, 2189], dtype='int64', name='Id'))"
      ]
     },
     "execution_count": 163,
     "metadata": {},
     "output_type": "execute_result"
    }
   ],
   "source": [
    "data.loc[bsmt2_nans].index, data.loc[bsmt3_nans].index, data.loc[bsmt4_nans].index"
   ]
  },
  {
   "cell_type": "code",
   "execution_count": 164,
   "id": "2f7c7a28",
   "metadata": {},
   "outputs": [],
   "source": [
    "data.loc[bsmt2_nans, 'BsmtUnfSF'] = 0\n",
    "data.loc[bsmt3_nans, 'BsmtFullBath'] = 0\n",
    "data.loc[bsmt4_nans, 'BsmtHalfBath'] = 0"
   ]
  },
  {
   "cell_type": "markdown",
   "id": "8bff04b0",
   "metadata": {},
   "source": [
    "#### Functional"
   ]
  },
  {
   "cell_type": "code",
   "execution_count": 165,
   "id": "190c8eff",
   "metadata": {},
   "outputs": [
    {
     "data": {
      "text/plain": [
       "array(['Typ', 'Min1', 'Maj1', 'Min2', 'Mod', 'Maj2', 'Sev', nan],\n",
       "      dtype=object)"
      ]
     },
     "execution_count": 165,
     "metadata": {},
     "output_type": "execute_result"
    }
   ],
   "source": [
    "data['Functional'].unique()"
   ]
  },
  {
   "cell_type": "code",
   "execution_count": 166,
   "id": "1a3b8457",
   "metadata": {},
   "outputs": [],
   "source": [
    "data['Functional'].fillna('No', inplace=True)"
   ]
  },
  {
   "cell_type": "markdown",
   "id": "3fca9b30",
   "metadata": {},
   "source": [
    "#### GarageType"
   ]
  },
  {
   "cell_type": "code",
   "execution_count": 167,
   "id": "cbae3be8",
   "metadata": {},
   "outputs": [],
   "source": [
    "data['GarageType'].fillna('No', inplace=True)"
   ]
  },
  {
   "cell_type": "markdown",
   "id": "3e54e1d2",
   "metadata": {},
   "source": [
    "#### GarageArea"
   ]
  },
  {
   "cell_type": "code",
   "execution_count": 168,
   "id": "0ad457e1",
   "metadata": {},
   "outputs": [],
   "source": [
    "data['GarageArea'].fillna(0, inplace=True)"
   ]
  },
  {
   "cell_type": "markdown",
   "id": "f1b218c1",
   "metadata": {},
   "source": [
    "#### SaleType"
   ]
  },
  {
   "cell_type": "code",
   "execution_count": 169,
   "id": "1fe35029",
   "metadata": {},
   "outputs": [
    {
     "data": {
      "text/plain": [
       "1"
      ]
     },
     "execution_count": 169,
     "metadata": {},
     "output_type": "execute_result"
    }
   ],
   "source": [
    "data['SaleType'].isnull().sum()"
   ]
  },
  {
   "cell_type": "code",
   "execution_count": 170,
   "id": "46f5de67",
   "metadata": {},
   "outputs": [],
   "source": [
    "data['SaleType'].fillna(data['SaleType'].mode()[0], inplace=True)"
   ]
  },
  {
   "cell_type": "markdown",
   "id": "25b4a568",
   "metadata": {},
   "source": [
    "## Feature Engineering"
   ]
  },
  {
   "cell_type": "code",
   "execution_count": 171,
   "id": "46c48fae",
   "metadata": {},
   "outputs": [],
   "source": [
    "# age of the house\n",
    "data['HouseAge'] = data['YrSold'] - data['YearBuilt']\n",
    "\n",
    "# years since the last remodeling\n",
    "data['ModelAge'] = data['YrSold'] - data['YearRemodAdd']\n",
    "\n",
    "# drop previous columns\n",
    "data.drop(['YearBuilt', 'YearRemodAdd'], axis=1, inplace=True)"
   ]
  },
  {
   "cell_type": "code",
   "execution_count": 172,
   "id": "2e36ed4e",
   "metadata": {},
   "outputs": [
    {
     "data": {
      "text/plain": [
       "Index(['SalePrice'], dtype='object')"
      ]
     },
     "execution_count": 172,
     "metadata": {},
     "output_type": "execute_result"
    }
   ],
   "source": [
    "nullable_cols = data.columns[(data.isnull().sum() > 0)]\n",
    "nullable_cols"
   ]
  },
  {
   "cell_type": "code",
   "execution_count": 173,
   "id": "13b7e66c",
   "metadata": {},
   "outputs": [
    {
     "data": {
      "text/plain": [
       "Index(['SalePrice'], dtype='object')"
      ]
     },
     "execution_count": 173,
     "metadata": {},
     "output_type": "execute_result"
    }
   ],
   "source": [
    "for col in nullable_cols:\n",
    "    if col != 'SalePrice':\n",
    "        if len(data[col].unique()) > 200:\n",
    "            data[col].fillna(data[col].median(), inplace=True)\n",
    "            data[col].replace({None: data[col].median()}, inplace=True)\n",
    "        else:\n",
    "            data[col].fillna(data[col].mode()[0], inplace=True)\n",
    "            data[col].replace({None: data[col].mode()[0]}, inplace=True)\n",
    "data.columns[(data.isnull().sum() > 0)]"
   ]
  },
  {
   "cell_type": "markdown",
   "id": "3a3fd70b",
   "metadata": {},
   "source": [
    "## Categorical features"
   ]
  },
  {
   "cell_type": "code",
   "execution_count": 174,
   "id": "adda5d28",
   "metadata": {},
   "outputs": [
    {
     "name": "stdout",
     "output_type": "stream",
     "text": [
      "Condition1\n",
      "Condition2\n",
      "BldgType\n",
      "HouseStyle\n",
      "RoofStyle\n",
      "RoofMatl\n",
      "Exterior1st\n",
      "Exterior2nd\n",
      "MasVnrType\n",
      "Foundation\n",
      "Functional\n",
      "GarageType\n",
      "SaleType\n",
      "SaleCondition\n"
     ]
    }
   ],
   "source": [
    "categ_features = []\n",
    "for col in data.columns:\n",
    "    if data[col].dtype == 'object':\n",
    "        print(col)\n",
    "        categ_features.append(col)"
   ]
  },
  {
   "cell_type": "code",
   "execution_count": 175,
   "id": "c2fd17b9",
   "metadata": {},
   "outputs": [],
   "source": [
    "from sklearn.preprocessing import LabelEncoder\n",
    "le = LabelEncoder()\n",
    "\n",
    "for col in categ_features:\n",
    "    data[col] = le.fit_transform(data[col])"
   ]
  },
  {
   "cell_type": "code",
   "execution_count": 176,
   "id": "64cf1ad0",
   "metadata": {},
   "outputs": [],
   "source": [
    "data.drop_duplicates(inplace=True)"
   ]
  },
  {
   "cell_type": "code",
   "execution_count": 177,
   "id": "de7c6cfe",
   "metadata": {},
   "outputs": [],
   "source": [
    "train_mask = data['SalePrice'].notnull()\n",
    "test_mask = ~data['SalePrice'].notnull()\n",
    "\n",
    "processed_train = data[train_mask]\n",
    "processed_test = data[test_mask].drop('SalePrice', axis=1)"
   ]
  },
  {
   "cell_type": "code",
   "execution_count": 178,
   "id": "f240ce2a",
   "metadata": {},
   "outputs": [],
   "source": [
    "processed_train.to_csv('./processed/train.csv')\n",
    "processed_test.to_csv('./processed/test.csv')"
   ]
  },
  {
   "cell_type": "code",
   "execution_count": 179,
   "id": "056848a1",
   "metadata": {},
   "outputs": [
    {
     "data": {
      "text/html": [
       "<div>\n",
       "<style scoped>\n",
       "    .dataframe tbody tr th:only-of-type {\n",
       "        vertical-align: middle;\n",
       "    }\n",
       "\n",
       "    .dataframe tbody tr th {\n",
       "        vertical-align: top;\n",
       "    }\n",
       "\n",
       "    .dataframe thead th {\n",
       "        text-align: right;\n",
       "    }\n",
       "</style>\n",
       "<table border=\"1\" class=\"dataframe\">\n",
       "  <thead>\n",
       "    <tr style=\"text-align: right;\">\n",
       "      <th></th>\n",
       "      <th>Id</th>\n",
       "      <th>MSSubClass</th>\n",
       "      <th>MSZoning</th>\n",
       "      <th>LotFrontage</th>\n",
       "      <th>LotArea</th>\n",
       "      <th>Street</th>\n",
       "      <th>Alley</th>\n",
       "      <th>LotShape</th>\n",
       "      <th>LandContour</th>\n",
       "      <th>Utilities</th>\n",
       "      <th>...</th>\n",
       "      <th>BsmtFinSF1_Outliers</th>\n",
       "      <th>TotalBsmtSF_Outliers</th>\n",
       "      <th>1stFlrSF_Outliers</th>\n",
       "      <th>GrLivArea_Outliers</th>\n",
       "      <th>GarageYrBltNaNs</th>\n",
       "      <th>WoodDeckSF_Outliers</th>\n",
       "      <th>EnclosedPorch_Outliers</th>\n",
       "      <th>GarageCarsOutlier</th>\n",
       "      <th>HouseAge</th>\n",
       "      <th>ModelAge</th>\n",
       "    </tr>\n",
       "  </thead>\n",
       "  <tbody>\n",
       "    <tr>\n",
       "      <th>0</th>\n",
       "      <td>1</td>\n",
       "      <td>60</td>\n",
       "      <td>4</td>\n",
       "      <td>65.0</td>\n",
       "      <td>8450</td>\n",
       "      <td>1</td>\n",
       "      <td>2</td>\n",
       "      <td>2</td>\n",
       "      <td>3</td>\n",
       "      <td>1</td>\n",
       "      <td>...</td>\n",
       "      <td>0.0</td>\n",
       "      <td>0.0</td>\n",
       "      <td>0.0</td>\n",
       "      <td>0.0</td>\n",
       "      <td>0.0</td>\n",
       "      <td>0.0</td>\n",
       "      <td>0.0</td>\n",
       "      <td>0.0</td>\n",
       "      <td>5</td>\n",
       "      <td>5</td>\n",
       "    </tr>\n",
       "    <tr>\n",
       "      <th>1</th>\n",
       "      <td>2</td>\n",
       "      <td>20</td>\n",
       "      <td>4</td>\n",
       "      <td>80.0</td>\n",
       "      <td>9600</td>\n",
       "      <td>1</td>\n",
       "      <td>2</td>\n",
       "      <td>2</td>\n",
       "      <td>3</td>\n",
       "      <td>1</td>\n",
       "      <td>...</td>\n",
       "      <td>0.0</td>\n",
       "      <td>0.0</td>\n",
       "      <td>0.0</td>\n",
       "      <td>0.0</td>\n",
       "      <td>0.0</td>\n",
       "      <td>0.0</td>\n",
       "      <td>0.0</td>\n",
       "      <td>0.0</td>\n",
       "      <td>31</td>\n",
       "      <td>31</td>\n",
       "    </tr>\n",
       "    <tr>\n",
       "      <th>2</th>\n",
       "      <td>3</td>\n",
       "      <td>60</td>\n",
       "      <td>4</td>\n",
       "      <td>68.0</td>\n",
       "      <td>11250</td>\n",
       "      <td>1</td>\n",
       "      <td>2</td>\n",
       "      <td>3</td>\n",
       "      <td>3</td>\n",
       "      <td>1</td>\n",
       "      <td>...</td>\n",
       "      <td>0.0</td>\n",
       "      <td>0.0</td>\n",
       "      <td>0.0</td>\n",
       "      <td>0.0</td>\n",
       "      <td>0.0</td>\n",
       "      <td>0.0</td>\n",
       "      <td>0.0</td>\n",
       "      <td>0.0</td>\n",
       "      <td>7</td>\n",
       "      <td>6</td>\n",
       "    </tr>\n",
       "    <tr>\n",
       "      <th>3</th>\n",
       "      <td>4</td>\n",
       "      <td>70</td>\n",
       "      <td>4</td>\n",
       "      <td>60.0</td>\n",
       "      <td>9550</td>\n",
       "      <td>1</td>\n",
       "      <td>2</td>\n",
       "      <td>3</td>\n",
       "      <td>3</td>\n",
       "      <td>1</td>\n",
       "      <td>...</td>\n",
       "      <td>0.0</td>\n",
       "      <td>0.0</td>\n",
       "      <td>0.0</td>\n",
       "      <td>0.0</td>\n",
       "      <td>0.0</td>\n",
       "      <td>0.0</td>\n",
       "      <td>0.0</td>\n",
       "      <td>0.0</td>\n",
       "      <td>91</td>\n",
       "      <td>36</td>\n",
       "    </tr>\n",
       "    <tr>\n",
       "      <th>4</th>\n",
       "      <td>5</td>\n",
       "      <td>60</td>\n",
       "      <td>4</td>\n",
       "      <td>84.0</td>\n",
       "      <td>14260</td>\n",
       "      <td>1</td>\n",
       "      <td>2</td>\n",
       "      <td>3</td>\n",
       "      <td>3</td>\n",
       "      <td>1</td>\n",
       "      <td>...</td>\n",
       "      <td>0.0</td>\n",
       "      <td>0.0</td>\n",
       "      <td>0.0</td>\n",
       "      <td>0.0</td>\n",
       "      <td>0.0</td>\n",
       "      <td>0.0</td>\n",
       "      <td>0.0</td>\n",
       "      <td>0.0</td>\n",
       "      <td>8</td>\n",
       "      <td>8</td>\n",
       "    </tr>\n",
       "    <tr>\n",
       "      <th>...</th>\n",
       "      <td>...</td>\n",
       "      <td>...</td>\n",
       "      <td>...</td>\n",
       "      <td>...</td>\n",
       "      <td>...</td>\n",
       "      <td>...</td>\n",
       "      <td>...</td>\n",
       "      <td>...</td>\n",
       "      <td>...</td>\n",
       "      <td>...</td>\n",
       "      <td>...</td>\n",
       "      <td>...</td>\n",
       "      <td>...</td>\n",
       "      <td>...</td>\n",
       "      <td>...</td>\n",
       "      <td>...</td>\n",
       "      <td>...</td>\n",
       "      <td>...</td>\n",
       "      <td>...</td>\n",
       "      <td>...</td>\n",
       "      <td>...</td>\n",
       "    </tr>\n",
       "    <tr>\n",
       "      <th>1449</th>\n",
       "      <td>1456</td>\n",
       "      <td>60</td>\n",
       "      <td>4</td>\n",
       "      <td>62.0</td>\n",
       "      <td>7917</td>\n",
       "      <td>1</td>\n",
       "      <td>2</td>\n",
       "      <td>2</td>\n",
       "      <td>3</td>\n",
       "      <td>1</td>\n",
       "      <td>...</td>\n",
       "      <td>0.0</td>\n",
       "      <td>0.0</td>\n",
       "      <td>0.0</td>\n",
       "      <td>0.0</td>\n",
       "      <td>0.0</td>\n",
       "      <td>0.0</td>\n",
       "      <td>0.0</td>\n",
       "      <td>0.0</td>\n",
       "      <td>8</td>\n",
       "      <td>7</td>\n",
       "    </tr>\n",
       "    <tr>\n",
       "      <th>1450</th>\n",
       "      <td>1457</td>\n",
       "      <td>20</td>\n",
       "      <td>4</td>\n",
       "      <td>85.0</td>\n",
       "      <td>13175</td>\n",
       "      <td>1</td>\n",
       "      <td>2</td>\n",
       "      <td>2</td>\n",
       "      <td>3</td>\n",
       "      <td>1</td>\n",
       "      <td>...</td>\n",
       "      <td>0.0</td>\n",
       "      <td>0.0</td>\n",
       "      <td>0.0</td>\n",
       "      <td>0.0</td>\n",
       "      <td>0.0</td>\n",
       "      <td>0.0</td>\n",
       "      <td>0.0</td>\n",
       "      <td>0.0</td>\n",
       "      <td>32</td>\n",
       "      <td>22</td>\n",
       "    </tr>\n",
       "    <tr>\n",
       "      <th>1451</th>\n",
       "      <td>1458</td>\n",
       "      <td>70</td>\n",
       "      <td>4</td>\n",
       "      <td>66.0</td>\n",
       "      <td>9042</td>\n",
       "      <td>1</td>\n",
       "      <td>2</td>\n",
       "      <td>2</td>\n",
       "      <td>3</td>\n",
       "      <td>1</td>\n",
       "      <td>...</td>\n",
       "      <td>0.0</td>\n",
       "      <td>0.0</td>\n",
       "      <td>0.0</td>\n",
       "      <td>0.0</td>\n",
       "      <td>0.0</td>\n",
       "      <td>0.0</td>\n",
       "      <td>0.0</td>\n",
       "      <td>0.0</td>\n",
       "      <td>69</td>\n",
       "      <td>4</td>\n",
       "    </tr>\n",
       "    <tr>\n",
       "      <th>1452</th>\n",
       "      <td>1459</td>\n",
       "      <td>20</td>\n",
       "      <td>4</td>\n",
       "      <td>68.0</td>\n",
       "      <td>9717</td>\n",
       "      <td>1</td>\n",
       "      <td>2</td>\n",
       "      <td>2</td>\n",
       "      <td>3</td>\n",
       "      <td>1</td>\n",
       "      <td>...</td>\n",
       "      <td>0.0</td>\n",
       "      <td>0.0</td>\n",
       "      <td>0.0</td>\n",
       "      <td>0.0</td>\n",
       "      <td>0.0</td>\n",
       "      <td>0.0</td>\n",
       "      <td>0.0</td>\n",
       "      <td>0.0</td>\n",
       "      <td>60</td>\n",
       "      <td>14</td>\n",
       "    </tr>\n",
       "    <tr>\n",
       "      <th>1453</th>\n",
       "      <td>1460</td>\n",
       "      <td>20</td>\n",
       "      <td>4</td>\n",
       "      <td>75.0</td>\n",
       "      <td>9937</td>\n",
       "      <td>1</td>\n",
       "      <td>2</td>\n",
       "      <td>2</td>\n",
       "      <td>3</td>\n",
       "      <td>1</td>\n",
       "      <td>...</td>\n",
       "      <td>0.0</td>\n",
       "      <td>0.0</td>\n",
       "      <td>0.0</td>\n",
       "      <td>0.0</td>\n",
       "      <td>0.0</td>\n",
       "      <td>0.0</td>\n",
       "      <td>0.0</td>\n",
       "      <td>0.0</td>\n",
       "      <td>43</td>\n",
       "      <td>43</td>\n",
       "    </tr>\n",
       "  </tbody>\n",
       "</table>\n",
       "<p>1454 rows × 87 columns</p>\n",
       "</div>"
      ],
      "text/plain": [
       "        Id  MSSubClass  MSZoning  LotFrontage  LotArea  Street  Alley  \\\n",
       "0        1          60         4         65.0     8450       1      2   \n",
       "1        2          20         4         80.0     9600       1      2   \n",
       "2        3          60         4         68.0    11250       1      2   \n",
       "3        4          70         4         60.0     9550       1      2   \n",
       "4        5          60         4         84.0    14260       1      2   \n",
       "...    ...         ...       ...          ...      ...     ...    ...   \n",
       "1449  1456          60         4         62.0     7917       1      2   \n",
       "1450  1457          20         4         85.0    13175       1      2   \n",
       "1451  1458          70         4         66.0     9042       1      2   \n",
       "1452  1459          20         4         68.0     9717       1      2   \n",
       "1453  1460          20         4         75.0     9937       1      2   \n",
       "\n",
       "      LotShape  LandContour  Utilities  ...  BsmtFinSF1_Outliers  \\\n",
       "0            2            3          1  ...                  0.0   \n",
       "1            2            3          1  ...                  0.0   \n",
       "2            3            3          1  ...                  0.0   \n",
       "3            3            3          1  ...                  0.0   \n",
       "4            3            3          1  ...                  0.0   \n",
       "...        ...          ...        ...  ...                  ...   \n",
       "1449         2            3          1  ...                  0.0   \n",
       "1450         2            3          1  ...                  0.0   \n",
       "1451         2            3          1  ...                  0.0   \n",
       "1452         2            3          1  ...                  0.0   \n",
       "1453         2            3          1  ...                  0.0   \n",
       "\n",
       "      TotalBsmtSF_Outliers  1stFlrSF_Outliers  GrLivArea_Outliers  \\\n",
       "0                      0.0                0.0                 0.0   \n",
       "1                      0.0                0.0                 0.0   \n",
       "2                      0.0                0.0                 0.0   \n",
       "3                      0.0                0.0                 0.0   \n",
       "4                      0.0                0.0                 0.0   \n",
       "...                    ...                ...                 ...   \n",
       "1449                   0.0                0.0                 0.0   \n",
       "1450                   0.0                0.0                 0.0   \n",
       "1451                   0.0                0.0                 0.0   \n",
       "1452                   0.0                0.0                 0.0   \n",
       "1453                   0.0                0.0                 0.0   \n",
       "\n",
       "      GarageYrBltNaNs  WoodDeckSF_Outliers  EnclosedPorch_Outliers  \\\n",
       "0                 0.0                  0.0                     0.0   \n",
       "1                 0.0                  0.0                     0.0   \n",
       "2                 0.0                  0.0                     0.0   \n",
       "3                 0.0                  0.0                     0.0   \n",
       "4                 0.0                  0.0                     0.0   \n",
       "...               ...                  ...                     ...   \n",
       "1449              0.0                  0.0                     0.0   \n",
       "1450              0.0                  0.0                     0.0   \n",
       "1451              0.0                  0.0                     0.0   \n",
       "1452              0.0                  0.0                     0.0   \n",
       "1453              0.0                  0.0                     0.0   \n",
       "\n",
       "      GarageCarsOutlier  HouseAge  ModelAge  \n",
       "0                   0.0         5         5  \n",
       "1                   0.0        31        31  \n",
       "2                   0.0         7         6  \n",
       "3                   0.0        91        36  \n",
       "4                   0.0         8         8  \n",
       "...                 ...       ...       ...  \n",
       "1449                0.0         8         7  \n",
       "1450                0.0        32        22  \n",
       "1451                0.0        69         4  \n",
       "1452                0.0        60        14  \n",
       "1453                0.0        43        43  \n",
       "\n",
       "[1454 rows x 87 columns]"
      ]
     },
     "execution_count": 179,
     "metadata": {},
     "output_type": "execute_result"
    }
   ],
   "source": [
    "pd.read_csv('./processed/train.csv')"
   ]
  }
 ],
 "metadata": {
  "kernelspec": {
   "display_name": "Python 3",
   "language": "python",
   "name": "python3"
  },
  "language_info": {
   "codemirror_mode": {
    "name": "ipython",
    "version": 3
   },
   "file_extension": ".py",
   "mimetype": "text/x-python",
   "name": "python",
   "nbconvert_exporter": "python",
   "pygments_lexer": "ipython3",
   "version": "3.7.9"
  }
 },
 "nbformat": 4,
 "nbformat_minor": 5
}
