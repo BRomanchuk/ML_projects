{
 "cells": [
  {
   "cell_type": "markdown",
   "id": "0fc1fe88",
   "metadata": {},
   "source": [
    "# EDA [House Prices]"
   ]
  },
  {
   "cell_type": "code",
   "execution_count": null,
   "id": "bc9f149c",
   "metadata": {},
   "outputs": [],
   "source": [
    "import numpy as np\n",
    "import pandas as pd\n",
    "import matplotlib.pyplot as plt\n",
    "import seaborn as sns\n",
    "%matplotlib inline"
   ]
  },
  {
   "cell_type": "code",
   "execution_count": null,
   "id": "dddd5a22",
   "metadata": {},
   "outputs": [],
   "source": [
    "train = pd.read_csv('./data/train.csv', index_col='Id')\n",
    "test = pd.read_csv('./data/test.csv', index_col='Id')\n",
    "\n",
    "data = pd.concat([train, test])"
   ]
  },
  {
   "cell_type": "markdown",
   "id": "088c47b6",
   "metadata": {},
   "source": [
    "## Numeric features"
   ]
  },
  {
   "cell_type": "markdown",
   "id": "7a0e9758",
   "metadata": {},
   "source": [
    "#### LotFrontage"
   ]
  },
  {
   "cell_type": "code",
   "execution_count": null,
   "id": "2c474b33",
   "metadata": {},
   "outputs": [],
   "source": [
    "train['LotFrontage'].sort_values(ascending=False).head(5), test['LotFrontage'].sort_values(ascending=False).head(5)"
   ]
  },
  {
   "cell_type": "code",
   "execution_count": null,
   "id": "c6ad3bc7",
   "metadata": {},
   "outputs": [],
   "source": [
    "front_outliers = (data['LotFrontage'] > 300)\n",
    "data.drop(data.loc[front_outliers].index, inplace=True)"
   ]
  },
  {
   "cell_type": "markdown",
   "id": "57ec6fff",
   "metadata": {},
   "source": [
    "#### LotArea"
   ]
  },
  {
   "cell_type": "code",
   "execution_count": null,
   "id": "f79b7b26",
   "metadata": {},
   "outputs": [],
   "source": [
    "train['LotArea'].sort_values(ascending=False).head(5), test['LotArea'].sort_values(ascending=False).head(5)"
   ]
  },
  {
   "cell_type": "code",
   "execution_count": null,
   "id": "3402cbcc",
   "metadata": {},
   "outputs": [],
   "source": [
    "area_outliers = (data['LotArea'] > 100000)\n",
    "data.drop(data.loc[area_outliers].index, inplace=True)"
   ]
  },
  {
   "cell_type": "markdown",
   "id": "4242fa04",
   "metadata": {},
   "source": [
    "#### BsmtFinSF1"
   ]
  },
  {
   "cell_type": "code",
   "execution_count": null,
   "id": "bcc9ab0b",
   "metadata": {},
   "outputs": [],
   "source": [
    "# BsmtFinSF1\n",
    "train['BsmtFinSF1'].sort_values(ascending=False).head(5), test['BsmtFinSF1'].sort_values(ascending=False).head(5)"
   ]
  },
  {
   "cell_type": "code",
   "execution_count": null,
   "id": "6dc06db1",
   "metadata": {},
   "outputs": [],
   "source": [
    "bsmt1_outliers = (data['BsmtFinSF1'] > 3000)\n",
    "data['BsmtFinSF1_Outliers'] = np.zeros(data.shape[0])\n",
    "data.loc[bsmt1_outliers, 'BsmtFinSF1_Outliers'] = 100"
   ]
  },
  {
   "cell_type": "markdown",
   "id": "4d3c7d40",
   "metadata": {},
   "source": [
    "#### TotalBsmtSF"
   ]
  },
  {
   "cell_type": "code",
   "execution_count": null,
   "id": "81c0950f",
   "metadata": {},
   "outputs": [],
   "source": [
    "# TotalBsmtSF\n",
    "train['TotalBsmtSF'].sort_values(ascending=False).head(5), test['TotalBsmtSF'].sort_values(ascending=False).head(5)"
   ]
  },
  {
   "cell_type": "code",
   "execution_count": null,
   "id": "8cce54ee",
   "metadata": {},
   "outputs": [],
   "source": [
    "bsmt_tot_outliers = (data['TotalBsmtSF'] > 4000)\n",
    "data['TotalBsmtSF_Outliers'] = np.zeros(data.shape[0])\n",
    "data.loc[bsmt_tot_outliers, 'TotalBsmtSF_Outliers'] = 100"
   ]
  },
  {
   "cell_type": "markdown",
   "id": "76614d9c",
   "metadata": {},
   "source": [
    "#### 1stFlrSF"
   ]
  },
  {
   "cell_type": "code",
   "execution_count": null,
   "id": "b5832e97",
   "metadata": {},
   "outputs": [],
   "source": [
    "# 1stFlrSF\n",
    "train['1stFlrSF'].sort_values(ascending=False).head(5), test['1stFlrSF'].sort_values(ascending=False).head(5)"
   ]
  },
  {
   "cell_type": "code",
   "execution_count": null,
   "id": "fce5a09d",
   "metadata": {},
   "outputs": [],
   "source": [
    "f_flr_outliers = (data['1stFlrSF'] > 4000)\n",
    "data['1stFlrSF_Outliers'] = np.zeros(data.shape[0])\n",
    "data.loc[f_flr_outliers, '1stFlrSF_Outliers'] = 100"
   ]
  },
  {
   "cell_type": "markdown",
   "id": "1f28414c",
   "metadata": {},
   "source": [
    "#### GrLivArea"
   ]
  },
  {
   "cell_type": "code",
   "execution_count": null,
   "id": "b8a62463",
   "metadata": {
    "scrolled": true
   },
   "outputs": [],
   "source": [
    "# GrLivArea\n",
    "train['GrLivArea'].sort_values(ascending=False).head(5), test['GrLivArea'].sort_values(ascending=False).head(5)"
   ]
  },
  {
   "cell_type": "code",
   "execution_count": null,
   "id": "568633f2",
   "metadata": {},
   "outputs": [],
   "source": [
    "main_outliers = (data['GrLivArea'] > 4500)\n",
    "data['GrLivArea_Outliers'] = np.zeros(data.shape[0])\n",
    "data.loc[main_outliers, 'GrLivArea_Outliers'] = 100"
   ]
  },
  {
   "cell_type": "markdown",
   "id": "9f6b73ef",
   "metadata": {},
   "source": [
    "#### GarageYrBlt"
   ]
  },
  {
   "cell_type": "code",
   "execution_count": null,
   "id": "550e30df",
   "metadata": {},
   "outputs": [],
   "source": [
    "# GarageYrBlt\n",
    "train['GarageYrBlt'].sort_values(ascending=False).head(5), test['GarageYrBlt'].sort_values(ascending=False).head(5)"
   ]
  },
  {
   "cell_type": "code",
   "execution_count": null,
   "id": "7f72879a",
   "metadata": {},
   "outputs": [],
   "source": [
    "garage_year_outlier = data['GarageYrBlt'] > 2010\n",
    "data.loc[garage_year_outlier, 'GarageYrBlt'] = 2007"
   ]
  },
  {
   "cell_type": "markdown",
   "id": "cb7c467c",
   "metadata": {},
   "source": [
    "#### WoodDeckSF"
   ]
  },
  {
   "cell_type": "code",
   "execution_count": null,
   "id": "5ccd5bcf",
   "metadata": {},
   "outputs": [],
   "source": [
    "# WoodDeckSF\n",
    "train['WoodDeckSF'].sort_values(ascending=False).head(5), test['WoodDeckSF'].sort_values(ascending=False).head(5)"
   ]
  },
  {
   "cell_type": "code",
   "execution_count": null,
   "id": "31542dfa",
   "metadata": {},
   "outputs": [],
   "source": [
    "wood_deck_outliers = (data['WoodDeckSF'] > 1000)\n",
    "data['WoodDeckSF_Outliers'] = np.zeros(data.shape[0])\n",
    "data.loc[wood_deck_outliers, 'WoodDeckSF_Outliers'] = 100"
   ]
  },
  {
   "cell_type": "markdown",
   "id": "68531744",
   "metadata": {},
   "source": [
    "#### EnclosedPorch"
   ]
  },
  {
   "cell_type": "code",
   "execution_count": null,
   "id": "df4decc6",
   "metadata": {},
   "outputs": [],
   "source": [
    "# EnclosedPorch\n",
    "train['EnclosedPorch'].sort_values(ascending=False).head(5), test['EnclosedPorch'].sort_values(ascending=False).head(5)"
   ]
  },
  {
   "cell_type": "code",
   "execution_count": null,
   "id": "632ad58b",
   "metadata": {},
   "outputs": [],
   "source": [
    "enc_porch_outliers = (data['EnclosedPorch'] > 1000)\n",
    "data['EnclosedPorch_Outliers'] = np.zeros(data.shape[0])\n",
    "data.loc[enc_porch_outliers, 'EnclosedPorch_Outliers'] = 100"
   ]
  },
  {
   "cell_type": "markdown",
   "id": "7a070342",
   "metadata": {},
   "source": [
    "## Ordinal features\n"
   ]
  },
  {
   "cell_type": "markdown",
   "id": "451aec9c",
   "metadata": {},
   "source": [
    "#### MSZoning"
   ]
  },
  {
   "cell_type": "code",
   "execution_count": null,
   "id": "dd2089b1",
   "metadata": {},
   "outputs": [],
   "source": [
    "data['MSZoning'].value_counts()"
   ]
  },
  {
   "cell_type": "code",
   "execution_count": null,
   "id": "9328abad",
   "metadata": {},
   "outputs": [],
   "source": [
    "plt.scatter(train['MSZoning'], train['SalePrice'])"
   ]
  },
  {
   "cell_type": "code",
   "execution_count": null,
   "id": "b0bdf17b",
   "metadata": {},
   "outputs": [],
   "source": [
    "data['MSZoning'] = data['MSZoning'].map({\n",
    "    'C (all)': 0,\n",
    "    'RH': 1,\n",
    "    'RM': 2,\n",
    "    'FV': 3,\n",
    "    'RL': 4\n",
    "})"
   ]
  },
  {
   "cell_type": "markdown",
   "id": "9268a707",
   "metadata": {},
   "source": [
    "#### Street"
   ]
  },
  {
   "cell_type": "code",
   "execution_count": null,
   "id": "0a99159f",
   "metadata": {},
   "outputs": [],
   "source": [
    "plt.scatter(train['Street'], train['SalePrice'])"
   ]
  },
  {
   "cell_type": "code",
   "execution_count": null,
   "id": "bb527014",
   "metadata": {},
   "outputs": [],
   "source": [
    "data['Street'] = data['Street'].map({\n",
    "    'Grvl': 0,\n",
    "    'Pave': 1\n",
    "})"
   ]
  }
 ],
 "metadata": {
  "kernelspec": {
   "display_name": "Python 3",
   "language": "python",
   "name": "python3"
  },
  "language_info": {
   "codemirror_mode": {
    "name": "ipython",
    "version": 3
   },
   "file_extension": ".py",
   "mimetype": "text/x-python",
   "name": "python",
   "nbconvert_exporter": "python",
   "pygments_lexer": "ipython3",
   "version": "3.7.9"
  }
 },
 "nbformat": 4,
 "nbformat_minor": 5
}
