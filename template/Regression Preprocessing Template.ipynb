{
 "cells": [
  {
   "cell_type": "markdown",
   "id": "aa68454b",
   "metadata": {},
   "source": [
    "## Import libraries"
   ]
  },
  {
   "cell_type": "code",
   "execution_count": null,
   "id": "10d525cd",
   "metadata": {},
   "outputs": [],
   "source": [
    "import numpy as np\n",
    "import pandas as pd\n",
    "import matplotlib.pyplot as plt\n",
    "import seaborn as sns\n",
    "\n",
    "%matplotlib inline"
   ]
  },
  {
   "cell_type": "markdown",
   "id": "600371f4",
   "metadata": {},
   "source": [
    "## Load data"
   ]
  },
  {
   "cell_type": "code",
   "execution_count": null,
   "id": "83097bc4",
   "metadata": {},
   "outputs": [],
   "source": [
    "train = pd.read_csv('./data/train.csv', index_col='id')\n",
    "test = pd.read_csv('./data/test.csv', index_col='id')\n",
    "\n",
    "data = pd.concat([train, test])"
   ]
  },
  {
   "cell_type": "markdown",
   "id": "606d382d",
   "metadata": {},
   "source": [
    "## Plot each feature against the target"
   ]
  },
  {
   "cell_type": "code",
   "execution_count": null,
   "id": "286dac6e",
   "metadata": {},
   "outputs": [],
   "source": [
    "columns = test.columns\n",
    "\n",
    "for col in columns:\n",
    "    fig, ax = plt.subplots()\n",
    "    ax.scatter(train[col].fillna('NaN'), train['target'])\n",
    "    ax.set_title(str(col + ' --- ' + train[col].isnull().sum()))"
   ]
  },
  {
   "cell_type": "markdown",
   "id": "ba942f47",
   "metadata": {},
   "source": [
    "## Feature encoding"
   ]
  },
  {
   "cell_type": "code",
   "execution_count": null,
   "id": "7c81dc5b",
   "metadata": {},
   "outputs": [],
   "source": [
    "from sklearn.preprocessing import LabelEncoder, LabelBinarizer"
   ]
  },
  {
   "cell_type": "code",
   "execution_count": 1,
   "id": "7d1ecc16",
   "metadata": {},
   "outputs": [],
   "source": [
    "cols_for_ordinal_encoding = []\n",
    "cols_for_onehot_encoding = []"
   ]
  },
  {
   "cell_type": "code",
   "execution_count": null,
   "id": "f46e2022",
   "metadata": {},
   "outputs": [],
   "source": [
    "le = LabelEncoder()\n",
    "for col in cols_for_ordinal_encoding:\n",
    "    data[col] = le.fit_transform(data[col])"
   ]
  }
 ],
 "metadata": {
  "kernelspec": {
   "display_name": "Python 3",
   "language": "python",
   "name": "python3"
  },
  "language_info": {
   "codemirror_mode": {
    "name": "ipython",
    "version": 3
   },
   "file_extension": ".py",
   "mimetype": "text/x-python",
   "name": "python",
   "nbconvert_exporter": "python",
   "pygments_lexer": "ipython3",
   "version": "3.7.9"
  }
 },
 "nbformat": 4,
 "nbformat_minor": 5
}
