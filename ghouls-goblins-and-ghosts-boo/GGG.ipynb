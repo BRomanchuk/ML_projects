{
 "cells": [
  {
   "cell_type": "markdown",
   "id": "d844650c",
   "metadata": {},
   "source": [
    "# GGG Competition"
   ]
  },
  {
   "cell_type": "code",
   "execution_count": 429,
   "id": "76a5014a",
   "metadata": {},
   "outputs": [],
   "source": [
    "import numpy as np\n",
    "import pandas as pd\n",
    "import matplotlib.pyplot as plt\n",
    "%matplotlib inline"
   ]
  },
  {
   "cell_type": "code",
   "execution_count": 430,
   "id": "b88ed1dc",
   "metadata": {},
   "outputs": [],
   "source": [
    "data = pd.read_csv('./datasets/train.csv', index_col='id')\n",
    "test = pd.read_csv('./datasets/test.csv', index_col='id')"
   ]
  },
  {
   "cell_type": "code",
   "execution_count": 431,
   "id": "18c62ae1",
   "metadata": {},
   "outputs": [],
   "source": [
    "ghoul_mask = data['type'] == 'Ghoul'\n",
    "goblin_mask = data['type'] == 'Goblin'\n",
    "ghost_mask = data['type'] == 'Ghost'"
   ]
  },
  {
   "cell_type": "code",
   "execution_count": 432,
   "id": "b53a86d7",
   "metadata": {},
   "outputs": [
    {
     "name": "stderr",
     "output_type": "stream",
     "text": [
      "c:\\users\\kmbs\\appdata\\local\\programs\\python\\python37\\lib\\site-packages\\ipykernel_launcher.py:1: UserWarning: Boolean Series key will be reindexed to match DataFrame index.\n",
      "  \"\"\"Entry point for launching an IPython kernel.\n",
      "c:\\users\\kmbs\\appdata\\local\\programs\\python\\python37\\lib\\site-packages\\ipykernel_launcher.py:2: UserWarning: Boolean Series key will be reindexed to match DataFrame index.\n",
      "  \n"
     ]
    }
   ],
   "source": [
    "data.drop(data.sample(frac=1)[ghoul_mask].head(12).index, axis=0, inplace=True)\n",
    "data.drop(data.sample(frac=1)[goblin_mask].head(8).index, axis=0, inplace=True)"
   ]
  },
  {
   "cell_type": "code",
   "execution_count": 433,
   "id": "24e02cf3",
   "metadata": {},
   "outputs": [],
   "source": [
    "df = pd.concat([data.drop('type', axis=1), test], ignore_index=True)"
   ]
  },
  {
   "cell_type": "code",
   "execution_count": 434,
   "id": "e41f9a8d",
   "metadata": {},
   "outputs": [
    {
     "data": {
      "text/html": [
       "<div>\n",
       "<style scoped>\n",
       "    .dataframe tbody tr th:only-of-type {\n",
       "        vertical-align: middle;\n",
       "    }\n",
       "\n",
       "    .dataframe tbody tr th {\n",
       "        vertical-align: top;\n",
       "    }\n",
       "\n",
       "    .dataframe thead th {\n",
       "        text-align: right;\n",
       "    }\n",
       "</style>\n",
       "<table border=\"1\" class=\"dataframe\">\n",
       "  <thead>\n",
       "    <tr style=\"text-align: right;\">\n",
       "      <th></th>\n",
       "      <th>bone_length</th>\n",
       "      <th>rotting_flesh</th>\n",
       "      <th>hair_length</th>\n",
       "      <th>has_soul</th>\n",
       "      <th>color</th>\n",
       "      <th>type</th>\n",
       "    </tr>\n",
       "    <tr>\n",
       "      <th>id</th>\n",
       "      <th></th>\n",
       "      <th></th>\n",
       "      <th></th>\n",
       "      <th></th>\n",
       "      <th></th>\n",
       "      <th></th>\n",
       "    </tr>\n",
       "  </thead>\n",
       "  <tbody>\n",
       "    <tr>\n",
       "      <th>0</th>\n",
       "      <td>0.354512</td>\n",
       "      <td>0.350839</td>\n",
       "      <td>0.465761</td>\n",
       "      <td>0.781142</td>\n",
       "      <td>clear</td>\n",
       "      <td>Ghoul</td>\n",
       "    </tr>\n",
       "    <tr>\n",
       "      <th>1</th>\n",
       "      <td>0.575560</td>\n",
       "      <td>0.425868</td>\n",
       "      <td>0.531401</td>\n",
       "      <td>0.439899</td>\n",
       "      <td>green</td>\n",
       "      <td>Goblin</td>\n",
       "    </tr>\n",
       "    <tr>\n",
       "      <th>2</th>\n",
       "      <td>0.467875</td>\n",
       "      <td>0.354330</td>\n",
       "      <td>0.811616</td>\n",
       "      <td>0.791225</td>\n",
       "      <td>black</td>\n",
       "      <td>Ghoul</td>\n",
       "    </tr>\n",
       "  </tbody>\n",
       "</table>\n",
       "</div>"
      ],
      "text/plain": [
       "    bone_length  rotting_flesh  hair_length  has_soul  color    type\n",
       "id                                                                  \n",
       "0      0.354512       0.350839     0.465761  0.781142  clear   Ghoul\n",
       "1      0.575560       0.425868     0.531401  0.439899  green  Goblin\n",
       "2      0.467875       0.354330     0.811616  0.791225  black   Ghoul"
      ]
     },
     "execution_count": 434,
     "metadata": {},
     "output_type": "execute_result"
    }
   ],
   "source": [
    "data.head(3)"
   ]
  },
  {
   "cell_type": "code",
   "execution_count": 435,
   "id": "52a33494",
   "metadata": {},
   "outputs": [
    {
     "data": {
      "text/html": [
       "<div>\n",
       "<style scoped>\n",
       "    .dataframe tbody tr th:only-of-type {\n",
       "        vertical-align: middle;\n",
       "    }\n",
       "\n",
       "    .dataframe tbody tr th {\n",
       "        vertical-align: top;\n",
       "    }\n",
       "\n",
       "    .dataframe thead th {\n",
       "        text-align: right;\n",
       "    }\n",
       "</style>\n",
       "<table border=\"1\" class=\"dataframe\">\n",
       "  <thead>\n",
       "    <tr style=\"text-align: right;\">\n",
       "      <th></th>\n",
       "      <th>bone_length</th>\n",
       "      <th>rotting_flesh</th>\n",
       "      <th>hair_length</th>\n",
       "      <th>has_soul</th>\n",
       "    </tr>\n",
       "  </thead>\n",
       "  <tbody>\n",
       "    <tr>\n",
       "      <th>bone_length</th>\n",
       "      <td>1.000000</td>\n",
       "      <td>-0.033950</td>\n",
       "      <td>0.394905</td>\n",
       "      <td>0.386640</td>\n",
       "    </tr>\n",
       "    <tr>\n",
       "      <th>rotting_flesh</th>\n",
       "      <td>-0.033950</td>\n",
       "      <td>1.000000</td>\n",
       "      <td>-0.195120</td>\n",
       "      <td>-0.154915</td>\n",
       "    </tr>\n",
       "    <tr>\n",
       "      <th>hair_length</th>\n",
       "      <td>0.394905</td>\n",
       "      <td>-0.195120</td>\n",
       "      <td>1.000000</td>\n",
       "      <td>0.498784</td>\n",
       "    </tr>\n",
       "    <tr>\n",
       "      <th>has_soul</th>\n",
       "      <td>0.386640</td>\n",
       "      <td>-0.154915</td>\n",
       "      <td>0.498784</td>\n",
       "      <td>1.000000</td>\n",
       "    </tr>\n",
       "  </tbody>\n",
       "</table>\n",
       "</div>"
      ],
      "text/plain": [
       "               bone_length  rotting_flesh  hair_length  has_soul\n",
       "bone_length       1.000000      -0.033950     0.394905  0.386640\n",
       "rotting_flesh    -0.033950       1.000000    -0.195120 -0.154915\n",
       "hair_length       0.394905      -0.195120     1.000000  0.498784\n",
       "has_soul          0.386640      -0.154915     0.498784  1.000000"
      ]
     },
     "execution_count": 435,
     "metadata": {},
     "output_type": "execute_result"
    }
   ],
   "source": [
    "df.corr()"
   ]
  },
  {
   "cell_type": "code",
   "execution_count": 436,
   "id": "f69f4059",
   "metadata": {},
   "outputs": [],
   "source": [
    "numeric_cols = ['bone_length', 'rotting_flesh', 'hair_length', 'has_soul']\n",
    "\n",
    "for col in numeric_cols:\n",
    "    df[col] = pd.cut(df[col], 15)"
   ]
  },
  {
   "cell_type": "code",
   "execution_count": 437,
   "id": "c890db0b",
   "metadata": {},
   "outputs": [
    {
     "data": {
      "text/html": [
       "<div>\n",
       "<style scoped>\n",
       "    .dataframe tbody tr th:only-of-type {\n",
       "        vertical-align: middle;\n",
       "    }\n",
       "\n",
       "    .dataframe tbody tr th {\n",
       "        vertical-align: top;\n",
       "    }\n",
       "\n",
       "    .dataframe thead th {\n",
       "        text-align: right;\n",
       "    }\n",
       "</style>\n",
       "<table border=\"1\" class=\"dataframe\">\n",
       "  <thead>\n",
       "    <tr style=\"text-align: right;\">\n",
       "      <th></th>\n",
       "      <th>bone_length</th>\n",
       "      <th>rotting_flesh</th>\n",
       "      <th>hair_length</th>\n",
       "      <th>has_soul</th>\n",
       "      <th>color</th>\n",
       "    </tr>\n",
       "  </thead>\n",
       "  <tbody>\n",
       "    <tr>\n",
       "      <th>0</th>\n",
       "      <td>(0.333, 0.4]</td>\n",
       "      <td>(0.333, 0.4]</td>\n",
       "      <td>(0.4, 0.467]</td>\n",
       "      <td>(0.733, 0.8]</td>\n",
       "      <td>clear</td>\n",
       "    </tr>\n",
       "    <tr>\n",
       "      <th>1</th>\n",
       "      <td>(0.533, 0.6]</td>\n",
       "      <td>(0.4, 0.467]</td>\n",
       "      <td>(0.467, 0.533]</td>\n",
       "      <td>(0.4, 0.467]</td>\n",
       "      <td>green</td>\n",
       "    </tr>\n",
       "    <tr>\n",
       "      <th>2</th>\n",
       "      <td>(0.467, 0.533]</td>\n",
       "      <td>(0.333, 0.4]</td>\n",
       "      <td>(0.8, 0.867]</td>\n",
       "      <td>(0.733, 0.8]</td>\n",
       "      <td>black</td>\n",
       "    </tr>\n",
       "    <tr>\n",
       "      <th>3</th>\n",
       "      <td>(0.533, 0.6]</td>\n",
       "      <td>(0.867, 0.933]</td>\n",
       "      <td>(0.4, 0.467]</td>\n",
       "      <td>(0.6, 0.667]</td>\n",
       "      <td>green</td>\n",
       "    </tr>\n",
       "    <tr>\n",
       "      <th>4</th>\n",
       "      <td>(0.4, 0.467]</td>\n",
       "      <td>(0.2, 0.267]</td>\n",
       "      <td>(0.4, 0.467]</td>\n",
       "      <td>(0.267, 0.333]</td>\n",
       "      <td>green</td>\n",
       "    </tr>\n",
       "  </tbody>\n",
       "</table>\n",
       "</div>"
      ],
      "text/plain": [
       "      bone_length   rotting_flesh     hair_length        has_soul  color\n",
       "0    (0.333, 0.4]    (0.333, 0.4]    (0.4, 0.467]    (0.733, 0.8]  clear\n",
       "1    (0.533, 0.6]    (0.4, 0.467]  (0.467, 0.533]    (0.4, 0.467]  green\n",
       "2  (0.467, 0.533]    (0.333, 0.4]    (0.8, 0.867]    (0.733, 0.8]  black\n",
       "3    (0.533, 0.6]  (0.867, 0.933]    (0.4, 0.467]    (0.6, 0.667]  green\n",
       "4    (0.4, 0.467]    (0.2, 0.267]    (0.4, 0.467]  (0.267, 0.333]  green"
      ]
     },
     "execution_count": 437,
     "metadata": {},
     "output_type": "execute_result"
    }
   ],
   "source": [
    "df.head(5)"
   ]
  },
  {
   "cell_type": "code",
   "execution_count": 438,
   "id": "e2c7a5d8",
   "metadata": {},
   "outputs": [],
   "source": [
    "cols = df.columns"
   ]
  },
  {
   "cell_type": "code",
   "execution_count": 439,
   "id": "9cc1898e",
   "metadata": {},
   "outputs": [],
   "source": [
    "from sklearn.preprocessing import LabelEncoder, LabelBinarizer"
   ]
  },
  {
   "cell_type": "code",
   "execution_count": 440,
   "id": "5a0c2f82",
   "metadata": {},
   "outputs": [],
   "source": [
    "le = LabelEncoder()\n",
    "\n",
    "for col in cols:\n",
    "    df[col] = le.fit_transform(df[col])\n",
    "    \n",
    "y = le.fit_transform(data['type'])\n",
    "types = le.classes_"
   ]
  },
  {
   "cell_type": "code",
   "execution_count": 441,
   "id": "7eb2b59d",
   "metadata": {
    "scrolled": false
   },
   "outputs": [],
   "source": [
    "# ohe = LabelBinarizer()\n",
    "\n",
    "# ohe_cols = ['hair_length', 'has_soul']\n",
    "\n",
    "# for col in ohe_cols:\n",
    "#     one_hot_col = ohe.fit_transform(df[col].to_numpy())\n",
    "    \n",
    "#     cats = df[col].unique()\n",
    "#     for i in range(len(cats)):\n",
    "#         df[cats[i]] = one_hot_col.T[i]"
   ]
  },
  {
   "cell_type": "code",
   "execution_count": 442,
   "id": "8944305d",
   "metadata": {},
   "outputs": [
    {
     "data": {
      "text/html": [
       "<div>\n",
       "<style scoped>\n",
       "    .dataframe tbody tr th:only-of-type {\n",
       "        vertical-align: middle;\n",
       "    }\n",
       "\n",
       "    .dataframe tbody tr th {\n",
       "        vertical-align: top;\n",
       "    }\n",
       "\n",
       "    .dataframe thead th {\n",
       "        text-align: right;\n",
       "    }\n",
       "</style>\n",
       "<table border=\"1\" class=\"dataframe\">\n",
       "  <thead>\n",
       "    <tr style=\"text-align: right;\">\n",
       "      <th></th>\n",
       "      <th>bone_length</th>\n",
       "      <th>rotting_flesh</th>\n",
       "      <th>hair_length</th>\n",
       "      <th>has_soul</th>\n",
       "      <th>color</th>\n",
       "    </tr>\n",
       "  </thead>\n",
       "  <tbody>\n",
       "    <tr>\n",
       "      <th>0</th>\n",
       "      <td>5</td>\n",
       "      <td>5</td>\n",
       "      <td>6</td>\n",
       "      <td>11</td>\n",
       "      <td>3</td>\n",
       "    </tr>\n",
       "    <tr>\n",
       "      <th>1</th>\n",
       "      <td>8</td>\n",
       "      <td>6</td>\n",
       "      <td>7</td>\n",
       "      <td>6</td>\n",
       "      <td>4</td>\n",
       "    </tr>\n",
       "    <tr>\n",
       "      <th>2</th>\n",
       "      <td>7</td>\n",
       "      <td>5</td>\n",
       "      <td>12</td>\n",
       "      <td>11</td>\n",
       "      <td>0</td>\n",
       "    </tr>\n",
       "    <tr>\n",
       "      <th>3</th>\n",
       "      <td>8</td>\n",
       "      <td>13</td>\n",
       "      <td>6</td>\n",
       "      <td>9</td>\n",
       "      <td>4</td>\n",
       "    </tr>\n",
       "    <tr>\n",
       "      <th>4</th>\n",
       "      <td>6</td>\n",
       "      <td>3</td>\n",
       "      <td>6</td>\n",
       "      <td>4</td>\n",
       "      <td>4</td>\n",
       "    </tr>\n",
       "  </tbody>\n",
       "</table>\n",
       "</div>"
      ],
      "text/plain": [
       "   bone_length  rotting_flesh  hair_length  has_soul  color\n",
       "0            5              5            6        11      3\n",
       "1            8              6            7         6      4\n",
       "2            7              5           12        11      0\n",
       "3            8             13            6         9      4\n",
       "4            6              3            6         4      4"
      ]
     },
     "execution_count": 442,
     "metadata": {},
     "output_type": "execute_result"
    }
   ],
   "source": [
    "df.head(5)"
   ]
  },
  {
   "cell_type": "code",
   "execution_count": 443,
   "id": "bd0237f5",
   "metadata": {},
   "outputs": [],
   "source": [
    "df.drop(['color'], axis=1, inplace=True)\n",
    "train = df[:data.shape[0]]\n",
    "test = df[data.shape[0]:]"
   ]
  },
  {
   "cell_type": "code",
   "execution_count": 444,
   "id": "0d9f0a2e",
   "metadata": {},
   "outputs": [
    {
     "data": {
      "text/html": [
       "<div>\n",
       "<style scoped>\n",
       "    .dataframe tbody tr th:only-of-type {\n",
       "        vertical-align: middle;\n",
       "    }\n",
       "\n",
       "    .dataframe tbody tr th {\n",
       "        vertical-align: top;\n",
       "    }\n",
       "\n",
       "    .dataframe thead th {\n",
       "        text-align: right;\n",
       "    }\n",
       "</style>\n",
       "<table border=\"1\" class=\"dataframe\">\n",
       "  <thead>\n",
       "    <tr style=\"text-align: right;\">\n",
       "      <th></th>\n",
       "      <th>bone_length</th>\n",
       "      <th>rotting_flesh</th>\n",
       "      <th>hair_length</th>\n",
       "      <th>has_soul</th>\n",
       "    </tr>\n",
       "  </thead>\n",
       "  <tbody>\n",
       "    <tr>\n",
       "      <th>0</th>\n",
       "      <td>5</td>\n",
       "      <td>5</td>\n",
       "      <td>6</td>\n",
       "      <td>11</td>\n",
       "    </tr>\n",
       "    <tr>\n",
       "      <th>1</th>\n",
       "      <td>8</td>\n",
       "      <td>6</td>\n",
       "      <td>7</td>\n",
       "      <td>6</td>\n",
       "    </tr>\n",
       "    <tr>\n",
       "      <th>2</th>\n",
       "      <td>7</td>\n",
       "      <td>5</td>\n",
       "      <td>12</td>\n",
       "      <td>11</td>\n",
       "    </tr>\n",
       "    <tr>\n",
       "      <th>3</th>\n",
       "      <td>8</td>\n",
       "      <td>13</td>\n",
       "      <td>6</td>\n",
       "      <td>9</td>\n",
       "    </tr>\n",
       "    <tr>\n",
       "      <th>4</th>\n",
       "      <td>6</td>\n",
       "      <td>3</td>\n",
       "      <td>6</td>\n",
       "      <td>4</td>\n",
       "    </tr>\n",
       "  </tbody>\n",
       "</table>\n",
       "</div>"
      ],
      "text/plain": [
       "   bone_length  rotting_flesh  hair_length  has_soul\n",
       "0            5              5            6        11\n",
       "1            8              6            7         6\n",
       "2            7              5           12        11\n",
       "3            8             13            6         9\n",
       "4            6              3            6         4"
      ]
     },
     "execution_count": 444,
     "metadata": {},
     "output_type": "execute_result"
    }
   ],
   "source": [
    "df.head()"
   ]
  },
  {
   "cell_type": "code",
   "execution_count": 450,
   "id": "bc0abc41",
   "metadata": {},
   "outputs": [],
   "source": [
    "from sklearn.ensemble import RandomForestClassifier\n",
    "\n",
    "model = RandomForestClassifier(n_estimators=100, max_depth=3, random_state=2)\n",
    "model.fit(train, y)\n",
    "predictions = model.predict(test)"
   ]
  },
  {
   "cell_type": "code",
   "execution_count": 451,
   "id": "51d304cf",
   "metadata": {},
   "outputs": [],
   "source": [
    "submission_df = pd.read_csv('./datasets/sample_submission.csv', index_col='id')\n",
    "submission_df['type'] = types[predictions]\n",
    "\n",
    "submission_df.to_csv('./results/RandForest_raw.csv')"
   ]
  },
  {
   "cell_type": "code",
   "execution_count": 452,
   "id": "c766f437",
   "metadata": {},
   "outputs": [
    {
     "data": {
      "text/plain": [
       "array([0.11333316, 0.12569622, 0.46930327, 0.29166734])"
      ]
     },
     "execution_count": 452,
     "metadata": {},
     "output_type": "execute_result"
    }
   ],
   "source": [
    "model.feature_importances_"
   ]
  },
  {
   "cell_type": "code",
   "execution_count": 448,
   "id": "d8d9985e",
   "metadata": {},
   "outputs": [],
   "source": [
    "bone_hair = data['bone_length'] / data['hair_length']"
   ]
  },
  {
   "cell_type": "code",
   "execution_count": 449,
   "id": "10de82fb",
   "metadata": {},
   "outputs": [
    {
     "data": {
      "text/plain": [
       "array([0, 1, 2])"
      ]
     },
     "execution_count": 449,
     "metadata": {},
     "output_type": "execute_result"
    },
    {
     "data": {
      "image/png": "[encoded data removed]",
      "text/plain": [
       "<Figure size 432x288 with 1 Axes>"
      ]
     },
     "metadata": {
      "needs_background": "light"
     },
     "output_type": "display_data"
    }
   ],
   "source": [
    "plt.scatter(bone_hair, y)\n",
    "np.unique(y)"
   ]
  },
  {
   "cell_type": "code",
   "execution_count": null,
   "id": "f3f622b5",
   "metadata": {},
   "outputs": [],
   "source": []
  },
  {
   "cell_type": "code",
   "execution_count": null,
   "id": "2725c2b3",
   "metadata": {},
   "outputs": [],
   "source": []
  },
  {
   "cell_type": "code",
   "execution_count": null,
   "id": "8f9ef84a",
   "metadata": {},
   "outputs": [],
   "source": []
  },
  {
   "cell_type": "code",
   "execution_count": null,
   "id": "a8643d7f",
   "metadata": {},
   "outputs": [],
   "source": []
  },
  {
   "cell_type": "code",
   "execution_count": 85,
   "id": "14004d7a",
   "metadata": {},
   "outputs": [],
   "source": [
    "# from sklearn.preprocessing import LabelEncoder\n",
    "\n",
    "# le = LabelEncoder()\n",
    "# data['color'] = le.fit_transform(data['color'])\n",
    "# test['color'] = le.fit_transform(test['color'])\n",
    "\n",
    "# data['type'] = le.fit_transform(data['type'])\n",
    "\n",
    "# y = data['type']\n",
    "# data.drop('type', axis=1, inplace=True)"
   ]
  },
  {
   "cell_type": "code",
   "execution_count": 86,
   "id": "afcc577d",
   "metadata": {},
   "outputs": [
    {
     "data": {
      "text/plain": [
       "array(['Ghost', 'Ghoul', 'Goblin'], dtype=object)"
      ]
     },
     "execution_count": 86,
     "metadata": {},
     "output_type": "execute_result"
    }
   ],
   "source": [
    "# types = le.classes_\n",
    "# types"
   ]
  },
  {
   "cell_type": "code",
   "execution_count": 61,
   "id": "010ab2f5",
   "metadata": {},
   "outputs": [],
   "source": [
    "# from sklearn.ensemble import RandomForestClassifier\n",
    "\n",
    "# model = RandomForestClassifier(n_estimators=100, max_depth=3, random_state=2)\n",
    "# model.fit(data, y)\n",
    "# predictions = model.predict(test)"
   ]
  },
  {
   "cell_type": "code",
   "execution_count": 62,
   "id": "2c82a408",
   "metadata": {},
   "outputs": [],
   "source": [
    "# submission_df = pd.read_csv('./datasets/sample_submission.csv', index_col='id')\n",
    "# submission_df['type'] = types[predictions]\n",
    "\n",
    "# submission_df.to_csv('./results/RandForest_raw.csv')"
   ]
  },
  {
   "cell_type": "code",
   "execution_count": 64,
   "id": "9e964a6d",
   "metadata": {},
   "outputs": [],
   "source": []
  },
  {
   "cell_type": "code",
   "execution_count": null,
   "id": "8c94b07a",
   "metadata": {},
   "outputs": [],
   "source": []
  }
 ],
 "metadata": {
  "kernelspec": {
   "display_name": "Python 3",
   "language": "python",
   "name": "python3"
  },
  "language_info": {
   "codemirror_mode": {
    "name": "ipython",
    "version": 3
   },
   "file_extension": ".py",
   "mimetype": "text/x-python",
   "name": "python",
   "nbconvert_exporter": "python",
   "pygments_lexer": "ipython3",
   "version": "3.7.9"
  }
 },
 "nbformat": 4,
 "nbformat_minor": 5
}
