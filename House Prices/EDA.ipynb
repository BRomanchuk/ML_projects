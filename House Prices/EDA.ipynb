{
 "cells": [
  {
   "cell_type": "markdown",
   "id": "6c63f7b1",
   "metadata": {},
   "source": [
    "# EDA [House Prices]"
   ]
  },
  {
   "cell_type": "code",
   "execution_count": null,
   "id": "cf906f47",
   "metadata": {},
   "outputs": [],
   "source": [
    "import numpy as np\n",
    "import pandas as pd\n",
    "import matplotlib.pyplot as plt\n",
    "import seaborn as sns\n",
    "%matplotlib inline"
   ]
  },
  {
   "cell_type": "code",
   "execution_count": null,
   "id": "95773625",
   "metadata": {},
   "outputs": [],
   "source": [
    "train = pd.read_csv('./data/train.csv', index_col='Id')\n",
    "test = pd.read_csv('./data/test.csv', index_col='Id')\n",
    "\n",
    "data = pd.concat([train, test])"
   ]
  },
  {
   "cell_type": "markdown",
   "id": "19ec86bc",
   "metadata": {},
   "source": [
    "## Numeric features"
   ]
  },
  {
   "cell_type": "markdown",
   "id": "7037d524",
   "metadata": {},
   "source": [
    "#### LotFrontage"
   ]
  },
  {
   "cell_type": "code",
   "execution_count": null,
   "id": "5eb00287",
   "metadata": {},
   "outputs": [],
   "source": [
    "train['LotFrontage'].sort_values(ascending=False).head(5), test['LotFrontage'].sort_values(ascending=False).head(5)"
   ]
  },
  {
   "cell_type": "code",
   "execution_count": null,
   "id": "4a233978",
   "metadata": {},
   "outputs": [],
   "source": [
    "front_outliers = (data['LotFrontage'] > 300)\n",
    "data.drop(data.loc[front_outliers].index, inplace=True)"
   ]
  },
  {
   "cell_type": "markdown",
   "id": "3a0a9b4e",
   "metadata": {},
   "source": [
    "#### LotArea"
   ]
  },
  {
   "cell_type": "code",
   "execution_count": null,
   "id": "1fdf4975",
   "metadata": {},
   "outputs": [],
   "source": [
    "train['LotArea'].sort_values(ascending=False).head(5), test['LotArea'].sort_values(ascending=False).head(5)"
   ]
  },
  {
   "cell_type": "code",
   "execution_count": null,
   "id": "b99cd8e9",
   "metadata": {},
   "outputs": [],
   "source": [
    "area_outliers = (data['LotArea'] > 100000)\n",
    "data.drop(data.loc[area_outliers].index, inplace=True)"
   ]
  },
  {
   "cell_type": "markdown",
   "id": "235b758c",
   "metadata": {},
   "source": [
    "#### BsmtFinSF1"
   ]
  },
  {
   "cell_type": "code",
   "execution_count": null,
   "id": "4de09a10",
   "metadata": {},
   "outputs": [],
   "source": [
    "# BsmtFinSF1\n",
    "train['BsmtFinSF1'].sort_values(ascending=False).head(5), test['BsmtFinSF1'].sort_values(ascending=False).head(5)"
   ]
  },
  {
   "cell_type": "code",
   "execution_count": null,
   "id": "48360bbf",
   "metadata": {},
   "outputs": [],
   "source": [
    "bsmt1_outliers = (data['BsmtFinSF1'] > 3000)\n",
    "data['BsmtFinSF1_Outliers'] = np.zeros(data.shape[0])\n",
    "data.loc[bsmt1_outliers, 'BsmtFinSF1_Outliers'] = 100"
   ]
  },
  {
   "cell_type": "markdown",
   "id": "fa4768d8",
   "metadata": {},
   "source": [
    "#### TotalBsmtSF"
   ]
  },
  {
   "cell_type": "code",
   "execution_count": null,
   "id": "3a48d877",
   "metadata": {},
   "outputs": [],
   "source": [
    "# TotalBsmtSF\n",
    "train['TotalBsmtSF'].sort_values(ascending=False).head(5), test['TotalBsmtSF'].sort_values(ascending=False).head(5)"
   ]
  },
  {
   "cell_type": "code",
   "execution_count": null,
   "id": "d1350fc4",
   "metadata": {},
   "outputs": [],
   "source": [
    "bsmt_tot_outliers = (data['TotalBsmtSF'] > 4000)\n",
    "data['TotalBsmtSF_Outliers'] = np.zeros(data.shape[0])\n",
    "data.loc[bsmt_tot_outliers, 'TotalBsmtSF_Outliers'] = 100"
   ]
  },
  {
   "cell_type": "markdown",
   "id": "23f7ca33",
   "metadata": {},
   "source": [
    "#### 1stFlrSF"
   ]
  },
  {
   "cell_type": "code",
   "execution_count": null,
   "id": "8817ff55",
   "metadata": {},
   "outputs": [],
   "source": [
    "# 1stFlrSF\n",
    "train['1stFlrSF'].sort_values(ascending=False).head(5), test['1stFlrSF'].sort_values(ascending=False).head(5)"
   ]
  },
  {
   "cell_type": "code",
   "execution_count": null,
   "id": "7d39aad2",
   "metadata": {},
   "outputs": [],
   "source": [
    "f_flr_outliers = (data['1stFlrSF'] > 4000)\n",
    "data['1stFlrSF_Outliers'] = np.zeros(data.shape[0])\n",
    "data.loc[f_flr_outliers, '1stFlrSF_Outliers'] = 100"
   ]
  },
  {
   "cell_type": "markdown",
   "id": "7eec89a0",
   "metadata": {},
   "source": [
    "#### GrLivArea"
   ]
  },
  {
   "cell_type": "code",
   "execution_count": null,
   "id": "6bd67dc3",
   "metadata": {
    "scrolled": true
   },
   "outputs": [],
   "source": [
    "# GrLivArea\n",
    "train['GrLivArea'].sort_values(ascending=False).head(5), test['GrLivArea'].sort_values(ascending=False).head(5)"
   ]
  },
  {
   "cell_type": "code",
   "execution_count": null,
   "id": "3aac1b52",
   "metadata": {},
   "outputs": [],
   "source": [
    "main_outliers = (data['GrLivArea'] > 4500)\n",
    "data['GrLivArea_Outliers'] = np.zeros(data.shape[0])\n",
    "data.loc[main_outliers, 'GrLivArea_Outliers'] = 100"
   ]
  },
  {
   "cell_type": "markdown",
   "id": "f59a3712",
   "metadata": {},
   "source": [
    "#### GarageYrBlt"
   ]
  },
  {
   "cell_type": "code",
   "execution_count": null,
   "id": "a6304e45",
   "metadata": {},
   "outputs": [],
   "source": [
    "# GarageYrBlt\n",
    "train['GarageYrBlt'].sort_values(ascending=False).head(5), test['GarageYrBlt'].sort_values(ascending=False).head(5)"
   ]
  },
  {
   "cell_type": "code",
   "execution_count": null,
   "id": "4b4f7a73",
   "metadata": {},
   "outputs": [],
   "source": [
    "garage_year_outlier = data['GarageYrBlt'] > 2010\n",
    "data.loc[garage_year_outlier, 'GarageYrBlt'] = 2007"
   ]
  },
  {
   "cell_type": "markdown",
   "id": "5fc689fd",
   "metadata": {},
   "source": [
    "#### WoodDeckSF"
   ]
  },
  {
   "cell_type": "code",
   "execution_count": null,
   "id": "f3dc78ef",
   "metadata": {},
   "outputs": [],
   "source": [
    "# WoodDeckSF\n",
    "train['WoodDeckSF'].sort_values(ascending=False).head(5), test['WoodDeckSF'].sort_values(ascending=False).head(5)"
   ]
  },
  {
   "cell_type": "code",
   "execution_count": null,
   "id": "fad08f52",
   "metadata": {},
   "outputs": [],
   "source": [
    "wood_deck_outliers = (data['WoodDeckSF'] > 1000)\n",
    "data['WoodDeckSF_Outliers'] = np.zeros(data.shape[0])\n",
    "data.loc[wood_deck_outliers, 'WoodDeckSF_Outliers'] = 100"
   ]
  },
  {
   "cell_type": "markdown",
   "id": "15ae63d6",
   "metadata": {},
   "source": [
    "#### EnclosedPorch"
   ]
  },
  {
   "cell_type": "code",
   "execution_count": null,
   "id": "d5e71529",
   "metadata": {},
   "outputs": [],
   "source": [
    "# EnclosedPorch\n",
    "train['EnclosedPorch'].sort_values(ascending=False).head(5), test['EnclosedPorch'].sort_values(ascending=False).head(5)"
   ]
  },
  {
   "cell_type": "code",
   "execution_count": null,
   "id": "56c12b2e",
   "metadata": {},
   "outputs": [],
   "source": [
    "enc_porch_outliers = (data['EnclosedPorch'] > 1000)\n",
    "data['EnclosedPorch_Outliers'] = np.zeros(data.shape[0])\n",
    "data.loc[enc_porch_outliers, 'EnclosedPorch_Outliers'] = 100"
   ]
  },
  {
   "cell_type": "markdown",
   "id": "d8c6217e",
   "metadata": {},
   "source": [
    "## Ordinal features\n"
   ]
  },
  {
   "cell_type": "markdown",
   "id": "ac873f16",
   "metadata": {},
   "source": [
    "#### MSZoning"
   ]
  },
  {
   "cell_type": "code",
   "execution_count": null,
   "id": "565d2f9d",
   "metadata": {},
   "outputs": [],
   "source": [
    "data['MSZoning'].value_counts()"
   ]
  },
  {
   "cell_type": "code",
   "execution_count": null,
   "id": "87405e25",
   "metadata": {},
   "outputs": [],
   "source": [
    "plt.scatter(train['MSZoning'], train['SalePrice'])"
   ]
  },
  {
   "cell_type": "code",
   "execution_count": null,
   "id": "295336a0",
   "metadata": {},
   "outputs": [],
   "source": [
    "data['MSZoning'] = data['MSZoning'].map({\n",
    "    'C (all)': 0,\n",
    "    'RH': 1,\n",
    "    'RM': 2,\n",
    "    'FV': 3,\n",
    "    'RL': 4\n",
    "})"
   ]
  },
  {
   "cell_type": "markdown",
   "id": "3161fcc3",
   "metadata": {},
   "source": [
    "#### Street"
   ]
  },
  {
   "cell_type": "code",
   "execution_count": null,
   "id": "14355f89",
   "metadata": {},
   "outputs": [],
   "source": [
    "plt.scatter(train['Street'], train['SalePrice'])"
   ]
  },
  {
   "cell_type": "code",
   "execution_count": null,
   "id": "21775dbf",
   "metadata": {},
   "outputs": [],
   "source": [
    "data['Street'] = data['Street'].map({\n",
    "    'Grvl': 0,\n",
    "    'Pave': 1\n",
    "})"
   ]
  },
  {
   "cell_type": "markdown",
   "id": "152fabba",
   "metadata": {},
   "source": [
    "#### Alley"
   ]
  },
  {
   "cell_type": "code",
   "execution_count": null,
   "id": "d7047831",
   "metadata": {},
   "outputs": [],
   "source": [
    "# Alley\n",
    "plt.scatter(train['Alley'].fillna('No'), train['SalePrice'])"
   ]
  },
  {
   "cell_type": "code",
   "execution_count": null,
   "id": "9ce7ac49",
   "metadata": {},
   "outputs": [],
   "source": [
    "data['Alley'].fillna('No', inplace=True)"
   ]
  },
  {
   "cell_type": "code",
   "execution_count": null,
   "id": "4a090455",
   "metadata": {},
   "outputs": [],
   "source": [
    "data['Alley'] = data['Alley'].map({\n",
    "    'Grvl': 0,\n",
    "    'Pave': 1,\n",
    "    'No': 2\n",
    "})"
   ]
  },
  {
   "cell_type": "markdown",
   "id": "7dc2f4dd",
   "metadata": {},
   "source": [
    "#### LotShape"
   ]
  },
  {
   "cell_type": "code",
   "execution_count": null,
   "id": "cc9203b0",
   "metadata": {},
   "outputs": [],
   "source": [
    "plt.scatter(train['LotShape'], train['SalePrice'])"
   ]
  },
  {
   "cell_type": "code",
   "execution_count": null,
   "id": "5db213cf",
   "metadata": {},
   "outputs": [],
   "source": [
    "data['LotShape'] = data['LotShape'].map({\n",
    "    'IR3': 0,\n",
    "    'IR2': 1,\n",
    "    'Reg': 2,\n",
    "    'IR1': 3\n",
    "})"
   ]
  },
  {
   "cell_type": "markdown",
   "id": "34d2c3c4",
   "metadata": {},
   "source": [
    "#### LandContour"
   ]
  },
  {
   "cell_type": "code",
   "execution_count": null,
   "id": "34f4f4ed",
   "metadata": {},
   "outputs": [],
   "source": [
    "plt.scatter(train['LandContour'], train['SalePrice'])"
   ]
  },
  {
   "cell_type": "code",
   "execution_count": null,
   "id": "cd8bdc5a",
   "metadata": {},
   "outputs": [],
   "source": [
    "data['LandContour'] = data['LandContour'].map({\n",
    "    'Bnk': 0,\n",
    "    'Low': 1,\n",
    "    'HLS': 2,\n",
    "    'Lvl': 3\n",
    "})"
   ]
  },
  {
   "cell_type": "markdown",
   "id": "9a27b19a",
   "metadata": {},
   "source": [
    "#### Utilities"
   ]
  },
  {
   "cell_type": "code",
   "execution_count": null,
   "id": "7343faa2",
   "metadata": {},
   "outputs": [],
   "source": [
    "data['Utilities'].value_counts()"
   ]
  },
  {
   "cell_type": "code",
   "execution_count": null,
   "id": "781dbed8",
   "metadata": {},
   "outputs": [],
   "source": [
    "data['Utilities'] = data['Utilities'].map({\n",
    "    'AllPub': 1,\n",
    "    'NoSeWa': 0\n",
    "})"
   ]
  },
  {
   "cell_type": "markdown",
   "id": "0399f830",
   "metadata": {},
   "source": [
    "#### LotConfig"
   ]
  },
  {
   "cell_type": "code",
   "execution_count": null,
   "id": "95f240f8",
   "metadata": {},
   "outputs": [],
   "source": [
    "plt.scatter(train['LotConfig'], train['SalePrice'])"
   ]
  },
  {
   "cell_type": "code",
   "execution_count": null,
   "id": "2e6f37cd",
   "metadata": {},
   "outputs": [],
   "source": [
    "data['LotConfig'] = data['LotConfig'].map({\n",
    "    'FR3': 0,\n",
    "    'FR2': 1,\n",
    "    'Corner': 2,\n",
    "    'Inside': 3,\n",
    "    'CulDSac': 4\n",
    "})"
   ]
  },
  {
   "cell_type": "markdown",
   "id": "1f4352c4",
   "metadata": {},
   "source": [
    "#### LandSlope"
   ]
  },
  {
   "cell_type": "code",
   "execution_count": null,
   "id": "2c259212",
   "metadata": {},
   "outputs": [],
   "source": [
    "plt.scatter(train['LandSlope'], train['SalePrice'])"
   ]
  },
  {
   "cell_type": "code",
   "execution_count": null,
   "id": "731eb987",
   "metadata": {},
   "outputs": [],
   "source": [
    "data['LandSlope'] = data['LandSlope'].map({\n",
    "    'Sev': 0,\n",
    "    'Mod': 1,\n",
    "    'Gtl': 2\n",
    "})"
   ]
  },
  {
   "cell_type": "markdown",
   "id": "92a1448b",
   "metadata": {},
   "source": [
    "#### Neighborhood"
   ]
  },
  {
   "cell_type": "code",
   "execution_count": null,
   "id": "5088081f",
   "metadata": {},
   "outputs": [],
   "source": [
    "plt.scatter(train['Neighborhood'], train['SalePrice'])"
   ]
  },
  {
   "cell_type": "code",
   "execution_count": null,
   "id": "8cc4c474",
   "metadata": {},
   "outputs": [],
   "source": [
    "train['Neighborhood'].unique()"
   ]
  },
  {
   "cell_type": "code",
   "execution_count": null,
   "id": "056474f7",
   "metadata": {},
   "outputs": [],
   "source": [
    "temp = train['Neighborhood'].map({\n",
    "    'CollgCr': 15,\n",
    "    'Veenker': 20,\n",
    "    'Crawfor': 14,\n",
    "    'NoRidge': 24,\n",
    "    'Mitchel': 10,\n",
    "    'Somerst': 18,\n",
    "    'NWAmes': 17,\n",
    "    'OldTown': 2,\n",
    "    'BrkSide': 1,\n",
    "    'Sawyer': 5,\n",
    "    'NridgHt': 23,\n",
    "    'NAmes': 11,\n",
    "    'SawyerW': 13,\n",
    "    'IDOTRR': 0,\n",
    "    'MeadowV': 4,\n",
    "    'Edwards': 9,\n",
    "    'Timber': 21,\n",
    "    'Gilbert': 19,\n",
    "    'StoneBr': 22,\n",
    "    'ClearCr': 16,\n",
    "    'NPkVill': 8,\n",
    "    'Blmngtn': 12,\n",
    "    'BrDale': 3,\n",
    "    'SWISU': 6,\n",
    "    'Blueste': 7 \n",
    "})"
   ]
  },
  {
   "cell_type": "code",
   "execution_count": null,
   "id": "c9ddaf4d",
   "metadata": {},
   "outputs": [],
   "source": [
    "plt.scatter(temp, train['SalePrice'])"
   ]
  },
  {
   "cell_type": "code",
   "execution_count": null,
   "id": "1b9395e3",
   "metadata": {},
   "outputs": [],
   "source": [
    "data['Neighborhood'] = data['Neighborhood'].map({\n",
    "    'CollgCr': 15,\n",
    "    'Veenker': 20,\n",
    "    'Crawfor': 14,\n",
    "    'NoRidge': 24,\n",
    "    'Mitchel': 10,\n",
    "    'Somerst': 18,\n",
    "    'NWAmes': 17,\n",
    "    'OldTown': 2,\n",
    "    'BrkSide': 1,\n",
    "    'Sawyer': 5,\n",
    "    'NridgHt': 23,\n",
    "    'NAmes': 11,\n",
    "    'SawyerW': 13,\n",
    "    'IDOTRR': 0,\n",
    "    'MeadowV': 4,\n",
    "    'Edwards': 9,\n",
    "    'Timber': 21,\n",
    "    'Gilbert': 19,\n",
    "    'StoneBr': 22,\n",
    "    'ClearCr': 16,\n",
    "    'NPkVill': 8,\n",
    "    'Blmngtn': 12,\n",
    "    'BrDale': 3,\n",
    "    'SWISU': 6,\n",
    "    'Blueste': 7 \n",
    "})"
   ]
  },
  {
   "cell_type": "markdown",
   "id": "de06f18c",
   "metadata": {},
   "source": [
    "#### OverallQual"
   ]
  },
  {
   "cell_type": "code",
   "execution_count": null,
   "id": "44b78a85",
   "metadata": {},
   "outputs": [],
   "source": [
    "plt.scatter(train['OverallQual'], train['SalePrice'])"
   ]
  },
  {
   "cell_type": "markdown",
   "id": "b2ba0d90",
   "metadata": {},
   "source": [
    "#### OverallCond"
   ]
  },
  {
   "cell_type": "code",
   "execution_count": null,
   "id": "a3f462b5",
   "metadata": {},
   "outputs": [],
   "source": [
    "plt.scatter(train['OverallCond'], train['SalePrice'])"
   ]
  },
  {
   "cell_type": "markdown",
   "id": "e49b647a",
   "metadata": {},
   "source": [
    "#### ExterQual"
   ]
  },
  {
   "cell_type": "code",
   "execution_count": null,
   "id": "9afb81d1",
   "metadata": {},
   "outputs": [],
   "source": [
    "plt.scatter(train['ExterQual'], train['SalePrice'])"
   ]
  },
  {
   "cell_type": "code",
   "execution_count": null,
   "id": "cf1b3401",
   "metadata": {},
   "outputs": [],
   "source": [
    "# 'Po' --> 0 ('Poor quality')\n",
    "data['ExterQual'] = data['ExterQual'].map({\n",
    "    'Fa': 1,\n",
    "    'TA': 2,\n",
    "    'Gd': 3,\n",
    "    'Ex': 4\n",
    "})"
   ]
  },
  {
   "cell_type": "markdown",
   "id": "bf553b76",
   "metadata": {},
   "source": [
    "#### ExterCond"
   ]
  },
  {
   "cell_type": "code",
   "execution_count": null,
   "id": "0258f8b6",
   "metadata": {},
   "outputs": [],
   "source": [
    "plt.scatter(train['ExterCond'], train['SalePrice'])"
   ]
  },
  {
   "cell_type": "code",
   "execution_count": null,
   "id": "03f495f6",
   "metadata": {},
   "outputs": [],
   "source": [
    "data['ExterCond'] = data['ExterCond'].map({\n",
    "    'Po': 0,\n",
    "    'Fa': 1,\n",
    "    'TA': 2,\n",
    "    'Gd': 3,\n",
    "    'Ex': 4\n",
    "})"
   ]
  },
  {
   "cell_type": "markdown",
   "id": "9651ee3b",
   "metadata": {},
   "source": [
    "#### BsmtQual"
   ]
  },
  {
   "cell_type": "code",
   "execution_count": null,
   "id": "03011e6e",
   "metadata": {
    "scrolled": true
   },
   "outputs": [],
   "source": [
    "plt.scatter(train['BsmtQual'].fillna('NoBsmt'), train['SalePrice'])"
   ]
  },
  {
   "cell_type": "code",
   "execution_count": null,
   "id": "94fb1957",
   "metadata": {},
   "outputs": [],
   "source": [
    "data['BsmtQual'].fillna('NoBsmt', inplace=True)"
   ]
  },
  {
   "cell_type": "code",
   "execution_count": null,
   "id": "5def21e2",
   "metadata": {},
   "outputs": [],
   "source": [
    "data['BsmtQual'] = data['BsmtQual'].map({\n",
    "    'NoBsmt': 0,\n",
    "    'Fa': 1,\n",
    "    'TA': 2,\n",
    "    'Gd': 3,\n",
    "    'Ex': 4\n",
    "})"
   ]
  },
  {
   "cell_type": "markdown",
   "id": "330036a9",
   "metadata": {},
   "source": [
    "#### BsmtCond"
   ]
  },
  {
   "cell_type": "code",
   "execution_count": null,
   "id": "3608c1f9",
   "metadata": {},
   "outputs": [],
   "source": [
    "plt.scatter(train['BsmtCond'].fillna('NoBsmt'), train['SalePrice'])"
   ]
  },
  {
   "cell_type": "code",
   "execution_count": null,
   "id": "c0db7dcd",
   "metadata": {},
   "outputs": [],
   "source": [
    "data['BsmtCond'].fillna('NoBsmt', inplace=True)"
   ]
  },
  {
   "cell_type": "code",
   "execution_count": null,
   "id": "182ce923",
   "metadata": {},
   "outputs": [],
   "source": [
    "data['BsmtCond'] = data['BsmtCond'].map({\n",
    "    'Po': 0,\n",
    "    'NoBsmt': 1,\n",
    "    'Fa': 2,\n",
    "    'TA': 3,\n",
    "    'Gd': 4,\n",
    "    'Ex': 5\n",
    "})"
   ]
  },
  {
   "cell_type": "markdown",
   "id": "df7db5d3",
   "metadata": {},
   "source": [
    "#### BsmtExposure"
   ]
  },
  {
   "cell_type": "code",
   "execution_count": null,
   "id": "2c74a586",
   "metadata": {},
   "outputs": [],
   "source": [
    "plt.scatter(train['BsmtExposure'].fillna('NoBsmt'), train['SalePrice'])"
   ]
  },
  {
   "cell_type": "code",
   "execution_count": null,
   "id": "ba9a8e1c",
   "metadata": {},
   "outputs": [],
   "source": [
    "data['BsmtExposure'].fillna('NoBsmt', inplace=True)"
   ]
  },
  {
   "cell_type": "code",
   "execution_count": null,
   "id": "338496ae",
   "metadata": {},
   "outputs": [],
   "source": [
    "data['BsmtExposure'] = data['BsmtExposure'].map({\n",
    "    'NoBsmt': 0,\n",
    "    'No': 1, \n",
    "    'Mn': 2,\n",
    "    'Av': 3,\n",
    "    'Gd': 4\n",
    "})"
   ]
  },
  {
   "cell_type": "markdown",
   "id": "4f105636",
   "metadata": {},
   "source": [
    "#### BsmtFinType1"
   ]
  },
  {
   "cell_type": "code",
   "execution_count": null,
   "id": "aad11175",
   "metadata": {},
   "outputs": [],
   "source": [
    "plt.scatter(train['BsmtFinType1'].fillna('NoBsmt'), train['SalePrice'])"
   ]
  },
  {
   "cell_type": "code",
   "execution_count": null,
   "id": "ca066bfb",
   "metadata": {},
   "outputs": [],
   "source": [
    "data['BsmtFinType1'].fillna('NoBsmt', inplace=True)"
   ]
  },
  {
   "cell_type": "code",
   "execution_count": null,
   "id": "b582582c",
   "metadata": {},
   "outputs": [],
   "source": [
    "data['BsmtFinType1'] = data['BsmtFinType1'].map({\n",
    "    'NoBsmt': 0,\n",
    "    'Unf': 1,\n",
    "    'LwQ': 2,\n",
    "    'Rec': 3,\n",
    "    'BLQ': 4,\n",
    "    'ALQ': 5,\n",
    "    'GLQ': 6\n",
    "})"
   ]
  },
  {
   "cell_type": "markdown",
   "id": "d5508d32",
   "metadata": {},
   "source": [
    "#### BsmtFinType2"
   ]
  },
  {
   "cell_type": "code",
   "execution_count": null,
   "id": "e47de6a4",
   "metadata": {},
   "outputs": [],
   "source": [
    "plt.scatter(train['BsmtFinType2'].fillna('NoBsmt'), train['SalePrice'])"
   ]
  },
  {
   "cell_type": "code",
   "execution_count": null,
   "id": "6fd7dfb0",
   "metadata": {},
   "outputs": [],
   "source": [
    "data['BsmtFinType2'].fillna('NoBsmt', inplace=True)"
   ]
  },
  {
   "cell_type": "code",
   "execution_count": null,
   "id": "4c292201",
   "metadata": {},
   "outputs": [],
   "source": [
    "data['BsmtFinType2'] = data['BsmtFinType2'].map({\n",
    "    'NoBsmt': 0,\n",
    "    'Unf': 1,\n",
    "    'LwQ': 2,\n",
    "    'Rec': 3,\n",
    "    'BLQ': 4,\n",
    "    'ALQ': 5,\n",
    "    'GLQ': 6\n",
    "})"
   ]
  },
  {
   "cell_type": "markdown",
   "id": "8f24abb1",
   "metadata": {},
   "source": [
    "#### Heating"
   ]
  },
  {
   "cell_type": "code",
   "execution_count": null,
   "id": "72d5c588",
   "metadata": {},
   "outputs": [],
   "source": [
    "plt.scatter(train['Heating'], train['SalePrice'])"
   ]
  },
  {
   "cell_type": "code",
   "execution_count": null,
   "id": "a82b25a1",
   "metadata": {},
   "outputs": [],
   "source": [
    "data['Heating'].value_counts()"
   ]
  },
  {
   "cell_type": "code",
   "execution_count": null,
   "id": "825b145b",
   "metadata": {},
   "outputs": [],
   "source": [
    "data['Heating'] = data['Heating'].map({\n",
    "    'Floor': 0,\n",
    "    'Wall': 1,\n",
    "    'OthW': 2,\n",
    "    'Grav': 3,\n",
    "    'GasW': 10,\n",
    "    'GasA': 20\n",
    "})"
   ]
  },
  {
   "cell_type": "markdown",
   "id": "68ff61de",
   "metadata": {},
   "source": [
    "#### HeatingQC"
   ]
  },
  {
   "cell_type": "code",
   "execution_count": null,
   "id": "3a6c1d6a",
   "metadata": {},
   "outputs": [],
   "source": [
    "plt.scatter(train['HeatingQC'], train['SalePrice'])"
   ]
  },
  {
   "cell_type": "code",
   "execution_count": null,
   "id": "46f4d7cd",
   "metadata": {},
   "outputs": [],
   "source": [
    "data['HeatingQC'] = data['HeatingQC'].map({\n",
    "    'Po': 0,\n",
    "    'Fa': 1,\n",
    "    'TA': 2,\n",
    "    'Gd': 3,\n",
    "    'Ex': 4\n",
    "})"
   ]
  },
  {
   "cell_type": "markdown",
   "id": "6282ab6b",
   "metadata": {},
   "source": [
    "#### CentralAir"
   ]
  },
  {
   "cell_type": "code",
   "execution_count": null,
   "id": "4883ed5c",
   "metadata": {},
   "outputs": [],
   "source": [
    "plt.scatter(train['CentralAir'], train['SalePrice'])"
   ]
  },
  {
   "cell_type": "code",
   "execution_count": null,
   "id": "372336e4",
   "metadata": {},
   "outputs": [],
   "source": [
    "data['CentralAir'] = data['CentralAir'].map({\n",
    "    'N': 0,\n",
    "    'Y': 1\n",
    "})"
   ]
  },
  {
   "cell_type": "markdown",
   "id": "13dcd913",
   "metadata": {},
   "source": [
    "#### Electrical"
   ]
  },
  {
   "cell_type": "code",
   "execution_count": null,
   "id": "e17bc9fe",
   "metadata": {},
   "outputs": [],
   "source": [
    "plt.scatter(train['Electrical'].fillna('No'), train['SalePrice'])"
   ]
  },
  {
   "cell_type": "code",
   "execution_count": null,
   "id": "a8bbdec1",
   "metadata": {},
   "outputs": [],
   "source": [
    "data['Electrical'].fillna('No', inplace=True)"
   ]
  },
  {
   "cell_type": "code",
   "execution_count": null,
   "id": "20dea31f",
   "metadata": {},
   "outputs": [],
   "source": [
    "data['Electrical'] = data['Electrical'].map({\n",
    "    'Mix': 0,\n",
    "    'FuseP': 1,\n",
    "    'FuseF': 2,\n",
    "    'FuseA': 3,\n",
    "    'No': 4,\n",
    "    'SBrkr': 5\n",
    "})"
   ]
  },
  {
   "cell_type": "markdown",
   "id": "c91ff159",
   "metadata": {},
   "source": [
    "#### FullBath"
   ]
  },
  {
   "cell_type": "code",
   "execution_count": null,
   "id": "a7205b12",
   "metadata": {},
   "outputs": [],
   "source": [
    "data['FullBath'].value_counts()"
   ]
  },
  {
   "cell_type": "code",
   "execution_count": null,
   "id": "3a06180d",
   "metadata": {},
   "outputs": [],
   "source": [
    "data['FullBath'] = data['FullBath'].map({\n",
    "    0: 0,\n",
    "    1: 1,\n",
    "    2: 2,\n",
    "    3: 3,\n",
    "    4: 3\n",
    "})"
   ]
  },
  {
   "cell_type": "markdown",
   "id": "098bd3fd",
   "metadata": {},
   "source": [
    "#### BedroomAbvGr"
   ]
  },
  {
   "cell_type": "code",
   "execution_count": null,
   "id": "965516c5",
   "metadata": {},
   "outputs": [],
   "source": [
    "plt.scatter(train['BedroomAbvGr'], train['SalePrice'])"
   ]
  },
  {
   "cell_type": "code",
   "execution_count": null,
   "id": "5f32dcad",
   "metadata": {},
   "outputs": [],
   "source": [
    "data['BedroomAbvGr'].replace({\n",
    "    5: 4,\n",
    "    6: 4,\n",
    "    8: 4\n",
    "}, inplace=True)"
   ]
  },
  {
   "cell_type": "markdown",
   "id": "6486f636",
   "metadata": {},
   "source": [
    "#### KitchenAbvGr"
   ]
  },
  {
   "cell_type": "code",
   "execution_count": null,
   "id": "548e8472",
   "metadata": {},
   "outputs": [],
   "source": [
    "plt.scatter(train['KitchenAbvGr'], train['SalePrice'])"
   ]
  },
  {
   "cell_type": "code",
   "execution_count": null,
   "id": "19b9ef96",
   "metadata": {},
   "outputs": [],
   "source": [
    "train['KitchenAbvGr'].value_counts(), test['KitchenAbvGr'].value_counts()"
   ]
  },
  {
   "cell_type": "code",
   "execution_count": null,
   "id": "c03eb6a5",
   "metadata": {},
   "outputs": [],
   "source": [
    "data['KitchenAbvGr'].replace({\n",
    "    1: 2,\n",
    "    2: 1,\n",
    "    3: 1\n",
    "}, inplace=True)"
   ]
  },
  {
   "cell_type": "markdown",
   "id": "cabf7957",
   "metadata": {},
   "source": [
    "#### KitchenQual"
   ]
  },
  {
   "cell_type": "code",
   "execution_count": null,
   "id": "539bb5a2",
   "metadata": {},
   "outputs": [],
   "source": [
    "data['KitchenQual'].value_counts()"
   ]
  },
  {
   "cell_type": "code",
   "execution_count": null,
   "id": "b77d90e0",
   "metadata": {},
   "outputs": [],
   "source": [
    "data['KitchenQual'] = data['KitchenQual'].map({\n",
    "    'Fa': 1,\n",
    "    'TA': 2,\n",
    "    'Gd': 3,\n",
    "    'Ex': 4\n",
    "})"
   ]
  },
  {
   "cell_type": "markdown",
   "id": "4aaec7a0",
   "metadata": {},
   "source": [
    "#### FireplaceQu"
   ]
  },
  {
   "cell_type": "code",
   "execution_count": null,
   "id": "94a7467c",
   "metadata": {},
   "outputs": [],
   "source": [
    "plt.scatter(train['FireplaceQu'].fillna('NoFrp'), train['SalePrice'])"
   ]
  },
  {
   "cell_type": "code",
   "execution_count": null,
   "id": "25727032",
   "metadata": {},
   "outputs": [],
   "source": [
    "data['FireplaceQu'].fillna('NoFrp', inplace=True)"
   ]
  },
  {
   "cell_type": "code",
   "execution_count": null,
   "id": "aff63197",
   "metadata": {},
   "outputs": [],
   "source": [
    "data['FireplaceQu'] = data['FireplaceQu'].map({\n",
    "    'NoFrp': 0,\n",
    "    'Po': 1,\n",
    "    'Fa': 2,\n",
    "    'TA': 3,\n",
    "    'Gd': 4,\n",
    "    'Ex': 5\n",
    "})"
   ]
  },
  {
   "cell_type": "markdown",
   "id": "25796a5b",
   "metadata": {},
   "source": [
    "#### GarageFinish"
   ]
  },
  {
   "cell_type": "code",
   "execution_count": null,
   "id": "19b0e581",
   "metadata": {},
   "outputs": [],
   "source": [
    "plt.scatter(train['GarageFinish'].fillna('No'), train['SalePrice'])"
   ]
  },
  {
   "cell_type": "code",
   "execution_count": null,
   "id": "afc9d847",
   "metadata": {},
   "outputs": [],
   "source": [
    "data['GarageFinish'].fillna('No', inplace=True)"
   ]
  },
  {
   "cell_type": "code",
   "execution_count": null,
   "id": "218d7cad",
   "metadata": {},
   "outputs": [],
   "source": [
    "data['GarageFinish'] = data['GarageFinish'].map({\n",
    "    'No': 0,\n",
    "    'Unf': 1,\n",
    "    'RFn': 2,\n",
    "    'Fin': 3\n",
    "})"
   ]
  },
  {
   "cell_type": "markdown",
   "id": "3c0289a3",
   "metadata": {},
   "source": [
    "#### GarageCars"
   ]
  },
  {
   "cell_type": "code",
   "execution_count": null,
   "id": "89377f75",
   "metadata": {},
   "outputs": [],
   "source": [
    "data['GarageCars'].value_counts()"
   ]
  },
  {
   "cell_type": "code",
   "execution_count": null,
   "id": "7a373be4",
   "metadata": {},
   "outputs": [],
   "source": [
    "# outlier mask\n",
    "cars_outlier = data['GarageCars'] == 5"
   ]
  },
  {
   "cell_type": "code",
   "execution_count": null,
   "id": "7f3865bb",
   "metadata": {},
   "outputs": [],
   "source": [
    "# handle outlier\n",
    "data['GarageCarsOutlier'] = np.zeros(data.shape[0])\n",
    "data.loc[cars_outlier, 'GarageCarsOutlier'] = 1"
   ]
  },
  {
   "cell_type": "code",
   "execution_count": null,
   "id": "d8237a86",
   "metadata": {},
   "outputs": [],
   "source": [
    "data['GarageCars'] = data['GarageCars'].map({\n",
    "    0: 0,\n",
    "    1: 1,\n",
    "    2: 2,\n",
    "    3: 3,\n",
    "    4: 3,\n",
    "    5: 3\n",
    "})"
   ]
  },
  {
   "cell_type": "markdown",
   "id": "02deb15e",
   "metadata": {},
   "source": [
    "#### GarageQual"
   ]
  },
  {
   "cell_type": "code",
   "execution_count": null,
   "id": "9e54fb69",
   "metadata": {},
   "outputs": [],
   "source": [
    "plt.scatter(train['GarageQual'].fillna('No'), train['SalePrice'])"
   ]
  },
  {
   "cell_type": "code",
   "execution_count": null,
   "id": "50b01a60",
   "metadata": {},
   "outputs": [],
   "source": [
    "data['GarageQual'].fillna('No', inplace=True)"
   ]
  },
  {
   "cell_type": "code",
   "execution_count": null,
   "id": "0673df2f",
   "metadata": {},
   "outputs": [],
   "source": [
    "data['GarageQual'] = data['GarageQual'].map({\n",
    "    'Po': 0,\n",
    "    'No': 1,\n",
    "    'Fa': 2,\n",
    "    'TA': 3,\n",
    "    'Gd': 4,\n",
    "    'Ex': 5\n",
    "})"
   ]
  },
  {
   "cell_type": "markdown",
   "id": "6ea3c647",
   "metadata": {},
   "source": [
    "#### GarageCond"
   ]
  },
  {
   "cell_type": "code",
   "execution_count": null,
   "id": "dc9dd547",
   "metadata": {},
   "outputs": [],
   "source": [
    "plt.scatter(train['GarageCond'].fillna('No'), train['SalePrice'])"
   ]
  },
  {
   "cell_type": "code",
   "execution_count": null,
   "id": "4755e903",
   "metadata": {},
   "outputs": [],
   "source": [
    "data['GarageCond'].fillna('No', inplace=True)"
   ]
  },
  {
   "cell_type": "code",
   "execution_count": null,
   "id": "ea413d84",
   "metadata": {},
   "outputs": [],
   "source": [
    "data['GarageCond'] = data['GarageCond'].map({\n",
    "    'Po': 0,\n",
    "    'No': 1,\n",
    "    'Fa': 2,\n",
    "    'TA': 3,\n",
    "    'Gd': 4,\n",
    "    'Ex': 5\n",
    "})"
   ]
  },
  {
   "cell_type": "markdown",
   "id": "50c4bbc0",
   "metadata": {},
   "source": [
    "#### PavedDrive"
   ]
  },
  {
   "cell_type": "code",
   "execution_count": null,
   "id": "54992a23",
   "metadata": {},
   "outputs": [],
   "source": [
    "plt.scatter(train['PavedDrive'], train['SalePrice'])"
   ]
  },
  {
   "cell_type": "code",
   "execution_count": null,
   "id": "f88aa639",
   "metadata": {},
   "outputs": [],
   "source": [
    "data['PavedDrive'] = data['PavedDrive'].map({\n",
    "    'N': 0,\n",
    "    'P': 1,\n",
    "    'Y': 2\n",
    "})"
   ]
  },
  {
   "cell_type": "markdown",
   "id": "9504b8c0",
   "metadata": {},
   "source": [
    "#### MiscFeature"
   ]
  },
  {
   "cell_type": "code",
   "execution_count": null,
   "id": "e0d1b73b",
   "metadata": {},
   "outputs": [],
   "source": [
    "plt.scatter(train['MiscFeature'].fillna('No'), train['SalePrice'])"
   ]
  },
  {
   "cell_type": "code",
   "execution_count": null,
   "id": "aad5cf73",
   "metadata": {},
   "outputs": [],
   "source": [
    "data['MiscFeature'].fillna('No', inplace=True)"
   ]
  },
  {
   "cell_type": "code",
   "execution_count": null,
   "id": "7e95efb5",
   "metadata": {},
   "outputs": [],
   "source": [
    "data['MiscFeature'].unique()"
   ]
  },
  {
   "cell_type": "code",
   "execution_count": null,
   "id": "ddee2ddc",
   "metadata": {},
   "outputs": [],
   "source": [
    "data['MiscFeature'] = data['MiscFeature'].map({\n",
    "    'Shed': 0,\n",
    "    'Gar2': 0,\n",
    "    'Othr': 0,\n",
    "    'TenC': 0,\n",
    "    'No': 1,\n",
    "})"
   ]
  },
  {
   "cell_type": "markdown",
   "id": "de2d0fc1",
   "metadata": {},
   "source": [
    "## Categorical features"
   ]
  },
  {
   "cell_type": "code",
   "execution_count": null,
   "id": "f43517e1",
   "metadata": {},
   "outputs": [],
   "source": [
    "data.info()"
   ]
  },
  {
   "cell_type": "code",
   "execution_count": null,
   "id": "a93a8d7a",
   "metadata": {},
   "outputs": [],
   "source": [
    "data.drop(['PoolQC', 'Fence'], axis=1, inplace=True)"
   ]
  },
  {
   "cell_type": "code",
   "execution_count": null,
   "id": "35e3a4c5",
   "metadata": {},
   "outputs": [],
   "source": [
    "categ_features = []\n",
    "for col in data.columns:\n",
    "    if data[col].dtype == 'object':\n",
    "        print(col)\n",
    "        categ_features.append(col)"
   ]
  },
  {
   "cell_type": "code",
   "execution_count": null,
   "id": "e1b10b56",
   "metadata": {},
   "outputs": [],
   "source": [
    "from sklearn.preprocessing import LabelEncoder\n",
    "le = LabelEncoder()\n",
    "\n",
    "for col in categ_features:\n",
    "    data[col] = le.fit_transform(data[col])"
   ]
  },
  {
   "cell_type": "code",
   "execution_count": null,
   "id": "bc4daea1",
   "metadata": {},
   "outputs": [],
   "source": [
    "train_mask = data['SalePrice'].notnull()\n",
    "test_mask = ~data['SalePrice'].notnull()\n",
    "\n",
    "processed_train = data[train_mask]\n",
    "processed_test = data[test_mask].drop('SalePrice', axis=1)"
   ]
  },
  {
   "cell_type": "code",
   "execution_count": null,
   "id": "73ef0a7f",
   "metadata": {},
   "outputs": [],
   "source": [
    "processed_train.to_csv('./processed/train.csv')\n",
    "processed_test.to_csv('./processed/test.csv')"
   ]
  },
  {
   "cell_type": "code",
   "execution_count": null,
   "id": "0cf60e6a",
   "metadata": {},
   "outputs": [],
   "source": []
  }
 ],
 "metadata": {
  "kernelspec": {
   "display_name": "Python 3",
   "language": "python",
   "name": "python3"
  },
  "language_info": {
   "codemirror_mode": {
    "name": "ipython",
    "version": 3
   },
   "file_extension": ".py",
   "mimetype": "text/x-python",
   "name": "python",
   "nbconvert_exporter": "python",
   "pygments_lexer": "ipython3",
   "version": "3.7.9"
  }
 },
 "nbformat": 4,
 "nbformat_minor": 5
}
