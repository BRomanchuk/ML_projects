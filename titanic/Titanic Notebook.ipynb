{
 "cells": [
  {
   "cell_type": "markdown",
   "id": "b24d1041",
   "metadata": {},
   "source": [
    "# Titanic competition"
   ]
  },
  {
   "cell_type": "markdown",
   "id": "24e09ee9",
   "metadata": {},
   "source": [
    "### Libraries"
   ]
  },
  {
   "cell_type": "code",
   "execution_count": 16,
   "id": "f340b752",
   "metadata": {},
   "outputs": [],
   "source": [
    "import numpy as np\n",
    "import pandas as pd"
   ]
  },
  {
   "cell_type": "code",
   "execution_count": 17,
   "id": "3cc4d6b8",
   "metadata": {},
   "outputs": [
    {
     "data": {
      "text/html": [
       "<div>\n",
       "<style scoped>\n",
       "    .dataframe tbody tr th:only-of-type {\n",
       "        vertical-align: middle;\n",
       "    }\n",
       "\n",
       "    .dataframe tbody tr th {\n",
       "        vertical-align: top;\n",
       "    }\n",
       "\n",
       "    .dataframe thead th {\n",
       "        text-align: right;\n",
       "    }\n",
       "</style>\n",
       "<table border=\"1\" class=\"dataframe\">\n",
       "  <thead>\n",
       "    <tr style=\"text-align: right;\">\n",
       "      <th></th>\n",
       "      <th>PassengerId</th>\n",
       "      <th>Survived</th>\n",
       "      <th>Pclass</th>\n",
       "      <th>Name</th>\n",
       "      <th>Sex</th>\n",
       "      <th>Age</th>\n",
       "      <th>SibSp</th>\n",
       "      <th>Parch</th>\n",
       "      <th>Ticket</th>\n",
       "      <th>Fare</th>\n",
       "      <th>Cabin</th>\n",
       "      <th>Embarked</th>\n",
       "    </tr>\n",
       "  </thead>\n",
       "  <tbody>\n",
       "    <tr>\n",
       "      <th>0</th>\n",
       "      <td>1</td>\n",
       "      <td>0</td>\n",
       "      <td>3</td>\n",
       "      <td>Braund, Mr. Owen Harris</td>\n",
       "      <td>male</td>\n",
       "      <td>22.0</td>\n",
       "      <td>1</td>\n",
       "      <td>0</td>\n",
       "      <td>A/5 21171</td>\n",
       "      <td>7.2500</td>\n",
       "      <td>NaN</td>\n",
       "      <td>S</td>\n",
       "    </tr>\n",
       "    <tr>\n",
       "      <th>1</th>\n",
       "      <td>2</td>\n",
       "      <td>1</td>\n",
       "      <td>1</td>\n",
       "      <td>Cumings, Mrs. John Bradley (Florence Briggs Th...</td>\n",
       "      <td>female</td>\n",
       "      <td>38.0</td>\n",
       "      <td>1</td>\n",
       "      <td>0</td>\n",
       "      <td>PC 17599</td>\n",
       "      <td>71.2833</td>\n",
       "      <td>C85</td>\n",
       "      <td>C</td>\n",
       "    </tr>\n",
       "    <tr>\n",
       "      <th>2</th>\n",
       "      <td>3</td>\n",
       "      <td>1</td>\n",
       "      <td>3</td>\n",
       "      <td>Heikkinen, Miss. Laina</td>\n",
       "      <td>female</td>\n",
       "      <td>26.0</td>\n",
       "      <td>0</td>\n",
       "      <td>0</td>\n",
       "      <td>STON/O2. 3101282</td>\n",
       "      <td>7.9250</td>\n",
       "      <td>NaN</td>\n",
       "      <td>S</td>\n",
       "    </tr>\n",
       "    <tr>\n",
       "      <th>3</th>\n",
       "      <td>4</td>\n",
       "      <td>1</td>\n",
       "      <td>1</td>\n",
       "      <td>Futrelle, Mrs. Jacques Heath (Lily May Peel)</td>\n",
       "      <td>female</td>\n",
       "      <td>35.0</td>\n",
       "      <td>1</td>\n",
       "      <td>0</td>\n",
       "      <td>113803</td>\n",
       "      <td>53.1000</td>\n",
       "      <td>C123</td>\n",
       "      <td>S</td>\n",
       "    </tr>\n",
       "    <tr>\n",
       "      <th>4</th>\n",
       "      <td>5</td>\n",
       "      <td>0</td>\n",
       "      <td>3</td>\n",
       "      <td>Allen, Mr. William Henry</td>\n",
       "      <td>male</td>\n",
       "      <td>35.0</td>\n",
       "      <td>0</td>\n",
       "      <td>0</td>\n",
       "      <td>373450</td>\n",
       "      <td>8.0500</td>\n",
       "      <td>NaN</td>\n",
       "      <td>S</td>\n",
       "    </tr>\n",
       "  </tbody>\n",
       "</table>\n",
       "</div>"
      ],
      "text/plain": [
       "   PassengerId  Survived  Pclass  \\\n",
       "0            1         0       3   \n",
       "1            2         1       1   \n",
       "2            3         1       3   \n",
       "3            4         1       1   \n",
       "4            5         0       3   \n",
       "\n",
       "                                                Name     Sex   Age  SibSp  \\\n",
       "0                            Braund, Mr. Owen Harris    male  22.0      1   \n",
       "1  Cumings, Mrs. John Bradley (Florence Briggs Th...  female  38.0      1   \n",
       "2                             Heikkinen, Miss. Laina  female  26.0      0   \n",
       "3       Futrelle, Mrs. Jacques Heath (Lily May Peel)  female  35.0      1   \n",
       "4                           Allen, Mr. William Henry    male  35.0      0   \n",
       "\n",
       "   Parch            Ticket     Fare Cabin Embarked  \n",
       "0      0         A/5 21171   7.2500   NaN        S  \n",
       "1      0          PC 17599  71.2833   C85        C  \n",
       "2      0  STON/O2. 3101282   7.9250   NaN        S  \n",
       "3      0            113803  53.1000  C123        S  \n",
       "4      0            373450   8.0500   NaN        S  "
      ]
     },
     "execution_count": 17,
     "metadata": {},
     "output_type": "execute_result"
    }
   ],
   "source": [
    "data = pd.read_csv('./datasets/train.csv')\n",
    "test = pd.read_csv('./datasets/test.csv')\n",
    "\n",
    "data.head()"
   ]
  },
  {
   "cell_type": "code",
   "execution_count": 18,
   "id": "ec067c1f",
   "metadata": {},
   "outputs": [
    {
     "name": "stdout",
     "output_type": "stream",
     "text": [
      "<class 'pandas.core.frame.DataFrame'>\n",
      "RangeIndex: 891 entries, 0 to 890\n",
      "Data columns (total 12 columns):\n",
      " #   Column       Non-Null Count  Dtype  \n",
      "---  ------       --------------  -----  \n",
      " 0   PassengerId  891 non-null    int64  \n",
      " 1   Survived     891 non-null    int64  \n",
      " 2   Pclass       891 non-null    int64  \n",
      " 3   Name         891 non-null    object \n",
      " 4   Sex          891 non-null    object \n",
      " 5   Age          714 non-null    float64\n",
      " 6   SibSp        891 non-null    int64  \n",
      " 7   Parch        891 non-null    int64  \n",
      " 8   Ticket       891 non-null    object \n",
      " 9   Fare         891 non-null    float64\n",
      " 10  Cabin        204 non-null    object \n",
      " 11  Embarked     889 non-null    object \n",
      "dtypes: float64(2), int64(5), object(5)\n",
      "memory usage: 83.7+ KB\n"
     ]
    }
   ],
   "source": [
    "data.info()"
   ]
  },
  {
   "cell_type": "code",
   "execution_count": 19,
   "id": "4225fa66",
   "metadata": {},
   "outputs": [
    {
     "name": "stdout",
     "output_type": "stream",
     "text": [
      "        Survived\n",
      "Pclass          \n",
      "1       0.629630\n",
      "2       0.472826\n",
      "3       0.242363\n",
      "        Survived\n",
      "Sex             \n",
      "female  0.742038\n",
      "male    0.188908\n",
      "       Survived\n",
      "SibSp          \n",
      "0      0.345395\n",
      "1      0.535885\n",
      "2      0.464286\n",
      "3      0.250000\n",
      "4      0.166667\n",
      "5      0.000000\n",
      "8      0.000000\n",
      "       Survived\n",
      "Parch          \n",
      "0      0.343658\n",
      "1      0.550847\n",
      "2      0.500000\n",
      "3      0.600000\n",
      "4      0.000000\n",
      "5      0.200000\n",
      "6      0.000000\n",
      "          Survived\n",
      "Embarked          \n",
      "C         0.553571\n",
      "Q         0.389610\n",
      "S         0.336957\n"
     ]
    }
   ],
   "source": [
    "cat_cols = ['Pclass', 'Sex', 'SibSp', 'Parch', 'Embarked']\n",
    "for col in cat_cols:\n",
    "    print(data[[col, 'Survived']].groupby(col).mean())"
   ]
  },
  {
   "cell_type": "markdown",
   "id": "c4228610",
   "metadata": {},
   "source": [
    "# Data Preprocessing and Feature Generation\n",
    "\n",
    "### Feature Generation:\n",
    "Title - the title of a person (e.g. \"Mr.\" or \"Lady.\")\n",
    "<br>pclass_sex = Pclass + Sex\n",
    "<br>FamilySize = SibSp + Parch + 1\n",
    "<br>isAlone = {1, if FamilySize == 1; 0 otherwise}"
   ]
  },
  {
   "cell_type": "code",
   "execution_count": 20,
   "id": "df177a4e",
   "metadata": {},
   "outputs": [],
   "source": [
    "def get_title(fullname):\n",
    "    name = fullname.split(',')[1]\n",
    "    title = name.split()[0]\n",
    "    return title"
   ]
  },
  {
   "cell_type": "code",
   "execution_count": 21,
   "id": "d5bcb6aa",
   "metadata": {},
   "outputs": [],
   "source": [
    "data['Title'] = data['Name'].apply(get_title)\n",
    "test['Title'] = test['Name'].apply(get_title)\n",
    "\n",
    "rare_titles = ['Don.', 'Rev.', 'Dr.', 'Mme.', 'Ms.', 'Major.', 'Lady.', 'Sir.', 'Mlle.', 'Col.', 'Capt.', 'the', 'Jonkheer.', 'Dona.']\n",
    "\n",
    "data_rare_title_filt = data['Title'].isin(rare_titles)\n",
    "test_rare_title_filt = test['Title'].isin(rare_titles)\n",
    "\n",
    "data.loc[data_rare_title_filt, 'Title'] = 'Rare'\n",
    "test.loc[test_rare_title_filt, 'Title'] = 'Rare'"
   ]
  },
  {
   "cell_type": "code",
   "execution_count": 22,
   "id": "2001d28f",
   "metadata": {},
   "outputs": [],
   "source": [
    "data['pclass_sex'] = data['Pclass'].map(str) + data['Sex'].map(str)\n",
    "test['pclass_sex'] = test['Pclass'].map(str) + test['Sex'].map(str)"
   ]
  },
  {
   "cell_type": "code",
   "execution_count": 23,
   "id": "1da59106",
   "metadata": {},
   "outputs": [],
   "source": [
    "data['FamilySize'] = data['SibSp'] + data['Parch'] + 1\n",
    "test['FamilySize'] = test['SibSp'] + test['Parch'] + 1"
   ]
  },
  {
   "cell_type": "code",
   "execution_count": 24,
   "id": "4e053478",
   "metadata": {},
   "outputs": [],
   "source": [
    "data['isAlone'] = np.zeros(data.shape[0])\n",
    "\n",
    "data_alone_mask = (data['FamilySize'] == 1)\n",
    "data.loc[data_alone_mask, 'isAlone'] = 1\n",
    "\n",
    "test['isAlone'] = np.zeros(test.shape[0])\n",
    "\n",
    "test_alone_mask = (test['FamilySize'] == 1)\n",
    "test.loc[test_alone_mask, 'isAlone'] = 1"
   ]
  },
  {
   "cell_type": "markdown",
   "id": "5f78bdaa",
   "metadata": {},
   "source": [
    "### Data Preprocessing\n",
    "Fill missing values: Age, Fare, Embarked\n",
    "<br>Normalize: Age, Fare\n",
    "<br>Categorize: Age, Fare"
   ]
  },
  {
   "cell_type": "code",
   "execution_count": 25,
   "id": "974e59c6",
   "metadata": {},
   "outputs": [],
   "source": [
    "data['Age'].fillna(data['Age'].median(), inplace=True)\n",
    "test['Age'].fillna(test['Age'].median(), inplace=True)\n",
    "\n",
    "data['Fare'].fillna(data['Fare'].median(), inplace=True)\n",
    "test['Fare'].fillna(test['Fare'].median(), inplace=True)"
   ]
  },
  {
   "cell_type": "code",
   "execution_count": 26,
   "id": "1178db81",
   "metadata": {},
   "outputs": [],
   "source": [
    "data['Embarked'].fillna(data['Embarked'].mode()[0], inplace=True)\n",
    "test['Embarked'].fillna(test['Embarked'].mode()[0], inplace=True)"
   ]
  },
  {
   "cell_type": "code",
   "execution_count": 27,
   "id": "b0230e03",
   "metadata": {},
   "outputs": [],
   "source": [
    "# normalize age\n",
    "\n",
    "age_df = pd.concat([data['Age'], test['Age']])\n",
    "\n",
    "age_max, age_min = age_df.max(), age_df.min()\n",
    "\n",
    "data_age = data['Age'] / (age_max - age_min)\n",
    "test_age = test['Age'] / (age_max - age_min)\n",
    "\n",
    "data['Age'] = data_age\n",
    "test['Age'] = test_age"
   ]
  },
  {
   "cell_type": "code",
   "execution_count": 28,
   "id": "dd833884",
   "metadata": {},
   "outputs": [],
   "source": [
    "# normalize fare\n",
    "\n",
    "fare_df = pd.concat([data['Fare'], test['Fare']])\n",
    "\n",
    "fare_max, fare_min = fare_df.max(), fare_df.min()\n",
    "\n",
    "data_fare = data['Fare'] / (fare_max - fare_min)\n",
    "test_fare = test['Fare'] / (fare_max - fare_min)\n",
    "\n",
    "data['Fare'] = data_fare\n",
    "test['Fare'] = test_fare"
   ]
  },
  {
   "cell_type": "code",
   "execution_count": 29,
   "id": "a399f097",
   "metadata": {},
   "outputs": [],
   "source": [
    "# categorize age and fare\n",
    "\n",
    "categorized_age = np.array(pd.cut(pd.concat([data_age, test_age]), 5), dtype=str)\n",
    "data['Age'] = categorized_age[:data_age.shape[0]]\n",
    "test['Age'] = categorized_age[data_age.shape[0]:]\n",
    "\n",
    "categorized_fare = np.array(pd.cut(pd.concat([data_fare, test_fare]), 5), dtype=str)\n",
    "data['Fare'] = categorized_fare[:data_fare.shape[0]]\n",
    "test['Fare'] = categorized_fare[data_fare.shape[0]:]\n",
    "\n",
    "categorized_numeric = ['Age', 'Fare']"
   ]
  },
  {
   "cell_type": "code",
   "execution_count": 30,
   "id": "cc1dba90",
   "metadata": {
    "scrolled": false
   },
   "outputs": [
    {
     "data": {
      "text/html": [
       "<div>\n",
       "<style scoped>\n",
       "    .dataframe tbody tr th:only-of-type {\n",
       "        vertical-align: middle;\n",
       "    }\n",
       "\n",
       "    .dataframe tbody tr th {\n",
       "        vertical-align: top;\n",
       "    }\n",
       "\n",
       "    .dataframe thead th {\n",
       "        text-align: right;\n",
       "    }\n",
       "</style>\n",
       "<table border=\"1\" class=\"dataframe\">\n",
       "  <thead>\n",
       "    <tr style=\"text-align: right;\">\n",
       "      <th></th>\n",
       "      <th>Survived</th>\n",
       "    </tr>\n",
       "    <tr>\n",
       "      <th>Age</th>\n",
       "      <th></th>\n",
       "    </tr>\n",
       "  </thead>\n",
       "  <tbody>\n",
       "    <tr>\n",
       "      <th>(0.00113, 0.202]</th>\n",
       "      <td>0.550000</td>\n",
       "    </tr>\n",
       "    <tr>\n",
       "      <th>(0.202, 0.402]</th>\n",
       "      <td>0.344168</td>\n",
       "    </tr>\n",
       "    <tr>\n",
       "      <th>(0.402, 0.602]</th>\n",
       "      <td>0.404255</td>\n",
       "    </tr>\n",
       "    <tr>\n",
       "      <th>(0.602, 0.802]</th>\n",
       "      <td>0.434783</td>\n",
       "    </tr>\n",
       "    <tr>\n",
       "      <th>(0.802, 1.002]</th>\n",
       "      <td>0.090909</td>\n",
       "    </tr>\n",
       "  </tbody>\n",
       "</table>\n",
       "</div>"
      ],
      "text/plain": [
       "                  Survived\n",
       "Age                       \n",
       "(0.00113, 0.202]  0.550000\n",
       "(0.202, 0.402]    0.344168\n",
       "(0.402, 0.602]    0.404255\n",
       "(0.602, 0.802]    0.434783\n",
       "(0.802, 1.002]    0.090909"
      ]
     },
     "execution_count": 30,
     "metadata": {},
     "output_type": "execute_result"
    }
   ],
   "source": [
    "data[['Age', 'Survived']].groupby('Age').mean()"
   ]
  },
  {
   "cell_type": "markdown",
   "id": "57bf2d63",
   "metadata": {},
   "source": [
    "# Label Encoding"
   ]
  },
  {
   "cell_type": "code",
   "execution_count": 31,
   "id": "6f79eb60",
   "metadata": {},
   "outputs": [],
   "source": [
    "from sklearn.preprocessing import LabelEncoder, LabelBinarizer"
   ]
  },
  {
   "cell_type": "code",
   "execution_count": 32,
   "id": "5ea101b7",
   "metadata": {},
   "outputs": [],
   "source": [
    "# le = LabelEncoder()\n",
    "# for col in categorized_numeric:\n",
    "#     data[col] = le.fit_transform(data[col])\n",
    "#     test[col] = le.transform(test[col])"
   ]
  },
  {
   "cell_type": "code",
   "execution_count": 33,
   "id": "b4f5fe7c",
   "metadata": {
    "scrolled": false
   },
   "outputs": [],
   "source": [
    "ohe = LabelBinarizer()\n",
    "\n",
    "ohe_cols = ['pclass_sex', 'Embarked', 'Title'] + categorized_numeric\n",
    "\n",
    "for col in ohe_cols:\n",
    "    ohe.fit(data[col].to_numpy())\n",
    "    \n",
    "    data_one_hot_col = ohe.transform(data[col].to_numpy())\n",
    "    test_one_hot_col = ohe.transform(test[col].to_numpy())\n",
    "    \n",
    "    cats = data[col].unique()\n",
    "    for i in range(len(cats)):\n",
    "        data[cats[i]] = data_one_hot_col.T[i]\n",
    "        test[cats[i]] = test_one_hot_col.T[i]"
   ]
  },
  {
   "cell_type": "markdown",
   "id": "e87af25a",
   "metadata": {},
   "source": [
    "# Remove Useless Columns"
   ]
  },
  {
   "cell_type": "code",
   "execution_count": 34,
   "id": "89ebc4c8",
   "metadata": {},
   "outputs": [
    {
     "data": {
      "text/html": [
       "<div>\n",
       "<style scoped>\n",
       "    .dataframe tbody tr th:only-of-type {\n",
       "        vertical-align: middle;\n",
       "    }\n",
       "\n",
       "    .dataframe tbody tr th {\n",
       "        vertical-align: top;\n",
       "    }\n",
       "\n",
       "    .dataframe thead th {\n",
       "        text-align: right;\n",
       "    }\n",
       "</style>\n",
       "<table border=\"1\" class=\"dataframe\">\n",
       "  <thead>\n",
       "    <tr style=\"text-align: right;\">\n",
       "      <th></th>\n",
       "      <th>FamilySize</th>\n",
       "      <th>isAlone</th>\n",
       "      <th>3male</th>\n",
       "      <th>1female</th>\n",
       "      <th>3female</th>\n",
       "      <th>1male</th>\n",
       "      <th>2female</th>\n",
       "      <th>2male</th>\n",
       "      <th>S</th>\n",
       "      <th>C</th>\n",
       "      <th>...</th>\n",
       "      <th>Rare</th>\n",
       "      <th>(0.202, 0.402]</th>\n",
       "      <th>(0.402, 0.602]</th>\n",
       "      <th>(0.602, 0.802]</th>\n",
       "      <th>(0.00113, 0.202]</th>\n",
       "      <th>(0.802, 1.002]</th>\n",
       "      <th>(-0.001, 0.2]</th>\n",
       "      <th>(0.4, 0.6]</th>\n",
       "      <th>(0.2, 0.4]</th>\n",
       "      <th>(0.8, 1.0]</th>\n",
       "    </tr>\n",
       "  </thead>\n",
       "  <tbody>\n",
       "    <tr>\n",
       "      <th>0</th>\n",
       "      <td>2</td>\n",
       "      <td>0.0</td>\n",
       "      <td>0</td>\n",
       "      <td>0</td>\n",
       "      <td>0</td>\n",
       "      <td>0</td>\n",
       "      <td>0</td>\n",
       "      <td>1</td>\n",
       "      <td>0</td>\n",
       "      <td>0</td>\n",
       "      <td>...</td>\n",
       "      <td>0</td>\n",
       "      <td>0</td>\n",
       "      <td>1</td>\n",
       "      <td>0</td>\n",
       "      <td>0</td>\n",
       "      <td>0</td>\n",
       "      <td>1</td>\n",
       "      <td>0</td>\n",
       "      <td>0</td>\n",
       "      <td>0</td>\n",
       "    </tr>\n",
       "    <tr>\n",
       "      <th>1</th>\n",
       "      <td>2</td>\n",
       "      <td>0.0</td>\n",
       "      <td>1</td>\n",
       "      <td>0</td>\n",
       "      <td>0</td>\n",
       "      <td>0</td>\n",
       "      <td>0</td>\n",
       "      <td>0</td>\n",
       "      <td>1</td>\n",
       "      <td>0</td>\n",
       "      <td>...</td>\n",
       "      <td>0</td>\n",
       "      <td>0</td>\n",
       "      <td>0</td>\n",
       "      <td>1</td>\n",
       "      <td>0</td>\n",
       "      <td>0</td>\n",
       "      <td>1</td>\n",
       "      <td>0</td>\n",
       "      <td>0</td>\n",
       "      <td>0</td>\n",
       "    </tr>\n",
       "    <tr>\n",
       "      <th>2</th>\n",
       "      <td>1</td>\n",
       "      <td>1.0</td>\n",
       "      <td>0</td>\n",
       "      <td>0</td>\n",
       "      <td>0</td>\n",
       "      <td>0</td>\n",
       "      <td>1</td>\n",
       "      <td>0</td>\n",
       "      <td>0</td>\n",
       "      <td>0</td>\n",
       "      <td>...</td>\n",
       "      <td>0</td>\n",
       "      <td>0</td>\n",
       "      <td>1</td>\n",
       "      <td>0</td>\n",
       "      <td>0</td>\n",
       "      <td>0</td>\n",
       "      <td>1</td>\n",
       "      <td>0</td>\n",
       "      <td>0</td>\n",
       "      <td>0</td>\n",
       "    </tr>\n",
       "    <tr>\n",
       "      <th>3</th>\n",
       "      <td>2</td>\n",
       "      <td>0.0</td>\n",
       "      <td>1</td>\n",
       "      <td>0</td>\n",
       "      <td>0</td>\n",
       "      <td>0</td>\n",
       "      <td>0</td>\n",
       "      <td>0</td>\n",
       "      <td>0</td>\n",
       "      <td>0</td>\n",
       "      <td>...</td>\n",
       "      <td>0</td>\n",
       "      <td>0</td>\n",
       "      <td>0</td>\n",
       "      <td>1</td>\n",
       "      <td>0</td>\n",
       "      <td>0</td>\n",
       "      <td>1</td>\n",
       "      <td>0</td>\n",
       "      <td>0</td>\n",
       "      <td>0</td>\n",
       "    </tr>\n",
       "    <tr>\n",
       "      <th>4</th>\n",
       "      <td>1</td>\n",
       "      <td>1.0</td>\n",
       "      <td>0</td>\n",
       "      <td>0</td>\n",
       "      <td>0</td>\n",
       "      <td>0</td>\n",
       "      <td>0</td>\n",
       "      <td>1</td>\n",
       "      <td>0</td>\n",
       "      <td>0</td>\n",
       "      <td>...</td>\n",
       "      <td>0</td>\n",
       "      <td>0</td>\n",
       "      <td>0</td>\n",
       "      <td>1</td>\n",
       "      <td>0</td>\n",
       "      <td>0</td>\n",
       "      <td>1</td>\n",
       "      <td>0</td>\n",
       "      <td>0</td>\n",
       "      <td>0</td>\n",
       "    </tr>\n",
       "  </tbody>\n",
       "</table>\n",
       "<p>5 rows × 25 columns</p>\n",
       "</div>"
      ],
      "text/plain": [
       "   FamilySize  isAlone  3male  1female  3female  1male  2female  2male  S  C  \\\n",
       "0           2      0.0      0        0        0      0        0      1  0  0   \n",
       "1           2      0.0      1        0        0      0        0      0  1  0   \n",
       "2           1      1.0      0        0        0      0        1      0  0  0   \n",
       "3           2      0.0      1        0        0      0        0      0  0  0   \n",
       "4           1      1.0      0        0        0      0        0      1  0  0   \n",
       "\n",
       "   ...  Rare  (0.202, 0.402]  (0.402, 0.602]  (0.602, 0.802]  \\\n",
       "0  ...     0               0               1               0   \n",
       "1  ...     0               0               0               1   \n",
       "2  ...     0               0               1               0   \n",
       "3  ...     0               0               0               1   \n",
       "4  ...     0               0               0               1   \n",
       "\n",
       "   (0.00113, 0.202]  (0.802, 1.002]  (-0.001, 0.2]  (0.4, 0.6]  (0.2, 0.4]  \\\n",
       "0                 0               0              1           0           0   \n",
       "1                 0               0              1           0           0   \n",
       "2                 0               0              1           0           0   \n",
       "3                 0               0              1           0           0   \n",
       "4                 0               0              1           0           0   \n",
       "\n",
       "   (0.8, 1.0]  \n",
       "0           0  \n",
       "1           0  \n",
       "2           0  \n",
       "3           0  \n",
       "4           0  \n",
       "\n",
       "[5 rows x 25 columns]"
      ]
     },
     "execution_count": 34,
     "metadata": {},
     "output_type": "execute_result"
    }
   ],
   "source": [
    "to_remove = ['PassengerId', 'Name', 'SibSp', 'Parch', 'Ticket', 'Cabin', 'Pclass', 'Sex'] + ohe_cols\n",
    "\n",
    "data.drop(to_remove, axis=1, inplace=True)\n",
    "test.drop(to_remove, axis=1, inplace=True)\n",
    "\n",
    "y = data['Survived']\n",
    "data.drop(['Survived'], axis=1, inplace=True)\n",
    "\n",
    "data.head()"
   ]
  },
  {
   "cell_type": "markdown",
   "id": "1e22df62",
   "metadata": {},
   "source": [
    "# Prediction"
   ]
  },
  {
   "cell_type": "markdown",
   "id": "11d5c296",
   "metadata": {},
   "source": [
    "### Read Submission .csv"
   ]
  },
  {
   "cell_type": "code",
   "execution_count": 35,
   "id": "22299423",
   "metadata": {},
   "outputs": [],
   "source": [
    "submission_df = pd.read_csv('./datasets/gender_submission.csv', index_col='PassengerId')"
   ]
  },
  {
   "cell_type": "markdown",
   "id": "f9c2a042",
   "metadata": {},
   "source": [
    "### Logistic Regression"
   ]
  },
  {
   "cell_type": "code",
   "execution_count": 36,
   "id": "6d5aeca2",
   "metadata": {},
   "outputs": [],
   "source": [
    "from sklearn.linear_model import LogisticRegression"
   ]
  },
  {
   "cell_type": "code",
   "execution_count": 37,
   "id": "16408295",
   "metadata": {},
   "outputs": [
    {
     "data": {
      "text/plain": [
       "LogisticRegression()"
      ]
     },
     "execution_count": 37,
     "metadata": {},
     "output_type": "execute_result"
    }
   ],
   "source": [
    "clf = LogisticRegression()\n",
    "clf.fit(data, y)"
   ]
  },
  {
   "cell_type": "code",
   "execution_count": 38,
   "id": "d51b96f4",
   "metadata": {},
   "outputs": [],
   "source": [
    "predicted = clf.predict(test)"
   ]
  },
  {
   "cell_type": "code",
   "execution_count": 39,
   "id": "80a20615",
   "metadata": {},
   "outputs": [],
   "source": [
    "submission_df['Survived'] = predicted"
   ]
  },
  {
   "cell_type": "code",
   "execution_count": 40,
   "id": "c5361d47",
   "metadata": {},
   "outputs": [],
   "source": [
    "# submission_df.to_csv('./results/log_reg_onehot_all_all.csv')"
   ]
  },
  {
   "cell_type": "markdown",
   "id": "0a716bdd",
   "metadata": {},
   "source": [
    "### Random Forest Classifier"
   ]
  },
  {
   "cell_type": "code",
   "execution_count": 46,
   "id": "133f809f",
   "metadata": {},
   "outputs": [],
   "source": [
    "from sklearn.ensemble import RandomForestClassifier\n",
    "\n",
    "model = RandomForestClassifier(n_estimators=100, max_depth=4, random_state=2)\n",
    "model.fit(data, y)\n",
    "predictions = model.predict(test)"
   ]
  },
  {
   "cell_type": "code",
   "execution_count": 47,
   "id": "5dbafd05",
   "metadata": {},
   "outputs": [],
   "source": [
    "submission_df['Survived'] = predictions"
   ]
  },
  {
   "cell_type": "code",
   "execution_count": 48,
   "id": "bbc031b0",
   "metadata": {},
   "outputs": [],
   "source": [
    "submission_df.to_csv('./results/random_forest_last.csv')"
   ]
  },
  {
   "cell_type": "code",
   "execution_count": 49,
   "id": "f118aa40",
   "metadata": {},
   "outputs": [
    {
     "data": {
      "text/plain": [
       "0    264\n",
       "1    154\n",
       "Name: Survived, dtype: int64"
      ]
     },
     "execution_count": 49,
     "metadata": {},
     "output_type": "execute_result"
    }
   ],
   "source": [
    "submission_df['Survived'].value_counts()"
   ]
  },
  {
   "cell_type": "code",
   "execution_count": 45,
   "id": "853c6945",
   "metadata": {},
   "outputs": [
    {
     "data": {
      "text/plain": [
       "0    549\n",
       "1    342\n",
       "Name: Survived, dtype: int64"
      ]
     },
     "execution_count": 45,
     "metadata": {},
     "output_type": "execute_result"
    }
   ],
   "source": [
    "y.value_counts()"
   ]
  },
  {
   "cell_type": "code",
   "execution_count": null,
   "id": "c92e9b6a",
   "metadata": {},
   "outputs": [],
   "source": []
  }
 ],
 "metadata": {
  "kernelspec": {
   "display_name": "Python 3",
   "language": "python",
   "name": "python3"
  },
  "language_info": {
   "codemirror_mode": {
    "name": "ipython",
    "version": 3
   },
   "file_extension": ".py",
   "mimetype": "text/x-python",
   "name": "python",
   "nbconvert_exporter": "python",
   "pygments_lexer": "ipython3",
   "version": "3.7.9"
  }
 },
 "nbformat": 4,
 "nbformat_minor": 5
}
