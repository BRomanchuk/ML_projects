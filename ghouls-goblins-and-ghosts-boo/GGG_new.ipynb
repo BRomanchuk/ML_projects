{
 "cells": [
  {
   "cell_type": "markdown",
   "id": "e65165ca",
   "metadata": {},
   "source": [
    "# GGG Competition"
   ]
  },
  {
   "cell_type": "code",
   "execution_count": null,
   "id": "83ad13c6",
   "metadata": {},
   "outputs": [],
   "source": [
    "import numpy as np\n",
    "import pandas as pd\n",
    "import matplotlib.pyplot as plt\n",
    "%matplotlib inline"
   ]
  },
  {
   "cell_type": "code",
   "execution_count": null,
   "id": "2d9bdd55",
   "metadata": {},
   "outputs": [],
   "source": [
    "# read .csv files\n",
    "train = pd.read_csv('./datasets/train.csv', index_col='id')\n",
    "test = pd.read_csv('./datasets/test.csv', index_col='id')\n",
    "\n",
    "# concatenate train and test sets\n",
    "df = pd.concat([train, test])\n",
    "\n",
    "# show the current number of creatures in the train set for each type\n",
    "train['type'].value_counts()"
   ]
  },
  {
   "cell_type": "markdown",
   "id": "cb7545c4",
   "metadata": {},
   "source": [
    "## Data Preprocessing and Feature Engineering"
   ]
  },
  {
   "cell_type": "code",
   "execution_count": null,
   "id": "52ef6f44",
   "metadata": {},
   "outputs": [],
   "source": [
    "# create search masks for every type of creature\n",
    "Ghoul_mask = df['type'] == 'Ghoul'\n",
    "Goblin_mask = df['type'] == 'Goblin'\n",
    "Ghost_mask = df['type'] == 'Ghost'"
   ]
  },
  {
   "cell_type": "code",
   "execution_count": null,
   "id": "2c38bdb4",
   "metadata": {},
   "outputs": [],
   "source": [
    "# encode 'type' feature\n",
    "\n",
    "from sklearn.preprocessing import LabelEncoder\n",
    "\n",
    "le = LabelEncoder()\n",
    "df['type'] = le.fit_transform(df['type'])\n",
    "\n",
    "types = le.classes_\n",
    "types"
   ]
  },
  {
   "cell_type": "code",
   "execution_count": null,
   "id": "7868ef62",
   "metadata": {},
   "outputs": [],
   "source": [
    "# drop color as it is useless feature with random values\n",
    "df.drop('color', axis=1, inplace=True)\n",
    "\n",
    "# train features\n",
    "columns = df.drop('type', axis=1).columns\n",
    "\n",
    "df.head()"
   ]
  },
  {
   "cell_type": "code",
   "execution_count": null,
   "id": "449c9160",
   "metadata": {
    "scrolled": false
   },
   "outputs": [],
   "source": [
    "# if 'all_df' hasn't been defined yet, set its value to the 'df' \n",
    "try:\n",
    "    all_df\n",
    "except:\n",
    "    all_df = df\n",
    "\n",
    "# means and scatter-plots for each feature and each creature type\n",
    "for col in columns:\n",
    "    print(col)\n",
    "    sorted_col_index = all_df[col].sort_values().index\n",
    "    for typ in types:\n",
    "        if len(np.where(types == typ)[0]) > 0:\n",
    "            type_mask = (all_df['type'] == np.where(types == typ)[0][0])\n",
    "            print(typ)\n",
    "            print(all_df.loc[type_mask, col].mean())\n",
    "    fig, ax = plt.subplots()   \n",
    "    ax.scatter(all_df.loc[sorted_col_index, col], all_df.loc[sorted_col_index, 'type'])\n",
    "    ax.set_title(col)\n",
    "    print()"
   ]
  },
  {
   "cell_type": "code",
   "execution_count": null,
   "id": "25e723b6",
   "metadata": {},
   "outputs": [],
   "source": [
    "# redefine search masks according to the new encoding\n",
    "Ghoul_mask = df['type'] == 1\n",
    "Goblin_mask = df['type'] == 2\n",
    "Ghost_mask = df['type'] == 0\n",
    "\n",
    "# define the means and variances for each feature and for each creature\n",
    "\n",
    "bone_ghost_mean = df.loc[Ghost_mask, 'bone_length'].mean()\n",
    "bone_ghoul_mean = df.loc[Ghoul_mask, 'bone_length'].mean()\n",
    "bone_goblin_mean = df.loc[Goblin_mask, 'bone_length'].mean()\n",
    "bone_means = [bone_ghost_mean, bone_ghoul_mean, bone_goblin_mean]\n",
    "bone_var = 1 - bone_ghoul_mean\n",
    "# bone_var = bone_ghost_mean\n",
    "\n",
    "hair_ghost_mean = df.loc[Ghost_mask, 'hair_length'].mean()\n",
    "hair_ghoul_mean = df.loc[Ghoul_mask, 'hair_length'].mean()\n",
    "hair_goblin_mean = df.loc[Goblin_mask, 'hair_length'].mean()\n",
    "hair_means = [hair_ghost_mean, hair_ghoul_mean, hair_goblin_mean]\n",
    "hair_var = hair_ghost_mean\n",
    "\n",
    "soul_ghost_mean = df.loc[Ghost_mask, 'has_soul'].mean()\n",
    "soul_ghoul_mean = df.loc[Ghoul_mask, 'has_soul'].mean()\n",
    "soul_goblin_mean = df.loc[Goblin_mask, 'has_soul'].mean()\n",
    "soul_means = [soul_ghost_mean, soul_ghoul_mean, soul_goblin_mean]\n",
    "soul_var = 1 - soul_ghoul_mean\n",
    "# soul_var = soul_ghost_mean\n",
    "\n",
    "flesh_ghost_mean = df.loc[Ghost_mask, 'rotting_flesh'].mean()\n",
    "flesh_ghoul_mean = df.loc[Ghoul_mask, 'rotting_flesh'].mean()\n",
    "flesh_goblin_mean = df.loc[Goblin_mask, 'rotting_flesh'].mean()\n",
    "flesh_means = [flesh_ghost_mean, flesh_ghoul_mean, flesh_goblin_mean]\n",
    "flesh_var = flesh_goblin_mean\n",
    "\n",
    "# pack them into ndarrays\n",
    "means = np.array([bone_means, flesh_means, hair_means, soul_means])\n",
    "var_s = np.array([bone_var, flesh_var, hair_var, soul_var])\n",
    "\n",
    "# d_means = np.array([[-0.02, -0.02, 0.01], [-0.02, -0.01, 0.01], [0, 0, 0], [0, 0.01, 0.02]]) * (1)\n",
    "# means += d_means"
   ]
  },
  {
   "cell_type": "code",
   "execution_count": null,
   "id": "fac5f5d3",
   "metadata": {},
   "outputs": [],
   "source": [
    "means"
   ]
  },
  {
   "cell_type": "code",
   "execution_count": null,
   "id": "b1d71a3d",
   "metadata": {},
   "outputs": [],
   "source": [
    "var_s"
   ]
  },
  {
   "cell_type": "code",
   "execution_count": null,
   "id": "cbb633a0",
   "metadata": {},
   "outputs": [],
   "source": [
    "# table for manual typization of creatures\n",
    "vote_table = np.zeros((df.shape[0], 3))"
   ]
  },
  {
   "cell_type": "code",
   "execution_count": null,
   "id": "3c7e0d36",
   "metadata": {},
   "outputs": [],
   "source": [
    "# redefine types according to the new encoding\n",
    "typs = [0, 1, 2]\n",
    "\n",
    "# for every creature in dataset try manually define its type\n",
    "for i in range(df.shape[0]):\n",
    "    creature = df.iloc[i]\n",
    "    if creature['type'] == 3:\n",
    "        for j in range(len(columns)):\n",
    "            for typ in typs:\n",
    "                if creature[columns[j]] >= means[j, typ] - var_s[j] and creature[columns[j]] <= means[j, typ] + var_s[j]:\n",
    "                    vote_table[i, typ] += 1\n",
    "        ind = np.argmax(vote_table[i])\n",
    "        if vote_table[i].max() > 3 and np.where(vote_table[i] == vote_table[i, ind])[0].shape[0] == 1:\n",
    "            df.iloc[i, -1] = ind"
   ]
  },
  {
   "cell_type": "code",
   "execution_count": null,
   "id": "d628d2c9",
   "metadata": {},
   "outputs": [],
   "source": [
    "# show the current number of creatures in the dataset for each type\n",
    "df['type'].value_counts()"
   ]
  },
  {
   "cell_type": "markdown",
   "id": "5476a724",
   "metadata": {},
   "source": [
    "# TRAIN-TEST Split"
   ]
  },
  {
   "cell_type": "code",
   "execution_count": null,
   "id": "2c913bb8",
   "metadata": {},
   "outputs": [],
   "source": [
    "# define new train and test sets\n",
    "test_df = df[(df['type'] == 3)].drop('type', axis=1)\n",
    "train_df = df[(df['type'] != 3)]\n",
    "\n",
    "# define train output\n",
    "y_train = train_df['type']\n",
    "\n",
    "# drop 'type' column in the train set\n",
    "train_df.drop('type', axis=1, inplace=True)\n",
    "train_df.head()"
   ]
  },
  {
   "cell_type": "markdown",
   "id": "5d7484fa",
   "metadata": {},
   "source": [
    "## Model"
   ]
  },
  {
   "cell_type": "code",
   "execution_count": null,
   "id": "0185a1d6",
   "metadata": {},
   "outputs": [],
   "source": [
    "from sklearn.linear_model import LogisticRegression\n",
    "from sklearn.ensemble import RandomForestClassifier\n",
    "from sklearn.neighbors import KNeighborsClassifier"
   ]
  },
  {
   "cell_type": "code",
   "execution_count": null,
   "id": "a9b41b7b",
   "metadata": {},
   "outputs": [],
   "source": [
    "model = LogisticRegression()\n",
    "# model = RandomForestClassifier(n_estimators=100, max_depth=2, random_state=2)\n",
    "# model = KNeighborsClassifier(n_neighbors=61)\n",
    "model.fit(train_df, y_train)"
   ]
  },
  {
   "cell_type": "code",
   "execution_count": null,
   "id": "00bee3b7",
   "metadata": {},
   "outputs": [],
   "source": [
    "y_pred = model.predict(test_df)"
   ]
  },
  {
   "cell_type": "code",
   "execution_count": null,
   "id": "a096796d",
   "metadata": {},
   "outputs": [],
   "source": [
    "test_df['type'] = y_pred"
   ]
  },
  {
   "cell_type": "code",
   "execution_count": null,
   "id": "721791ec",
   "metadata": {},
   "outputs": [],
   "source": [
    "train_df['type'] = y_train"
   ]
  },
  {
   "cell_type": "code",
   "execution_count": null,
   "id": "82ceaa68",
   "metadata": {},
   "outputs": [],
   "source": [
    "all_df = pd.concat([train_df, test_df])"
   ]
  },
  {
   "cell_type": "code",
   "execution_count": null,
   "id": "257db8f7",
   "metadata": {},
   "outputs": [],
   "source": [
    "submission_df = pd.read_csv('./datasets/sample_submission.csv', index_col='id')\n",
    "prediction_types = types[all_df.loc[submission_df.index, 'type']]\n",
    "submission_df['type'] = prediction_types\n",
    "\n",
    "submission_df.to_csv('./results/LR.csv')"
   ]
  },
  {
   "cell_type": "code",
   "execution_count": null,
   "id": "52a8a49e",
   "metadata": {},
   "outputs": [],
   "source": [
    "all_df['type'].value_counts()"
   ]
  },
  {
   "cell_type": "markdown",
   "id": "271fd018",
   "metadata": {},
   "source": [
    "# 3rd APPROACH\n",
    "## Generate new samples"
   ]
  },
  {
   "cell_type": "code",
   "execution_count": null,
   "id": "00ff3ddf",
   "metadata": {},
   "outputs": [],
   "source": [
    "columns"
   ]
  },
  {
   "cell_type": "code",
   "execution_count": null,
   "id": "06c67bc8",
   "metadata": {},
   "outputs": [],
   "source": [
    "N = 100\n",
    "\n",
    "M = np.zeros((len(typs), len(columns) + 1, N))\n",
    "\n",
    "for typ in typs:\n",
    "    M[typ, len(columns)] = np.ones(N) * typ\n",
    "    for i in range(len(columns)):\n",
    "        lower = means[i, typ] - var_s[i]\n",
    "        upper = means[i, typ] + var_s[i]\n",
    "        for j in range(N):\n",
    "            M[typ, i, j] = np.random.normal(means[i, typ], var_s[i] / 4)"
   ]
  },
  {
   "cell_type": "code",
   "execution_count": null,
   "id": "53031ab7",
   "metadata": {},
   "outputs": [],
   "source": [
    "# np.random.RandomState(42)\n",
    "# np.random.RandomState(42).uniform(0, 1)"
   ]
  },
  {
   "cell_type": "code",
   "execution_count": null,
   "id": "16c710fb",
   "metadata": {},
   "outputs": [],
   "source": [
    "np.array([np.zeros(N), np.ones(N) * 1, np.ones(N) * 2])"
   ]
  },
  {
   "cell_type": "code",
   "execution_count": null,
   "id": "201f9c9d",
   "metadata": {},
   "outputs": [],
   "source": [
    "M_RES = np.concatenate([M[0].T, M[1].T, M[2].T])"
   ]
  },
  {
   "cell_type": "code",
   "execution_count": null,
   "id": "40b06484",
   "metadata": {
    "scrolled": true
   },
   "outputs": [],
   "source": [
    "M_RES"
   ]
  },
  {
   "cell_type": "code",
   "execution_count": null,
   "id": "c7993040",
   "metadata": {},
   "outputs": [],
   "source": [
    "all_df"
   ]
  },
  {
   "cell_type": "code",
   "execution_count": null,
   "id": "33751a8b",
   "metadata": {},
   "outputs": [],
   "source": [
    "indices = np.arange(len(typs) * N) + 2000\n",
    "\n",
    "rand_df = pd.DataFrame(M_RES, columns=all_df.columns)\n",
    "rand_df.set_index(indices, inplace=True)\n",
    "\n",
    "df = pd.concat([df, rand_df])\n",
    "df['type'] = df['type'].apply(lambda x: int(x))"
   ]
  },
  {
   "cell_type": "code",
   "execution_count": null,
   "id": "016a1aa7",
   "metadata": {},
   "outputs": [],
   "source": [
    "df"
   ]
  },
  {
   "cell_type": "code",
   "execution_count": null,
   "id": "6a4702d4",
   "metadata": {},
   "outputs": [],
   "source": [
    "K = 1000\n",
    "arr = np.zeros(K)\n",
    "for i in range(K):\n",
    "    arr[i] = np.random.normal(0.34, 0.11)\n",
    "print(arr.min(), arr.max())"
   ]
  },
  {
   "cell_type": "code",
   "execution_count": null,
   "id": "3ff3d2ec",
   "metadata": {},
   "outputs": [],
   "source": []
  },
  {
   "cell_type": "code",
   "execution_count": null,
   "id": "9df3b067",
   "metadata": {},
   "outputs": [],
   "source": []
  },
  {
   "cell_type": "markdown",
   "id": "8a7e7fc8",
   "metadata": {},
   "source": [
    "# 2nd APPROACH "
   ]
  },
  {
   "cell_type": "markdown",
   "id": "e1cd8bee",
   "metadata": {},
   "source": [
    "# Hair"
   ]
  },
  {
   "cell_type": "code",
   "execution_count": null,
   "id": "814032f9",
   "metadata": {},
   "outputs": [],
   "source": [
    "bone_ind = df['bone_length'].sort_values().index"
   ]
  },
  {
   "cell_type": "code",
   "execution_count": null,
   "id": "dda19f0a",
   "metadata": {},
   "outputs": [],
   "source": [
    "plt.scatter(df.loc[bone_ind].index, df.loc[bone_ind]['rotting_flesh'])"
   ]
  },
  {
   "cell_type": "code",
   "execution_count": null,
   "id": "48208112",
   "metadata": {},
   "outputs": [],
   "source": [
    "df.loc[bone_ind, 'type'].head(225).value_counts()"
   ]
  },
  {
   "cell_type": "code",
   "execution_count": null,
   "id": "b27a0a53",
   "metadata": {
    "scrolled": true
   },
   "outputs": [],
   "source": [
    "min_Ghost_bone_length = df.loc[bone_ind, 'bone_length'].iloc[0]\n",
    "mean_Ghost_bone_length = df.loc[bone_ind, 'bone_length'].iloc[225]\n",
    "print('bone_length mean for Ghost')\n",
    "print(mean_Ghost_bone_length)\n",
    "print('varience =', mean_Ghost_bone_length - min_Ghost_bone_length)"
   ]
  },
  {
   "cell_type": "code",
   "execution_count": null,
   "id": "d2e7cb21",
   "metadata": {},
   "outputs": [],
   "source": [
    "bone_Ghost_mask = df['bone_length'] <= 2*mean_Ghost_bone_length"
   ]
  },
  {
   "cell_type": "code",
   "execution_count": null,
   "id": "d98c41cc",
   "metadata": {},
   "outputs": [],
   "source": [
    "df.loc[bone_Ghost_mask, 'type'].value_counts()"
   ]
  },
  {
   "cell_type": "markdown",
   "id": "aee6a607",
   "metadata": {},
   "source": [
    "# Hair"
   ]
  },
  {
   "cell_type": "code",
   "execution_count": null,
   "id": "dcf19444",
   "metadata": {},
   "outputs": [],
   "source": [
    "hair_ind = df['hair_length'].sort_values().index"
   ]
  },
  {
   "cell_type": "code",
   "execution_count": null,
   "id": "f8ff8570",
   "metadata": {},
   "outputs": [],
   "source": [
    "df.loc[hair_ind, 'type'].head(50).value_counts()"
   ]
  },
  {
   "cell_type": "code",
   "execution_count": null,
   "id": "7e03b5b5",
   "metadata": {},
   "outputs": [],
   "source": [
    "df.loc[bone_ind, 'type'].head(40).value_counts()"
   ]
  },
  {
   "cell_type": "markdown",
   "id": "2e577c7e",
   "metadata": {},
   "source": [
    "# Soul"
   ]
  },
  {
   "cell_type": "code",
   "execution_count": null,
   "id": "6a50a926",
   "metadata": {},
   "outputs": [],
   "source": [
    "soul_ind = df['has_soul'].sort_values().index"
   ]
  },
  {
   "cell_type": "code",
   "execution_count": null,
   "id": "4d4eea7e",
   "metadata": {},
   "outputs": [],
   "source": [
    "df.loc[soul_ind, 'type'].head(50).value_counts()"
   ]
  },
  {
   "cell_type": "markdown",
   "id": "47e20057",
   "metadata": {},
   "source": [
    "# Flesh"
   ]
  },
  {
   "cell_type": "code",
   "execution_count": null,
   "id": "b94e0f67",
   "metadata": {},
   "outputs": [],
   "source": [
    "flesh_ind = df['rotting_flesh'].sort_values().index"
   ]
  },
  {
   "cell_type": "code",
   "execution_count": null,
   "id": "1324767f",
   "metadata": {},
   "outputs": [],
   "source": []
  },
  {
   "cell_type": "code",
   "execution_count": null,
   "id": "6456a88f",
   "metadata": {},
   "outputs": [],
   "source": [
    "df.loc[flesh_ind, 'type'].head(50).value_counts()"
   ]
  },
  {
   "cell_type": "markdown",
   "id": "70ee03d7",
   "metadata": {},
   "source": [
    "# REVERSE"
   ]
  },
  {
   "cell_type": "markdown",
   "id": "4f3b4153",
   "metadata": {},
   "source": [
    "# Bone"
   ]
  },
  {
   "cell_type": "code",
   "execution_count": null,
   "id": "fa21ae97",
   "metadata": {},
   "outputs": [],
   "source": [
    "rev_bone_ind = df['bone_length'].sort_values(ascending=False).index"
   ]
  },
  {
   "cell_type": "code",
   "execution_count": null,
   "id": "204f6755",
   "metadata": {},
   "outputs": [],
   "source": [
    "df.loc[rev_bone_ind, 'type'].head(15).value_counts()"
   ]
  },
  {
   "cell_type": "markdown",
   "id": "cd04c7ad",
   "metadata": {},
   "source": [
    "# Hair"
   ]
  },
  {
   "cell_type": "code",
   "execution_count": null,
   "id": "6d2858b9",
   "metadata": {},
   "outputs": [],
   "source": [
    "rev_hair_ind = df['hair_length'].sort_values(ascending=False).index"
   ]
  },
  {
   "cell_type": "code",
   "execution_count": null,
   "id": "ab677328",
   "metadata": {},
   "outputs": [],
   "source": [
    "df.loc[rev_hair_ind, 'type'].head(20).value_counts()"
   ]
  },
  {
   "cell_type": "markdown",
   "id": "a3aa4b84",
   "metadata": {},
   "source": [
    "# Soul"
   ]
  },
  {
   "cell_type": "code",
   "execution_count": null,
   "id": "c6c06c41",
   "metadata": {},
   "outputs": [],
   "source": [
    "rev_soul_ind = df['has_soul'].sort_values(ascending=False).index"
   ]
  },
  {
   "cell_type": "code",
   "execution_count": null,
   "id": "66f01212",
   "metadata": {},
   "outputs": [],
   "source": [
    "df.loc[rev_soul_ind, 'type'].head(10).value_counts()"
   ]
  },
  {
   "cell_type": "markdown",
   "id": "986eef32",
   "metadata": {},
   "source": [
    "# Flesh"
   ]
  },
  {
   "cell_type": "code",
   "execution_count": null,
   "id": "e0dd8267",
   "metadata": {},
   "outputs": [],
   "source": [
    "rev_flesh_ind = df['rotting_flesh'].sort_values(ascending=False).index"
   ]
  },
  {
   "cell_type": "code",
   "execution_count": null,
   "id": "797d8df1",
   "metadata": {},
   "outputs": [],
   "source": [
    "df.loc[rev_flesh_ind, 'type'].head(10).value_counts()"
   ]
  },
  {
   "cell_type": "markdown",
   "id": "5723ecc6",
   "metadata": {},
   "source": [
    "# Fill types"
   ]
  },
  {
   "cell_type": "code",
   "execution_count": null,
   "id": "c26dfaee",
   "metadata": {},
   "outputs": [],
   "source": [
    "df.loc[bone_ind[:35], 'type'] = 'Ghost'\n",
    "df.loc[hair_ind[:40], 'type'] = 'Ghost'\n",
    "df.loc[soul_ind[:50], 'type'] = 'Ghost'\n",
    "df.loc[rev_bone_ind[:15], 'type'] = 'Ghoul'\n",
    "df.loc[rev_hair_ind[:20], 'type'] = 'Ghoul'\n",
    "df.loc[rev_soul_ind[:10], 'type'] = 'Ghoul'\n",
    "df.loc[rev_flesh_ind[:10], 'type'] = 'Ghost'"
   ]
  },
  {
   "cell_type": "code",
   "execution_count": null,
   "id": "5b3ed814",
   "metadata": {},
   "outputs": [],
   "source": [
    "df['type'].value_counts()"
   ]
  },
  {
   "cell_type": "markdown",
   "id": "481203fb",
   "metadata": {},
   "source": [
    "# New train sample"
   ]
  },
  {
   "cell_type": "code",
   "execution_count": null,
   "id": "26f78a75",
   "metadata": {},
   "outputs": [],
   "source": [
    "train_df = df.loc[df['type'].notna()]"
   ]
  },
  {
   "cell_type": "markdown",
   "id": "512a578c",
   "metadata": {},
   "source": [
    "# Label Encoding"
   ]
  },
  {
   "cell_type": "code",
   "execution_count": null,
   "id": "8041ae86",
   "metadata": {},
   "outputs": [],
   "source": [
    "from sklearn.preprocessing import LabelEncoder"
   ]
  },
  {
   "cell_type": "code",
   "execution_count": null,
   "id": "55c6cf06",
   "metadata": {},
   "outputs": [],
   "source": [
    "le = LabelEncoder()\n",
    "\n",
    "y = le.fit_transform(train_df['type'])\n",
    "types = le.classes_"
   ]
  },
  {
   "cell_type": "code",
   "execution_count": null,
   "id": "0373c720",
   "metadata": {},
   "outputs": [],
   "source": [
    "train_df.drop('type'], axis=1, inplace=True)"
   ]
  },
  {
   "cell_type": "code",
   "execution_count": null,
   "id": "fa997eed",
   "metadata": {},
   "outputs": [],
   "source": [
    "train_df.head()"
   ]
  },
  {
   "cell_type": "code",
   "execution_count": null,
   "id": "b9850d2f",
   "metadata": {},
   "outputs": [],
   "source": [
    "test.head()"
   ]
  },
  {
   "cell_type": "markdown",
   "id": "aca4b8ad",
   "metadata": {},
   "source": [
    "# Training simple model: logreg"
   ]
  },
  {
   "cell_type": "code",
   "execution_count": null,
   "id": "fd86bbb3",
   "metadata": {},
   "outputs": [],
   "source": [
    "from sklearn.linear_model import LogisticRegression"
   ]
  },
  {
   "cell_type": "code",
   "execution_count": null,
   "id": "8664b4f6",
   "metadata": {},
   "outputs": [],
   "source": [
    "clf = LogisticRegression()\n",
    "clf.fit(train_df, y)"
   ]
  },
  {
   "cell_type": "code",
   "execution_count": null,
   "id": "2314c0e8",
   "metadata": {},
   "outputs": [],
   "source": [
    "predictions = clf.predict(test_df)"
   ]
  },
  {
   "cell_type": "code",
   "execution_count": null,
   "id": "c2832aaf",
   "metadata": {},
   "outputs": [],
   "source": [
    "submission_df = pd.read_csv('./datasets/sample_submission.csv', index_col='id')\n",
    "submission_df['type'] = types[predictions]\n",
    "\n",
    "submission_df.to_csv('./results/LogReg_NEW.csv')"
   ]
  },
  {
   "cell_type": "markdown",
   "id": "a9eddc81",
   "metadata": {},
   "source": [
    "# Random Forest"
   ]
  },
  {
   "cell_type": "code",
   "execution_count": null,
   "id": "3b00c548",
   "metadata": {},
   "outputs": [],
   "source": [
    "from sklearn.ensemble import RandomForestClassifier\n",
    "\n",
    "model = RandomForestClassifier(n_estimators=100, max_depth=1, random_state=2)\n",
    "model.fit(train_df, y)\n",
    "predictions = model.predict(test)"
   ]
  },
  {
   "cell_type": "code",
   "execution_count": null,
   "id": "294596a8",
   "metadata": {},
   "outputs": [],
   "source": [
    "submission_df = pd.read_csv('./datasets/sample_submission.csv', index_col='id')\n",
    "submission_df['type'] = types[predictions]\n",
    "\n",
    "submission_df.to_csv('./results/RanFor_NEW.csv')"
   ]
  },
  {
   "cell_type": "code",
   "execution_count": null,
   "id": "148851b1",
   "metadata": {},
   "outputs": [],
   "source": []
  }
 ],
 "metadata": {
  "kernelspec": {
   "display_name": "Python 3",
   "language": "python",
   "name": "python3"
  },
  "language_info": {
   "codemirror_mode": {
    "name": "ipython",
    "version": 3
   },
   "file_extension": ".py",
   "mimetype": "text/x-python",
   "name": "python",
   "nbconvert_exporter": "python",
   "pygments_lexer": "ipython3",
   "version": "3.7.9"
  }
 },
 "nbformat": 4,
 "nbformat_minor": 5
}
