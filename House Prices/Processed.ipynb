{
 "cells": [
  {
   "cell_type": "markdown",
   "id": "2972850b",
   "metadata": {},
   "source": [
    "# Processed data [House Prices]"
   ]
  },
  {
   "cell_type": "markdown",
   "id": "1f470f25",
   "metadata": {},
   "source": [
    "### Import libraries"
   ]
  },
  {
   "cell_type": "code",
   "execution_count": null,
   "id": "c0fdaac5",
   "metadata": {},
   "outputs": [],
   "source": [
    "import numpy as np\n",
    "import pandas as pd\n",
    "import matplotlib.pyplot as plt\n",
    "%matplotlib inline"
   ]
  },
  {
   "cell_type": "markdown",
   "id": "6d3711fb",
   "metadata": {},
   "source": [
    "### Load preprocessed data"
   ]
  },
  {
   "cell_type": "code",
   "execution_count": null,
   "id": "89b7ea80",
   "metadata": {},
   "outputs": [],
   "source": [
    "train = pd.read_csv('./processed/train.csv', index_col='Id')\n",
    "test = pd.read_csv('./processed/test.csv', index_col='Id')"
   ]
  },
  {
   "cell_type": "code",
   "execution_count": null,
   "id": "5ff457e3",
   "metadata": {
    "scrolled": true
   },
   "outputs": [],
   "source": [
    "nullable = test.columns[(test.isnull().sum() > 0)]\n",
    "nullable"
   ]
  },
  {
   "cell_type": "code",
   "execution_count": null,
   "id": "3a1d20f3",
   "metadata": {},
   "outputs": [],
   "source": [
    "nullable = train.columns[(train.isnull().sum() > 0)]\n",
    "nullable"
   ]
  },
  {
   "cell_type": "markdown",
   "id": "db2005f8",
   "metadata": {},
   "source": [
    "### Train X-y split"
   ]
  },
  {
   "cell_type": "code",
   "execution_count": null,
   "id": "c7ad2b92",
   "metadata": {},
   "outputs": [],
   "source": [
    "y_train = train['SalePrice']\n",
    "train.drop('SalePrice', axis=1, inplace=True)"
   ]
  },
  {
   "cell_type": "markdown",
   "id": "be00ffad",
   "metadata": {},
   "source": [
    "### Model selection"
   ]
  },
  {
   "cell_type": "code",
   "execution_count": null,
   "id": "d760d95b",
   "metadata": {},
   "outputs": [],
   "source": [
    "# import models\n",
    "from xgboost import XGBRegressor\n",
    "from sklearn.ensemble import RandomForestRegressor"
   ]
  },
  {
   "cell_type": "code",
   "execution_count": null,
   "id": "e5d92127",
   "metadata": {},
   "outputs": [],
   "source": [
    "# import instruments for model evaluation\n",
    "from sklearn.model_selection import KFold\n",
    "from sklearn.metrics import mean_squared_error as mse"
   ]
  },
  {
   "cell_type": "code",
   "execution_count": null,
   "id": "30ca5e93",
   "metadata": {},
   "outputs": [],
   "source": [
    "# define error function [RMSE(log(y), log(y_pred))]\n",
    "# RMSE - Root-Mean-Square Error\n",
    "def error(Y_real, Y_pred):\n",
    "    return np.sqrt(mse(np.log(Y_real), np.log(Y_pred)))"
   ]
  },
  {
   "cell_type": "code",
   "execution_count": null,
   "id": "b16b9a50",
   "metadata": {},
   "outputs": [],
   "source": [
    "# list of models\n",
    "models = [\n",
    "    XGBRegressor(),\n",
    "    RandomForestRegressor()\n",
    "]\n",
    "\n",
    "# K-Fold splitter\n",
    "kfold = KFold(n_splits=10)\n",
    "\n",
    "# Model evaluation DataFrame\n",
    "log_df = pd.DataFrame(columns=['Model', 'Error'])\n",
    "log_dict = {}\n",
    "\n",
    "for train_ind, test_ind in kfold.split(train, y_train):\n",
    "    X_train, Y_train = train.iloc[train_ind], y_train.iloc[train_ind]\n",
    "    X_test, Y_test = train.iloc[test_ind], y_train.iloc[test_ind]\n",
    "    \n",
    "    for model in models:\n",
    "        name = model.__class__.__name__\n",
    "        \n",
    "        model.fit(X_train, Y_train)\n",
    "        Y_pred = model.predict(X_test)\n",
    "        \n",
    "        err = error(Y_test, Y_pred)\n",
    "        \n",
    "        if name in log_dict:\n",
    "            log_dict[name] += err\n",
    "        else:\n",
    "            log_dict[name] = err\n",
    "\n",
    "for model in log_dict:\n",
    "    row = {'Model': model, 'Error': log_dict[model] / 10}\n",
    "    log_df = log_df.append(row, ignore_index=True)\n",
    "\n",
    "log_df"
   ]
  },
  {
   "cell_type": "markdown",
   "id": "55c5a8af",
   "metadata": {},
   "source": [
    "### Prediction of the best model"
   ]
  },
  {
   "cell_type": "code",
   "execution_count": null,
   "id": "08e8a50a",
   "metadata": {},
   "outputs": [],
   "source": [
    "best = XGBRegressor()\n",
    "best.fit(train, y_train)\n",
    "\n",
    "predictions = best.predict(test)"
   ]
  },
  {
   "cell_type": "code",
   "execution_count": null,
   "id": "06c7026f",
   "metadata": {},
   "outputs": [],
   "source": [
    "plt.plot(train.columns, best.feature_importances_)"
   ]
  },
  {
   "cell_type": "markdown",
   "id": "5b05c3e3",
   "metadata": {},
   "source": [
    "### Export results"
   ]
  },
  {
   "cell_type": "code",
   "execution_count": null,
   "id": "f34430ef",
   "metadata": {},
   "outputs": [],
   "source": [
    "submission_df = pd.read_csv('./data/sample_submission.csv', index_col='Id')\n",
    "submission_df['SalePrice'] = predictions"
   ]
  },
  {
   "cell_type": "code",
   "execution_count": null,
   "id": "af2e4cde",
   "metadata": {},
   "outputs": [],
   "source": [
    "submission_df.to_csv('./result/XGB_encoding.csv')"
   ]
  }
 ],
 "metadata": {
  "kernelspec": {
   "display_name": "Python 3",
   "language": "python",
   "name": "python3"
  },
  "language_info": {
   "codemirror_mode": {
    "name": "ipython",
    "version": 3
   },
   "file_extension": ".py",
   "mimetype": "text/x-python",
   "name": "python",
   "nbconvert_exporter": "python",
   "pygments_lexer": "ipython3",
   "version": "3.7.9"
  }
 },
 "nbformat": 4,
 "nbformat_minor": 5
}
