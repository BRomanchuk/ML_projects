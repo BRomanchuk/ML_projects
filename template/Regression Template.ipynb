{
 "cells": [
  {
   "cell_type": "markdown",
   "id": "0bd2f824",
   "metadata": {},
   "source": [
    "## Import libraries"
   ]
  },
  {
   "cell_type": "code",
   "execution_count": null,
   "id": "4d6e3d65",
   "metadata": {},
   "outputs": [],
   "source": [
    "import numpy as np\n",
    "import pandas as pd\n",
    "import matplotlib.pyplot as plt\n",
    "import seaborn as sns\n",
    "%matplotlib inline"
   ]
  },
  {
   "cell_type": "markdown",
   "id": "c2a11a8e",
   "metadata": {},
   "source": [
    "## Load preprocessed data"
   ]
  },
  {
   "cell_type": "code",
   "execution_count": null,
   "id": "6ee4f3e8",
   "metadata": {},
   "outputs": [],
   "source": [
    "train = pd.read_csv('./preprocessed/train.csv', index_col='id')\n",
    "test = pd.read_csv('./preprocessed/test.csv', index_col='id')\n",
    "\n",
    "data = pd.concat([train, test])"
   ]
  },
  {
   "cell_type": "markdown",
   "id": "7804d29f",
   "metadata": {},
   "source": [
    "## Train X-y split"
   ]
  },
  {
   "cell_type": "code",
   "execution_count": null,
   "id": "a783e050",
   "metadata": {},
   "outputs": [],
   "source": [
    "y_train = train['target']\n",
    "train.drop('target', axis=1, inplace=True)"
   ]
  },
  {
   "cell_type": "markdown",
   "id": "a8446197",
   "metadata": {},
   "source": [
    "## Model selection"
   ]
  },
  {
   "cell_type": "code",
   "execution_count": null,
   "id": "c88d734f",
   "metadata": {},
   "outputs": [],
   "source": [
    "# import models\n",
    "from sklearn.ensemble import RandomForestRegressor\n",
    "from xgboost import XGBRegressor"
   ]
  },
  {
   "cell_type": "code",
   "execution_count": null,
   "id": "c66b1ff9",
   "metadata": {},
   "outputs": [],
   "source": [
    "# import instruments for model evaluation\n",
    "from sklearn.metrics import mean_squared_error as mse \n",
    "from sklearn.model_selection import KFold"
   ]
  },
  {
   "cell_type": "code",
   "execution_count": null,
   "id": "31eb2594",
   "metadata": {},
   "outputs": [],
   "source": [
    "# define error function\n",
    "def error(Y_real, Y_pred):\n",
    "    return mse(Y_real, Y_pred)"
   ]
  },
  {
   "cell_type": "code",
   "execution_count": null,
   "id": "59aa7987",
   "metadata": {},
   "outputs": [],
   "source": [
    "# list of models\n",
    "models = [\n",
    "    XGBRegressor(),\n",
    "    RandomForestRegressor()\n",
    "]\n",
    "\n",
    "# K-Fold splitter\n",
    "kfold = KFold(n_splits=10)\n",
    "\n",
    "# Model evaluation DataFrame\n",
    "log_df = pd.DataFrame(columns=['Model', 'Error'])\n",
    "log_dict = {}\n",
    "\n",
    "for train_ind, test_ind in kfold.split(train, y_train):\n",
    "    X_train, Y_train = train.iloc[train_ind], y_train.iloc[train_ind]\n",
    "    X_test, Y_test = train.iloc[test_ind], y_train.iloc[test_ind]\n",
    "    \n",
    "    for model in models:\n",
    "        name = model.__class__.__name__\n",
    "        \n",
    "        model.fit(X_train, Y_train)\n",
    "        Y_pred = model.predict(X_test)\n",
    "        \n",
    "        err = error(Y_test, Y_pred)\n",
    "        \n",
    "        if name in log_dict:\n",
    "            log_dict[name] += err\n",
    "        else:\n",
    "            log_dict[name] = err\n",
    "\n",
    "for model in log_dict:\n",
    "    row = {'Model': model, 'Error': log_dict[model] / 10}\n",
    "    log_df = log_df.append(row, ignore_index=True)\n",
    "\n",
    "log_df"
   ]
  },
  {
   "cell_type": "markdown",
   "id": "463a979a",
   "metadata": {},
   "source": [
    "## Prediction of the best model"
   ]
  },
  {
   "cell_type": "code",
   "execution_count": null,
   "id": "41fb7da1",
   "metadata": {},
   "outputs": [],
   "source": [
    "best = XGBRegressor()\n",
    "best.fit(train, y_train)\n",
    "\n",
    "predictions = best.predict(test)"
   ]
  },
  {
   "cell_type": "code",
   "execution_count": null,
   "id": "198b6536",
   "metadata": {},
   "outputs": [],
   "source": [
    "plt.plot(train.columns, best.feature_importances_)"
   ]
  },
  {
   "cell_type": "markdown",
   "id": "3b5f8106",
   "metadata": {},
   "source": [
    "## Export results"
   ]
  },
  {
   "cell_type": "code",
   "execution_count": null,
   "id": "205f7028",
   "metadata": {},
   "outputs": [],
   "source": [
    "submission_df = pd.read_csv('./data/sample_submission.csv', index_col='Id')\n",
    "submission_df['target'] = predictions\n",
    "\n",
    "submission_df.to_csv('./result/result.csv')"
   ]
  }
 ],
 "metadata": {
  "kernelspec": {
   "display_name": "Python 3",
   "language": "python",
   "name": "python3"
  },
  "language_info": {
   "codemirror_mode": {
    "name": "ipython",
    "version": 3
   },
   "file_extension": ".py",
   "mimetype": "text/x-python",
   "name": "python",
   "nbconvert_exporter": "python",
   "pygments_lexer": "ipython3",
   "version": "3.7.9"
  }
 },
 "nbformat": 4,
 "nbformat_minor": 5
}
