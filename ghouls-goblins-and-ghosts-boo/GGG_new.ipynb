{
 "cells": [
  {
   "cell_type": "code",
   "execution_count": 1,
   "id": "83ad13c6",
   "metadata": {},
   "outputs": [],
   "source": [
    "import numpy as np\n",
    "import pandas as pd\n",
    "import matplotlib.pyplot as plt\n",
    "%matplotlib inline"
   ]
  },
  {
   "cell_type": "code",
   "execution_count": 2,
   "id": "2d9bdd55",
   "metadata": {},
   "outputs": [
    {
     "data": {
      "text/plain": [
       "Ghoul     129\n",
       "Goblin    125\n",
       "Ghost     117\n",
       "Name: type, dtype: int64"
      ]
     },
     "execution_count": 2,
     "metadata": {},
     "output_type": "execute_result"
    }
   ],
   "source": [
    "train = pd.read_csv('./datasets/train.csv', index_col='id')\n",
    "test = pd.read_csv('./datasets/test.csv', index_col='id')\n",
    "\n",
    "df = pd.concat([train, test])\n",
    "\n",
    "train['type'].value_counts()"
   ]
  },
  {
   "cell_type": "code",
   "execution_count": 3,
   "id": "a8f4ce17",
   "metadata": {},
   "outputs": [
    {
     "data": {
      "text/html": [
       "<div>\n",
       "<style scoped>\n",
       "    .dataframe tbody tr th:only-of-type {\n",
       "        vertical-align: middle;\n",
       "    }\n",
       "\n",
       "    .dataframe tbody tr th {\n",
       "        vertical-align: top;\n",
       "    }\n",
       "\n",
       "    .dataframe thead th {\n",
       "        text-align: right;\n",
       "    }\n",
       "</style>\n",
       "<table border=\"1\" class=\"dataframe\">\n",
       "  <thead>\n",
       "    <tr style=\"text-align: right;\">\n",
       "      <th></th>\n",
       "      <th>bone_length</th>\n",
       "      <th>rotting_flesh</th>\n",
       "      <th>hair_length</th>\n",
       "      <th>has_soul</th>\n",
       "      <th>type</th>\n",
       "    </tr>\n",
       "    <tr>\n",
       "      <th>id</th>\n",
       "      <th></th>\n",
       "      <th></th>\n",
       "      <th></th>\n",
       "      <th></th>\n",
       "      <th></th>\n",
       "    </tr>\n",
       "  </thead>\n",
       "  <tbody>\n",
       "    <tr>\n",
       "      <th>0</th>\n",
       "      <td>0.354512</td>\n",
       "      <td>0.350839</td>\n",
       "      <td>0.465761</td>\n",
       "      <td>0.781142</td>\n",
       "      <td>Ghoul</td>\n",
       "    </tr>\n",
       "    <tr>\n",
       "      <th>1</th>\n",
       "      <td>0.575560</td>\n",
       "      <td>0.425868</td>\n",
       "      <td>0.531401</td>\n",
       "      <td>0.439899</td>\n",
       "      <td>Goblin</td>\n",
       "    </tr>\n",
       "    <tr>\n",
       "      <th>2</th>\n",
       "      <td>0.467875</td>\n",
       "      <td>0.354330</td>\n",
       "      <td>0.811616</td>\n",
       "      <td>0.791225</td>\n",
       "      <td>Ghoul</td>\n",
       "    </tr>\n",
       "    <tr>\n",
       "      <th>4</th>\n",
       "      <td>0.776652</td>\n",
       "      <td>0.508723</td>\n",
       "      <td>0.636766</td>\n",
       "      <td>0.884464</td>\n",
       "      <td>Ghoul</td>\n",
       "    </tr>\n",
       "    <tr>\n",
       "      <th>5</th>\n",
       "      <td>0.566117</td>\n",
       "      <td>0.875862</td>\n",
       "      <td>0.418594</td>\n",
       "      <td>0.636438</td>\n",
       "      <td>Ghost</td>\n",
       "    </tr>\n",
       "  </tbody>\n",
       "</table>\n",
       "</div>"
      ],
      "text/plain": [
       "    bone_length  rotting_flesh  hair_length  has_soul    type\n",
       "id                                                           \n",
       "0      0.354512       0.350839     0.465761  0.781142   Ghoul\n",
       "1      0.575560       0.425868     0.531401  0.439899  Goblin\n",
       "2      0.467875       0.354330     0.811616  0.791225   Ghoul\n",
       "4      0.776652       0.508723     0.636766  0.884464   Ghoul\n",
       "5      0.566117       0.875862     0.418594  0.636438   Ghost"
      ]
     },
     "execution_count": 3,
     "metadata": {},
     "output_type": "execute_result"
    }
   ],
   "source": [
    "df.drop('color', axis=1, inplace=True)\n",
    "df.head()"
   ]
  },
  {
   "cell_type": "code",
   "execution_count": 4,
   "id": "86172ee0",
   "metadata": {},
   "outputs": [
    {
     "data": {
      "text/html": [
       "<div>\n",
       "<style scoped>\n",
       "    .dataframe tbody tr th:only-of-type {\n",
       "        vertical-align: middle;\n",
       "    }\n",
       "\n",
       "    .dataframe tbody tr th {\n",
       "        vertical-align: top;\n",
       "    }\n",
       "\n",
       "    .dataframe thead th {\n",
       "        text-align: right;\n",
       "    }\n",
       "</style>\n",
       "<table border=\"1\" class=\"dataframe\">\n",
       "  <thead>\n",
       "    <tr style=\"text-align: right;\">\n",
       "      <th></th>\n",
       "      <th>bone_length</th>\n",
       "      <th>rotting_flesh</th>\n",
       "      <th>hair_length</th>\n",
       "      <th>has_soul</th>\n",
       "    </tr>\n",
       "  </thead>\n",
       "  <tbody>\n",
       "    <tr>\n",
       "      <th>count</th>\n",
       "      <td>900.000000</td>\n",
       "      <td>900.000000</td>\n",
       "      <td>900.000000</td>\n",
       "      <td>900.000000</td>\n",
       "    </tr>\n",
       "    <tr>\n",
       "      <th>mean</th>\n",
       "      <td>0.429054</td>\n",
       "      <td>0.504961</td>\n",
       "      <td>0.522163</td>\n",
       "      <td>0.467104</td>\n",
       "    </tr>\n",
       "    <tr>\n",
       "      <th>std</th>\n",
       "      <td>0.134744</td>\n",
       "      <td>0.153567</td>\n",
       "      <td>0.170981</td>\n",
       "      <td>0.178150</td>\n",
       "    </tr>\n",
       "    <tr>\n",
       "      <th>min</th>\n",
       "      <td>0.000000</td>\n",
       "      <td>0.000000</td>\n",
       "      <td>0.000000</td>\n",
       "      <td>0.000000</td>\n",
       "    </tr>\n",
       "    <tr>\n",
       "      <th>25%</th>\n",
       "      <td>0.332085</td>\n",
       "      <td>0.402419</td>\n",
       "      <td>0.396112</td>\n",
       "      <td>0.343909</td>\n",
       "    </tr>\n",
       "    <tr>\n",
       "      <th>50%</th>\n",
       "      <td>0.426781</td>\n",
       "      <td>0.505279</td>\n",
       "      <td>0.530294</td>\n",
       "      <td>0.465508</td>\n",
       "    </tr>\n",
       "    <tr>\n",
       "      <th>75%</th>\n",
       "      <td>0.518167</td>\n",
       "      <td>0.605218</td>\n",
       "      <td>0.644958</td>\n",
       "      <td>0.589235</td>\n",
       "    </tr>\n",
       "    <tr>\n",
       "      <th>max</th>\n",
       "      <td>1.000000</td>\n",
       "      <td>1.000000</td>\n",
       "      <td>1.000000</td>\n",
       "      <td>1.000000</td>\n",
       "    </tr>\n",
       "  </tbody>\n",
       "</table>\n",
       "</div>"
      ],
      "text/plain": [
       "       bone_length  rotting_flesh  hair_length    has_soul\n",
       "count   900.000000     900.000000   900.000000  900.000000\n",
       "mean      0.429054       0.504961     0.522163    0.467104\n",
       "std       0.134744       0.153567     0.170981    0.178150\n",
       "min       0.000000       0.000000     0.000000    0.000000\n",
       "25%       0.332085       0.402419     0.396112    0.343909\n",
       "50%       0.426781       0.505279     0.530294    0.465508\n",
       "75%       0.518167       0.605218     0.644958    0.589235\n",
       "max       1.000000       1.000000     1.000000    1.000000"
      ]
     },
     "execution_count": 4,
     "metadata": {},
     "output_type": "execute_result"
    }
   ],
   "source": [
    "df.describe()"
   ]
  },
  {
   "cell_type": "code",
   "execution_count": 5,
   "id": "291d9999",
   "metadata": {},
   "outputs": [],
   "source": [
    "columns = df.drop('type', axis=1).columns"
   ]
  },
  {
   "cell_type": "code",
   "execution_count": 6,
   "id": "71f86e4e",
   "metadata": {},
   "outputs": [],
   "source": [
    "from sklearn.preprocessing import LabelEncoder\n",
    "\n",
    "le = LabelEncoder()\n",
    "df['type'] = le.fit_transform(df['type'])\n",
    "types = le.classes_"
   ]
  },
  {
   "cell_type": "code",
   "execution_count": 7,
   "id": "acbc6dfb",
   "metadata": {
    "scrolled": false
   },
   "outputs": [
    {
     "name": "stdout",
     "output_type": "stream",
     "text": [
      "bone_length\n"
     ]
    },
    {
     "ename": "NameError",
     "evalue": "name 'all_df' is not defined",
     "output_type": "error",
     "traceback": [
      "\u001b[1;31m---------------------------------------------------------------------------\u001b[0m",
      "\u001b[1;31mNameError\u001b[0m                                 Traceback (most recent call last)",
      "\u001b[1;32m<ipython-input-7-9d57a89dd101>\u001b[0m in \u001b[0;36m<module>\u001b[1;34m\u001b[0m\n\u001b[0;32m      2\u001b[0m \u001b[1;32mfor\u001b[0m \u001b[0mcol\u001b[0m \u001b[1;32min\u001b[0m \u001b[0mcolumns\u001b[0m\u001b[1;33m:\u001b[0m\u001b[1;33m\u001b[0m\u001b[1;33m\u001b[0m\u001b[0m\n\u001b[0;32m      3\u001b[0m     \u001b[0mprint\u001b[0m\u001b[1;33m(\u001b[0m\u001b[0mcol\u001b[0m\u001b[1;33m)\u001b[0m\u001b[1;33m\u001b[0m\u001b[1;33m\u001b[0m\u001b[0m\n\u001b[1;32m----> 4\u001b[1;33m     \u001b[0msorted_col_index\u001b[0m \u001b[1;33m=\u001b[0m \u001b[0mall_df\u001b[0m\u001b[1;33m[\u001b[0m\u001b[0mcol\u001b[0m\u001b[1;33m]\u001b[0m\u001b[1;33m.\u001b[0m\u001b[0msort_values\u001b[0m\u001b[1;33m(\u001b[0m\u001b[1;33m)\u001b[0m\u001b[1;33m.\u001b[0m\u001b[0mindex\u001b[0m\u001b[1;33m\u001b[0m\u001b[1;33m\u001b[0m\u001b[0m\n\u001b[0m\u001b[0;32m      5\u001b[0m     \u001b[1;32mfor\u001b[0m \u001b[0mtyp\u001b[0m \u001b[1;32min\u001b[0m \u001b[0mtypes\u001b[0m\u001b[1;33m:\u001b[0m\u001b[1;33m\u001b[0m\u001b[1;33m\u001b[0m\u001b[0m\n\u001b[0;32m      6\u001b[0m         \u001b[1;32mif\u001b[0m \u001b[0mlen\u001b[0m\u001b[1;33m(\u001b[0m\u001b[0mnp\u001b[0m\u001b[1;33m.\u001b[0m\u001b[0mwhere\u001b[0m\u001b[1;33m(\u001b[0m\u001b[0mtypes\u001b[0m \u001b[1;33m==\u001b[0m \u001b[0mtyp\u001b[0m\u001b[1;33m)\u001b[0m\u001b[1;33m[\u001b[0m\u001b[1;36m0\u001b[0m\u001b[1;33m]\u001b[0m\u001b[1;33m)\u001b[0m \u001b[1;33m>\u001b[0m \u001b[1;36m0\u001b[0m\u001b[1;33m:\u001b[0m\u001b[1;33m\u001b[0m\u001b[1;33m\u001b[0m\u001b[0m\n",
      "\u001b[1;31mNameError\u001b[0m: name 'all_df' is not defined"
     ]
    }
   ],
   "source": [
    "# means \n",
    "for col in columns:\n",
    "    print(col)\n",
    "    sorted_col_index = all_df[col].sort_values().index\n",
    "    for typ in types:\n",
    "        if len(np.where(types == typ)[0]) > 0:\n",
    "            type_mask = (all_df['type'] == np.where(types == typ)[0][0])\n",
    "            print(typ)\n",
    "            print(all_df.loc[type_mask, col].mean())\n",
    "    fig, ax = plt.subplots()   \n",
    "    ax.scatter(all_df.loc[sorted_col_index, col], all_df.loc[sorted_col_index, 'type'])\n",
    "    ax.set_title(col)\n",
    "    print()"
   ]
  },
  {
   "cell_type": "code",
   "execution_count": 8,
   "id": "260f88b9",
   "metadata": {},
   "outputs": [],
   "source": [
    "bone_var = 0.35\n",
    "\n",
    "bone_ghost_mean = 0.35\n",
    "bone_ghoul_mean = 0.53\n",
    "bone_goblin_mean = 0.43\n",
    "bone_means = [bone_ghost_mean, bone_ghoul_mean, bone_goblin_mean]\n",
    "\n",
    "hair_var = 0.37\n",
    "\n",
    "hair_ghost_mean = 0.37\n",
    "hair_ghoul_mean = 0.66\n",
    "hair_goblin_mean = 0.55\n",
    "hair_means = [hair_ghost_mean, hair_ghoul_mean, hair_goblin_mean]\n",
    "\n",
    "soul_var = 0.32\n",
    "\n",
    "soul_ghost_mean = 0.32\n",
    "soul_ghoul_mean = 0.6\n",
    "soul_goblin_mean = 0.47\n",
    "soul_means = [soul_ghost_mean, soul_ghoul_mean, soul_goblin_mean]\n",
    "\n",
    "flesh_var = 0.44\n",
    "\n",
    "flesh_ghost_mean = 0.59\n",
    "flesh_ghoul_mean = 0.49\n",
    "flesh_goblin_mean = 0.44\n",
    "flesh_means = [flesh_ghost_mean, flesh_ghoul_mean, flesh_goblin_mean]\n",
    "\n",
    "means = np.array([bone_means, flesh_means, hair_means, soul_means])\n",
    "var_s = np.array([bone_var, flesh_var, hair_var, soul_var]) * 1.1"
   ]
  },
  {
   "cell_type": "code",
   "execution_count": 9,
   "id": "ec6310c6",
   "metadata": {},
   "outputs": [
    {
     "data": {
      "text/plain": [
       "Index(['bone_length', 'rotting_flesh', 'hair_length', 'has_soul', 'type'], dtype='object')"
      ]
     },
     "execution_count": 9,
     "metadata": {},
     "output_type": "execute_result"
    }
   ],
   "source": [
    "df.columns"
   ]
  },
  {
   "cell_type": "code",
   "execution_count": 10,
   "id": "75b641d8",
   "metadata": {},
   "outputs": [
    {
     "data": {
      "text/plain": [
       "array([[0.35, 0.53, 0.43],\n",
       "       [0.59, 0.49, 0.44],\n",
       "       [0.37, 0.66, 0.55],\n",
       "       [0.32, 0.6 , 0.47]])"
      ]
     },
     "execution_count": 10,
     "metadata": {},
     "output_type": "execute_result"
    }
   ],
   "source": [
    "means"
   ]
  },
  {
   "cell_type": "code",
   "execution_count": 11,
   "id": "5754cb05",
   "metadata": {},
   "outputs": [
    {
     "data": {
      "text/plain": [
       "array([0.385, 0.484, 0.407, 0.352])"
      ]
     },
     "execution_count": 11,
     "metadata": {},
     "output_type": "execute_result"
    }
   ],
   "source": [
    "var_s"
   ]
  },
  {
   "cell_type": "code",
   "execution_count": 12,
   "id": "4342d96c",
   "metadata": {},
   "outputs": [],
   "source": [
    "vote_table = np.zeros((df.shape[0], 3))"
   ]
  },
  {
   "cell_type": "code",
   "execution_count": 13,
   "id": "4421a1ac",
   "metadata": {},
   "outputs": [],
   "source": [
    "cols = df.drop('type', axis=1).columns\n",
    "typs = [0, 1, 2]\n",
    "for i in range(df.shape[0]):\n",
    "    creature = df.iloc[i]\n",
    "    if creature['type'] == 3:\n",
    "        for j in range(len(cols)):\n",
    "            for typ in typs:\n",
    "                if creature[cols[j]] >= means[j, typ] - var_s[j] and creature[cols[j]] <= means[j, typ] + var_s[j]:\n",
    "                    vote_table[i, typ] += 1\n",
    "        ind = np.argmax(vote_table[i])\n",
    "        if vote_table[i].max() > 3 and np.where(vote_table[i] == vote_table[i, ind])[0].shape[0] == 1:\n",
    "            df.iloc[i, -1] = ind\n",
    "#     if df.iloc[i, 'type']"
   ]
  },
  {
   "cell_type": "code",
   "execution_count": 14,
   "id": "9ea905c2",
   "metadata": {},
   "outputs": [
    {
     "data": {
      "text/plain": [
       "3    498\n",
       "1    142\n",
       "0    132\n",
       "2    128\n",
       "Name: type, dtype: int64"
      ]
     },
     "execution_count": 14,
     "metadata": {},
     "output_type": "execute_result"
    }
   ],
   "source": [
    "df['type'].value_counts()"
   ]
  },
  {
   "cell_type": "code",
   "execution_count": 15,
   "id": "c2886047",
   "metadata": {},
   "outputs": [
    {
     "name": "stderr",
     "output_type": "stream",
     "text": [
      "c:\\users\\kmbs\\appdata\\local\\programs\\python\\python37\\lib\\site-packages\\pandas\\core\\frame.py:4315: SettingWithCopyWarning: \n",
      "A value is trying to be set on a copy of a slice from a DataFrame\n",
      "\n",
      "See the caveats in the documentation: https://pandas.pydata.org/pandas-docs/stable/user_guide/indexing.html#returning-a-view-versus-a-copy\n",
      "  errors=errors,\n"
     ]
    },
    {
     "data": {
      "text/html": [
       "<div>\n",
       "<style scoped>\n",
       "    .dataframe tbody tr th:only-of-type {\n",
       "        vertical-align: middle;\n",
       "    }\n",
       "\n",
       "    .dataframe tbody tr th {\n",
       "        vertical-align: top;\n",
       "    }\n",
       "\n",
       "    .dataframe thead th {\n",
       "        text-align: right;\n",
       "    }\n",
       "</style>\n",
       "<table border=\"1\" class=\"dataframe\">\n",
       "  <thead>\n",
       "    <tr style=\"text-align: right;\">\n",
       "      <th></th>\n",
       "      <th>bone_length</th>\n",
       "      <th>rotting_flesh</th>\n",
       "      <th>hair_length</th>\n",
       "      <th>has_soul</th>\n",
       "    </tr>\n",
       "    <tr>\n",
       "      <th>id</th>\n",
       "      <th></th>\n",
       "      <th></th>\n",
       "      <th></th>\n",
       "      <th></th>\n",
       "    </tr>\n",
       "  </thead>\n",
       "  <tbody>\n",
       "    <tr>\n",
       "      <th>0</th>\n",
       "      <td>0.354512</td>\n",
       "      <td>0.350839</td>\n",
       "      <td>0.465761</td>\n",
       "      <td>0.781142</td>\n",
       "    </tr>\n",
       "    <tr>\n",
       "      <th>1</th>\n",
       "      <td>0.575560</td>\n",
       "      <td>0.425868</td>\n",
       "      <td>0.531401</td>\n",
       "      <td>0.439899</td>\n",
       "    </tr>\n",
       "    <tr>\n",
       "      <th>2</th>\n",
       "      <td>0.467875</td>\n",
       "      <td>0.354330</td>\n",
       "      <td>0.811616</td>\n",
       "      <td>0.791225</td>\n",
       "    </tr>\n",
       "    <tr>\n",
       "      <th>4</th>\n",
       "      <td>0.776652</td>\n",
       "      <td>0.508723</td>\n",
       "      <td>0.636766</td>\n",
       "      <td>0.884464</td>\n",
       "    </tr>\n",
       "    <tr>\n",
       "      <th>5</th>\n",
       "      <td>0.566117</td>\n",
       "      <td>0.875862</td>\n",
       "      <td>0.418594</td>\n",
       "      <td>0.636438</td>\n",
       "    </tr>\n",
       "  </tbody>\n",
       "</table>\n",
       "</div>"
      ],
      "text/plain": [
       "    bone_length  rotting_flesh  hair_length  has_soul\n",
       "id                                                   \n",
       "0      0.354512       0.350839     0.465761  0.781142\n",
       "1      0.575560       0.425868     0.531401  0.439899\n",
       "2      0.467875       0.354330     0.811616  0.791225\n",
       "4      0.776652       0.508723     0.636766  0.884464\n",
       "5      0.566117       0.875862     0.418594  0.636438"
      ]
     },
     "execution_count": 15,
     "metadata": {},
     "output_type": "execute_result"
    }
   ],
   "source": [
    "test_df = df[(df['type'] == 3)].drop('type', axis=1)\n",
    "train_df = df[(df['type'] != 3)]\n",
    "y_train = train_df['type']\n",
    "\n",
    "train_df.drop('type', axis=1, inplace=True)\n",
    "train_df.head()"
   ]
  },
  {
   "cell_type": "code",
   "execution_count": 16,
   "id": "e802ffc7",
   "metadata": {},
   "outputs": [],
   "source": [
    "from sklearn.linear_model import LogisticRegression"
   ]
  },
  {
   "cell_type": "code",
   "execution_count": 17,
   "id": "c84dfb37",
   "metadata": {},
   "outputs": [
    {
     "data": {
      "text/plain": [
       "LogisticRegression()"
      ]
     },
     "execution_count": 17,
     "metadata": {},
     "output_type": "execute_result"
    }
   ],
   "source": [
    "model = LogisticRegression()\n",
    "model.fit(train_df, y_train)"
   ]
  },
  {
   "cell_type": "code",
   "execution_count": 18,
   "id": "a5018f17",
   "metadata": {},
   "outputs": [],
   "source": [
    "y_pred = model.predict(test_df)"
   ]
  },
  {
   "cell_type": "code",
   "execution_count": 19,
   "id": "55cea79b",
   "metadata": {},
   "outputs": [],
   "source": [
    "test_df['type'] = y_pred"
   ]
  },
  {
   "cell_type": "code",
   "execution_count": 20,
   "id": "459c731e",
   "metadata": {},
   "outputs": [
    {
     "name": "stderr",
     "output_type": "stream",
     "text": [
      "c:\\users\\kmbs\\appdata\\local\\programs\\python\\python37\\lib\\site-packages\\ipykernel_launcher.py:1: SettingWithCopyWarning: \n",
      "A value is trying to be set on a copy of a slice from a DataFrame.\n",
      "Try using .loc[row_indexer,col_indexer] = value instead\n",
      "\n",
      "See the caveats in the documentation: https://pandas.pydata.org/pandas-docs/stable/user_guide/indexing.html#returning-a-view-versus-a-copy\n",
      "  \"\"\"Entry point for launching an IPython kernel.\n"
     ]
    }
   ],
   "source": [
    "train_df['type'] = y_train"
   ]
  },
  {
   "cell_type": "code",
   "execution_count": 21,
   "id": "dbe4e98e",
   "metadata": {},
   "outputs": [],
   "source": [
    "all_df = pd.concat([train_df, test_df])"
   ]
  },
  {
   "cell_type": "code",
   "execution_count": 22,
   "id": "b3efb077",
   "metadata": {},
   "outputs": [],
   "source": [
    "submission_df = pd.read_csv('./datasets/sample_submission.csv', index_col='id')\n",
    "prediction_types = types[all_df.loc[submission_df.index, 'type']]\n",
    "submission_df['type'] = prediction_types\n",
    "\n",
    "submission_df.to_csv('./results/LR.csv')"
   ]
  },
  {
   "cell_type": "code",
   "execution_count": 23,
   "id": "9851a835",
   "metadata": {},
   "outputs": [
    {
     "data": {
      "text/plain": [
       "1    335\n",
       "0    308\n",
       "2    257\n",
       "Name: type, dtype: int64"
      ]
     },
     "execution_count": 23,
     "metadata": {},
     "output_type": "execute_result"
    }
   ],
   "source": [
    "all_df['type'].value_counts()"
   ]
  },
  {
   "cell_type": "markdown",
   "id": "4867c986",
   "metadata": {},
   "source": [
    "# Hair"
   ]
  },
  {
   "cell_type": "code",
   "execution_count": null,
   "id": "2e81cb09",
   "metadata": {},
   "outputs": [],
   "source": [
    "bone_ind = df['bone_length'].sort_values().index"
   ]
  },
  {
   "cell_type": "code",
   "execution_count": null,
   "id": "291ff2f0",
   "metadata": {},
   "outputs": [],
   "source": [
    "plt.scatter(df.loc[bone_ind].index, df.loc[bone_ind]['rotting_flesh'])"
   ]
  },
  {
   "cell_type": "code",
   "execution_count": null,
   "id": "77ab7397",
   "metadata": {},
   "outputs": [],
   "source": [
    "df.loc[bone_ind, 'type'].head(225).value_counts()"
   ]
  },
  {
   "cell_type": "code",
   "execution_count": null,
   "id": "19d48048",
   "metadata": {
    "scrolled": true
   },
   "outputs": [],
   "source": [
    "min_Ghost_bone_length = df.loc[bone_ind, 'bone_length'].iloc[0]\n",
    "mean_Ghost_bone_length = df.loc[bone_ind, 'bone_length'].iloc[225]\n",
    "print('bone_length mean for Ghost')\n",
    "print(mean_Ghost_bone_length)\n",
    "print('varience =', mean_Ghost_bone_length - min_Ghost_bone_length)"
   ]
  },
  {
   "cell_type": "code",
   "execution_count": null,
   "id": "8d5acf7a",
   "metadata": {},
   "outputs": [],
   "source": [
    "bone_Ghost_mask = df['bone_length'] <= 2*mean_Ghost_bone_length"
   ]
  },
  {
   "cell_type": "code",
   "execution_count": null,
   "id": "db6c6efd",
   "metadata": {},
   "outputs": [],
   "source": [
    "df.loc[bone_Ghost_mask, 'type'].value_counts()"
   ]
  },
  {
   "cell_type": "markdown",
   "id": "4ea8a702",
   "metadata": {},
   "source": [
    "# Hair"
   ]
  },
  {
   "cell_type": "code",
   "execution_count": null,
   "id": "22a8f911",
   "metadata": {},
   "outputs": [],
   "source": [
    "hair_ind = df['hair_length'].sort_values().index"
   ]
  },
  {
   "cell_type": "code",
   "execution_count": null,
   "id": "5c3752c8",
   "metadata": {},
   "outputs": [],
   "source": [
    "df.loc[hair_ind, 'type'].head(50).value_counts()"
   ]
  },
  {
   "cell_type": "code",
   "execution_count": null,
   "id": "9e13ba25",
   "metadata": {},
   "outputs": [],
   "source": [
    "df.loc[bone_ind, 'type'].head(40).value_counts()"
   ]
  },
  {
   "cell_type": "markdown",
   "id": "67af01a2",
   "metadata": {},
   "source": [
    "# Soul"
   ]
  },
  {
   "cell_type": "code",
   "execution_count": null,
   "id": "f7e6682b",
   "metadata": {},
   "outputs": [],
   "source": [
    "soul_ind = df['has_soul'].sort_values().index"
   ]
  },
  {
   "cell_type": "code",
   "execution_count": null,
   "id": "3c93e24e",
   "metadata": {},
   "outputs": [],
   "source": [
    "df.loc[soul_ind, 'type'].head(50).value_counts()"
   ]
  },
  {
   "cell_type": "markdown",
   "id": "07887425",
   "metadata": {},
   "source": [
    "# Flesh"
   ]
  },
  {
   "cell_type": "code",
   "execution_count": null,
   "id": "c6a70602",
   "metadata": {},
   "outputs": [],
   "source": [
    "flesh_ind = df['rotting_flesh'].sort_values().index"
   ]
  },
  {
   "cell_type": "code",
   "execution_count": null,
   "id": "d6c13a76",
   "metadata": {},
   "outputs": [],
   "source": [
    "df.loc[flesh_ind, 'type'].head(50).value_counts()"
   ]
  },
  {
   "cell_type": "markdown",
   "id": "938fd5c4",
   "metadata": {},
   "source": [
    "# REVERSE"
   ]
  },
  {
   "cell_type": "markdown",
   "id": "13df0cb9",
   "metadata": {},
   "source": [
    "# Bone"
   ]
  },
  {
   "cell_type": "code",
   "execution_count": null,
   "id": "7eab9fee",
   "metadata": {},
   "outputs": [],
   "source": [
    "rev_bone_ind = df['bone_length'].sort_values(ascending=False).index"
   ]
  },
  {
   "cell_type": "code",
   "execution_count": null,
   "id": "55301db4",
   "metadata": {},
   "outputs": [],
   "source": [
    "df.loc[rev_bone_ind, 'type'].head(15).value_counts()"
   ]
  },
  {
   "cell_type": "markdown",
   "id": "e0428a15",
   "metadata": {},
   "source": [
    "# Hair"
   ]
  },
  {
   "cell_type": "code",
   "execution_count": null,
   "id": "b505bc0b",
   "metadata": {},
   "outputs": [],
   "source": [
    "rev_hair_ind = df['hair_length'].sort_values(ascending=False).index"
   ]
  },
  {
   "cell_type": "code",
   "execution_count": null,
   "id": "29cf8ee8",
   "metadata": {},
   "outputs": [],
   "source": [
    "df.loc[rev_hair_ind, 'type'].head(20).value_counts()"
   ]
  },
  {
   "cell_type": "markdown",
   "id": "d38bf6e2",
   "metadata": {},
   "source": [
    "# Soul"
   ]
  },
  {
   "cell_type": "code",
   "execution_count": null,
   "id": "b1b4eff0",
   "metadata": {},
   "outputs": [],
   "source": [
    "rev_soul_ind = df['has_soul'].sort_values(ascending=False).index"
   ]
  },
  {
   "cell_type": "code",
   "execution_count": null,
   "id": "edcf9e66",
   "metadata": {},
   "outputs": [],
   "source": [
    "df.loc[rev_soul_ind, 'type'].head(10).value_counts()"
   ]
  },
  {
   "cell_type": "markdown",
   "id": "74531566",
   "metadata": {},
   "source": [
    "# Flesh"
   ]
  },
  {
   "cell_type": "code",
   "execution_count": null,
   "id": "a9b177b4",
   "metadata": {},
   "outputs": [],
   "source": [
    "rev_flesh_ind = df['rotting_flesh'].sort_values(ascending=False).index"
   ]
  },
  {
   "cell_type": "code",
   "execution_count": null,
   "id": "ab3eb1a9",
   "metadata": {},
   "outputs": [],
   "source": [
    "df.loc[rev_flesh_ind, 'type'].head(10).value_counts()"
   ]
  },
  {
   "cell_type": "markdown",
   "id": "4a962e87",
   "metadata": {},
   "source": [
    "# Fill types"
   ]
  },
  {
   "cell_type": "code",
   "execution_count": null,
   "id": "d1ba8992",
   "metadata": {},
   "outputs": [],
   "source": [
    "df.loc[bone_ind[:35], 'type'] = 'Ghost'\n",
    "df.loc[hair_ind[:40], 'type'] = 'Ghost'\n",
    "df.loc[soul_ind[:50], 'type'] = 'Ghost'\n",
    "df.loc[rev_bone_ind[:15], 'type'] = 'Ghoul'\n",
    "df.loc[rev_hair_ind[:20], 'type'] = 'Ghoul'\n",
    "df.loc[rev_soul_ind[:10], 'type'] = 'Ghoul'\n",
    "df.loc[rev_flesh_ind[:10], 'type'] = 'Ghost'"
   ]
  },
  {
   "cell_type": "code",
   "execution_count": null,
   "id": "3ec62478",
   "metadata": {},
   "outputs": [],
   "source": [
    "df['type'].value_counts()"
   ]
  },
  {
   "cell_type": "markdown",
   "id": "53320bbe",
   "metadata": {},
   "source": [
    "# New train sample"
   ]
  },
  {
   "cell_type": "code",
   "execution_count": null,
   "id": "e813c9ce",
   "metadata": {},
   "outputs": [],
   "source": [
    "train_df = df.loc[df['type'].notna()]"
   ]
  },
  {
   "cell_type": "markdown",
   "id": "749043b4",
   "metadata": {},
   "source": [
    "# Label Encoding"
   ]
  },
  {
   "cell_type": "code",
   "execution_count": null,
   "id": "caba3d14",
   "metadata": {},
   "outputs": [],
   "source": [
    "from sklearn.preprocessing import LabelEncoder"
   ]
  },
  {
   "cell_type": "code",
   "execution_count": null,
   "id": "9e9e0754",
   "metadata": {},
   "outputs": [],
   "source": [
    "le = LabelEncoder()\n",
    "\n",
    "y = le.fit_transform(train_df['type'])\n",
    "types = le.classes_"
   ]
  },
  {
   "cell_type": "code",
   "execution_count": null,
   "id": "efdc540d",
   "metadata": {},
   "outputs": [],
   "source": [
    "train_df.drop('type'], axis=1, inplace=True)"
   ]
  },
  {
   "cell_type": "code",
   "execution_count": null,
   "id": "7cf650b6",
   "metadata": {},
   "outputs": [],
   "source": [
    "train_df.head()"
   ]
  },
  {
   "cell_type": "code",
   "execution_count": null,
   "id": "635face9",
   "metadata": {},
   "outputs": [],
   "source": [
    "test.head()"
   ]
  },
  {
   "cell_type": "markdown",
   "id": "c78dbbbd",
   "metadata": {},
   "source": [
    "# Training simple model: logreg"
   ]
  },
  {
   "cell_type": "code",
   "execution_count": null,
   "id": "6c09a6d2",
   "metadata": {},
   "outputs": [],
   "source": [
    "from sklearn.linear_model import LogisticRegression"
   ]
  },
  {
   "cell_type": "code",
   "execution_count": null,
   "id": "931556f8",
   "metadata": {},
   "outputs": [],
   "source": [
    "clf = LogisticRegression()\n",
    "clf.fit(train_df, y)"
   ]
  },
  {
   "cell_type": "code",
   "execution_count": null,
   "id": "543cb9aa",
   "metadata": {},
   "outputs": [],
   "source": [
    "predictions = clf.predict(test_df)"
   ]
  },
  {
   "cell_type": "code",
   "execution_count": null,
   "id": "d61da22b",
   "metadata": {},
   "outputs": [],
   "source": [
    "submission_df = pd.read_csv('./datasets/sample_submission.csv', index_col='id')\n",
    "submission_df['type'] = types[predictions]\n",
    "\n",
    "submission_df.to_csv('./results/LogReg_NEW.csv')"
   ]
  },
  {
   "cell_type": "markdown",
   "id": "cf38a410",
   "metadata": {},
   "source": [
    "# Random Forest"
   ]
  },
  {
   "cell_type": "code",
   "execution_count": null,
   "id": "49e7926c",
   "metadata": {},
   "outputs": [],
   "source": [
    "from sklearn.ensemble import RandomForestClassifier\n",
    "\n",
    "model = RandomForestClassifier(n_estimators=100, max_depth=1, random_state=2)\n",
    "model.fit(train_df, y)\n",
    "predictions = model.predict(test)"
   ]
  },
  {
   "cell_type": "code",
   "execution_count": null,
   "id": "9f082379",
   "metadata": {},
   "outputs": [],
   "source": [
    "submission_df = pd.read_csv('./datasets/sample_submission.csv', index_col='id')\n",
    "submission_df['type'] = types[predictions]\n",
    "\n",
    "submission_df.to_csv('./results/RanFor_NEW.csv')"
   ]
  },
  {
   "cell_type": "code",
   "execution_count": null,
   "id": "28605743",
   "metadata": {},
   "outputs": [],
   "source": []
  }
 ],
 "metadata": {
  "kernelspec": {
   "display_name": "Python 3",
   "language": "python",
   "name": "python3"
  },
  "language_info": {
   "codemirror_mode": {
    "name": "ipython",
    "version": 3
   },
   "file_extension": ".py",
   "mimetype": "text/x-python",
   "name": "python",
   "nbconvert_exporter": "python",
   "pygments_lexer": "ipython3",
   "version": "3.7.9"
  }
 },
 "nbformat": 4,
 "nbformat_minor": 5
}
