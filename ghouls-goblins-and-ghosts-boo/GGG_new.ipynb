{
 "cells": [
  {
   "cell_type": "code",
   "execution_count": 241,
   "id": "83ad13c6",
   "metadata": {},
   "outputs": [],
   "source": [
    "import numpy as np\n",
    "import pandas as pd\n",
    "import matplotlib.pyplot as plt\n",
    "%matplotlib inline"
   ]
  },
  {
   "cell_type": "code",
   "execution_count": 242,
   "id": "2d9bdd55",
   "metadata": {},
   "outputs": [],
   "source": [
    "train = pd.read_csv('./datasets/train.csv', index_col='id')\n",
    "test = pd.read_csv('./datasets/test.csv', index_col='id')\n",
    "\n",
    "df = pd.concat([train, test])"
   ]
  },
  {
   "cell_type": "code",
   "execution_count": 243,
   "id": "661309d0",
   "metadata": {},
   "outputs": [
    {
     "data": {
      "text/html": [
       "<div>\n",
       "<style scoped>\n",
       "    .dataframe tbody tr th:only-of-type {\n",
       "        vertical-align: middle;\n",
       "    }\n",
       "\n",
       "    .dataframe tbody tr th {\n",
       "        vertical-align: top;\n",
       "    }\n",
       "\n",
       "    .dataframe thead th {\n",
       "        text-align: right;\n",
       "    }\n",
       "</style>\n",
       "<table border=\"1\" class=\"dataframe\">\n",
       "  <thead>\n",
       "    <tr style=\"text-align: right;\">\n",
       "      <th></th>\n",
       "      <th>bone_length</th>\n",
       "      <th>rotting_flesh</th>\n",
       "      <th>hair_length</th>\n",
       "      <th>has_soul</th>\n",
       "      <th>color</th>\n",
       "      <th>type</th>\n",
       "    </tr>\n",
       "    <tr>\n",
       "      <th>id</th>\n",
       "      <th></th>\n",
       "      <th></th>\n",
       "      <th></th>\n",
       "      <th></th>\n",
       "      <th></th>\n",
       "      <th></th>\n",
       "    </tr>\n",
       "  </thead>\n",
       "  <tbody>\n",
       "    <tr>\n",
       "      <th>0</th>\n",
       "      <td>0.354512</td>\n",
       "      <td>0.350839</td>\n",
       "      <td>0.465761</td>\n",
       "      <td>0.781142</td>\n",
       "      <td>clear</td>\n",
       "      <td>Ghoul</td>\n",
       "    </tr>\n",
       "    <tr>\n",
       "      <th>1</th>\n",
       "      <td>0.575560</td>\n",
       "      <td>0.425868</td>\n",
       "      <td>0.531401</td>\n",
       "      <td>0.439899</td>\n",
       "      <td>green</td>\n",
       "      <td>Goblin</td>\n",
       "    </tr>\n",
       "    <tr>\n",
       "      <th>2</th>\n",
       "      <td>0.467875</td>\n",
       "      <td>0.354330</td>\n",
       "      <td>0.811616</td>\n",
       "      <td>0.791225</td>\n",
       "      <td>black</td>\n",
       "      <td>Ghoul</td>\n",
       "    </tr>\n",
       "    <tr>\n",
       "      <th>4</th>\n",
       "      <td>0.776652</td>\n",
       "      <td>0.508723</td>\n",
       "      <td>0.636766</td>\n",
       "      <td>0.884464</td>\n",
       "      <td>black</td>\n",
       "      <td>Ghoul</td>\n",
       "    </tr>\n",
       "    <tr>\n",
       "      <th>5</th>\n",
       "      <td>0.566117</td>\n",
       "      <td>0.875862</td>\n",
       "      <td>0.418594</td>\n",
       "      <td>0.636438</td>\n",
       "      <td>green</td>\n",
       "      <td>Ghost</td>\n",
       "    </tr>\n",
       "  </tbody>\n",
       "</table>\n",
       "</div>"
      ],
      "text/plain": [
       "    bone_length  rotting_flesh  hair_length  has_soul  color    type\n",
       "id                                                                  \n",
       "0      0.354512       0.350839     0.465761  0.781142  clear   Ghoul\n",
       "1      0.575560       0.425868     0.531401  0.439899  green  Goblin\n",
       "2      0.467875       0.354330     0.811616  0.791225  black   Ghoul\n",
       "4      0.776652       0.508723     0.636766  0.884464  black   Ghoul\n",
       "5      0.566117       0.875862     0.418594  0.636438  green   Ghost"
      ]
     },
     "execution_count": 243,
     "metadata": {},
     "output_type": "execute_result"
    }
   ],
   "source": [
    "df.head()"
   ]
  },
  {
   "cell_type": "code",
   "execution_count": 244,
   "id": "86172ee0",
   "metadata": {},
   "outputs": [
    {
     "data": {
      "text/html": [
       "<div>\n",
       "<style scoped>\n",
       "    .dataframe tbody tr th:only-of-type {\n",
       "        vertical-align: middle;\n",
       "    }\n",
       "\n",
       "    .dataframe tbody tr th {\n",
       "        vertical-align: top;\n",
       "    }\n",
       "\n",
       "    .dataframe thead th {\n",
       "        text-align: right;\n",
       "    }\n",
       "</style>\n",
       "<table border=\"1\" class=\"dataframe\">\n",
       "  <thead>\n",
       "    <tr style=\"text-align: right;\">\n",
       "      <th></th>\n",
       "      <th>bone_length</th>\n",
       "      <th>rotting_flesh</th>\n",
       "      <th>hair_length</th>\n",
       "      <th>has_soul</th>\n",
       "    </tr>\n",
       "  </thead>\n",
       "  <tbody>\n",
       "    <tr>\n",
       "      <th>count</th>\n",
       "      <td>900.000000</td>\n",
       "      <td>900.000000</td>\n",
       "      <td>900.000000</td>\n",
       "      <td>900.000000</td>\n",
       "    </tr>\n",
       "    <tr>\n",
       "      <th>mean</th>\n",
       "      <td>0.429054</td>\n",
       "      <td>0.504961</td>\n",
       "      <td>0.522163</td>\n",
       "      <td>0.467104</td>\n",
       "    </tr>\n",
       "    <tr>\n",
       "      <th>std</th>\n",
       "      <td>0.134744</td>\n",
       "      <td>0.153567</td>\n",
       "      <td>0.170981</td>\n",
       "      <td>0.178150</td>\n",
       "    </tr>\n",
       "    <tr>\n",
       "      <th>min</th>\n",
       "      <td>0.000000</td>\n",
       "      <td>0.000000</td>\n",
       "      <td>0.000000</td>\n",
       "      <td>0.000000</td>\n",
       "    </tr>\n",
       "    <tr>\n",
       "      <th>25%</th>\n",
       "      <td>0.332085</td>\n",
       "      <td>0.402419</td>\n",
       "      <td>0.396112</td>\n",
       "      <td>0.343909</td>\n",
       "    </tr>\n",
       "    <tr>\n",
       "      <th>50%</th>\n",
       "      <td>0.426781</td>\n",
       "      <td>0.505279</td>\n",
       "      <td>0.530294</td>\n",
       "      <td>0.465508</td>\n",
       "    </tr>\n",
       "    <tr>\n",
       "      <th>75%</th>\n",
       "      <td>0.518167</td>\n",
       "      <td>0.605218</td>\n",
       "      <td>0.644958</td>\n",
       "      <td>0.589235</td>\n",
       "    </tr>\n",
       "    <tr>\n",
       "      <th>max</th>\n",
       "      <td>1.000000</td>\n",
       "      <td>1.000000</td>\n",
       "      <td>1.000000</td>\n",
       "      <td>1.000000</td>\n",
       "    </tr>\n",
       "  </tbody>\n",
       "</table>\n",
       "</div>"
      ],
      "text/plain": [
       "       bone_length  rotting_flesh  hair_length    has_soul\n",
       "count   900.000000     900.000000   900.000000  900.000000\n",
       "mean      0.429054       0.504961     0.522163    0.467104\n",
       "std       0.134744       0.153567     0.170981    0.178150\n",
       "min       0.000000       0.000000     0.000000    0.000000\n",
       "25%       0.332085       0.402419     0.396112    0.343909\n",
       "50%       0.426781       0.505279     0.530294    0.465508\n",
       "75%       0.518167       0.605218     0.644958    0.589235\n",
       "max       1.000000       1.000000     1.000000    1.000000"
      ]
     },
     "execution_count": 244,
     "metadata": {},
     "output_type": "execute_result"
    }
   ],
   "source": [
    "df.describe()"
   ]
  },
  {
   "cell_type": "code",
   "execution_count": 245,
   "id": "9bd1d572",
   "metadata": {},
   "outputs": [
    {
     "data": {
      "text/plain": [
       "0.000000    1\n",
       "0.551497    1\n",
       "0.525822    1\n",
       "0.413576    1\n",
       "0.409617    1\n",
       "           ..\n",
       "0.208625    1\n",
       "0.505424    1\n",
       "0.505597    1\n",
       "0.159418    1\n",
       "0.632675    1\n",
       "Name: bone_length, Length: 900, dtype: int64"
      ]
     },
     "execution_count": 245,
     "metadata": {},
     "output_type": "execute_result"
    }
   ],
   "source": [
    "df.bone_length.value_counts()"
   ]
  },
  {
   "cell_type": "markdown",
   "id": "7a5e3cd3",
   "metadata": {},
   "source": [
    "# Hair"
   ]
  },
  {
   "cell_type": "code",
   "execution_count": 246,
   "id": "0384aa5f",
   "metadata": {},
   "outputs": [],
   "source": [
    "bone_ind = df['bone_length'].sort_values().index"
   ]
  },
  {
   "cell_type": "code",
   "execution_count": 247,
   "id": "69c61a48",
   "metadata": {},
   "outputs": [
    {
     "data": {
      "text/plain": [
       "<matplotlib.collections.PathCollection at 0x264ff3daec8>"
      ]
     },
     "execution_count": 247,
     "metadata": {},
     "output_type": "execute_result"
    },
    {
     "data": {
      "image/png": "[encoded data removed]",
      "text/plain": [
       "<Figure size 432x288 with 1 Axes>"
      ]
     },
     "metadata": {
      "needs_background": "light"
     },
     "output_type": "display_data"
    }
   ],
   "source": [
    "plt.scatter(df.loc[bone_ind].index, df.loc[bone_ind]['rotting_flesh'])"
   ]
  },
  {
   "cell_type": "code",
   "execution_count": 248,
   "id": "2659d0a7",
   "metadata": {},
   "outputs": [
    {
     "data": {
      "text/plain": [
       "Ghost     55\n",
       "Goblin    21\n",
       "Ghoul      9\n",
       "Name: type, dtype: int64"
      ]
     },
     "execution_count": 248,
     "metadata": {},
     "output_type": "execute_result"
    }
   ],
   "source": [
    "df.loc[bone_ind, 'type'].head(225).value_counts()"
   ]
  },
  {
   "cell_type": "code",
   "execution_count": 249,
   "id": "1a91464d",
   "metadata": {
    "scrolled": true
   },
   "outputs": [
    {
     "name": "stdout",
     "output_type": "stream",
     "text": [
      "bone_length mean for Ghost\n",
      "0.3321342791974178\n",
      "varience = 0.3321342791974178\n"
     ]
    }
   ],
   "source": [
    "min_Ghost_bone_length = df.loc[bone_ind, 'bone_length'].iloc[0]\n",
    "mean_Ghost_bone_length = df.loc[bone_ind, 'bone_length'].iloc[225]\n",
    "print('bone_length mean for Ghost')\n",
    "print(mean_Ghost_bone_length)\n",
    "print('varience =', mean_Ghost_bone_length - min_Ghost_bone_length)"
   ]
  },
  {
   "cell_type": "code",
   "execution_count": 250,
   "id": "5cc00de4",
   "metadata": {},
   "outputs": [],
   "source": [
    "bone_Ghost_mask = df['bone_length'] <= 2*mean_Ghost_bone_length"
   ]
  },
  {
   "cell_type": "code",
   "execution_count": 251,
   "id": "655d529d",
   "metadata": {},
   "outputs": [
    {
     "data": {
      "text/plain": [
       "Goblin    123\n",
       "Ghost     117\n",
       "Ghoul     113\n",
       "Name: type, dtype: int64"
      ]
     },
     "execution_count": 251,
     "metadata": {},
     "output_type": "execute_result"
    }
   ],
   "source": [
    "df.loc[bone_Ghost_mask, 'type'].value_counts()"
   ]
  },
  {
   "cell_type": "markdown",
   "id": "2d198a1a",
   "metadata": {},
   "source": [
    "# Hair"
   ]
  },
  {
   "cell_type": "code",
   "execution_count": 252,
   "id": "4b8e84b0",
   "metadata": {},
   "outputs": [],
   "source": [
    "hair_ind = df['hair_length'].sort_values().index"
   ]
  },
  {
   "cell_type": "code",
   "execution_count": 253,
   "id": "c22ed7e8",
   "metadata": {},
   "outputs": [
    {
     "data": {
      "text/plain": [
       "Ghost    18\n",
       "Name: type, dtype: int64"
      ]
     },
     "execution_count": 253,
     "metadata": {},
     "output_type": "execute_result"
    }
   ],
   "source": [
    "df.loc[hair_ind, 'type'].head(50).value_counts()"
   ]
  },
  {
   "cell_type": "code",
   "execution_count": 254,
   "id": "de5b8d0f",
   "metadata": {},
   "outputs": [
    {
     "data": {
      "text/plain": [
       "Ghost    16\n",
       "Ghoul     1\n",
       "Name: type, dtype: int64"
      ]
     },
     "execution_count": 254,
     "metadata": {},
     "output_type": "execute_result"
    }
   ],
   "source": [
    "df.loc[bone_ind, 'type'].head(40).value_counts()"
   ]
  },
  {
   "cell_type": "markdown",
   "id": "0a87ce5f",
   "metadata": {},
   "source": [
    "# Soul"
   ]
  },
  {
   "cell_type": "code",
   "execution_count": 255,
   "id": "8f2cbc36",
   "metadata": {},
   "outputs": [],
   "source": [
    "soul_ind = df['has_soul'].sort_values().index"
   ]
  },
  {
   "cell_type": "code",
   "execution_count": 256,
   "id": "f57e0d70",
   "metadata": {},
   "outputs": [
    {
     "data": {
      "text/plain": [
       "Ghost    20\n",
       "Name: type, dtype: int64"
      ]
     },
     "execution_count": 256,
     "metadata": {},
     "output_type": "execute_result"
    }
   ],
   "source": [
    "df.loc[soul_ind, 'type'].head(50).value_counts()"
   ]
  },
  {
   "cell_type": "markdown",
   "id": "7a46805a",
   "metadata": {},
   "source": [
    "# Flesh"
   ]
  },
  {
   "cell_type": "code",
   "execution_count": 257,
   "id": "350197e3",
   "metadata": {},
   "outputs": [],
   "source": [
    "flesh_ind = df['rotting_flesh'].sort_values().index"
   ]
  },
  {
   "cell_type": "code",
   "execution_count": 258,
   "id": "122dbbe3",
   "metadata": {},
   "outputs": [
    {
     "data": {
      "text/plain": [
       "Goblin    12\n",
       "Ghost      3\n",
       "Ghoul      3\n",
       "Name: type, dtype: int64"
      ]
     },
     "execution_count": 258,
     "metadata": {},
     "output_type": "execute_result"
    }
   ],
   "source": [
    "df.loc[flesh_ind, 'type'].head(50).value_counts()"
   ]
  },
  {
   "cell_type": "markdown",
   "id": "ca7aeb5c",
   "metadata": {},
   "source": [
    "# REVERSE"
   ]
  },
  {
   "cell_type": "markdown",
   "id": "dd49699d",
   "metadata": {},
   "source": [
    "# Bone"
   ]
  },
  {
   "cell_type": "code",
   "execution_count": 259,
   "id": "8c3b0437",
   "metadata": {},
   "outputs": [],
   "source": [
    "rev_bone_ind = df['bone_length'].sort_values(ascending=False).index"
   ]
  },
  {
   "cell_type": "code",
   "execution_count": 260,
   "id": "91168d51",
   "metadata": {},
   "outputs": [
    {
     "data": {
      "text/plain": [
       "Ghoul    6\n",
       "Name: type, dtype: int64"
      ]
     },
     "execution_count": 260,
     "metadata": {},
     "output_type": "execute_result"
    }
   ],
   "source": [
    "df.loc[rev_bone_ind, 'type'].head(15).value_counts()"
   ]
  },
  {
   "cell_type": "markdown",
   "id": "5af046ae",
   "metadata": {},
   "source": [
    "# Hair"
   ]
  },
  {
   "cell_type": "code",
   "execution_count": 261,
   "id": "dfd90cd6",
   "metadata": {},
   "outputs": [],
   "source": [
    "rev_hair_ind = df['hair_length'].sort_values(ascending=False).index"
   ]
  },
  {
   "cell_type": "code",
   "execution_count": 262,
   "id": "2c6c2605",
   "metadata": {},
   "outputs": [
    {
     "data": {
      "text/plain": [
       "Ghoul    10\n",
       "Name: type, dtype: int64"
      ]
     },
     "execution_count": 262,
     "metadata": {},
     "output_type": "execute_result"
    }
   ],
   "source": [
    "df.loc[rev_hair_ind, 'type'].head(20).value_counts()"
   ]
  },
  {
   "cell_type": "markdown",
   "id": "26be9bd7",
   "metadata": {},
   "source": [
    "# Soul"
   ]
  },
  {
   "cell_type": "code",
   "execution_count": 263,
   "id": "6dc28afd",
   "metadata": {},
   "outputs": [],
   "source": [
    "rev_soul_ind = df['has_soul'].sort_values(ascending=False).index"
   ]
  },
  {
   "cell_type": "code",
   "execution_count": 264,
   "id": "9315a126",
   "metadata": {},
   "outputs": [
    {
     "data": {
      "text/plain": [
       "Ghoul    3\n",
       "Name: type, dtype: int64"
      ]
     },
     "execution_count": 264,
     "metadata": {},
     "output_type": "execute_result"
    }
   ],
   "source": [
    "df.loc[rev_soul_ind, 'type'].head(10).value_counts()"
   ]
  },
  {
   "cell_type": "markdown",
   "id": "bda5fc14",
   "metadata": {},
   "source": [
    "# Flesh"
   ]
  },
  {
   "cell_type": "code",
   "execution_count": 265,
   "id": "9568a1db",
   "metadata": {},
   "outputs": [],
   "source": [
    "rev_flesh_ind = df['rotting_flesh'].sort_values(ascending=False).index"
   ]
  },
  {
   "cell_type": "code",
   "execution_count": 266,
   "id": "97e2ab8b",
   "metadata": {},
   "outputs": [
    {
     "data": {
      "text/plain": [
       "Ghost    4\n",
       "Name: type, dtype: int64"
      ]
     },
     "execution_count": 266,
     "metadata": {},
     "output_type": "execute_result"
    }
   ],
   "source": [
    "df.loc[rev_flesh_ind, 'type'].head(10).value_counts()"
   ]
  },
  {
   "cell_type": "markdown",
   "id": "e5f9790a",
   "metadata": {},
   "source": [
    "# Fill types"
   ]
  },
  {
   "cell_type": "code",
   "execution_count": 267,
   "id": "c4a49373",
   "metadata": {},
   "outputs": [],
   "source": [
    "df.loc[bone_ind[:35], 'type'] = 'Ghost'\n",
    "df.loc[hair_ind[:40], 'type'] = 'Ghost'\n",
    "df.loc[soul_ind[:50], 'type'] = 'Ghost'\n",
    "df.loc[rev_bone_ind[:15], 'type'] = 'Ghoul'\n",
    "df.loc[rev_hair_ind[:20], 'type'] = 'Ghoul'\n",
    "df.loc[rev_soul_ind[:10], 'type'] = 'Ghoul'\n",
    "df.loc[rev_flesh_ind[:10], 'type'] = 'Ghost'"
   ]
  },
  {
   "cell_type": "code",
   "execution_count": 268,
   "id": "11efcf9a",
   "metadata": {},
   "outputs": [
    {
     "data": {
      "text/plain": [
       "Ghost     191\n",
       "Ghoul     154\n",
       "Goblin    125\n",
       "Name: type, dtype: int64"
      ]
     },
     "execution_count": 268,
     "metadata": {},
     "output_type": "execute_result"
    }
   ],
   "source": [
    "df['type'].value_counts()"
   ]
  },
  {
   "cell_type": "markdown",
   "id": "19f61598",
   "metadata": {},
   "source": [
    "# New train sample"
   ]
  },
  {
   "cell_type": "code",
   "execution_count": 269,
   "id": "5ee8c2ee",
   "metadata": {},
   "outputs": [],
   "source": [
    "train_df = df.loc[df['type'].notna()]"
   ]
  },
  {
   "cell_type": "markdown",
   "id": "b024d2f2",
   "metadata": {},
   "source": [
    "# Label Encoding"
   ]
  },
  {
   "cell_type": "code",
   "execution_count": 270,
   "id": "b304f5a3",
   "metadata": {},
   "outputs": [],
   "source": [
    "from sklearn.preprocessing import LabelEncoder"
   ]
  },
  {
   "cell_type": "code",
   "execution_count": 271,
   "id": "af6c83ae",
   "metadata": {},
   "outputs": [],
   "source": [
    "le = LabelEncoder()\n",
    "\n",
    "y = le.fit_transform(train_df['type'])\n",
    "types = le.classes_"
   ]
  },
  {
   "cell_type": "code",
   "execution_count": 272,
   "id": "040ed0c6",
   "metadata": {},
   "outputs": [
    {
     "name": "stderr",
     "output_type": "stream",
     "text": [
      "c:\\users\\kmbs\\appdata\\local\\programs\\python\\python37\\lib\\site-packages\\pandas\\core\\frame.py:4315: SettingWithCopyWarning: \n",
      "A value is trying to be set on a copy of a slice from a DataFrame\n",
      "\n",
      "See the caveats in the documentation: https://pandas.pydata.org/pandas-docs/stable/user_guide/indexing.html#returning-a-view-versus-a-copy\n",
      "  errors=errors,\n"
     ]
    }
   ],
   "source": [
    "train_df.drop(['color', 'type'], axis=1, inplace=True)\n",
    "test.drop(['color'], axis=1, inplace=True)"
   ]
  },
  {
   "cell_type": "code",
   "execution_count": 273,
   "id": "bb67611e",
   "metadata": {},
   "outputs": [
    {
     "data": {
      "text/html": [
       "<div>\n",
       "<style scoped>\n",
       "    .dataframe tbody tr th:only-of-type {\n",
       "        vertical-align: middle;\n",
       "    }\n",
       "\n",
       "    .dataframe tbody tr th {\n",
       "        vertical-align: top;\n",
       "    }\n",
       "\n",
       "    .dataframe thead th {\n",
       "        text-align: right;\n",
       "    }\n",
       "</style>\n",
       "<table border=\"1\" class=\"dataframe\">\n",
       "  <thead>\n",
       "    <tr style=\"text-align: right;\">\n",
       "      <th></th>\n",
       "      <th>bone_length</th>\n",
       "      <th>rotting_flesh</th>\n",
       "      <th>hair_length</th>\n",
       "      <th>has_soul</th>\n",
       "    </tr>\n",
       "    <tr>\n",
       "      <th>id</th>\n",
       "      <th></th>\n",
       "      <th></th>\n",
       "      <th></th>\n",
       "      <th></th>\n",
       "    </tr>\n",
       "  </thead>\n",
       "  <tbody>\n",
       "    <tr>\n",
       "      <th>0</th>\n",
       "      <td>0.354512</td>\n",
       "      <td>0.350839</td>\n",
       "      <td>0.465761</td>\n",
       "      <td>0.781142</td>\n",
       "    </tr>\n",
       "    <tr>\n",
       "      <th>1</th>\n",
       "      <td>0.575560</td>\n",
       "      <td>0.425868</td>\n",
       "      <td>0.531401</td>\n",
       "      <td>0.439899</td>\n",
       "    </tr>\n",
       "    <tr>\n",
       "      <th>2</th>\n",
       "      <td>0.467875</td>\n",
       "      <td>0.354330</td>\n",
       "      <td>0.811616</td>\n",
       "      <td>0.791225</td>\n",
       "    </tr>\n",
       "    <tr>\n",
       "      <th>4</th>\n",
       "      <td>0.776652</td>\n",
       "      <td>0.508723</td>\n",
       "      <td>0.636766</td>\n",
       "      <td>0.884464</td>\n",
       "    </tr>\n",
       "    <tr>\n",
       "      <th>5</th>\n",
       "      <td>0.566117</td>\n",
       "      <td>0.875862</td>\n",
       "      <td>0.418594</td>\n",
       "      <td>0.636438</td>\n",
       "    </tr>\n",
       "  </tbody>\n",
       "</table>\n",
       "</div>"
      ],
      "text/plain": [
       "    bone_length  rotting_flesh  hair_length  has_soul\n",
       "id                                                   \n",
       "0      0.354512       0.350839     0.465761  0.781142\n",
       "1      0.575560       0.425868     0.531401  0.439899\n",
       "2      0.467875       0.354330     0.811616  0.791225\n",
       "4      0.776652       0.508723     0.636766  0.884464\n",
       "5      0.566117       0.875862     0.418594  0.636438"
      ]
     },
     "execution_count": 273,
     "metadata": {},
     "output_type": "execute_result"
    }
   ],
   "source": [
    "train_df.head()"
   ]
  },
  {
   "cell_type": "code",
   "execution_count": 275,
   "id": "b2c1ad67",
   "metadata": {},
   "outputs": [
    {
     "data": {
      "text/html": [
       "<div>\n",
       "<style scoped>\n",
       "    .dataframe tbody tr th:only-of-type {\n",
       "        vertical-align: middle;\n",
       "    }\n",
       "\n",
       "    .dataframe tbody tr th {\n",
       "        vertical-align: top;\n",
       "    }\n",
       "\n",
       "    .dataframe thead th {\n",
       "        text-align: right;\n",
       "    }\n",
       "</style>\n",
       "<table border=\"1\" class=\"dataframe\">\n",
       "  <thead>\n",
       "    <tr style=\"text-align: right;\">\n",
       "      <th></th>\n",
       "      <th>bone_length</th>\n",
       "      <th>rotting_flesh</th>\n",
       "      <th>hair_length</th>\n",
       "      <th>has_soul</th>\n",
       "    </tr>\n",
       "    <tr>\n",
       "      <th>id</th>\n",
       "      <th></th>\n",
       "      <th></th>\n",
       "      <th></th>\n",
       "      <th></th>\n",
       "    </tr>\n",
       "  </thead>\n",
       "  <tbody>\n",
       "    <tr>\n",
       "      <th>3</th>\n",
       "      <td>0.471774</td>\n",
       "      <td>0.387937</td>\n",
       "      <td>0.706087</td>\n",
       "      <td>0.698537</td>\n",
       "    </tr>\n",
       "    <tr>\n",
       "      <th>6</th>\n",
       "      <td>0.427332</td>\n",
       "      <td>0.645024</td>\n",
       "      <td>0.565558</td>\n",
       "      <td>0.451462</td>\n",
       "    </tr>\n",
       "    <tr>\n",
       "      <th>9</th>\n",
       "      <td>0.549602</td>\n",
       "      <td>0.491931</td>\n",
       "      <td>0.660387</td>\n",
       "      <td>0.449809</td>\n",
       "    </tr>\n",
       "    <tr>\n",
       "      <th>10</th>\n",
       "      <td>0.638095</td>\n",
       "      <td>0.682867</td>\n",
       "      <td>0.471409</td>\n",
       "      <td>0.356924</td>\n",
       "    </tr>\n",
       "    <tr>\n",
       "      <th>13</th>\n",
       "      <td>0.361762</td>\n",
       "      <td>0.583997</td>\n",
       "      <td>0.377256</td>\n",
       "      <td>0.276364</td>\n",
       "    </tr>\n",
       "  </tbody>\n",
       "</table>\n",
       "</div>"
      ],
      "text/plain": [
       "    bone_length  rotting_flesh  hair_length  has_soul\n",
       "id                                                   \n",
       "3      0.471774       0.387937     0.706087  0.698537\n",
       "6      0.427332       0.645024     0.565558  0.451462\n",
       "9      0.549602       0.491931     0.660387  0.449809\n",
       "10     0.638095       0.682867     0.471409  0.356924\n",
       "13     0.361762       0.583997     0.377256  0.276364"
      ]
     },
     "execution_count": 275,
     "metadata": {},
     "output_type": "execute_result"
    }
   ],
   "source": [
    "test.head()"
   ]
  },
  {
   "cell_type": "markdown",
   "id": "d5661c03",
   "metadata": {},
   "source": [
    "# Training simple model: logreg"
   ]
  },
  {
   "cell_type": "code",
   "execution_count": 276,
   "id": "8a577478",
   "metadata": {},
   "outputs": [],
   "source": [
    "from sklearn.linear_model import LogisticRegression"
   ]
  },
  {
   "cell_type": "code",
   "execution_count": 277,
   "id": "c085d621",
   "metadata": {},
   "outputs": [
    {
     "data": {
      "text/plain": [
       "LogisticRegression()"
      ]
     },
     "execution_count": 277,
     "metadata": {},
     "output_type": "execute_result"
    }
   ],
   "source": [
    "clf = LogisticRegression()\n",
    "clf.fit(train_df, y)"
   ]
  },
  {
   "cell_type": "code",
   "execution_count": 279,
   "id": "c71eb62a",
   "metadata": {},
   "outputs": [],
   "source": [
    "predictions = clf.predict(test)"
   ]
  },
  {
   "cell_type": "code",
   "execution_count": 280,
   "id": "0d0e9f0c",
   "metadata": {},
   "outputs": [],
   "source": [
    "submission_df = pd.read_csv('./datasets/sample_submission.csv', index_col='id')\n",
    "submission_df['type'] = types[predictions]\n",
    "\n",
    "submission_df.to_csv('./results/LogReg_NEW.csv')"
   ]
  },
  {
   "cell_type": "markdown",
   "id": "b3b775ed",
   "metadata": {},
   "source": [
    "# Random Forest"
   ]
  },
  {
   "cell_type": "code",
   "execution_count": 287,
   "id": "5bb55900",
   "metadata": {},
   "outputs": [],
   "source": [
    "from sklearn.ensemble import RandomForestClassifier\n",
    "\n",
    "model = RandomForestClassifier(n_estimators=100, max_depth=1, random_state=2)\n",
    "model.fit(train_df, y)\n",
    "predictions = model.predict(test)"
   ]
  },
  {
   "cell_type": "code",
   "execution_count": 288,
   "id": "a5cccdfe",
   "metadata": {},
   "outputs": [],
   "source": [
    "submission_df = pd.read_csv('./datasets/sample_submission.csv', index_col='id')\n",
    "submission_df['type'] = types[predictions]\n",
    "\n",
    "submission_df.to_csv('./results/RanFor_NEW.csv')"
   ]
  },
  {
   "cell_type": "code",
   "execution_count": null,
   "id": "daa71c28",
   "metadata": {},
   "outputs": [],
   "source": []
  }
 ],
 "metadata": {
  "kernelspec": {
   "display_name": "Python 3",
   "language": "python",
   "name": "python3"
  },
  "language_info": {
   "codemirror_mode": {
    "name": "ipython",
    "version": 3
   },
   "file_extension": ".py",
   "mimetype": "text/x-python",
   "name": "python",
   "nbconvert_exporter": "python",
   "pygments_lexer": "ipython3",
   "version": "3.7.9"
  }
 },
 "nbformat": 4,
 "nbformat_minor": 5
}
