{
 "cells": [
  {
   "cell_type": "markdown",
   "id": "6fb287b4",
   "metadata": {},
   "source": [
    "# EDA [House Prices]"
   ]
  },
  {
   "cell_type": "code",
   "execution_count": null,
   "id": "04efc2f8",
   "metadata": {},
   "outputs": [],
   "source": [
    "import numpy as np\n",
    "import pandas as pd\n",
    "import matplotlib.pyplot as plt\n",
    "import seaborn as sns\n",
    "%matplotlib inline"
   ]
  },
  {
   "cell_type": "code",
   "execution_count": null,
   "id": "5a421ac3",
   "metadata": {},
   "outputs": [],
   "source": [
    "train = pd.read_csv('./data/train.csv', index_col='Id')\n",
    "test = pd.read_csv('./data/test.csv', index_col='Id')\n",
    "\n",
    "data = pd.concat([train, test])"
   ]
  },
  {
   "cell_type": "markdown",
   "id": "32cfa340",
   "metadata": {},
   "source": [
    "## Numeric Features"
   ]
  },
  {
   "cell_type": "markdown",
   "id": "6bbc53bc",
   "metadata": {},
   "source": [
    "#### LotFrontage"
   ]
  },
  {
   "cell_type": "code",
   "execution_count": null,
   "id": "88119dff",
   "metadata": {},
   "outputs": [],
   "source": [
    "train['LotFrontage'].sort_values(ascending=False).head(5), test['LotFrontage'].sort_values(ascending=False).head(5)"
   ]
  },
  {
   "cell_type": "code",
   "execution_count": null,
   "id": "4dcd6267",
   "metadata": {},
   "outputs": [],
   "source": [
    "front_outliers = (data['LotFrontage'] > 300)\n",
    "data.drop(data.loc[front_outliers].index, inplace=True)"
   ]
  },
  {
   "cell_type": "markdown",
   "id": "7bc2ba48",
   "metadata": {},
   "source": [
    "#### LotArea"
   ]
  },
  {
   "cell_type": "code",
   "execution_count": null,
   "id": "3df8b626",
   "metadata": {},
   "outputs": [],
   "source": [
    "train['LotArea'].sort_values(ascending=False).head(5), test['LotArea'].sort_values(ascending=False).head(5)"
   ]
  },
  {
   "cell_type": "code",
   "execution_count": null,
   "id": "5dda1b41",
   "metadata": {},
   "outputs": [],
   "source": [
    "area_outliers = (data['LotArea'] > 100000)\n",
    "data.drop(data.loc[area_outliers].index, inplace=True)"
   ]
  },
  {
   "cell_type": "markdown",
   "id": "99e258e7",
   "metadata": {},
   "source": [
    "#### BsmtFinSF1"
   ]
  },
  {
   "cell_type": "code",
   "execution_count": null,
   "id": "0237e7dd",
   "metadata": {},
   "outputs": [],
   "source": [
    "# BsmtFinSF1\n",
    "train['BsmtFinSF1'].sort_values(ascending=False).head(5), test['BsmtFinSF1'].sort_values(ascending=False).head(5)"
   ]
  },
  {
   "cell_type": "code",
   "execution_count": null,
   "id": "253c6027",
   "metadata": {},
   "outputs": [],
   "source": [
    "bsmt1_outliers = (data['BsmtFinSF1'] > 3000)\n",
    "data['BsmtFinSF1_Outliers'] = np.zeros(data.shape[0])\n",
    "data.loc[bsmt1_outliers, 'BsmtFinSF1_Outliers'] = 100"
   ]
  },
  {
   "cell_type": "markdown",
   "id": "92d8985e",
   "metadata": {},
   "source": [
    "#### TotalBsmtSF"
   ]
  },
  {
   "cell_type": "code",
   "execution_count": null,
   "id": "89fa0d8c",
   "metadata": {},
   "outputs": [],
   "source": [
    "# TotalBsmtSF\n",
    "train['TotalBsmtSF'].sort_values(ascending=False).head(5), test['TotalBsmtSF'].sort_values(ascending=False).head(5)"
   ]
  },
  {
   "cell_type": "code",
   "execution_count": null,
   "id": "65a8f653",
   "metadata": {},
   "outputs": [],
   "source": [
    "bsmt_tot_outliers = (data['TotalBsmtSF'] > 4000)\n",
    "data['TotalBsmtSF_Outliers'] = np.zeros(data.shape[0])\n",
    "data.loc[bsmt_tot_outliers, 'TotalBsmtSF_Outliers'] = 100"
   ]
  },
  {
   "cell_type": "markdown",
   "id": "97317587",
   "metadata": {},
   "source": [
    "#### 1stFlrSF"
   ]
  },
  {
   "cell_type": "code",
   "execution_count": null,
   "id": "bd8051dc",
   "metadata": {},
   "outputs": [],
   "source": [
    "# 1stFlrSF\n",
    "train['1stFlrSF'].sort_values(ascending=False).head(5), test['1stFlrSF'].sort_values(ascending=False).head(5)"
   ]
  },
  {
   "cell_type": "code",
   "execution_count": null,
   "id": "df9e4e64",
   "metadata": {},
   "outputs": [],
   "source": [
    "f_flr_outliers = (data['1stFlrSF'] > 4000)\n",
    "data['1stFlrSF_Outliers'] = np.zeros(data.shape[0])\n",
    "data.loc[f_flr_outliers, '1stFlrSF_Outliers'] = 100"
   ]
  },
  {
   "cell_type": "markdown",
   "id": "c670312d",
   "metadata": {},
   "source": [
    "#### GrLivArea"
   ]
  },
  {
   "cell_type": "code",
   "execution_count": null,
   "id": "c4d08875",
   "metadata": {
    "scrolled": true
   },
   "outputs": [],
   "source": [
    "# GrLivArea\n",
    "train['GrLivArea'].sort_values(ascending=False).head(5), test['GrLivArea'].sort_values(ascending=False).head(5)"
   ]
  },
  {
   "cell_type": "code",
   "execution_count": null,
   "id": "db834854",
   "metadata": {},
   "outputs": [],
   "source": [
    "main_outliers = (data['GrLivArea'] > 4500)\n",
    "data['GrLivArea_Outliers'] = np.zeros(data.shape[0])\n",
    "data.loc[main_outliers, 'GrLivArea_Outliers'] = 100"
   ]
  },
  {
   "cell_type": "markdown",
   "id": "f8e0fa0a",
   "metadata": {},
   "source": [
    "#### GarageYrBlt"
   ]
  },
  {
   "cell_type": "code",
   "execution_count": null,
   "id": "802a90e0",
   "metadata": {},
   "outputs": [],
   "source": [
    "# GarageYrBlt\n",
    "train['GarageYrBlt'].sort_values(ascending=False).head(5), test['GarageYrBlt'].sort_values(ascending=False).head(5)"
   ]
  },
  {
   "cell_type": "code",
   "execution_count": null,
   "id": "7d999288",
   "metadata": {},
   "outputs": [],
   "source": [
    "garage_year_outlier = data['GarageYrBlt'] > 2010\n",
    "data.loc[garage_year_outlier, 'GarageYrBlt'] = 2007"
   ]
  },
  {
   "cell_type": "markdown",
   "id": "354ab5d2",
   "metadata": {},
   "source": [
    "#### WoodDeckSF"
   ]
  },
  {
   "cell_type": "code",
   "execution_count": null,
   "id": "a8dd188d",
   "metadata": {},
   "outputs": [],
   "source": [
    "# WoodDeckSF\n",
    "train['WoodDeckSF'].sort_values(ascending=False).head(5), test['WoodDeckSF'].sort_values(ascending=False).head(5)"
   ]
  },
  {
   "cell_type": "code",
   "execution_count": null,
   "id": "e93b5f2a",
   "metadata": {},
   "outputs": [],
   "source": [
    "wood_deck_outliers = (data['WoodDeckSF'] > 1000)\n",
    "data['WoodDeckSF_Outliers'] = np.zeros(data.shape[0])\n",
    "data.loc[wood_deck_outliers, 'WoodDeckSF_Outliers'] = 100"
   ]
  },
  {
   "cell_type": "markdown",
   "id": "52495cbb",
   "metadata": {},
   "source": [
    "#### EnclosedPorch"
   ]
  },
  {
   "cell_type": "code",
   "execution_count": null,
   "id": "84aa6b2d",
   "metadata": {},
   "outputs": [],
   "source": [
    "# EnclosedPorch\n",
    "train['EnclosedPorch'].sort_values(ascending=False).head(5), test['EnclosedPorch'].sort_values(ascending=False).head(5)"
   ]
  },
  {
   "cell_type": "code",
   "execution_count": null,
   "id": "80c19da3",
   "metadata": {},
   "outputs": [],
   "source": [
    "enc_porch_outliers = (data['EnclosedPorch'] > 1000)\n",
    "data['EnclosedPorch_Outliers'] = np.zeros(data.shape[0])\n",
    "data.loc[enc_porch_outliers, 'EnclosedPorch_Outliers'] = 100"
   ]
  },
  {
   "cell_type": "code",
   "execution_count": null,
   "id": "47870a24",
   "metadata": {},
   "outputs": [],
   "source": []
  }
 ],
 "metadata": {
  "kernelspec": {
   "display_name": "Python 3",
   "language": "python",
   "name": "python3"
  },
  "language_info": {
   "codemirror_mode": {
    "name": "ipython",
    "version": 3
   },
   "file_extension": ".py",
   "mimetype": "text/x-python",
   "name": "python",
   "nbconvert_exporter": "python",
   "pygments_lexer": "ipython3",
   "version": "3.7.9"
  }
 },
 "nbformat": 4,
 "nbformat_minor": 5
}
