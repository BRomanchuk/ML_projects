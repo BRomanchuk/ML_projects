{
 "cells": [
  {
   "cell_type": "markdown",
   "id": "f7d9b2c8",
   "metadata": {},
   "source": [
    "# EDA [House Prices]"
   ]
  },
  {
   "cell_type": "code",
   "execution_count": null,
   "id": "7c44a4ff",
   "metadata": {},
   "outputs": [],
   "source": [
    "import numpy as np\n",
    "import pandas as pd\n",
    "import matplotlib.pyplot as plt\n",
    "import seaborn as sns\n",
    "%matplotlib inline"
   ]
  },
  {
   "cell_type": "code",
   "execution_count": null,
   "id": "ad517c8a",
   "metadata": {},
   "outputs": [],
   "source": [
    "train = pd.read_csv('./data/train.csv', index_col='Id')\n",
    "test = pd.read_csv('./data/test.csv', index_col='Id')\n",
    "\n",
    "data = pd.concat([train, test])"
   ]
  },
  {
   "cell_type": "markdown",
   "id": "1383be10",
   "metadata": {},
   "source": [
    "## Numeric features"
   ]
  },
  {
   "cell_type": "markdown",
   "id": "3ac8e289",
   "metadata": {},
   "source": [
    "#### LotFrontage"
   ]
  },
  {
   "cell_type": "code",
   "execution_count": null,
   "id": "e0b66824",
   "metadata": {},
   "outputs": [],
   "source": [
    "train['LotFrontage'].sort_values(ascending=False).head(5), test['LotFrontage'].sort_values(ascending=False).head(5)"
   ]
  },
  {
   "cell_type": "code",
   "execution_count": null,
   "id": "2ce0ee68",
   "metadata": {},
   "outputs": [],
   "source": [
    "front_outliers = (data['LotFrontage'] > 300)\n",
    "data.drop(data.loc[front_outliers].index, inplace=True)"
   ]
  },
  {
   "cell_type": "markdown",
   "id": "a1ae05b0",
   "metadata": {},
   "source": [
    "#### LotArea"
   ]
  },
  {
   "cell_type": "code",
   "execution_count": null,
   "id": "6239d4b0",
   "metadata": {},
   "outputs": [],
   "source": [
    "train['LotArea'].sort_values(ascending=False).head(5), test['LotArea'].sort_values(ascending=False).head(5)"
   ]
  },
  {
   "cell_type": "code",
   "execution_count": null,
   "id": "6deba847",
   "metadata": {},
   "outputs": [],
   "source": [
    "area_outliers = (data['LotArea'] > 100000)\n",
    "data.drop(data.loc[area_outliers].index, inplace=True)"
   ]
  },
  {
   "cell_type": "markdown",
   "id": "023f39ae",
   "metadata": {},
   "source": [
    "#### BsmtFinSF1"
   ]
  },
  {
   "cell_type": "code",
   "execution_count": null,
   "id": "19c4f2b8",
   "metadata": {},
   "outputs": [],
   "source": [
    "# BsmtFinSF1\n",
    "train['BsmtFinSF1'].sort_values(ascending=False).head(5), test['BsmtFinSF1'].sort_values(ascending=False).head(5)"
   ]
  },
  {
   "cell_type": "code",
   "execution_count": null,
   "id": "57ee10c4",
   "metadata": {},
   "outputs": [],
   "source": [
    "bsmt1_outliers = (data['BsmtFinSF1'] > 3000)\n",
    "data['BsmtFinSF1_Outliers'] = np.zeros(data.shape[0])\n",
    "data.loc[bsmt1_outliers, 'BsmtFinSF1_Outliers'] = 100"
   ]
  },
  {
   "cell_type": "markdown",
   "id": "2d3f96e4",
   "metadata": {},
   "source": [
    "#### TotalBsmtSF"
   ]
  },
  {
   "cell_type": "code",
   "execution_count": null,
   "id": "09ee199c",
   "metadata": {},
   "outputs": [],
   "source": [
    "# TotalBsmtSF\n",
    "train['TotalBsmtSF'].sort_values(ascending=False).head(5), test['TotalBsmtSF'].sort_values(ascending=False).head(5)"
   ]
  },
  {
   "cell_type": "code",
   "execution_count": null,
   "id": "2e3fd8a5",
   "metadata": {},
   "outputs": [],
   "source": [
    "bsmt_tot_outliers = (data['TotalBsmtSF'] > 4000)\n",
    "data['TotalBsmtSF_Outliers'] = np.zeros(data.shape[0])\n",
    "data.loc[bsmt_tot_outliers, 'TotalBsmtSF_Outliers'] = 100"
   ]
  },
  {
   "cell_type": "markdown",
   "id": "b2ae7890",
   "metadata": {},
   "source": [
    "#### 1stFlrSF"
   ]
  },
  {
   "cell_type": "code",
   "execution_count": null,
   "id": "92f98a7c",
   "metadata": {},
   "outputs": [],
   "source": [
    "# 1stFlrSF\n",
    "train['1stFlrSF'].sort_values(ascending=False).head(5), test['1stFlrSF'].sort_values(ascending=False).head(5)"
   ]
  },
  {
   "cell_type": "code",
   "execution_count": null,
   "id": "f109ceda",
   "metadata": {},
   "outputs": [],
   "source": [
    "f_flr_outliers = (data['1stFlrSF'] > 4000)\n",
    "data['1stFlrSF_Outliers'] = np.zeros(data.shape[0])\n",
    "data.loc[f_flr_outliers, '1stFlrSF_Outliers'] = 100"
   ]
  },
  {
   "cell_type": "markdown",
   "id": "24bc4233",
   "metadata": {},
   "source": [
    "#### GrLivArea"
   ]
  },
  {
   "cell_type": "code",
   "execution_count": null,
   "id": "cf435149",
   "metadata": {
    "scrolled": true
   },
   "outputs": [],
   "source": [
    "# GrLivArea\n",
    "train['GrLivArea'].sort_values(ascending=False).head(5), test['GrLivArea'].sort_values(ascending=False).head(5)"
   ]
  },
  {
   "cell_type": "code",
   "execution_count": null,
   "id": "3c77be4f",
   "metadata": {},
   "outputs": [],
   "source": [
    "main_outliers = (data['GrLivArea'] > 4500)\n",
    "data['GrLivArea_Outliers'] = np.zeros(data.shape[0])\n",
    "data.loc[main_outliers, 'GrLivArea_Outliers'] = 100"
   ]
  },
  {
   "cell_type": "markdown",
   "id": "46564d85",
   "metadata": {},
   "source": [
    "#### GarageYrBlt"
   ]
  },
  {
   "cell_type": "code",
   "execution_count": null,
   "id": "37967a8d",
   "metadata": {},
   "outputs": [],
   "source": [
    "# GarageYrBlt\n",
    "train['GarageYrBlt'].sort_values(ascending=False).head(5), test['GarageYrBlt'].sort_values(ascending=False).head(5)"
   ]
  },
  {
   "cell_type": "code",
   "execution_count": null,
   "id": "6550fff7",
   "metadata": {},
   "outputs": [],
   "source": [
    "garage_year_outlier = data['GarageYrBlt'] > 2010\n",
    "data.loc[garage_year_outlier, 'GarageYrBlt'] = 2007"
   ]
  },
  {
   "cell_type": "markdown",
   "id": "2e9a73a0",
   "metadata": {},
   "source": [
    "#### WoodDeckSF"
   ]
  },
  {
   "cell_type": "code",
   "execution_count": null,
   "id": "140de2e9",
   "metadata": {},
   "outputs": [],
   "source": [
    "# WoodDeckSF\n",
    "train['WoodDeckSF'].sort_values(ascending=False).head(5), test['WoodDeckSF'].sort_values(ascending=False).head(5)"
   ]
  },
  {
   "cell_type": "code",
   "execution_count": null,
   "id": "5a9c7667",
   "metadata": {},
   "outputs": [],
   "source": [
    "wood_deck_outliers = (data['WoodDeckSF'] > 1000)\n",
    "data['WoodDeckSF_Outliers'] = np.zeros(data.shape[0])\n",
    "data.loc[wood_deck_outliers, 'WoodDeckSF_Outliers'] = 100"
   ]
  },
  {
   "cell_type": "markdown",
   "id": "2fc49ae0",
   "metadata": {},
   "source": [
    "#### EnclosedPorch"
   ]
  },
  {
   "cell_type": "code",
   "execution_count": null,
   "id": "aeee97b2",
   "metadata": {},
   "outputs": [],
   "source": [
    "# EnclosedPorch\n",
    "train['EnclosedPorch'].sort_values(ascending=False).head(5), test['EnclosedPorch'].sort_values(ascending=False).head(5)"
   ]
  },
  {
   "cell_type": "code",
   "execution_count": null,
   "id": "afb96f92",
   "metadata": {},
   "outputs": [],
   "source": [
    "enc_porch_outliers = (data['EnclosedPorch'] > 1000)\n",
    "data['EnclosedPorch_Outliers'] = np.zeros(data.shape[0])\n",
    "data.loc[enc_porch_outliers, 'EnclosedPorch_Outliers'] = 100"
   ]
  },
  {
   "cell_type": "markdown",
   "id": "8defc2c3",
   "metadata": {},
   "source": [
    "## Ordinal features\n"
   ]
  },
  {
   "cell_type": "markdown",
   "id": "284d697b",
   "metadata": {},
   "source": [
    "#### MSZoning"
   ]
  },
  {
   "cell_type": "code",
   "execution_count": null,
   "id": "f692e1d4",
   "metadata": {},
   "outputs": [],
   "source": [
    "data['MSZoning'].isnull().sum()"
   ]
  },
  {
   "cell_type": "code",
   "execution_count": null,
   "id": "0c2e1c18",
   "metadata": {},
   "outputs": [],
   "source": [
    "data['MSZoning'].value_counts()"
   ]
  },
  {
   "cell_type": "code",
   "execution_count": null,
   "id": "075a2332",
   "metadata": {},
   "outputs": [],
   "source": [
    "plt.scatter(train['MSZoning'].fillna(train['MSZoning'].mode()), train['SalePrice'])"
   ]
  },
  {
   "cell_type": "code",
   "execution_count": null,
   "id": "85788cd1",
   "metadata": {},
   "outputs": [],
   "source": [
    "# fill NaNs\n",
    "data['MSZoning'].fillna(data['MSZoning'].mode(), inplace=True)"
   ]
  },
  {
   "cell_type": "code",
   "execution_count": null,
   "id": "7e539a60",
   "metadata": {},
   "outputs": [],
   "source": [
    "data['MSZoning'] = data['MSZoning'].map({\n",
    "    'C (all)': 0,\n",
    "    'RH': 1,\n",
    "    'RM': 2,\n",
    "    'FV': 3,\n",
    "    'RL': 4,\n",
    "})"
   ]
  },
  {
   "cell_type": "markdown",
   "id": "97eed9c5",
   "metadata": {},
   "source": [
    "#### Street"
   ]
  },
  {
   "cell_type": "code",
   "execution_count": null,
   "id": "dc2d677c",
   "metadata": {},
   "outputs": [],
   "source": [
    "plt.scatter(train['Street'], train['SalePrice'])"
   ]
  },
  {
   "cell_type": "code",
   "execution_count": null,
   "id": "4e437001",
   "metadata": {},
   "outputs": [],
   "source": [
    "data['Street'] = data['Street'].map({\n",
    "    'Grvl': 0,\n",
    "    'Pave': 1\n",
    "})"
   ]
  },
  {
   "cell_type": "markdown",
   "id": "ab76d0d6",
   "metadata": {},
   "source": [
    "#### Alley"
   ]
  },
  {
   "cell_type": "code",
   "execution_count": null,
   "id": "44fb4e0a",
   "metadata": {},
   "outputs": [],
   "source": [
    "# Alley\n",
    "plt.scatter(train['Alley'].fillna('No'), train['SalePrice'])"
   ]
  },
  {
   "cell_type": "code",
   "execution_count": null,
   "id": "c1f6b3f6",
   "metadata": {},
   "outputs": [],
   "source": [
    "data['Alley'].fillna('No', inplace=True)"
   ]
  },
  {
   "cell_type": "code",
   "execution_count": null,
   "id": "80e98e68",
   "metadata": {},
   "outputs": [],
   "source": [
    "data['Alley'] = data['Alley'].map({\n",
    "    'Grvl': 0,\n",
    "    'Pave': 1,\n",
    "    'No': 2\n",
    "})"
   ]
  },
  {
   "cell_type": "markdown",
   "id": "18a3052d",
   "metadata": {},
   "source": [
    "#### LotShape"
   ]
  },
  {
   "cell_type": "code",
   "execution_count": null,
   "id": "cc0ad490",
   "metadata": {},
   "outputs": [],
   "source": [
    "plt.scatter(train['LotShape'], train['SalePrice'])"
   ]
  },
  {
   "cell_type": "code",
   "execution_count": null,
   "id": "895742fd",
   "metadata": {},
   "outputs": [],
   "source": [
    "data['LotShape'] = data['LotShape'].map({\n",
    "    'IR3': 0,\n",
    "    'IR2': 1,\n",
    "    'Reg': 2,\n",
    "    'IR1': 3\n",
    "})"
   ]
  },
  {
   "cell_type": "markdown",
   "id": "1c24b644",
   "metadata": {},
   "source": [
    "#### LandContour"
   ]
  },
  {
   "cell_type": "code",
   "execution_count": null,
   "id": "93d782e7",
   "metadata": {},
   "outputs": [],
   "source": [
    "plt.scatter(train['LandContour'], train['SalePrice'])"
   ]
  },
  {
   "cell_type": "code",
   "execution_count": null,
   "id": "761b704c",
   "metadata": {},
   "outputs": [],
   "source": [
    "data['LandContour'] = data['LandContour'].map({\n",
    "    'Bnk': 0,\n",
    "    'Low': 1,\n",
    "    'HLS': 2,\n",
    "    'Lvl': 3\n",
    "})"
   ]
  },
  {
   "cell_type": "markdown",
   "id": "93b99d0d",
   "metadata": {},
   "source": [
    "#### Utilities"
   ]
  },
  {
   "cell_type": "code",
   "execution_count": null,
   "id": "ab093554",
   "metadata": {},
   "outputs": [],
   "source": [
    "plt.scatter(train['Utilities'], train['SalePrice'])"
   ]
  },
  {
   "cell_type": "code",
   "execution_count": null,
   "id": "0617145e",
   "metadata": {},
   "outputs": [],
   "source": [
    "data['Utilities'].unique()"
   ]
  },
  {
   "cell_type": "code",
   "execution_count": null,
   "id": "457a74fa",
   "metadata": {},
   "outputs": [],
   "source": [
    "data['Utilities'] = data['Utilities'].fillna('NoSeWa').map({\n",
    "    'AllPub': 1,\n",
    "    'NoSeWa': 0\n",
    "})"
   ]
  },
  {
   "cell_type": "code",
   "execution_count": null,
   "id": "c6743f1e",
   "metadata": {},
   "outputs": [],
   "source": [
    "data['Utilities'].unique()"
   ]
  },
  {
   "cell_type": "markdown",
   "id": "6b903dbf",
   "metadata": {},
   "source": [
    "#### LotConfig"
   ]
  },
  {
   "cell_type": "code",
   "execution_count": null,
   "id": "440cfb32",
   "metadata": {},
   "outputs": [],
   "source": [
    "plt.scatter(train['LotConfig'], train['SalePrice'])"
   ]
  },
  {
   "cell_type": "code",
   "execution_count": null,
   "id": "3ef8bc1c",
   "metadata": {},
   "outputs": [],
   "source": [
    "data['LotConfig'] = data['LotConfig'].map({\n",
    "    'FR3': 0,\n",
    "    'FR2': 1,\n",
    "    'Corner': 2,\n",
    "    'Inside': 3,\n",
    "    'CulDSac': 4\n",
    "})"
   ]
  },
  {
   "cell_type": "markdown",
   "id": "3ef56ac5",
   "metadata": {},
   "source": [
    "#### LandSlope"
   ]
  },
  {
   "cell_type": "code",
   "execution_count": null,
   "id": "6c89b4ae",
   "metadata": {},
   "outputs": [],
   "source": [
    "plt.scatter(train['LandSlope'], train['SalePrice'])"
   ]
  },
  {
   "cell_type": "code",
   "execution_count": null,
   "id": "7c11a8ee",
   "metadata": {},
   "outputs": [],
   "source": [
    "data['LandSlope'] = data['LandSlope'].map({\n",
    "    'Sev': 0,\n",
    "    'Mod': 1,\n",
    "    'Gtl': 2\n",
    "})"
   ]
  },
  {
   "cell_type": "markdown",
   "id": "e3591210",
   "metadata": {},
   "source": [
    "#### Neighborhood"
   ]
  },
  {
   "cell_type": "code",
   "execution_count": null,
   "id": "64923295",
   "metadata": {},
   "outputs": [],
   "source": [
    "plt.scatter(train['Neighborhood'], train['SalePrice'])"
   ]
  },
  {
   "cell_type": "code",
   "execution_count": null,
   "id": "aa92ec68",
   "metadata": {},
   "outputs": [],
   "source": [
    "train['Neighborhood'].unique()"
   ]
  },
  {
   "cell_type": "code",
   "execution_count": null,
   "id": "8994b27b",
   "metadata": {},
   "outputs": [],
   "source": [
    "temp = train['Neighborhood'].map({\n",
    "    'CollgCr': 15,\n",
    "    'Veenker': 20,\n",
    "    'Crawfor': 14,\n",
    "    'NoRidge': 24,\n",
    "    'Mitchel': 10,\n",
    "    'Somerst': 18,\n",
    "    'NWAmes': 17,\n",
    "    'OldTown': 2,\n",
    "    'BrkSide': 1,\n",
    "    'Sawyer': 5,\n",
    "    'NridgHt': 23,\n",
    "    'NAmes': 11,\n",
    "    'SawyerW': 13,\n",
    "    'IDOTRR': 0,\n",
    "    'MeadowV': 4,\n",
    "    'Edwards': 9,\n",
    "    'Timber': 21,\n",
    "    'Gilbert': 19,\n",
    "    'StoneBr': 22,\n",
    "    'ClearCr': 16,\n",
    "    'NPkVill': 8,\n",
    "    'Blmngtn': 12,\n",
    "    'BrDale': 3,\n",
    "    'SWISU': 6,\n",
    "    'Blueste': 7 \n",
    "})"
   ]
  },
  {
   "cell_type": "code",
   "execution_count": null,
   "id": "0df040ee",
   "metadata": {},
   "outputs": [],
   "source": [
    "plt.scatter(temp, train['SalePrice'])"
   ]
  },
  {
   "cell_type": "code",
   "execution_count": null,
   "id": "0437850b",
   "metadata": {},
   "outputs": [],
   "source": [
    "data['Neighborhood'] = data['Neighborhood'].map({\n",
    "    'CollgCr': 15,\n",
    "    'Veenker': 20,\n",
    "    'Crawfor': 14,\n",
    "    'NoRidge': 24,\n",
    "    'Mitchel': 10,\n",
    "    'Somerst': 18,\n",
    "    'NWAmes': 17,\n",
    "    'OldTown': 2,\n",
    "    'BrkSide': 1,\n",
    "    'Sawyer': 5,\n",
    "    'NridgHt': 23,\n",
    "    'NAmes': 11,\n",
    "    'SawyerW': 13,\n",
    "    'IDOTRR': 0,\n",
    "    'MeadowV': 4,\n",
    "    'Edwards': 9,\n",
    "    'Timber': 21,\n",
    "    'Gilbert': 19,\n",
    "    'StoneBr': 22,\n",
    "    'ClearCr': 16,\n",
    "    'NPkVill': 8,\n",
    "    'Blmngtn': 12,\n",
    "    'BrDale': 3,\n",
    "    'SWISU': 6,\n",
    "    'Blueste': 7 \n",
    "})"
   ]
  },
  {
   "cell_type": "markdown",
   "id": "9649a615",
   "metadata": {},
   "source": [
    "#### OverallQual"
   ]
  },
  {
   "cell_type": "code",
   "execution_count": null,
   "id": "150222e2",
   "metadata": {},
   "outputs": [],
   "source": [
    "plt.scatter(train['OverallQual'], train['SalePrice'])"
   ]
  },
  {
   "cell_type": "markdown",
   "id": "0c45d2c3",
   "metadata": {},
   "source": [
    "#### OverallCond"
   ]
  },
  {
   "cell_type": "code",
   "execution_count": null,
   "id": "6b1d425c",
   "metadata": {},
   "outputs": [],
   "source": [
    "plt.scatter(train['OverallCond'], train['SalePrice'])"
   ]
  },
  {
   "cell_type": "markdown",
   "id": "af909718",
   "metadata": {},
   "source": [
    "#### ExterQual"
   ]
  },
  {
   "cell_type": "code",
   "execution_count": null,
   "id": "690944dc",
   "metadata": {},
   "outputs": [],
   "source": [
    "plt.scatter(train['ExterQual'], train['SalePrice'])"
   ]
  },
  {
   "cell_type": "code",
   "execution_count": null,
   "id": "73781695",
   "metadata": {},
   "outputs": [],
   "source": [
    "# 'Po' --> 0 ('Poor quality')\n",
    "data['ExterQual'] = data['ExterQual'].map({\n",
    "    'Fa': 1,\n",
    "    'TA': 2,\n",
    "    'Gd': 3,\n",
    "    'Ex': 4\n",
    "})"
   ]
  },
  {
   "cell_type": "markdown",
   "id": "c818b727",
   "metadata": {},
   "source": [
    "#### ExterCond"
   ]
  },
  {
   "cell_type": "code",
   "execution_count": null,
   "id": "d5eaa1c6",
   "metadata": {},
   "outputs": [],
   "source": [
    "plt.scatter(train['ExterCond'], train['SalePrice'])"
   ]
  },
  {
   "cell_type": "code",
   "execution_count": null,
   "id": "25110816",
   "metadata": {},
   "outputs": [],
   "source": [
    "data['ExterCond'] = data['ExterCond'].map({\n",
    "    'Po': 0,\n",
    "    'Fa': 1,\n",
    "    'TA': 2,\n",
    "    'Gd': 3,\n",
    "    'Ex': 4\n",
    "})"
   ]
  },
  {
   "cell_type": "markdown",
   "id": "7c018cef",
   "metadata": {},
   "source": [
    "#### BsmtQual"
   ]
  },
  {
   "cell_type": "code",
   "execution_count": null,
   "id": "e8980f15",
   "metadata": {
    "scrolled": true
   },
   "outputs": [],
   "source": [
    "plt.scatter(train['BsmtQual'].fillna('NoBsmt'), train['SalePrice'])"
   ]
  },
  {
   "cell_type": "code",
   "execution_count": null,
   "id": "70fb2156",
   "metadata": {},
   "outputs": [],
   "source": [
    "data['BsmtQual'].fillna('NoBsmt', inplace=True)"
   ]
  },
  {
   "cell_type": "code",
   "execution_count": null,
   "id": "2c2eaabe",
   "metadata": {},
   "outputs": [],
   "source": [
    "data['BsmtQual'] = data['BsmtQual'].map({\n",
    "    'NoBsmt': 0,\n",
    "    'Fa': 1,\n",
    "    'TA': 2,\n",
    "    'Gd': 3,\n",
    "    'Ex': 4\n",
    "})"
   ]
  },
  {
   "cell_type": "markdown",
   "id": "ba0af976",
   "metadata": {},
   "source": [
    "#### BsmtCond"
   ]
  },
  {
   "cell_type": "code",
   "execution_count": null,
   "id": "6b027e72",
   "metadata": {},
   "outputs": [],
   "source": [
    "plt.scatter(train['BsmtCond'].fillna('NoBsmt'), train['SalePrice'])"
   ]
  },
  {
   "cell_type": "code",
   "execution_count": null,
   "id": "690d0a9a",
   "metadata": {},
   "outputs": [],
   "source": [
    "data['BsmtCond'].fillna('NoBsmt', inplace=True)"
   ]
  },
  {
   "cell_type": "code",
   "execution_count": null,
   "id": "02899a34",
   "metadata": {},
   "outputs": [],
   "source": [
    "data['BsmtCond'] = data['BsmtCond'].map({\n",
    "    'Po': 0,\n",
    "    'NoBsmt': 1,\n",
    "    'Fa': 2,\n",
    "    'TA': 3,\n",
    "    'Gd': 4,\n",
    "    'Ex': 5\n",
    "})"
   ]
  },
  {
   "cell_type": "markdown",
   "id": "47a6043f",
   "metadata": {},
   "source": [
    "#### BsmtExposure"
   ]
  },
  {
   "cell_type": "code",
   "execution_count": null,
   "id": "a00594bc",
   "metadata": {},
   "outputs": [],
   "source": [
    "plt.scatter(train['BsmtExposure'].fillna('NoBsmt'), train['SalePrice'])"
   ]
  },
  {
   "cell_type": "code",
   "execution_count": null,
   "id": "99560ed4",
   "metadata": {},
   "outputs": [],
   "source": [
    "data['BsmtExposure'].fillna('NoBsmt', inplace=True)"
   ]
  },
  {
   "cell_type": "code",
   "execution_count": null,
   "id": "771651aa",
   "metadata": {},
   "outputs": [],
   "source": [
    "data['BsmtExposure'] = data['BsmtExposure'].map({\n",
    "    'NoBsmt': 0,\n",
    "    'No': 1, \n",
    "    'Mn': 2,\n",
    "    'Av': 3,\n",
    "    'Gd': 4\n",
    "})"
   ]
  },
  {
   "cell_type": "markdown",
   "id": "ae30d098",
   "metadata": {},
   "source": [
    "#### BsmtFinType1"
   ]
  },
  {
   "cell_type": "code",
   "execution_count": null,
   "id": "d819dc9e",
   "metadata": {},
   "outputs": [],
   "source": [
    "plt.scatter(train['BsmtFinType1'].fillna('NoBsmt'), train['SalePrice'])"
   ]
  },
  {
   "cell_type": "code",
   "execution_count": null,
   "id": "87eb9e86",
   "metadata": {},
   "outputs": [],
   "source": [
    "data['BsmtFinType1'].fillna('NoBsmt', inplace=True)"
   ]
  },
  {
   "cell_type": "code",
   "execution_count": null,
   "id": "1005b1e6",
   "metadata": {},
   "outputs": [],
   "source": [
    "data['BsmtFinType1'] = data['BsmtFinType1'].map({\n",
    "    'NoBsmt': 0,\n",
    "    'Unf': 1,\n",
    "    'LwQ': 2,\n",
    "    'Rec': 3,\n",
    "    'BLQ': 4,\n",
    "    'ALQ': 5,\n",
    "    'GLQ': 6\n",
    "})"
   ]
  },
  {
   "cell_type": "markdown",
   "id": "e9b26cc6",
   "metadata": {},
   "source": [
    "#### BsmtFinType2"
   ]
  },
  {
   "cell_type": "code",
   "execution_count": null,
   "id": "830badf2",
   "metadata": {},
   "outputs": [],
   "source": [
    "plt.scatter(train['BsmtFinType2'].fillna('NoBsmt'), train['SalePrice'])"
   ]
  },
  {
   "cell_type": "code",
   "execution_count": null,
   "id": "cdd8898e",
   "metadata": {},
   "outputs": [],
   "source": [
    "data['BsmtFinType2'].fillna('NoBsmt', inplace=True)"
   ]
  },
  {
   "cell_type": "code",
   "execution_count": null,
   "id": "9734a76d",
   "metadata": {},
   "outputs": [],
   "source": [
    "data['BsmtFinType2'] = data['BsmtFinType2'].map({\n",
    "    'NoBsmt': 0,\n",
    "    'Unf': 1,\n",
    "    'LwQ': 2,\n",
    "    'Rec': 3,\n",
    "    'BLQ': 4,\n",
    "    'ALQ': 5,\n",
    "    'GLQ': 6\n",
    "})"
   ]
  },
  {
   "cell_type": "markdown",
   "id": "4452357e",
   "metadata": {},
   "source": [
    "#### Heating"
   ]
  },
  {
   "cell_type": "code",
   "execution_count": null,
   "id": "0774851f",
   "metadata": {},
   "outputs": [],
   "source": [
    "plt.scatter(train['Heating'], train['SalePrice'])"
   ]
  },
  {
   "cell_type": "code",
   "execution_count": null,
   "id": "82b9eca2",
   "metadata": {},
   "outputs": [],
   "source": [
    "data['Heating'].value_counts()"
   ]
  },
  {
   "cell_type": "code",
   "execution_count": null,
   "id": "d778900b",
   "metadata": {},
   "outputs": [],
   "source": [
    "data['Heating'] = data['Heating'].map({\n",
    "    'Floor': 0,\n",
    "    'Wall': 1,\n",
    "    'OthW': 2,\n",
    "    'Grav': 3,\n",
    "    'GasW': 10,\n",
    "    'GasA': 20\n",
    "})"
   ]
  },
  {
   "cell_type": "markdown",
   "id": "89129ea2",
   "metadata": {},
   "source": [
    "#### HeatingQC"
   ]
  },
  {
   "cell_type": "code",
   "execution_count": null,
   "id": "ad398b37",
   "metadata": {},
   "outputs": [],
   "source": [
    "plt.scatter(train['HeatingQC'], train['SalePrice'])"
   ]
  },
  {
   "cell_type": "code",
   "execution_count": null,
   "id": "96bd7a34",
   "metadata": {},
   "outputs": [],
   "source": [
    "data['HeatingQC'] = data['HeatingQC'].map({\n",
    "    'Po': 0,\n",
    "    'Fa': 1,\n",
    "    'TA': 2,\n",
    "    'Gd': 3,\n",
    "    'Ex': 4\n",
    "})"
   ]
  },
  {
   "cell_type": "markdown",
   "id": "9516a6f1",
   "metadata": {},
   "source": [
    "#### CentralAir"
   ]
  },
  {
   "cell_type": "code",
   "execution_count": null,
   "id": "919fe417",
   "metadata": {},
   "outputs": [],
   "source": [
    "plt.scatter(train['CentralAir'], train['SalePrice'])"
   ]
  },
  {
   "cell_type": "code",
   "execution_count": null,
   "id": "c1b1723b",
   "metadata": {},
   "outputs": [],
   "source": [
    "data['CentralAir'] = data['CentralAir'].map({\n",
    "    'N': 0,\n",
    "    'Y': 1\n",
    "})"
   ]
  },
  {
   "cell_type": "markdown",
   "id": "c4718560",
   "metadata": {},
   "source": [
    "#### Electrical"
   ]
  },
  {
   "cell_type": "code",
   "execution_count": null,
   "id": "fe40666a",
   "metadata": {},
   "outputs": [],
   "source": [
    "plt.scatter(train['Electrical'].fillna('No'), train['SalePrice'])"
   ]
  },
  {
   "cell_type": "code",
   "execution_count": null,
   "id": "d0bd030f",
   "metadata": {},
   "outputs": [],
   "source": [
    "data['Electrical'].fillna('No', inplace=True)"
   ]
  },
  {
   "cell_type": "code",
   "execution_count": null,
   "id": "0b34a599",
   "metadata": {},
   "outputs": [],
   "source": [
    "data['Electrical'] = data['Electrical'].map({\n",
    "    'Mix': 0,\n",
    "    'FuseP': 1,\n",
    "    'FuseF': 2,\n",
    "    'FuseA': 3,\n",
    "    'No': 4,\n",
    "    'SBrkr': 5\n",
    "})"
   ]
  },
  {
   "cell_type": "markdown",
   "id": "57fccb75",
   "metadata": {},
   "source": [
    "#### FullBath"
   ]
  },
  {
   "cell_type": "code",
   "execution_count": null,
   "id": "6c64d082",
   "metadata": {},
   "outputs": [],
   "source": [
    "data['FullBath'].value_counts()"
   ]
  },
  {
   "cell_type": "code",
   "execution_count": null,
   "id": "6f4d3f37",
   "metadata": {},
   "outputs": [],
   "source": [
    "data['FullBath'] = data['FullBath'].map({\n",
    "    0: 0,\n",
    "    1: 1,\n",
    "    2: 2,\n",
    "    3: 3,\n",
    "    4: 3\n",
    "})"
   ]
  },
  {
   "cell_type": "markdown",
   "id": "88fd1650",
   "metadata": {},
   "source": [
    "#### BedroomAbvGr"
   ]
  },
  {
   "cell_type": "code",
   "execution_count": null,
   "id": "1eab7d86",
   "metadata": {},
   "outputs": [],
   "source": [
    "plt.scatter(train['BedroomAbvGr'], train['SalePrice'])"
   ]
  },
  {
   "cell_type": "code",
   "execution_count": null,
   "id": "d51fb546",
   "metadata": {},
   "outputs": [],
   "source": [
    "data['BedroomAbvGr'].replace({\n",
    "    5: 4,\n",
    "    6: 4,\n",
    "    8: 4\n",
    "}, inplace=True)"
   ]
  },
  {
   "cell_type": "markdown",
   "id": "de2dea4b",
   "metadata": {},
   "source": [
    "#### KitchenAbvGr"
   ]
  },
  {
   "cell_type": "code",
   "execution_count": null,
   "id": "b825be7b",
   "metadata": {},
   "outputs": [],
   "source": [
    "plt.scatter(train['KitchenAbvGr'], train['SalePrice'])"
   ]
  },
  {
   "cell_type": "code",
   "execution_count": null,
   "id": "8f844349",
   "metadata": {},
   "outputs": [],
   "source": [
    "train['KitchenAbvGr'].value_counts(), test['KitchenAbvGr'].value_counts()"
   ]
  },
  {
   "cell_type": "code",
   "execution_count": null,
   "id": "0cd7b5f8",
   "metadata": {},
   "outputs": [],
   "source": [
    "data['KitchenAbvGr'].replace({\n",
    "    1: 2,\n",
    "    2: 1,\n",
    "    3: 1\n",
    "}, inplace=True)"
   ]
  },
  {
   "cell_type": "markdown",
   "id": "671e3ed8",
   "metadata": {},
   "source": [
    "#### KitchenQual"
   ]
  },
  {
   "cell_type": "code",
   "execution_count": null,
   "id": "853f1ede",
   "metadata": {},
   "outputs": [],
   "source": [
    "data['KitchenQual'].value_counts()"
   ]
  },
  {
   "cell_type": "code",
   "execution_count": null,
   "id": "63fa5dca",
   "metadata": {},
   "outputs": [],
   "source": [
    "data['KitchenQual'] = data['KitchenQual'].map({\n",
    "    'Fa': 1,\n",
    "    'TA': 2,\n",
    "    'Gd': 3,\n",
    "    'Ex': 4\n",
    "})"
   ]
  },
  {
   "cell_type": "markdown",
   "id": "2c2f44df",
   "metadata": {},
   "source": [
    "#### FireplaceQu"
   ]
  },
  {
   "cell_type": "code",
   "execution_count": null,
   "id": "112a7b9b",
   "metadata": {},
   "outputs": [],
   "source": [
    "plt.scatter(train['FireplaceQu'].fillna('NoFrp'), train['SalePrice'])"
   ]
  },
  {
   "cell_type": "code",
   "execution_count": null,
   "id": "58ee67ad",
   "metadata": {},
   "outputs": [],
   "source": [
    "data['FireplaceQu'].fillna('NoFrp', inplace=True)"
   ]
  },
  {
   "cell_type": "code",
   "execution_count": null,
   "id": "f8c4a0a0",
   "metadata": {},
   "outputs": [],
   "source": [
    "data['FireplaceQu'] = data['FireplaceQu'].map({\n",
    "    'NoFrp': 0,\n",
    "    'Po': 1,\n",
    "    'Fa': 2,\n",
    "    'TA': 3,\n",
    "    'Gd': 4,\n",
    "    'Ex': 5\n",
    "})"
   ]
  },
  {
   "cell_type": "markdown",
   "id": "46ee378e",
   "metadata": {},
   "source": [
    "#### GarageFinish"
   ]
  },
  {
   "cell_type": "code",
   "execution_count": null,
   "id": "672618ac",
   "metadata": {},
   "outputs": [],
   "source": [
    "plt.scatter(train['GarageFinish'].fillna('No'), train['SalePrice'])"
   ]
  },
  {
   "cell_type": "code",
   "execution_count": null,
   "id": "4a8cf2ab",
   "metadata": {},
   "outputs": [],
   "source": [
    "data['GarageFinish'].fillna('No', inplace=True)"
   ]
  },
  {
   "cell_type": "code",
   "execution_count": null,
   "id": "8f254cff",
   "metadata": {},
   "outputs": [],
   "source": [
    "data['GarageFinish'] = data['GarageFinish'].map({\n",
    "    'No': 0,\n",
    "    'Unf': 1,\n",
    "    'RFn': 2,\n",
    "    'Fin': 3\n",
    "})"
   ]
  },
  {
   "cell_type": "markdown",
   "id": "dafa2873",
   "metadata": {},
   "source": [
    "#### GarageCars"
   ]
  },
  {
   "cell_type": "code",
   "execution_count": null,
   "id": "a6ecee97",
   "metadata": {},
   "outputs": [],
   "source": [
    "data['GarageCars'].value_counts()"
   ]
  },
  {
   "cell_type": "code",
   "execution_count": null,
   "id": "57384b7c",
   "metadata": {},
   "outputs": [],
   "source": [
    "# outlier mask\n",
    "cars_outlier = data['GarageCars'] == 5"
   ]
  },
  {
   "cell_type": "code",
   "execution_count": null,
   "id": "cf4e0225",
   "metadata": {},
   "outputs": [],
   "source": [
    "# handle outlier\n",
    "data['GarageCarsOutlier'] = np.zeros(data.shape[0])\n",
    "data.loc[cars_outlier, 'GarageCarsOutlier'] = 1"
   ]
  },
  {
   "cell_type": "code",
   "execution_count": null,
   "id": "70b0ccc0",
   "metadata": {},
   "outputs": [],
   "source": [
    "data['GarageCars'] = data['GarageCars'].map({\n",
    "    0: 0,\n",
    "    1: 1,\n",
    "    2: 2,\n",
    "    3: 3,\n",
    "    4: 3,\n",
    "    5: 3\n",
    "})"
   ]
  },
  {
   "cell_type": "markdown",
   "id": "3e6e9321",
   "metadata": {},
   "source": [
    "#### GarageQual"
   ]
  },
  {
   "cell_type": "code",
   "execution_count": null,
   "id": "2909abc4",
   "metadata": {},
   "outputs": [],
   "source": [
    "plt.scatter(train['GarageQual'].fillna('No'), train['SalePrice'])"
   ]
  },
  {
   "cell_type": "code",
   "execution_count": null,
   "id": "42aef2bc",
   "metadata": {},
   "outputs": [],
   "source": [
    "data['GarageQual'].fillna('No', inplace=True)"
   ]
  },
  {
   "cell_type": "code",
   "execution_count": null,
   "id": "f2bdc1d7",
   "metadata": {},
   "outputs": [],
   "source": [
    "data['GarageQual'] = data['GarageQual'].map({\n",
    "    'Po': 0,\n",
    "    'No': 1,\n",
    "    'Fa': 2,\n",
    "    'TA': 3,\n",
    "    'Gd': 4,\n",
    "    'Ex': 5\n",
    "})"
   ]
  },
  {
   "cell_type": "markdown",
   "id": "ab30390c",
   "metadata": {},
   "source": [
    "#### GarageCond"
   ]
  },
  {
   "cell_type": "code",
   "execution_count": null,
   "id": "14c7b822",
   "metadata": {},
   "outputs": [],
   "source": [
    "plt.scatter(train['GarageCond'].fillna('No'), train['SalePrice'])"
   ]
  },
  {
   "cell_type": "code",
   "execution_count": null,
   "id": "c5ade06a",
   "metadata": {},
   "outputs": [],
   "source": [
    "data['GarageCond'].fillna('No', inplace=True)"
   ]
  },
  {
   "cell_type": "code",
   "execution_count": null,
   "id": "a257b46e",
   "metadata": {},
   "outputs": [],
   "source": [
    "data['GarageCond'] = data['GarageCond'].map({\n",
    "    'Po': 0,\n",
    "    'No': 1,\n",
    "    'Fa': 2,\n",
    "    'TA': 3,\n",
    "    'Gd': 4,\n",
    "    'Ex': 5\n",
    "})"
   ]
  },
  {
   "cell_type": "markdown",
   "id": "613227d3",
   "metadata": {},
   "source": [
    "#### PavedDrive"
   ]
  },
  {
   "cell_type": "code",
   "execution_count": null,
   "id": "f3558a4a",
   "metadata": {},
   "outputs": [],
   "source": [
    "plt.scatter(train['PavedDrive'], train['SalePrice'])"
   ]
  },
  {
   "cell_type": "code",
   "execution_count": null,
   "id": "b7c17fa3",
   "metadata": {},
   "outputs": [],
   "source": [
    "data['PavedDrive'] = data['PavedDrive'].map({\n",
    "    'N': 0,\n",
    "    'P': 1,\n",
    "    'Y': 2\n",
    "})"
   ]
  },
  {
   "cell_type": "markdown",
   "id": "f6422faf",
   "metadata": {},
   "source": [
    "#### MiscFeature"
   ]
  },
  {
   "cell_type": "code",
   "execution_count": null,
   "id": "57e8cb11",
   "metadata": {},
   "outputs": [],
   "source": [
    "plt.scatter(train['MiscFeature'].fillna('No'), train['SalePrice'])"
   ]
  },
  {
   "cell_type": "code",
   "execution_count": null,
   "id": "951de56f",
   "metadata": {},
   "outputs": [],
   "source": [
    "data['MiscFeature'].fillna('No', inplace=True)"
   ]
  },
  {
   "cell_type": "code",
   "execution_count": null,
   "id": "672cb665",
   "metadata": {},
   "outputs": [],
   "source": [
    "data['MiscFeature'].unique()"
   ]
  },
  {
   "cell_type": "code",
   "execution_count": null,
   "id": "b7cefd64",
   "metadata": {},
   "outputs": [],
   "source": [
    "data['MiscFeature'] = data['MiscFeature'].map({\n",
    "    'Shed': 0,\n",
    "    'Gar2': 0,\n",
    "    'Othr': 0,\n",
    "    'TenC': 0,\n",
    "    'No': 1,\n",
    "})"
   ]
  },
  {
   "cell_type": "markdown",
   "id": "b851f4c0",
   "metadata": {},
   "source": [
    "## Fill NaNs"
   ]
  },
  {
   "cell_type": "code",
   "execution_count": null,
   "id": "5050c3ee",
   "metadata": {},
   "outputs": [],
   "source": [
    "data.info()"
   ]
  },
  {
   "cell_type": "code",
   "execution_count": null,
   "id": "62ac6baf",
   "metadata": {},
   "outputs": [],
   "source": [
    "data.drop(['PoolQC', 'Fence'], axis=1, inplace=True)"
   ]
  },
  {
   "cell_type": "code",
   "execution_count": null,
   "id": "2e82fd75",
   "metadata": {},
   "outputs": [],
   "source": [
    "nullable_cols = data.columns[(data.isnull().sum() > 0)]\n",
    "nullable_cols"
   ]
  },
  {
   "cell_type": "code",
   "execution_count": null,
   "id": "78aa90bf",
   "metadata": {},
   "outputs": [],
   "source": [
    "# for col in nullable_cols:\n",
    "#     print(data[col].isnull().sum())"
   ]
  },
  {
   "cell_type": "code",
   "execution_count": null,
   "id": "13b7e66c",
   "metadata": {},
   "outputs": [],
   "source": [
    "for col in nullable_cols:\n",
    "    if col != 'SalePrice':\n",
    "        if len(data[col].unique()) > 200:\n",
    "            data[col].fillna(data[col].median(), inplace=True)\n",
    "            data[col].replace({None: data[col].median()}, inplace=True)\n",
    "        else:\n",
    "            data[col].fillna(data[col].mode()[0], inplace=True)\n",
    "            data[col].replace({None: data[col].mode()[0]}, inplace=True)\n",
    "data.columns[(data.isnull().sum() > 0)]"
   ]
  },
  {
   "cell_type": "markdown",
   "id": "3a3fd70b",
   "metadata": {},
   "source": [
    "## Categorical features"
   ]
  },
  {
   "cell_type": "code",
   "execution_count": null,
   "id": "adda5d28",
   "metadata": {},
   "outputs": [],
   "source": [
    "categ_features = []\n",
    "for col in data.columns:\n",
    "    if data[col].dtype == 'object':\n",
    "        print(col)\n",
    "        categ_features.append(col)"
   ]
  },
  {
   "cell_type": "code",
   "execution_count": null,
   "id": "c2fd17b9",
   "metadata": {},
   "outputs": [],
   "source": [
    "from sklearn.preprocessing import LabelEncoder\n",
    "le = LabelEncoder()\n",
    "\n",
    "for col in categ_features:\n",
    "    data[col] = le.fit_transform(data[col])"
   ]
  },
  {
   "cell_type": "code",
   "execution_count": null,
   "id": "de7c6cfe",
   "metadata": {},
   "outputs": [],
   "source": [
    "train_mask = data['SalePrice'].notnull()\n",
    "test_mask = ~data['SalePrice'].notnull()\n",
    "\n",
    "processed_train = data[train_mask]\n",
    "processed_test = data[test_mask].drop('SalePrice', axis=1)"
   ]
  },
  {
   "cell_type": "code",
   "execution_count": null,
   "id": "f240ce2a",
   "metadata": {},
   "outputs": [],
   "source": [
    "processed_train.to_csv('./processed/train.csv')\n",
    "processed_test.to_csv('./processed/test.csv')"
   ]
  },
  {
   "cell_type": "code",
   "execution_count": null,
   "id": "056848a1",
   "metadata": {},
   "outputs": [],
   "source": [
    "pd.read_csv('./processed/train.csv')"
   ]
  },
  {
   "cell_type": "code",
   "execution_count": null,
   "id": "1e012a7b",
   "metadata": {},
   "outputs": [],
   "source": []
  }
 ],
 "metadata": {
  "kernelspec": {
   "display_name": "Python 3",
   "language": "python",
   "name": "python3"
  },
  "language_info": {
   "codemirror_mode": {
    "name": "ipython",
    "version": 3
   },
   "file_extension": ".py",
   "mimetype": "text/x-python",
   "name": "python",
   "nbconvert_exporter": "python",
   "pygments_lexer": "ipython3",
   "version": "3.7.9"
  }
 },
 "nbformat": 4,
 "nbformat_minor": 5
}
