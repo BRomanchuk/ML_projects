{
 "cells": [
  {
   "cell_type": "markdown",
   "id": "6c199f46",
   "metadata": {},
   "source": [
    "# EDA [House Prices]"
   ]
  },
  {
   "cell_type": "code",
   "execution_count": null,
   "id": "8f3cb184",
   "metadata": {},
   "outputs": [],
   "source": [
    "import numpy as np\n",
    "import pandas as pd\n",
    "import matplotlib.pyplot as plt\n",
    "import seaborn as sns\n",
    "%matplotlib inline"
   ]
  },
  {
   "cell_type": "code",
   "execution_count": null,
   "id": "d33033b4",
   "metadata": {},
   "outputs": [],
   "source": [
    "train = pd.read_csv('./data/train.csv', index_col='Id')\n",
    "test = pd.read_csv('./data/test.csv', index_col='Id')\n",
    "\n",
    "data = pd.concat([train, test])"
   ]
  },
  {
   "cell_type": "markdown",
   "id": "18875cd8",
   "metadata": {},
   "source": [
    "## Numeric features"
   ]
  },
  {
   "cell_type": "markdown",
   "id": "2f8b663a",
   "metadata": {},
   "source": [
    "#### LotFrontage"
   ]
  },
  {
   "cell_type": "code",
   "execution_count": null,
   "id": "3c37f180",
   "metadata": {},
   "outputs": [],
   "source": [
    "train['LotFrontage'].sort_values(ascending=False).head(5), test['LotFrontage'].sort_values(ascending=False).head(5)"
   ]
  },
  {
   "cell_type": "code",
   "execution_count": null,
   "id": "83e77d17",
   "metadata": {},
   "outputs": [],
   "source": [
    "front_outliers = (data['LotFrontage'] > 300)\n",
    "data.drop(data.loc[front_outliers].index, inplace=True)"
   ]
  },
  {
   "cell_type": "markdown",
   "id": "1fb95816",
   "metadata": {},
   "source": [
    "#### LotArea"
   ]
  },
  {
   "cell_type": "code",
   "execution_count": null,
   "id": "04e6db03",
   "metadata": {},
   "outputs": [],
   "source": [
    "train['LotArea'].sort_values(ascending=False).head(5), test['LotArea'].sort_values(ascending=False).head(5)"
   ]
  },
  {
   "cell_type": "code",
   "execution_count": null,
   "id": "175c487b",
   "metadata": {},
   "outputs": [],
   "source": [
    "area_outliers = (data['LotArea'] > 100000)\n",
    "data.drop(data.loc[area_outliers].index, inplace=True)"
   ]
  },
  {
   "cell_type": "markdown",
   "id": "d4a71885",
   "metadata": {},
   "source": [
    "#### BsmtFinSF1"
   ]
  },
  {
   "cell_type": "code",
   "execution_count": null,
   "id": "bf9b8e05",
   "metadata": {},
   "outputs": [],
   "source": [
    "# BsmtFinSF1\n",
    "train['BsmtFinSF1'].sort_values(ascending=False).head(5), test['BsmtFinSF1'].sort_values(ascending=False).head(5)"
   ]
  },
  {
   "cell_type": "code",
   "execution_count": null,
   "id": "15a6f8e0",
   "metadata": {},
   "outputs": [],
   "source": [
    "bsmt1_outliers = (data['BsmtFinSF1'] > 3000)\n",
    "data['BsmtFinSF1_Outliers'] = np.zeros(data.shape[0])\n",
    "data.loc[bsmt1_outliers, 'BsmtFinSF1_Outliers'] = 100"
   ]
  },
  {
   "cell_type": "markdown",
   "id": "c31631a2",
   "metadata": {},
   "source": [
    "#### TotalBsmtSF"
   ]
  },
  {
   "cell_type": "code",
   "execution_count": null,
   "id": "ba713993",
   "metadata": {},
   "outputs": [],
   "source": [
    "# TotalBsmtSF\n",
    "train['TotalBsmtSF'].sort_values(ascending=False).head(5), test['TotalBsmtSF'].sort_values(ascending=False).head(5)"
   ]
  },
  {
   "cell_type": "code",
   "execution_count": null,
   "id": "97f89a41",
   "metadata": {},
   "outputs": [],
   "source": [
    "bsmt_tot_outliers = (data['TotalBsmtSF'] > 4000)\n",
    "data['TotalBsmtSF_Outliers'] = np.zeros(data.shape[0])\n",
    "data.loc[bsmt_tot_outliers, 'TotalBsmtSF_Outliers'] = 100"
   ]
  },
  {
   "cell_type": "markdown",
   "id": "9eabe354",
   "metadata": {},
   "source": [
    "#### 1stFlrSF"
   ]
  },
  {
   "cell_type": "code",
   "execution_count": null,
   "id": "4db9581b",
   "metadata": {},
   "outputs": [],
   "source": [
    "# 1stFlrSF\n",
    "train['1stFlrSF'].sort_values(ascending=False).head(5), test['1stFlrSF'].sort_values(ascending=False).head(5)"
   ]
  },
  {
   "cell_type": "code",
   "execution_count": null,
   "id": "96eec25b",
   "metadata": {},
   "outputs": [],
   "source": [
    "f_flr_outliers = (data['1stFlrSF'] > 4000)\n",
    "data['1stFlrSF_Outliers'] = np.zeros(data.shape[0])\n",
    "data.loc[f_flr_outliers, '1stFlrSF_Outliers'] = 100"
   ]
  },
  {
   "cell_type": "markdown",
   "id": "8f7f5606",
   "metadata": {},
   "source": [
    "#### GrLivArea"
   ]
  },
  {
   "cell_type": "code",
   "execution_count": null,
   "id": "4d46a04a",
   "metadata": {
    "scrolled": true
   },
   "outputs": [],
   "source": [
    "# GrLivArea\n",
    "train['GrLivArea'].sort_values(ascending=False).head(5), test['GrLivArea'].sort_values(ascending=False).head(5)"
   ]
  },
  {
   "cell_type": "code",
   "execution_count": null,
   "id": "1ef23f8f",
   "metadata": {},
   "outputs": [],
   "source": [
    "main_outliers = (data['GrLivArea'] > 4500)\n",
    "data['GrLivArea_Outliers'] = np.zeros(data.shape[0])\n",
    "data.loc[main_outliers, 'GrLivArea_Outliers'] = 100"
   ]
  },
  {
   "cell_type": "markdown",
   "id": "1752f24d",
   "metadata": {},
   "source": [
    "#### GarageYrBlt"
   ]
  },
  {
   "cell_type": "code",
   "execution_count": null,
   "id": "f1e94919",
   "metadata": {},
   "outputs": [],
   "source": [
    "# GarageYrBlt\n",
    "train['GarageYrBlt'].sort_values(ascending=False).head(5), test['GarageYrBlt'].sort_values(ascending=False).head(5)"
   ]
  },
  {
   "cell_type": "code",
   "execution_count": null,
   "id": "a5f8d266",
   "metadata": {},
   "outputs": [],
   "source": [
    "garage_year_outlier = data['GarageYrBlt'] > 2010\n",
    "data.loc[garage_year_outlier, 'GarageYrBlt'] = 2007"
   ]
  },
  {
   "cell_type": "markdown",
   "id": "604021d4",
   "metadata": {},
   "source": [
    "#### WoodDeckSF"
   ]
  },
  {
   "cell_type": "code",
   "execution_count": null,
   "id": "b6225c08",
   "metadata": {},
   "outputs": [],
   "source": [
    "# WoodDeckSF\n",
    "train['WoodDeckSF'].sort_values(ascending=False).head(5), test['WoodDeckSF'].sort_values(ascending=False).head(5)"
   ]
  },
  {
   "cell_type": "code",
   "execution_count": null,
   "id": "db9d9937",
   "metadata": {},
   "outputs": [],
   "source": [
    "wood_deck_outliers = (data['WoodDeckSF'] > 1000)\n",
    "data['WoodDeckSF_Outliers'] = np.zeros(data.shape[0])\n",
    "data.loc[wood_deck_outliers, 'WoodDeckSF_Outliers'] = 100"
   ]
  },
  {
   "cell_type": "markdown",
   "id": "a23b28db",
   "metadata": {},
   "source": [
    "#### EnclosedPorch"
   ]
  },
  {
   "cell_type": "code",
   "execution_count": null,
   "id": "2f121b7a",
   "metadata": {},
   "outputs": [],
   "source": [
    "# EnclosedPorch\n",
    "train['EnclosedPorch'].sort_values(ascending=False).head(5), test['EnclosedPorch'].sort_values(ascending=False).head(5)"
   ]
  },
  {
   "cell_type": "code",
   "execution_count": null,
   "id": "fbef8827",
   "metadata": {},
   "outputs": [],
   "source": [
    "enc_porch_outliers = (data['EnclosedPorch'] > 1000)\n",
    "data['EnclosedPorch_Outliers'] = np.zeros(data.shape[0])\n",
    "data.loc[enc_porch_outliers, 'EnclosedPorch_Outliers'] = 100"
   ]
  },
  {
   "cell_type": "markdown",
   "id": "1f9e0074",
   "metadata": {},
   "source": [
    "## Ordinal features\n"
   ]
  },
  {
   "cell_type": "markdown",
   "id": "3fc73091",
   "metadata": {},
   "source": [
    "#### MSZoning"
   ]
  },
  {
   "cell_type": "code",
   "execution_count": null,
   "id": "5f87dee9",
   "metadata": {},
   "outputs": [],
   "source": [
    "data['MSZoning'].value_counts()"
   ]
  },
  {
   "cell_type": "code",
   "execution_count": null,
   "id": "00168e02",
   "metadata": {},
   "outputs": [],
   "source": [
    "plt.scatter(train['MSZoning'], train['SalePrice'])"
   ]
  },
  {
   "cell_type": "code",
   "execution_count": null,
   "id": "57f09c24",
   "metadata": {},
   "outputs": [],
   "source": [
    "data['MSZoning'] = data['MSZoning'].map({\n",
    "    'C (all)': 0,\n",
    "    'RH': 1,\n",
    "    'RM': 2,\n",
    "    'FV': 3,\n",
    "    'RL': 4\n",
    "})"
   ]
  },
  {
   "cell_type": "markdown",
   "id": "8d8126cc",
   "metadata": {},
   "source": [
    "#### Street"
   ]
  },
  {
   "cell_type": "code",
   "execution_count": null,
   "id": "c9201d4a",
   "metadata": {},
   "outputs": [],
   "source": [
    "plt.scatter(train['Street'], train['SalePrice'])"
   ]
  },
  {
   "cell_type": "code",
   "execution_count": null,
   "id": "6e1a92d6",
   "metadata": {},
   "outputs": [],
   "source": [
    "data['Street'] = data['Street'].map({\n",
    "    'Grvl': 0,\n",
    "    'Pave': 1\n",
    "})"
   ]
  },
  {
   "cell_type": "markdown",
   "id": "b5bb5afd",
   "metadata": {},
   "source": [
    "#### LotShape"
   ]
  },
  {
   "cell_type": "code",
   "execution_count": null,
   "id": "12cc1f93",
   "metadata": {},
   "outputs": [],
   "source": [
    "plt.scatter(train['LotShape'], train['SalePrice'])"
   ]
  },
  {
   "cell_type": "code",
   "execution_count": null,
   "id": "2622dd38",
   "metadata": {},
   "outputs": [],
   "source": [
    "data['LotShape'] = data['LotShape'].map({\n",
    "    'IR3': 0,\n",
    "    'IR2': 1,\n",
    "    'Reg': 2,\n",
    "    'IR1': 3\n",
    "})"
   ]
  },
  {
   "cell_type": "markdown",
   "id": "146459c6",
   "metadata": {},
   "source": [
    "#### LandContour"
   ]
  },
  {
   "cell_type": "code",
   "execution_count": null,
   "id": "cd3d3327",
   "metadata": {},
   "outputs": [],
   "source": [
    "plt.scatter(train['LandContour'], train['SalePrice'])"
   ]
  },
  {
   "cell_type": "code",
   "execution_count": null,
   "id": "3c78e2c2",
   "metadata": {},
   "outputs": [],
   "source": [
    "data['LandContour'] = data['LandContour'].map({\n",
    "    'Bnk': 0,\n",
    "    'Low': 1,\n",
    "    'HLS': 2,\n",
    "    'Lvl': 3\n",
    "})"
   ]
  },
  {
   "cell_type": "markdown",
   "id": "b4f3cd04",
   "metadata": {},
   "source": [
    "#### Utilities"
   ]
  },
  {
   "cell_type": "code",
   "execution_count": null,
   "id": "68a3e5bd",
   "metadata": {},
   "outputs": [],
   "source": [
    "data['Utilities'].value_counts()"
   ]
  },
  {
   "cell_type": "code",
   "execution_count": null,
   "id": "b39cbc7f",
   "metadata": {},
   "outputs": [],
   "source": [
    "data['Utilities'] = data['Utilities'].map({\n",
    "    'AllPub': 1,\n",
    "    'NoSeWa': 0\n",
    "})"
   ]
  },
  {
   "cell_type": "markdown",
   "id": "14a2e3ad",
   "metadata": {},
   "source": [
    "#### LotConfig"
   ]
  },
  {
   "cell_type": "code",
   "execution_count": null,
   "id": "952296ce",
   "metadata": {},
   "outputs": [],
   "source": [
    "plt.scatter(train['LotConfig'], train['SalePrice'])"
   ]
  },
  {
   "cell_type": "code",
   "execution_count": null,
   "id": "72fd6ed3",
   "metadata": {},
   "outputs": [],
   "source": [
    "data['LotConfig'] = data['LotConfig'].map({\n",
    "    'FR3': 0,\n",
    "    'FR2': 1,\n",
    "    'Corner': 2,\n",
    "    'Inside': 3,\n",
    "    'CulDSac': 4\n",
    "})"
   ]
  },
  {
   "cell_type": "markdown",
   "id": "6670d876",
   "metadata": {},
   "source": [
    "#### LandSlope"
   ]
  },
  {
   "cell_type": "code",
   "execution_count": null,
   "id": "5ad469c3",
   "metadata": {},
   "outputs": [],
   "source": [
    "plt.scatter(train['LandSlope'], train['SalePrice'])"
   ]
  },
  {
   "cell_type": "code",
   "execution_count": null,
   "id": "b999969f",
   "metadata": {},
   "outputs": [],
   "source": [
    "data['LandSlope'] = data['LandSlope'].map({\n",
    "    'Sev': 0,\n",
    "    'Mod': 1,\n",
    "    'Gtl': 2\n",
    "})"
   ]
  },
  {
   "cell_type": "markdown",
   "id": "047f525d",
   "metadata": {},
   "source": [
    "#### Neighborhood"
   ]
  },
  {
   "cell_type": "code",
   "execution_count": null,
   "id": "ec8bd9fb",
   "metadata": {},
   "outputs": [],
   "source": [
    "plt.scatter(train['Neighborhood'], train['SalePrice'])"
   ]
  },
  {
   "cell_type": "code",
   "execution_count": null,
   "id": "d9095017",
   "metadata": {},
   "outputs": [],
   "source": [
    "train['Neighborhood'].unique()"
   ]
  },
  {
   "cell_type": "code",
   "execution_count": null,
   "id": "777d7c1f",
   "metadata": {},
   "outputs": [],
   "source": [
    "temp = train['Neighborhood'].map({\n",
    "    'CollgCr': 15,\n",
    "    'Veenker': 20,\n",
    "    'Crawfor': 14,\n",
    "    'NoRidge': 24,\n",
    "    'Mitchel': 10,\n",
    "    'Somerst': 18,\n",
    "    'NWAmes': 17,\n",
    "    'OldTown': 2,\n",
    "    'BrkSide': 1,\n",
    "    'Sawyer': 5,\n",
    "    'NridgHt': 23,\n",
    "    'NAmes': 11,\n",
    "    'SawyerW': 13,\n",
    "    'IDOTRR': 0,\n",
    "    'MeadowV': 4,\n",
    "    'Edwards': 9,\n",
    "    'Timber': 21,\n",
    "    'Gilbert': 19,\n",
    "    'StoneBr': 22,\n",
    "    'ClearCr': 16,\n",
    "    'NPkVill': 8,\n",
    "    'Blmngtn': 12,\n",
    "    'BrDale': 3,\n",
    "    'SWISU': 6,\n",
    "    'Blueste': 7 \n",
    "})"
   ]
  },
  {
   "cell_type": "code",
   "execution_count": null,
   "id": "0f0601dd",
   "metadata": {},
   "outputs": [],
   "source": [
    "plt.scatter(temp, train['SalePrice'])"
   ]
  },
  {
   "cell_type": "code",
   "execution_count": null,
   "id": "df388d4d",
   "metadata": {},
   "outputs": [],
   "source": [
    "data['Neighborhood'] = data['Neighborhood'].map({\n",
    "    'CollgCr': 15,\n",
    "    'Veenker': 20,\n",
    "    'Crawfor': 14,\n",
    "    'NoRidge': 24,\n",
    "    'Mitchel': 10,\n",
    "    'Somerst': 18,\n",
    "    'NWAmes': 17,\n",
    "    'OldTown': 2,\n",
    "    'BrkSide': 1,\n",
    "    'Sawyer': 5,\n",
    "    'NridgHt': 23,\n",
    "    'NAmes': 11,\n",
    "    'SawyerW': 13,\n",
    "    'IDOTRR': 0,\n",
    "    'MeadowV': 4,\n",
    "    'Edwards': 9,\n",
    "    'Timber': 21,\n",
    "    'Gilbert': 19,\n",
    "    'StoneBr': 22,\n",
    "    'ClearCr': 16,\n",
    "    'NPkVill': 8,\n",
    "    'Blmngtn': 12,\n",
    "    'BrDale': 3,\n",
    "    'SWISU': 6,\n",
    "    'Blueste': 7 \n",
    "})"
   ]
  },
  {
   "cell_type": "code",
   "execution_count": null,
   "id": "99afed92",
   "metadata": {},
   "outputs": [],
   "source": []
  }
 ],
 "metadata": {
  "kernelspec": {
   "display_name": "Python 3",
   "language": "python",
   "name": "python3"
  },
  "language_info": {
   "codemirror_mode": {
    "name": "ipython",
    "version": 3
   },
   "file_extension": ".py",
   "mimetype": "text/x-python",
   "name": "python",
   "nbconvert_exporter": "python",
   "pygments_lexer": "ipython3",
   "version": "3.7.9"
  }
 },
 "nbformat": 4,
 "nbformat_minor": 5
}
