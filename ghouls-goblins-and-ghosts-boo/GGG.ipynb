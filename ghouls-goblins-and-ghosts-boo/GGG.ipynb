{
 "cells": [
  {
   "cell_type": "markdown",
   "id": "e5b80b9c",
   "metadata": {},
   "source": [
    "# GGG Competition"
   ]
  },
  {
   "cell_type": "code",
   "execution_count": 686,
   "id": "6d481bd4",
   "metadata": {},
   "outputs": [],
   "source": [
    "import numpy as np\n",
    "import pandas as pd\n",
    "import matplotlib.pyplot as plt\n",
    "%matplotlib inline"
   ]
  },
  {
   "cell_type": "code",
   "execution_count": 687,
   "id": "644175d1",
   "metadata": {},
   "outputs": [
    {
     "data": {
      "text/html": [
       "<div>\n",
       "<style scoped>\n",
       "    .dataframe tbody tr th:only-of-type {\n",
       "        vertical-align: middle;\n",
       "    }\n",
       "\n",
       "    .dataframe tbody tr th {\n",
       "        vertical-align: top;\n",
       "    }\n",
       "\n",
       "    .dataframe thead th {\n",
       "        text-align: right;\n",
       "    }\n",
       "</style>\n",
       "<table border=\"1\" class=\"dataframe\">\n",
       "  <thead>\n",
       "    <tr style=\"text-align: right;\">\n",
       "      <th></th>\n",
       "      <th>bone_length</th>\n",
       "      <th>rotting_flesh</th>\n",
       "      <th>hair_length</th>\n",
       "      <th>has_soul</th>\n",
       "      <th>color</th>\n",
       "    </tr>\n",
       "  </thead>\n",
       "  <tbody>\n",
       "    <tr>\n",
       "      <th>0</th>\n",
       "      <td>0.354512</td>\n",
       "      <td>0.350839</td>\n",
       "      <td>0.465761</td>\n",
       "      <td>0.781142</td>\n",
       "      <td>clear</td>\n",
       "    </tr>\n",
       "    <tr>\n",
       "      <th>1</th>\n",
       "      <td>0.575560</td>\n",
       "      <td>0.425868</td>\n",
       "      <td>0.531401</td>\n",
       "      <td>0.439899</td>\n",
       "      <td>green</td>\n",
       "    </tr>\n",
       "    <tr>\n",
       "      <th>2</th>\n",
       "      <td>0.467875</td>\n",
       "      <td>0.354330</td>\n",
       "      <td>0.811616</td>\n",
       "      <td>0.791225</td>\n",
       "      <td>black</td>\n",
       "    </tr>\n",
       "    <tr>\n",
       "      <th>3</th>\n",
       "      <td>0.776652</td>\n",
       "      <td>0.508723</td>\n",
       "      <td>0.636766</td>\n",
       "      <td>0.884464</td>\n",
       "      <td>black</td>\n",
       "    </tr>\n",
       "    <tr>\n",
       "      <th>4</th>\n",
       "      <td>0.566117</td>\n",
       "      <td>0.875862</td>\n",
       "      <td>0.418594</td>\n",
       "      <td>0.636438</td>\n",
       "      <td>green</td>\n",
       "    </tr>\n",
       "  </tbody>\n",
       "</table>\n",
       "</div>"
      ],
      "text/plain": [
       "   bone_length  rotting_flesh  hair_length  has_soul  color\n",
       "0     0.354512       0.350839     0.465761  0.781142  clear\n",
       "1     0.575560       0.425868     0.531401  0.439899  green\n",
       "2     0.467875       0.354330     0.811616  0.791225  black\n",
       "3     0.776652       0.508723     0.636766  0.884464  black\n",
       "4     0.566117       0.875862     0.418594  0.636438  green"
      ]
     },
     "execution_count": 687,
     "metadata": {},
     "output_type": "execute_result"
    }
   ],
   "source": [
    "data = pd.read_csv('./datasets/train.csv', index_col='id')\n",
    "test = pd.read_csv('./datasets/test.csv', index_col='id')\n",
    "\n",
    "df = pd.concat([data.drop('type', axis=1), test], ignore_index=True)\n",
    "\n",
    "df.head()"
   ]
  },
  {
   "cell_type": "code",
   "execution_count": 688,
   "id": "1002459d",
   "metadata": {},
   "outputs": [],
   "source": [
    "ghoul_mask = data['type'] == 'Ghoul'\n",
    "goblin_mask = data['type'] == 'Goblin'\n",
    "ghost_mask = data['type'] == 'Ghost'"
   ]
  },
  {
   "cell_type": "code",
   "execution_count": 689,
   "id": "65badfe2",
   "metadata": {},
   "outputs": [],
   "source": [
    "# data.drop(data.sample(frac=1)[ghoul_mask].head(12).index, axis=0, inplace=True)\n",
    "# data.drop(data.sample(frac=1)[goblin_mask].head(8).index, axis=0, inplace=True)"
   ]
  },
  {
   "cell_type": "code",
   "execution_count": 690,
   "id": "3517fb92",
   "metadata": {},
   "outputs": [
    {
     "data": {
      "text/plain": [
       "Index(['bone_length', 'rotting_flesh', 'hair_length', 'has_soul', 'color'], dtype='object')"
      ]
     },
     "execution_count": 690,
     "metadata": {},
     "output_type": "execute_result"
    }
   ],
   "source": [
    "df.columns"
   ]
  },
  {
   "cell_type": "code",
   "execution_count": 691,
   "id": "c4afbc95",
   "metadata": {},
   "outputs": [
    {
     "data": {
      "text/html": [
       "<div>\n",
       "<style scoped>\n",
       "    .dataframe tbody tr th:only-of-type {\n",
       "        vertical-align: middle;\n",
       "    }\n",
       "\n",
       "    .dataframe tbody tr th {\n",
       "        vertical-align: top;\n",
       "    }\n",
       "\n",
       "    .dataframe thead th {\n",
       "        text-align: right;\n",
       "    }\n",
       "</style>\n",
       "<table border=\"1\" class=\"dataframe\">\n",
       "  <thead>\n",
       "    <tr style=\"text-align: right;\">\n",
       "      <th></th>\n",
       "      <th>bone_length</th>\n",
       "      <th>rotting_flesh</th>\n",
       "      <th>hair_length</th>\n",
       "      <th>has_soul</th>\n",
       "      <th>color</th>\n",
       "    </tr>\n",
       "  </thead>\n",
       "  <tbody>\n",
       "    <tr>\n",
       "      <th>0</th>\n",
       "      <td>0.404512</td>\n",
       "      <td>0.400839</td>\n",
       "      <td>0.515761</td>\n",
       "      <td>0.831142</td>\n",
       "      <td>clear</td>\n",
       "    </tr>\n",
       "    <tr>\n",
       "      <th>1</th>\n",
       "      <td>0.625560</td>\n",
       "      <td>0.475868</td>\n",
       "      <td>0.581401</td>\n",
       "      <td>0.489899</td>\n",
       "      <td>green</td>\n",
       "    </tr>\n",
       "    <tr>\n",
       "      <th>2</th>\n",
       "      <td>0.517875</td>\n",
       "      <td>0.404330</td>\n",
       "      <td>0.861616</td>\n",
       "      <td>0.841225</td>\n",
       "      <td>black</td>\n",
       "    </tr>\n",
       "    <tr>\n",
       "      <th>3</th>\n",
       "      <td>0.826652</td>\n",
       "      <td>0.558723</td>\n",
       "      <td>0.686766</td>\n",
       "      <td>0.934464</td>\n",
       "      <td>black</td>\n",
       "    </tr>\n",
       "    <tr>\n",
       "      <th>4</th>\n",
       "      <td>0.616117</td>\n",
       "      <td>0.925862</td>\n",
       "      <td>0.468594</td>\n",
       "      <td>0.686438</td>\n",
       "      <td>green</td>\n",
       "    </tr>\n",
       "  </tbody>\n",
       "</table>\n",
       "</div>"
      ],
      "text/plain": [
       "   bone_length  rotting_flesh  hair_length  has_soul  color\n",
       "0     0.404512       0.400839     0.515761  0.831142  clear\n",
       "1     0.625560       0.475868     0.581401  0.489899  green\n",
       "2     0.517875       0.404330     0.861616  0.841225  black\n",
       "3     0.826652       0.558723     0.686766  0.934464  black\n",
       "4     0.616117       0.925862     0.468594  0.686438  green"
      ]
     },
     "execution_count": 691,
     "metadata": {},
     "output_type": "execute_result"
    }
   ],
   "source": [
    "numeric = ['bone_length', 'rotting_flesh', 'hair_length', 'has_soul']\n",
    "\n",
    "if df['bone_length'].min() == 0:\n",
    "    df[numeric] += 0.05\n",
    "\n",
    "df.head()"
   ]
  },
  {
   "cell_type": "code",
   "execution_count": 692,
   "id": "e9f4c712",
   "metadata": {},
   "outputs": [],
   "source": [
    "df['hair_by_bone'] = df['hair_length'] / df['bone_length']\n",
    "df['soul_by_flesh'] = df['has_soul'] / df['rotting_flesh']\n",
    "\n",
    "df['hair_by_soul'] = df['hair_length'] / df['has_soul']\n",
    "df['hair_by_flesh'] = df['rotting_flesh'] / df['hair_length']\n",
    "df['bone_by_flesh'] = df['bone_length'] / df['rotting_flesh']\n",
    "\n",
    "df['soul_by_bone'] = df['bone_length'] / df['has_soul']"
   ]
  },
  {
   "cell_type": "code",
   "execution_count": 693,
   "id": "be9cfb87",
   "metadata": {},
   "outputs": [],
   "source": [
    "from sklearn.preprocessing import LabelEncoder\n",
    "\n",
    "le = LabelEncoder()\n",
    "y = le.fit_transform(data['type'])\n",
    "types = le.classes_\n",
    "\n",
    "df['color'] = le.fit_transform(df['color'])"
   ]
  },
  {
   "cell_type": "code",
   "execution_count": 694,
   "id": "65cc733f",
   "metadata": {},
   "outputs": [],
   "source": [
    "# df.drop(['color'], axis=1, inplace=True)\n",
    "# df = df[['soul_by_flesh', 'hair_by_flesh', 'hair_length', 'has_soul']]\n",
    "\n",
    "train = df[:data.shape[0]]\n",
    "test = df[data.shape[0]:]"
   ]
  },
  {
   "cell_type": "code",
   "execution_count": 695,
   "id": "0f6af137",
   "metadata": {},
   "outputs": [
    {
     "data": {
      "text/html": [
       "<div>\n",
       "<style scoped>\n",
       "    .dataframe tbody tr th:only-of-type {\n",
       "        vertical-align: middle;\n",
       "    }\n",
       "\n",
       "    .dataframe tbody tr th {\n",
       "        vertical-align: top;\n",
       "    }\n",
       "\n",
       "    .dataframe thead th {\n",
       "        text-align: right;\n",
       "    }\n",
       "</style>\n",
       "<table border=\"1\" class=\"dataframe\">\n",
       "  <thead>\n",
       "    <tr style=\"text-align: right;\">\n",
       "      <th></th>\n",
       "      <th>bone_length</th>\n",
       "      <th>rotting_flesh</th>\n",
       "      <th>hair_length</th>\n",
       "      <th>has_soul</th>\n",
       "      <th>color</th>\n",
       "      <th>hair_by_bone</th>\n",
       "      <th>soul_by_flesh</th>\n",
       "      <th>hair_by_soul</th>\n",
       "      <th>hair_by_flesh</th>\n",
       "      <th>bone_by_flesh</th>\n",
       "      <th>soul_by_bone</th>\n",
       "    </tr>\n",
       "  </thead>\n",
       "  <tbody>\n",
       "    <tr>\n",
       "      <th>count</th>\n",
       "      <td>900.000000</td>\n",
       "      <td>900.000000</td>\n",
       "      <td>900.000000</td>\n",
       "      <td>900.000000</td>\n",
       "      <td>900.000000</td>\n",
       "      <td>900.000000</td>\n",
       "      <td>900.000000</td>\n",
       "      <td>900.000000</td>\n",
       "      <td>900.000000</td>\n",
       "      <td>900.000000</td>\n",
       "      <td>900.000000</td>\n",
       "    </tr>\n",
       "    <tr>\n",
       "      <th>mean</th>\n",
       "      <td>0.479054</td>\n",
       "      <td>0.554961</td>\n",
       "      <td>0.572163</td>\n",
       "      <td>0.517104</td>\n",
       "      <td>3.394444</td>\n",
       "      <td>1.274051</td>\n",
       "      <td>1.051628</td>\n",
       "      <td>1.232375</td>\n",
       "      <td>1.118380</td>\n",
       "      <td>0.963690</td>\n",
       "      <td>1.056585</td>\n",
       "    </tr>\n",
       "    <tr>\n",
       "      <th>std</th>\n",
       "      <td>0.134744</td>\n",
       "      <td>0.153567</td>\n",
       "      <td>0.170981</td>\n",
       "      <td>0.178150</td>\n",
       "      <td>1.621934</td>\n",
       "      <td>0.558392</td>\n",
       "      <td>0.654686</td>\n",
       "      <td>0.639611</td>\n",
       "      <td>0.698306</td>\n",
       "      <td>0.571292</td>\n",
       "      <td>0.639549</td>\n",
       "    </tr>\n",
       "    <tr>\n",
       "      <th>min</th>\n",
       "      <td>0.050000</td>\n",
       "      <td>0.050000</td>\n",
       "      <td>0.050000</td>\n",
       "      <td>0.050000</td>\n",
       "      <td>0.000000</td>\n",
       "      <td>0.115685</td>\n",
       "      <td>0.076439</td>\n",
       "      <td>0.182370</td>\n",
       "      <td>0.077866</td>\n",
       "      <td>0.147870</td>\n",
       "      <td>0.199791</td>\n",
       "    </tr>\n",
       "    <tr>\n",
       "      <th>25%</th>\n",
       "      <td>0.382085</td>\n",
       "      <td>0.452419</td>\n",
       "      <td>0.446112</td>\n",
       "      <td>0.393909</td>\n",
       "      <td>3.000000</td>\n",
       "      <td>0.955999</td>\n",
       "      <td>0.668035</td>\n",
       "      <td>0.901109</td>\n",
       "      <td>0.704932</td>\n",
       "      <td>0.655497</td>\n",
       "      <td>0.731493</td>\n",
       "    </tr>\n",
       "    <tr>\n",
       "      <th>50%</th>\n",
       "      <td>0.476781</td>\n",
       "      <td>0.555279</td>\n",
       "      <td>0.580294</td>\n",
       "      <td>0.515508</td>\n",
       "      <td>3.000000</td>\n",
       "      <td>1.198665</td>\n",
       "      <td>0.960809</td>\n",
       "      <td>1.113867</td>\n",
       "      <td>0.929448</td>\n",
       "      <td>0.892021</td>\n",
       "      <td>0.930877</td>\n",
       "    </tr>\n",
       "    <tr>\n",
       "      <th>75%</th>\n",
       "      <td>0.568167</td>\n",
       "      <td>0.655218</td>\n",
       "      <td>0.694958</td>\n",
       "      <td>0.639235</td>\n",
       "      <td>5.000000</td>\n",
       "      <td>1.470124</td>\n",
       "      <td>1.304862</td>\n",
       "      <td>1.385677</td>\n",
       "      <td>1.324031</td>\n",
       "      <td>1.141021</td>\n",
       "      <td>1.187202</td>\n",
       "    </tr>\n",
       "    <tr>\n",
       "      <th>max</th>\n",
       "      <td>1.050000</td>\n",
       "      <td>1.050000</td>\n",
       "      <td>1.050000</td>\n",
       "      <td>1.050000</td>\n",
       "      <td>5.000000</td>\n",
       "      <td>10.018767</td>\n",
       "      <td>10.195560</td>\n",
       "      <td>8.175086</td>\n",
       "      <td>10.873865</td>\n",
       "      <td>10.738766</td>\n",
       "      <td>9.542060</td>\n",
       "    </tr>\n",
       "  </tbody>\n",
       "</table>\n",
       "</div>"
      ],
      "text/plain": [
       "       bone_length  rotting_flesh  hair_length    has_soul       color  \\\n",
       "count   900.000000     900.000000   900.000000  900.000000  900.000000   \n",
       "mean      0.479054       0.554961     0.572163    0.517104    3.394444   \n",
       "std       0.134744       0.153567     0.170981    0.178150    1.621934   \n",
       "min       0.050000       0.050000     0.050000    0.050000    0.000000   \n",
       "25%       0.382085       0.452419     0.446112    0.393909    3.000000   \n",
       "50%       0.476781       0.555279     0.580294    0.515508    3.000000   \n",
       "75%       0.568167       0.655218     0.694958    0.639235    5.000000   \n",
       "max       1.050000       1.050000     1.050000    1.050000    5.000000   \n",
       "\n",
       "       hair_by_bone  soul_by_flesh  hair_by_soul  hair_by_flesh  \\\n",
       "count    900.000000     900.000000    900.000000     900.000000   \n",
       "mean       1.274051       1.051628      1.232375       1.118380   \n",
       "std        0.558392       0.654686      0.639611       0.698306   \n",
       "min        0.115685       0.076439      0.182370       0.077866   \n",
       "25%        0.955999       0.668035      0.901109       0.704932   \n",
       "50%        1.198665       0.960809      1.113867       0.929448   \n",
       "75%        1.470124       1.304862      1.385677       1.324031   \n",
       "max       10.018767      10.195560      8.175086      10.873865   \n",
       "\n",
       "       bone_by_flesh  soul_by_bone  \n",
       "count     900.000000    900.000000  \n",
       "mean        0.963690      1.056585  \n",
       "std         0.571292      0.639549  \n",
       "min         0.147870      0.199791  \n",
       "25%         0.655497      0.731493  \n",
       "50%         0.892021      0.930877  \n",
       "75%         1.141021      1.187202  \n",
       "max        10.738766      9.542060  "
      ]
     },
     "execution_count": 695,
     "metadata": {},
     "output_type": "execute_result"
    }
   ],
   "source": [
    "df.describe()"
   ]
  },
  {
   "cell_type": "code",
   "execution_count": 681,
   "id": "9c14dae7",
   "metadata": {},
   "outputs": [],
   "source": [
    "from sklearn.ensemble import RandomForestClassifier\n",
    "\n",
    "model = RandomForestClassifier(n_estimators=100, max_depth=3, random_state=42)\n",
    "model.fit(train, y)\n",
    "predictions = model.predict(test)"
   ]
  },
  {
   "cell_type": "code",
   "execution_count": 682,
   "id": "5f1246a4",
   "metadata": {},
   "outputs": [],
   "source": [
    "submission_df = pd.read_csv('./datasets/sample_submission.csv', index_col='id')\n",
    "submission_df['type'] = types[predictions]\n",
    "\n",
    "submission_df.to_csv('./results/RandForest_raw.csv')"
   ]
  },
  {
   "cell_type": "code",
   "execution_count": 683,
   "id": "b346e7b7",
   "metadata": {},
   "outputs": [
    {
     "data": {
      "text/plain": [
       "[<matplotlib.lines.Line2D at 0x19b80663b08>]"
      ]
     },
     "execution_count": 683,
     "metadata": {},
     "output_type": "execute_result"
    },
    {
     "data": {
      "image/png": "[encoded data removed]",
      "text/plain": [
       "<Figure size 1080x360 with 1 Axes>"
      ]
     },
     "metadata": {
      "needs_background": "light"
     },
     "output_type": "display_data"
    }
   ],
   "source": [
    "fi = model.feature_importances_\n",
    "fn = df.columns\n",
    "\n",
    "plt.rcParams[\"figure.figsize\"] = (15,5)\n",
    "plt.plot(fn, fi)"
   ]
  },
  {
   "cell_type": "code",
   "execution_count": 684,
   "id": "2be72525",
   "metadata": {},
   "outputs": [
    {
     "data": {
      "text/html": [
       "<div>\n",
       "<style scoped>\n",
       "    .dataframe tbody tr th:only-of-type {\n",
       "        vertical-align: middle;\n",
       "    }\n",
       "\n",
       "    .dataframe tbody tr th {\n",
       "        vertical-align: top;\n",
       "    }\n",
       "\n",
       "    .dataframe thead th {\n",
       "        text-align: right;\n",
       "    }\n",
       "</style>\n",
       "<table border=\"1\" class=\"dataframe\">\n",
       "  <thead>\n",
       "    <tr style=\"text-align: right;\">\n",
       "      <th></th>\n",
       "      <th>bone_length</th>\n",
       "      <th>rotting_flesh</th>\n",
       "      <th>hair_length</th>\n",
       "      <th>has_soul</th>\n",
       "      <th>color</th>\n",
       "      <th>type</th>\n",
       "    </tr>\n",
       "    <tr>\n",
       "      <th>id</th>\n",
       "      <th></th>\n",
       "      <th></th>\n",
       "      <th></th>\n",
       "      <th></th>\n",
       "      <th></th>\n",
       "      <th></th>\n",
       "    </tr>\n",
       "  </thead>\n",
       "  <tbody>\n",
       "    <tr>\n",
       "      <th>0</th>\n",
       "      <td>0.354512</td>\n",
       "      <td>0.350839</td>\n",
       "      <td>0.465761</td>\n",
       "      <td>0.781142</td>\n",
       "      <td>clear</td>\n",
       "      <td>Ghoul</td>\n",
       "    </tr>\n",
       "    <tr>\n",
       "      <th>1</th>\n",
       "      <td>0.575560</td>\n",
       "      <td>0.425868</td>\n",
       "      <td>0.531401</td>\n",
       "      <td>0.439899</td>\n",
       "      <td>green</td>\n",
       "      <td>Goblin</td>\n",
       "    </tr>\n",
       "    <tr>\n",
       "      <th>2</th>\n",
       "      <td>0.467875</td>\n",
       "      <td>0.354330</td>\n",
       "      <td>0.811616</td>\n",
       "      <td>0.791225</td>\n",
       "      <td>black</td>\n",
       "      <td>Ghoul</td>\n",
       "    </tr>\n",
       "  </tbody>\n",
       "</table>\n",
       "</div>"
      ],
      "text/plain": [
       "    bone_length  rotting_flesh  hair_length  has_soul  color    type\n",
       "id                                                                  \n",
       "0      0.354512       0.350839     0.465761  0.781142  clear   Ghoul\n",
       "1      0.575560       0.425868     0.531401  0.439899  green  Goblin\n",
       "2      0.467875       0.354330     0.811616  0.791225  black   Ghoul"
      ]
     },
     "execution_count": 684,
     "metadata": {},
     "output_type": "execute_result"
    }
   ],
   "source": [
    "data.head(3)"
   ]
  },
  {
   "cell_type": "code",
   "execution_count": 435,
   "id": "457588bd",
   "metadata": {},
   "outputs": [
    {
     "data": {
      "text/html": [
       "<div>\n",
       "<style scoped>\n",
       "    .dataframe tbody tr th:only-of-type {\n",
       "        vertical-align: middle;\n",
       "    }\n",
       "\n",
       "    .dataframe tbody tr th {\n",
       "        vertical-align: top;\n",
       "    }\n",
       "\n",
       "    .dataframe thead th {\n",
       "        text-align: right;\n",
       "    }\n",
       "</style>\n",
       "<table border=\"1\" class=\"dataframe\">\n",
       "  <thead>\n",
       "    <tr style=\"text-align: right;\">\n",
       "      <th></th>\n",
       "      <th>bone_length</th>\n",
       "      <th>rotting_flesh</th>\n",
       "      <th>hair_length</th>\n",
       "      <th>has_soul</th>\n",
       "    </tr>\n",
       "  </thead>\n",
       "  <tbody>\n",
       "    <tr>\n",
       "      <th>bone_length</th>\n",
       "      <td>1.000000</td>\n",
       "      <td>-0.033950</td>\n",
       "      <td>0.394905</td>\n",
       "      <td>0.386640</td>\n",
       "    </tr>\n",
       "    <tr>\n",
       "      <th>rotting_flesh</th>\n",
       "      <td>-0.033950</td>\n",
       "      <td>1.000000</td>\n",
       "      <td>-0.195120</td>\n",
       "      <td>-0.154915</td>\n",
       "    </tr>\n",
       "    <tr>\n",
       "      <th>hair_length</th>\n",
       "      <td>0.394905</td>\n",
       "      <td>-0.195120</td>\n",
       "      <td>1.000000</td>\n",
       "      <td>0.498784</td>\n",
       "    </tr>\n",
       "    <tr>\n",
       "      <th>has_soul</th>\n",
       "      <td>0.386640</td>\n",
       "      <td>-0.154915</td>\n",
       "      <td>0.498784</td>\n",
       "      <td>1.000000</td>\n",
       "    </tr>\n",
       "  </tbody>\n",
       "</table>\n",
       "</div>"
      ],
      "text/plain": [
       "               bone_length  rotting_flesh  hair_length  has_soul\n",
       "bone_length       1.000000      -0.033950     0.394905  0.386640\n",
       "rotting_flesh    -0.033950       1.000000    -0.195120 -0.154915\n",
       "hair_length       0.394905      -0.195120     1.000000  0.498784\n",
       "has_soul          0.386640      -0.154915     0.498784  1.000000"
      ]
     },
     "execution_count": 435,
     "metadata": {},
     "output_type": "execute_result"
    }
   ],
   "source": [
    "df.corr()"
   ]
  },
  {
   "cell_type": "code",
   "execution_count": 436,
   "id": "858679ce",
   "metadata": {},
   "outputs": [],
   "source": [
    "numeric_cols = ['bone_length', 'rotting_flesh', 'hair_length', 'has_soul']\n",
    "\n",
    "for col in numeric_cols:\n",
    "    df[col] = pd.cut(df[col], 15)"
   ]
  },
  {
   "cell_type": "code",
   "execution_count": 437,
   "id": "6a0a7863",
   "metadata": {},
   "outputs": [
    {
     "data": {
      "text/html": [
       "<div>\n",
       "<style scoped>\n",
       "    .dataframe tbody tr th:only-of-type {\n",
       "        vertical-align: middle;\n",
       "    }\n",
       "\n",
       "    .dataframe tbody tr th {\n",
       "        vertical-align: top;\n",
       "    }\n",
       "\n",
       "    .dataframe thead th {\n",
       "        text-align: right;\n",
       "    }\n",
       "</style>\n",
       "<table border=\"1\" class=\"dataframe\">\n",
       "  <thead>\n",
       "    <tr style=\"text-align: right;\">\n",
       "      <th></th>\n",
       "      <th>bone_length</th>\n",
       "      <th>rotting_flesh</th>\n",
       "      <th>hair_length</th>\n",
       "      <th>has_soul</th>\n",
       "      <th>color</th>\n",
       "    </tr>\n",
       "  </thead>\n",
       "  <tbody>\n",
       "    <tr>\n",
       "      <th>0</th>\n",
       "      <td>(0.333, 0.4]</td>\n",
       "      <td>(0.333, 0.4]</td>\n",
       "      <td>(0.4, 0.467]</td>\n",
       "      <td>(0.733, 0.8]</td>\n",
       "      <td>clear</td>\n",
       "    </tr>\n",
       "    <tr>\n",
       "      <th>1</th>\n",
       "      <td>(0.533, 0.6]</td>\n",
       "      <td>(0.4, 0.467]</td>\n",
       "      <td>(0.467, 0.533]</td>\n",
       "      <td>(0.4, 0.467]</td>\n",
       "      <td>green</td>\n",
       "    </tr>\n",
       "    <tr>\n",
       "      <th>2</th>\n",
       "      <td>(0.467, 0.533]</td>\n",
       "      <td>(0.333, 0.4]</td>\n",
       "      <td>(0.8, 0.867]</td>\n",
       "      <td>(0.733, 0.8]</td>\n",
       "      <td>black</td>\n",
       "    </tr>\n",
       "    <tr>\n",
       "      <th>3</th>\n",
       "      <td>(0.533, 0.6]</td>\n",
       "      <td>(0.867, 0.933]</td>\n",
       "      <td>(0.4, 0.467]</td>\n",
       "      <td>(0.6, 0.667]</td>\n",
       "      <td>green</td>\n",
       "    </tr>\n",
       "    <tr>\n",
       "      <th>4</th>\n",
       "      <td>(0.4, 0.467]</td>\n",
       "      <td>(0.2, 0.267]</td>\n",
       "      <td>(0.4, 0.467]</td>\n",
       "      <td>(0.267, 0.333]</td>\n",
       "      <td>green</td>\n",
       "    </tr>\n",
       "  </tbody>\n",
       "</table>\n",
       "</div>"
      ],
      "text/plain": [
       "      bone_length   rotting_flesh     hair_length        has_soul  color\n",
       "0    (0.333, 0.4]    (0.333, 0.4]    (0.4, 0.467]    (0.733, 0.8]  clear\n",
       "1    (0.533, 0.6]    (0.4, 0.467]  (0.467, 0.533]    (0.4, 0.467]  green\n",
       "2  (0.467, 0.533]    (0.333, 0.4]    (0.8, 0.867]    (0.733, 0.8]  black\n",
       "3    (0.533, 0.6]  (0.867, 0.933]    (0.4, 0.467]    (0.6, 0.667]  green\n",
       "4    (0.4, 0.467]    (0.2, 0.267]    (0.4, 0.467]  (0.267, 0.333]  green"
      ]
     },
     "execution_count": 437,
     "metadata": {},
     "output_type": "execute_result"
    }
   ],
   "source": [
    "df.head(5)"
   ]
  },
  {
   "cell_type": "code",
   "execution_count": 438,
   "id": "95adfc56",
   "metadata": {},
   "outputs": [],
   "source": [
    "cols = df.columns"
   ]
  },
  {
   "cell_type": "code",
   "execution_count": 439,
   "id": "e48acb12",
   "metadata": {},
   "outputs": [],
   "source": [
    "from sklearn.preprocessing import LabelEncoder, LabelBinarizer"
   ]
  },
  {
   "cell_type": "code",
   "execution_count": 440,
   "id": "a8f82c81",
   "metadata": {},
   "outputs": [],
   "source": [
    "le = LabelEncoder()\n",
    "\n",
    "for col in cols:\n",
    "    df[col] = le.fit_transform(df[col])\n",
    "    \n",
    "y = le.fit_transform(data['type'])\n",
    "types = le.classes_"
   ]
  },
  {
   "cell_type": "code",
   "execution_count": 441,
   "id": "aeedbf43",
   "metadata": {
    "scrolled": false
   },
   "outputs": [],
   "source": [
    "# ohe = LabelBinarizer()\n",
    "\n",
    "# ohe_cols = ['hair_length', 'has_soul']\n",
    "\n",
    "# for col in ohe_cols:\n",
    "#     one_hot_col = ohe.fit_transform(df[col].to_numpy())\n",
    "    \n",
    "#     cats = df[col].unique()\n",
    "#     for i in range(len(cats)):\n",
    "#         df[cats[i]] = one_hot_col.T[i]"
   ]
  },
  {
   "cell_type": "code",
   "execution_count": 442,
   "id": "dfde6ec6",
   "metadata": {},
   "outputs": [
    {
     "data": {
      "text/html": [
       "<div>\n",
       "<style scoped>\n",
       "    .dataframe tbody tr th:only-of-type {\n",
       "        vertical-align: middle;\n",
       "    }\n",
       "\n",
       "    .dataframe tbody tr th {\n",
       "        vertical-align: top;\n",
       "    }\n",
       "\n",
       "    .dataframe thead th {\n",
       "        text-align: right;\n",
       "    }\n",
       "</style>\n",
       "<table border=\"1\" class=\"dataframe\">\n",
       "  <thead>\n",
       "    <tr style=\"text-align: right;\">\n",
       "      <th></th>\n",
       "      <th>bone_length</th>\n",
       "      <th>rotting_flesh</th>\n",
       "      <th>hair_length</th>\n",
       "      <th>has_soul</th>\n",
       "      <th>color</th>\n",
       "    </tr>\n",
       "  </thead>\n",
       "  <tbody>\n",
       "    <tr>\n",
       "      <th>0</th>\n",
       "      <td>5</td>\n",
       "      <td>5</td>\n",
       "      <td>6</td>\n",
       "      <td>11</td>\n",
       "      <td>3</td>\n",
       "    </tr>\n",
       "    <tr>\n",
       "      <th>1</th>\n",
       "      <td>8</td>\n",
       "      <td>6</td>\n",
       "      <td>7</td>\n",
       "      <td>6</td>\n",
       "      <td>4</td>\n",
       "    </tr>\n",
       "    <tr>\n",
       "      <th>2</th>\n",
       "      <td>7</td>\n",
       "      <td>5</td>\n",
       "      <td>12</td>\n",
       "      <td>11</td>\n",
       "      <td>0</td>\n",
       "    </tr>\n",
       "    <tr>\n",
       "      <th>3</th>\n",
       "      <td>8</td>\n",
       "      <td>13</td>\n",
       "      <td>6</td>\n",
       "      <td>9</td>\n",
       "      <td>4</td>\n",
       "    </tr>\n",
       "    <tr>\n",
       "      <th>4</th>\n",
       "      <td>6</td>\n",
       "      <td>3</td>\n",
       "      <td>6</td>\n",
       "      <td>4</td>\n",
       "      <td>4</td>\n",
       "    </tr>\n",
       "  </tbody>\n",
       "</table>\n",
       "</div>"
      ],
      "text/plain": [
       "   bone_length  rotting_flesh  hair_length  has_soul  color\n",
       "0            5              5            6        11      3\n",
       "1            8              6            7         6      4\n",
       "2            7              5           12        11      0\n",
       "3            8             13            6         9      4\n",
       "4            6              3            6         4      4"
      ]
     },
     "execution_count": 442,
     "metadata": {},
     "output_type": "execute_result"
    }
   ],
   "source": [
    "df.head(5)"
   ]
  },
  {
   "cell_type": "code",
   "execution_count": 443,
   "id": "e9ff147d",
   "metadata": {},
   "outputs": [],
   "source": [
    "df.drop(['color'], axis=1, inplace=True)\n",
    "train = df[:data.shape[0]]\n",
    "test = df[data.shape[0]:]"
   ]
  },
  {
   "cell_type": "code",
   "execution_count": 444,
   "id": "6cdf15bf",
   "metadata": {},
   "outputs": [
    {
     "data": {
      "text/html": [
       "<div>\n",
       "<style scoped>\n",
       "    .dataframe tbody tr th:only-of-type {\n",
       "        vertical-align: middle;\n",
       "    }\n",
       "\n",
       "    .dataframe tbody tr th {\n",
       "        vertical-align: top;\n",
       "    }\n",
       "\n",
       "    .dataframe thead th {\n",
       "        text-align: right;\n",
       "    }\n",
       "</style>\n",
       "<table border=\"1\" class=\"dataframe\">\n",
       "  <thead>\n",
       "    <tr style=\"text-align: right;\">\n",
       "      <th></th>\n",
       "      <th>bone_length</th>\n",
       "      <th>rotting_flesh</th>\n",
       "      <th>hair_length</th>\n",
       "      <th>has_soul</th>\n",
       "    </tr>\n",
       "  </thead>\n",
       "  <tbody>\n",
       "    <tr>\n",
       "      <th>0</th>\n",
       "      <td>5</td>\n",
       "      <td>5</td>\n",
       "      <td>6</td>\n",
       "      <td>11</td>\n",
       "    </tr>\n",
       "    <tr>\n",
       "      <th>1</th>\n",
       "      <td>8</td>\n",
       "      <td>6</td>\n",
       "      <td>7</td>\n",
       "      <td>6</td>\n",
       "    </tr>\n",
       "    <tr>\n",
       "      <th>2</th>\n",
       "      <td>7</td>\n",
       "      <td>5</td>\n",
       "      <td>12</td>\n",
       "      <td>11</td>\n",
       "    </tr>\n",
       "    <tr>\n",
       "      <th>3</th>\n",
       "      <td>8</td>\n",
       "      <td>13</td>\n",
       "      <td>6</td>\n",
       "      <td>9</td>\n",
       "    </tr>\n",
       "    <tr>\n",
       "      <th>4</th>\n",
       "      <td>6</td>\n",
       "      <td>3</td>\n",
       "      <td>6</td>\n",
       "      <td>4</td>\n",
       "    </tr>\n",
       "  </tbody>\n",
       "</table>\n",
       "</div>"
      ],
      "text/plain": [
       "   bone_length  rotting_flesh  hair_length  has_soul\n",
       "0            5              5            6        11\n",
       "1            8              6            7         6\n",
       "2            7              5           12        11\n",
       "3            8             13            6         9\n",
       "4            6              3            6         4"
      ]
     },
     "execution_count": 444,
     "metadata": {},
     "output_type": "execute_result"
    }
   ],
   "source": [
    "df.head()"
   ]
  },
  {
   "cell_type": "code",
   "execution_count": 450,
   "id": "23f2dcbf",
   "metadata": {},
   "outputs": [],
   "source": [
    "from sklearn.ensemble import RandomForestClassifier\n",
    "\n",
    "model = RandomForestClassifier(n_estimators=100, max_depth=3, random_state=2)\n",
    "model.fit(train, y)\n",
    "predictions = model.predict(test)"
   ]
  },
  {
   "cell_type": "code",
   "execution_count": 451,
   "id": "38b7787f",
   "metadata": {},
   "outputs": [],
   "source": [
    "submission_df = pd.read_csv('./datasets/sample_submission.csv', index_col='id')\n",
    "submission_df['type'] = types[predictions]\n",
    "\n",
    "submission_df.to_csv('./results/RandForest_raw.csv')"
   ]
  },
  {
   "cell_type": "code",
   "execution_count": 452,
   "id": "5874f002",
   "metadata": {},
   "outputs": [
    {
     "data": {
      "text/plain": [
       "array([0.11333316, 0.12569622, 0.46930327, 0.29166734])"
      ]
     },
     "execution_count": 452,
     "metadata": {},
     "output_type": "execute_result"
    }
   ],
   "source": [
    "model.feature_importances_"
   ]
  },
  {
   "cell_type": "code",
   "execution_count": 448,
   "id": "d1a8fa4c",
   "metadata": {},
   "outputs": [],
   "source": [
    "bone_hair = data['bone_length'] / data['hair_length']"
   ]
  },
  {
   "cell_type": "code",
   "execution_count": 449,
   "id": "051cddce",
   "metadata": {},
   "outputs": [
    {
     "data": {
      "text/plain": [
       "array([0, 1, 2])"
      ]
     },
     "execution_count": 449,
     "metadata": {},
     "output_type": "execute_result"
    },
    {
     "data": {
      "image/png": "[encoded data removed]",
      "text/plain": [
       "<Figure size 432x288 with 1 Axes>"
      ]
     },
     "metadata": {
      "needs_background": "light"
     },
     "output_type": "display_data"
    }
   ],
   "source": [
    "plt.scatter(bone_hair, y)\n",
    "np.unique(y)"
   ]
  },
  {
   "cell_type": "code",
   "execution_count": null,
   "id": "ed680c16",
   "metadata": {},
   "outputs": [],
   "source": []
  },
  {
   "cell_type": "code",
   "execution_count": null,
   "id": "973ad38e",
   "metadata": {},
   "outputs": [],
   "source": []
  },
  {
   "cell_type": "code",
   "execution_count": null,
   "id": "72eb286e",
   "metadata": {},
   "outputs": [],
   "source": []
  },
  {
   "cell_type": "code",
   "execution_count": null,
   "id": "5e93bf49",
   "metadata": {},
   "outputs": [],
   "source": []
  },
  {
   "cell_type": "code",
   "execution_count": 85,
   "id": "8a80a3da",
   "metadata": {},
   "outputs": [],
   "source": [
    "# from sklearn.preprocessing import LabelEncoder\n",
    "\n",
    "# le = LabelEncoder()\n",
    "# data['color'] = le.fit_transform(data['color'])\n",
    "# test['color'] = le.fit_transform(test['color'])\n",
    "\n",
    "# data['type'] = le.fit_transform(data['type'])\n",
    "\n",
    "# y = data['type']\n",
    "# data.drop('type', axis=1, inplace=True)"
   ]
  },
  {
   "cell_type": "code",
   "execution_count": 86,
   "id": "4e451e84",
   "metadata": {},
   "outputs": [
    {
     "data": {
      "text/plain": [
       "array(['Ghost', 'Ghoul', 'Goblin'], dtype=object)"
      ]
     },
     "execution_count": 86,
     "metadata": {},
     "output_type": "execute_result"
    }
   ],
   "source": [
    "# types = le.classes_\n",
    "# types"
   ]
  },
  {
   "cell_type": "code",
   "execution_count": 61,
   "id": "8b85db24",
   "metadata": {},
   "outputs": [],
   "source": [
    "# from sklearn.ensemble import RandomForestClassifier\n",
    "\n",
    "# model = RandomForestClassifier(n_estimators=100, max_depth=3, random_state=2)\n",
    "# model.fit(data, y)\n",
    "# predictions = model.predict(test)"
   ]
  },
  {
   "cell_type": "code",
   "execution_count": 62,
   "id": "427efd56",
   "metadata": {},
   "outputs": [],
   "source": [
    "# submission_df = pd.read_csv('./datasets/sample_submission.csv', index_col='id')\n",
    "# submission_df['type'] = types[predictions]\n",
    "\n",
    "# submission_df.to_csv('./results/RandForest_raw.csv')"
   ]
  },
  {
   "cell_type": "code",
   "execution_count": 64,
   "id": "05f1f713",
   "metadata": {},
   "outputs": [],
   "source": []
  },
  {
   "cell_type": "code",
   "execution_count": null,
   "id": "047c529d",
   "metadata": {},
   "outputs": [],
   "source": []
  }
 ],
 "metadata": {
  "kernelspec": {
   "display_name": "Python 3",
   "language": "python",
   "name": "python3"
  },
  "language_info": {
   "codemirror_mode": {
    "name": "ipython",
    "version": 3
   },
   "file_extension": ".py",
   "mimetype": "text/x-python",
   "name": "python",
   "nbconvert_exporter": "python",
   "pygments_lexer": "ipython3",
   "version": "3.7.9"
  }
 },
 "nbformat": 4,
 "nbformat_minor": 5
}
