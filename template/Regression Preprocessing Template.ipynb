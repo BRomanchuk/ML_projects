{
 "cells": [
  {
   "cell_type": "markdown",
   "id": "aa68454b",
   "metadata": {},
   "source": [
    "## Import libraries"
   ]
  },
  {
   "cell_type": "code",
   "execution_count": null,
   "id": "10d525cd",
   "metadata": {},
   "outputs": [],
   "source": [
    "import numpy as np\n",
    "import pandas as pd\n",
    "import matplotlib.pyplot as plt\n",
    "import seaborn as sns\n",
    "\n",
    "%matplotlib inline"
   ]
  },
  {
   "cell_type": "markdown",
   "id": "600371f4",
   "metadata": {},
   "source": [
    "## Load data"
   ]
  },
  {
   "cell_type": "code",
   "execution_count": null,
   "id": "83097bc4",
   "metadata": {},
   "outputs": [],
   "source": [
    "train = pd.read_csv('./data/train.csv', index_col='id')\n",
    "test = pd.read_csv('./data/test.csv', index_col='id')\n",
    "\n",
    "data = pd.concat([train, test])"
   ]
  },
  {
   "cell_type": "markdown",
   "id": "606d382d",
   "metadata": {},
   "source": [
    "## Plot each feature against the target"
   ]
  },
  {
   "cell_type": "code",
   "execution_count": null,
   "id": "286dac6e",
   "metadata": {},
   "outputs": [],
   "source": [
    "columns = test.columns\n",
    "\n",
    "for col in columns:\n",
    "    fig, ax = plt.subplots()\n",
    "    ax.scatter(train[col].fillna('NaN'), train['target'])\n",
    "    ax.set_title(str(col + ' --- ' + train[col].isnull().sum()))"
   ]
  },
  {
   "cell_type": "markdown",
   "id": "ba942f47",
   "metadata": {},
   "source": [
    "## Feature encoding"
   ]
  },
  {
   "cell_type": "code",
   "execution_count": null,
   "id": "7c81dc5b",
   "metadata": {},
   "outputs": [],
   "source": [
    "from sklearn.preprocessing import LabelEncoder, LabelBinarizer"
   ]
  },
  {
   "cell_type": "code",
   "execution_count": null,
   "id": "a55d098d",
   "metadata": {},
   "outputs": [],
   "source": [
    "cols_for_label_encoding = []\n",
    "cols_for_onehot_encoding = []"
   ]
  },
  {
   "cell_type": "markdown",
   "id": "57e9ccd6",
   "metadata": {},
   "source": [
    "#### Label encoding"
   ]
  },
  {
   "cell_type": "code",
   "execution_count": null,
   "id": "53d917d1",
   "metadata": {},
   "outputs": [],
   "source": [
    "le = LabelEncoder()\n",
    "\n",
    "for col in cols_for_label_encoding:\n",
    "    data[col] = le.fit_transform(data[col].fillna('Missing'))"
   ]
  },
  {
   "cell_type": "markdown",
   "id": "27e2a6cb",
   "metadata": {},
   "source": [
    "#### One-hot encoding"
   ]
  },
  {
   "cell_type": "code",
   "execution_count": null,
   "id": "d28aa403",
   "metadata": {},
   "outputs": [],
   "source": [
    "le = LabelBinarizer()\n",
    "\n",
    "for col in cols_for_onehot_encoding:\n",
    "    matrix = le.fit_transform(data[col].fillna('Missing')).T\n",
    "    unique = data[col].fillna('Missing').unique()\n",
    "    if unique.shape[0] < 2:\n",
    "        data[col + str(unique[0])] = le.transform(data[col].fillna('Missing'))\n",
    "    else:\n",
    "        matrix = le.transform(data[col].fillna('Missing'))\n",
    "        for i in range(unique.shape[0]):\n",
    "            data[col + str(unique[i])] = matrix[i]\n",
    "    data.drop(col, inplace=True)"
   ]
  },
  {
   "cell_type": "code",
   "execution_count": 5,
   "id": "cdb5b22d",
   "metadata": {},
   "outputs": [
    {
     "data": {
      "text/plain": [
       "1"
      ]
     },
     "execution_count": 5,
     "metadata": {},
     "output_type": "execute_result"
    }
   ],
   "source": [
    "import numpy as np\n",
    "a = np.array([1, 2, 30])\n",
    "a[:1][0]"
   ]
  },
  {
   "cell_type": "code",
   "execution_count": 9,
   "id": "7d239ded",
   "metadata": {},
   "outputs": [],
   "source": [
    "import pandas as pd"
   ]
  },
  {
   "cell_type": "code",
   "execution_count": 16,
   "id": "0e29cbaa",
   "metadata": {},
   "outputs": [
    {
     "data": {
      "text/html": [
       "<div>\n",
       "<style scoped>\n",
       "    .dataframe tbody tr th:only-of-type {\n",
       "        vertical-align: middle;\n",
       "    }\n",
       "\n",
       "    .dataframe tbody tr th {\n",
       "        vertical-align: top;\n",
       "    }\n",
       "\n",
       "    .dataframe thead th {\n",
       "        text-align: right;\n",
       "    }\n",
       "</style>\n",
       "<table border=\"1\" class=\"dataframe\">\n",
       "  <thead>\n",
       "    <tr style=\"text-align: right;\">\n",
       "      <th></th>\n",
       "      <th>name</th>\n",
       "      <th>surname</th>\n",
       "    </tr>\n",
       "  </thead>\n",
       "  <tbody>\n",
       "    <tr>\n",
       "      <th>0</th>\n",
       "      <td>[helldffo, world]</td>\n",
       "      <td>[hello, world]</td>\n",
       "    </tr>\n",
       "    <tr>\n",
       "      <th>1</th>\n",
       "      <td>[helldffo, world]</td>\n",
       "      <td>[hello, world]</td>\n",
       "    </tr>\n",
       "  </tbody>\n",
       "</table>\n",
       "</div>"
      ],
      "text/plain": [
       "                name         surname\n",
       "0  [helldffo, world]  [hello, world]\n",
       "1  [helldffo, world]  [hello, world]"
      ]
     },
     "execution_count": 16,
     "metadata": {},
     "output_type": "execute_result"
    }
   ],
   "source": [
    "df = pd.DataFrame([{'name': ['helldffo', 'world'], 'surname': ['hello', 'world']}, {'name': ['helldffo', 'world'], 'surname': ['hello', 'world']}])\n",
    "df"
   ]
  },
  {
   "cell_type": "code",
   "execution_count": 17,
   "id": "03a4d5d3",
   "metadata": {},
   "outputs": [
    {
     "data": {
      "text/plain": [
       "name       [helldffo, world]\n",
       "surname       [hello, world]\n",
       "Name: 0, dtype: object"
      ]
     },
     "execution_count": 17,
     "metadata": {},
     "output_type": "execute_result"
    }
   ],
   "source": [
    "df.iloc[0]"
   ]
  },
  {
   "cell_type": "code",
   "execution_count": 19,
   "id": "2a419017",
   "metadata": {},
   "outputs": [
    {
     "data": {
      "text/plain": [
       "Index(['name', 'surname'], dtype='object')"
      ]
     },
     "execution_count": 19,
     "metadata": {},
     "output_type": "execute_result"
    }
   ],
   "source": [
    "df.iloc[[0]].columns"
   ]
  },
  {
   "cell_type": "code",
   "execution_count": 23,
   "id": "bc523d9f",
   "metadata": {},
   "outputs": [
    {
     "data": {
      "text/plain": [
       "False"
      ]
     },
     "execution_count": 23,
     "metadata": {},
     "output_type": "execute_result"
    }
   ],
   "source": [
    "np.all([True, False, True])"
   ]
  },
  {
   "cell_type": "code",
   "execution_count": null,
   "id": "efc2cbd9",
   "metadata": {},
   "outputs": [],
   "source": []
  }
 ],
 "metadata": {
  "kernelspec": {
   "display_name": "Python 3",
   "language": "python",
   "name": "python3"
  },
  "language_info": {
   "codemirror_mode": {
    "name": "ipython",
    "version": 3
   },
   "file_extension": ".py",
   "mimetype": "text/x-python",
   "name": "python",
   "nbconvert_exporter": "python",
   "pygments_lexer": "ipython3",
   "version": "3.7.9"
  }
 },
 "nbformat": 4,
 "nbformat_minor": 5
}
