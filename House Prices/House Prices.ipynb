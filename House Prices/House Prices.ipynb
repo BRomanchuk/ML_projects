{
 "cells": [
  {
   "cell_type": "markdown",
   "id": "0d5068d0",
   "metadata": {},
   "source": [
    "# House Prices Competition"
   ]
  },
  {
   "cell_type": "code",
   "execution_count": null,
   "id": "4a4bbd80",
   "metadata": {},
   "outputs": [],
   "source": [
    "import numpy as np\n",
    "import pandas as pd\n",
    "import matplotlib.pyplot as plt\n",
    "import seaborn as sns\n",
    "%matplotlib inline\n",
    "sns.set(rc={'figure.figsize':(22,8.27)})"
   ]
  },
  {
   "cell_type": "code",
   "execution_count": null,
   "id": "856813e2",
   "metadata": {},
   "outputs": [],
   "source": [
    "train = pd.read_csv('./data/train.csv', index_col='Id')\n",
    "test = pd.read_csv('./data/test.csv', index_col='Id')\n",
    "\n",
    "data = pd.concat([train, test])"
   ]
  },
  {
   "cell_type": "code",
   "execution_count": null,
   "id": "b7b4ec23",
   "metadata": {},
   "outputs": [],
   "source": [
    "data.head()"
   ]
  },
  {
   "cell_type": "code",
   "execution_count": null,
   "id": "37b32267",
   "metadata": {},
   "outputs": [],
   "source": [
    "data.isnull().sum(axis=0).head(10)"
   ]
  },
  {
   "cell_type": "code",
   "execution_count": null,
   "id": "50aece0d",
   "metadata": {},
   "outputs": [],
   "source": [
    "sns.heatmap(data.isnull())"
   ]
  },
  {
   "cell_type": "code",
   "execution_count": null,
   "id": "2ce42ebb",
   "metadata": {},
   "outputs": [],
   "source": [
    "for col in data.columns:\n",
    "    if data[col].isna().sum() > 0.7 * data.shape[0]:\n",
    "        data.drop(col, axis=1, inplace=True)"
   ]
  },
  {
   "cell_type": "code",
   "execution_count": null,
   "id": "9933aea0",
   "metadata": {},
   "outputs": [],
   "source": [
    "sns.heatmap(data.isnull())"
   ]
  },
  {
   "cell_type": "code",
   "execution_count": null,
   "id": "a03107f4",
   "metadata": {},
   "outputs": [],
   "source": [
    "data.info()"
   ]
  },
  {
   "cell_type": "code",
   "execution_count": null,
   "id": "0e19611c",
   "metadata": {},
   "outputs": [],
   "source": [
    "na_columns = data.drop('SalePrice', axis=1).columns[(data.drop('SalePrice', axis=1).isna().sum() > 0)]\n",
    "data[na_columns[1]].dtype == 'int'"
   ]
  },
  {
   "cell_type": "code",
   "execution_count": null,
   "id": "4fab248d",
   "metadata": {},
   "outputs": [],
   "source": [
    "for col in na_columns:\n",
    "    if str(data[col].dtype) == 'float64':\n",
    "        data[col].fillna(data[col].median(), inplace=True)\n",
    "    else:\n",
    "        data[col].fillna(data[col].mode(), inplace=True)\n",
    "        data[col] = data[col].replace({None: data[col].mode()[0]})"
   ]
  },
  {
   "cell_type": "code",
   "execution_count": null,
   "id": "3dbd7cab",
   "metadata": {},
   "outputs": [],
   "source": [
    "data['FireplaceQu'].replace({None: data['FireplaceQu'].mode()[0]})"
   ]
  },
  {
   "cell_type": "code",
   "execution_count": null,
   "id": "abbbae6d",
   "metadata": {},
   "outputs": [],
   "source": [
    "data['FireplaceQu'].mode()"
   ]
  },
  {
   "cell_type": "code",
   "execution_count": null,
   "id": "40686105",
   "metadata": {},
   "outputs": [],
   "source": [
    "sns.heatmap(data.isnull())"
   ]
  },
  {
   "cell_type": "code",
   "execution_count": null,
   "id": "b276766b",
   "metadata": {},
   "outputs": [],
   "source": [
    "data['FireplaceQu'].isnull().sum()"
   ]
  },
  {
   "cell_type": "code",
   "execution_count": null,
   "id": "3649b5a3",
   "metadata": {},
   "outputs": [],
   "source": [
    "'FireplaceQu' in na_columns"
   ]
  },
  {
   "cell_type": "code",
   "execution_count": null,
   "id": "19a24cfa",
   "metadata": {},
   "outputs": [],
   "source": []
  }
 ],
 "metadata": {
  "kernelspec": {
   "display_name": "Python 3",
   "language": "python",
   "name": "python3"
  },
  "language_info": {
   "codemirror_mode": {
    "name": "ipython",
    "version": 3
   },
   "file_extension": ".py",
   "mimetype": "text/x-python",
   "name": "python",
   "nbconvert_exporter": "python",
   "pygments_lexer": "ipython3",
   "version": "3.7.9"
  }
 },
 "nbformat": 4,
 "nbformat_minor": 5
}
